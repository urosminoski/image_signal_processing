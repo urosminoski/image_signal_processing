{
 "cells": [
  {
   "cell_type": "code",
   "execution_count": 26,
   "metadata": {},
   "outputs": [],
   "source": [
    "from IPython.display import display, Math, Latex"
   ]
  },
  {
   "cell_type": "code",
   "execution_count": 27,
   "metadata": {},
   "outputs": [],
   "source": [
    "from sympy import *\n",
    "from sympy.solvers import solve"
   ]
  },
  {
   "cell_type": "code",
   "execution_count": 28,
   "metadata": {},
   "outputs": [],
   "source": [
    "g1, g2, g3, z0 = symbols('g_1 g_2 g_3 Z_0')\n",
    "delta, w0 = symbols(r'\\Delta \\omega_0') # r in front of ' prevents treating \\ as an escape sequence\n",
    "k, nc = symbols(r'k n_\\mathrm{c}')\n",
    "gamma = symbols(r'\\gamma')\n",
    "l1, l2, l3, c1, c2, c3 = symbols(r'L_1 L_2 L_3 C_1 C_2 C_3')"
   ]
  },
  {
   "cell_type": "code",
   "execution_count": 29,
   "metadata": {},
   "outputs": [
    {
     "name": "stdout",
     "output_type": "stream",
     "text": [
      "Uslov da vrednost rednog kalema bude jednak nuli je\n"
     ]
    },
    {
     "data": {
      "text/latex": [
       "$\\displaystyle \\frac{L_{2}}{n_\\mathrm{c}^{2}}=\\frac{L_{1} \\cdot \\left(1 - k^{2}\\right)}{k^{2} n_\\mathrm{c}^{2}}$"
      ],
      "text/plain": [
       "<IPython.core.display.Math object>"
      ]
     },
     "metadata": {},
     "output_type": "display_data"
    }
   ],
   "source": [
    "print(\"Uslov da vrednost rednog kalema bude jednak nuli je\")\n",
    "display(Math(latex(l2/nc**2) +\"=\"+  latex((1 - k**2)*l1/(k**2 * nc**2))))"
   ]
  },
  {
   "cell_type": "code",
   "execution_count": 30,
   "metadata": {},
   "outputs": [
    {
     "name": "stdout",
     "output_type": "stream",
     "text": [
      "Jednacina po k ima dva resenja\n"
     ]
    },
    {
     "data": {
      "text/latex": [
       "$\\displaystyle - \\sqrt{\\frac{L_{1}}{L_{1} + L_{2}}}$"
      ],
      "text/plain": [
       "-sqrt(L_1/(L_1 + L_2))"
      ]
     },
     "metadata": {},
     "output_type": "display_data"
    },
    {
     "data": {
      "text/latex": [
       "$\\displaystyle \\sqrt{\\frac{L_{1}}{L_{1} + L_{2}}}$"
      ],
      "text/plain": [
       "sqrt(L_1/(L_1 + L_2))"
      ]
     },
     "metadata": {},
     "output_type": "display_data"
    }
   ],
   "source": [
    "print(\"Jednacina po k ima dva resenja\")\n",
    "ksol = solve(l2/nc**2 - (1 - k**2)*l1/(k**2 * nc**2), k)\n",
    "display(ksol[0], ksol[1])"
   ]
  },
  {
   "cell_type": "code",
   "execution_count": 31,
   "metadata": {},
   "outputs": [
    {
     "name": "stdout",
     "output_type": "stream",
     "text": [
      "Pozitivno resenje\n"
     ]
    },
    {
     "data": {
      "text/latex": [
       "$\\displaystyle k_0=\\sqrt{\\frac{L_{1}}{L_{1} + L_{2}}}$"
      ],
      "text/plain": [
       "<IPython.core.display.Math object>"
      ]
     },
     "metadata": {},
     "output_type": "display_data"
    }
   ],
   "source": [
    "print(\"Pozitivno resenje\")\n",
    "kpos = ksol[1]\n",
    "display(Math(\"k_0=\"+latex(kpos)))"
   ]
  },
  {
   "cell_type": "code",
   "execution_count": 32,
   "metadata": {},
   "outputs": [
    {
     "name": "stdout",
     "output_type": "stream",
     "text": [
      "Vrednosti L1 i L2 filtra propusnika opsega ucestanosti su\n"
     ]
    },
    {
     "data": {
      "text/latex": [
       "$\\displaystyle L_1=\\frac{Z_{0} \\Delta}{\\omega_{0} g_{1}}$"
      ],
      "text/plain": [
       "<IPython.core.display.Math object>"
      ]
     },
     "metadata": {},
     "output_type": "display_data"
    },
    {
     "data": {
      "text/latex": [
       "$\\displaystyle L_2=\\frac{Z_{0} g_{2}}{\\Delta \\omega_{0}}$"
      ],
      "text/plain": [
       "<IPython.core.display.Math object>"
      ]
     },
     "metadata": {},
     "output_type": "display_data"
    }
   ],
   "source": [
    "print(\"Vrednosti L1 i L2 filtra propusnika opsega ucestanosti su\")\n",
    "l1val = (delta * z0)/(w0 * g1)\n",
    "l2val =  (z0 * g2)/(delta * w0)\n",
    "display(Math(\"L_1=\"+latex(l1val)))\n",
    "display(Math(\"L_2=\"+latex(l2val)))"
   ]
  },
  {
   "cell_type": "code",
   "execution_count": 33,
   "metadata": {},
   "outputs": [
    {
     "data": {
      "text/latex": [
       "$\\displaystyle k_0=\\sqrt{\\frac{\\Delta^{2}}{\\Delta^{2} + g_{1} g_{2}}}$"
      ],
      "text/plain": [
       "<IPython.core.display.Math object>"
      ]
     },
     "metadata": {},
     "output_type": "display_data"
    }
   ],
   "source": [
    "k0g = simplify(kpos.subs(l1,l1val).subs(l2,l2val))\n",
    "display(Math(\"k_0=\"+latex(k0g)))"
   ]
  },
  {
   "cell_type": "code",
   "execution_count": null,
   "metadata": {},
   "outputs": [],
   "source": [
    "print(\"Latex reprezentacija izraza, koja se moze koristiti u tekstu izvestaja:\")\n",
    "print(latex(k0g))"
   ]
  },
  {
   "cell_type": "code",
   "execution_count": null,
   "metadata": {},
   "outputs": [],
   "source": []
  },
  {
   "cell_type": "code",
   "execution_count": null,
   "metadata": {},
   "outputs": [],
   "source": []
  },
  {
   "cell_type": "markdown",
   "metadata": {},
   "source": [
    "# IKS 2023/2024."
   ]
  },
  {
   "cell_type": "code",
   "execution_count": 1,
   "metadata": {},
   "outputs": [],
   "source": [
    "from IPython.display import display, Math, Latex\n",
    "from sympy import *\n",
    "from sympy.solvers import solve"
   ]
  },
  {
   "cell_type": "markdown",
   "metadata": {},
   "source": [
    "### 3rd order Chebyshev filter"
   ]
  },
  {
   "cell_type": "code",
   "execution_count": 2,
   "metadata": {},
   "outputs": [
    {
     "data": {
      "text/latex": [
       "$\\displaystyle g_1 = \\frac{1}{\\gamma}$"
      ],
      "text/plain": [
       "<IPython.core.display.Math object>"
      ]
     },
     "metadata": {},
     "output_type": "display_data"
    },
    {
     "data": {
      "text/latex": [
       "$\\displaystyle g_2 = \\frac{2 \\gamma}{\\gamma^{2} + 0.75}$"
      ],
      "text/plain": [
       "<IPython.core.display.Math object>"
      ]
     },
     "metadata": {},
     "output_type": "display_data"
    },
    {
     "data": {
      "text/latex": [
       "$\\displaystyle g_3 = \\frac{1}{\\gamma}$"
      ],
      "text/plain": [
       "<IPython.core.display.Math object>"
      ]
     },
     "metadata": {},
     "output_type": "display_data"
    },
    {
     "name": "stdout",
     "output_type": "stream",
     "text": [
      "\n",
      "Latex code:\n",
      "g1 = \\frac{1}{\\gamma}\n",
      "\n",
      "g2 = \\frac{2 \\gamma}{\\gamma^{2} + 0.75}\n",
      "\n",
      "g3 = \\frac{1}{\\gamma}\n"
     ]
    }
   ],
   "source": [
    "cg1, cg2, cg3 = symbols('g_1 g_2 g_3')\n",
    "gamma = symbols(r'\\gamma')\n",
    "\n",
    "cg1 = 1 / gamma\n",
    "cg2 = 2 * gamma / (gamma**2 + 3/4)\n",
    "cg3 = 1 / gamma\n",
    "\n",
    "display(Math(\"g_1 = \" + latex(cg1)))\n",
    "display(Math(\"g_2 = \" + latex(cg2)))\n",
    "display(Math(\"g_3 = \" + latex(cg3)))\n",
    "\n",
    "print(\"\\nLatex code:\")\n",
    "print(\"g1 = \" + latex(cg1) + '\\n')\n",
    "print(\"g2 = \" + latex(cg2) + '\\n')\n",
    "print(\"g3 = \" + latex(cg3))"
   ]
  },
  {
   "cell_type": "markdown",
   "metadata": {},
   "source": [
    "### 3rd order Fano filter (current drive)"
   ]
  },
  {
   "cell_type": "code",
   "execution_count": 3,
   "metadata": {},
   "outputs": [
    {
     "data": {
      "text/latex": [
       "$\\displaystyle g_1 = \\frac{12 x^{2} + 3}{8 x^{3} + 6 x}$"
      ],
      "text/plain": [
       "<IPython.core.display.Math object>"
      ]
     },
     "metadata": {},
     "output_type": "display_data"
    },
    {
     "data": {
      "text/latex": [
       "$\\displaystyle g_2 = \\frac{16 x}{3 \\cdot \\left(4 x^{2} + 1\\right)}$"
      ],
      "text/plain": [
       "<IPython.core.display.Math object>"
      ]
     },
     "metadata": {},
     "output_type": "display_data"
    },
    {
     "data": {
      "text/latex": [
       "$\\displaystyle g_3 = \\frac{1}{2 x}$"
      ],
      "text/plain": [
       "<IPython.core.display.Math object>"
      ]
     },
     "metadata": {},
     "output_type": "display_data"
    },
    {
     "name": "stdout",
     "output_type": "stream",
     "text": [
      "\n",
      "Latex code:\n",
      "g1 = \\frac{12 x^{2} + 3}{8 x^{3} + 6 x}\n",
      "\n",
      "g2 = \\frac{16 x}{3 \\cdot \\left(4 x^{2} + 1\\right)}\n",
      "\n",
      "g3 = \\frac{1}{2 x}\n"
     ]
    }
   ],
   "source": [
    "fg1_, fg2_, fg3_ = symbols('g_1 g_2 g_3')\n",
    "x, n, r = symbols('x n r')\n",
    "\n",
    "fg3_ = sin(pi / 2 / n) / x\n",
    "fg3 = simplify(fg3_.subs(n, 3))\n",
    "\n",
    "tmp  = 4 * sin(pi*(2*r - 1) / 2 / n) * sin(pi * (2 * r + 1) / 2 / n) / (2 * x**2 * (1 - cos(r * pi / n)) + (sin(r * pi / n))**2)\n",
    "fg2_ = 1 / fg3 * tmp\n",
    "fg2 = simplify(fg2_.subs(n, 3).subs(r, 2))\n",
    "\n",
    "fg1_ = 1 / fg2 * tmp\n",
    "fg1 = simplify(fg1_.subs(n, 3).subs(r, 1))\n",
    "\n",
    "display(Math(\"g_1 = \" + latex(fg1)))\n",
    "display(Math(\"g_2 = \" + latex(fg2)))\n",
    "display(Math(\"g_3 = \" + latex(fg3)))\n",
    "\n",
    "print(\"\\nLatex code:\")\n",
    "print(\"g1 = \" + latex(fg1) + '\\n')\n",
    "print(\"g2 = \" + latex(fg2) + '\\n')\n",
    "print(\"g3 = \" + latex(fg3))"
   ]
  },
  {
   "cell_type": "markdown",
   "metadata": {},
   "source": [
    "### C and L of 3rd order filter in tearms of g"
   ]
  },
  {
   "cell_type": "code",
   "execution_count": 4,
   "metadata": {},
   "outputs": [
    {
     "data": {
      "text/latex": [
       "$\\displaystyle C_1 = \\frac{g_{1}}{Z_{0} \\Delta \\omega_{0}}$"
      ],
      "text/plain": [
       "<IPython.core.display.Math object>"
      ]
     },
     "metadata": {},
     "output_type": "display_data"
    },
    {
     "data": {
      "text/latex": [
       "$\\displaystyle C_2 = \\frac{\\Delta}{Z_{0} \\omega_{0} g_{2}}$"
      ],
      "text/plain": [
       "<IPython.core.display.Math object>"
      ]
     },
     "metadata": {},
     "output_type": "display_data"
    },
    {
     "data": {
      "text/latex": [
       "$\\displaystyle C_3 = \\frac{g_{3}}{Z_{0} \\Delta \\omega_{0}}$"
      ],
      "text/plain": [
       "<IPython.core.display.Math object>"
      ]
     },
     "metadata": {},
     "output_type": "display_data"
    },
    {
     "data": {
      "text/latex": [
       "$\\displaystyle L_1 = \\frac{Z_{0} \\Delta}{\\omega_{0} g_{1}}$"
      ],
      "text/plain": [
       "<IPython.core.display.Math object>"
      ]
     },
     "metadata": {},
     "output_type": "display_data"
    },
    {
     "data": {
      "text/latex": [
       "$\\displaystyle L_2 = \\frac{Z_{0} g_{2}}{\\Delta \\omega_{0}}$"
      ],
      "text/plain": [
       "<IPython.core.display.Math object>"
      ]
     },
     "metadata": {},
     "output_type": "display_data"
    },
    {
     "data": {
      "text/latex": [
       "$\\displaystyle L_3 = \\frac{Z_{0} \\Delta}{\\omega_{0} g_{3}}$"
      ],
      "text/plain": [
       "<IPython.core.display.Math object>"
      ]
     },
     "metadata": {},
     "output_type": "display_data"
    },
    {
     "name": "stdout",
     "output_type": "stream",
     "text": [
      "\n",
      "Latex code:\n",
      "c1 = \\frac{g_{1}}{Z_{0} \\Delta \\omega_{0}}\n",
      "\n",
      "c2 = \\frac{\\Delta}{Z_{0} \\omega_{0} g_{2}}\n",
      "\n",
      "c3 = \\frac{g_{3}}{Z_{0} \\Delta \\omega_{0}}\n",
      "\n",
      "l1 = \\frac{Z_{0} \\Delta}{\\omega_{0} g_{1}}\n",
      "\n",
      "l2 = \\frac{Z_{0} g_{2}}{\\Delta \\omega_{0}}\n",
      "\n",
      "l3 = \\frac{Z_{0} \\Delta}{\\omega_{0} g_{3}}\n",
      "\n"
     ]
    }
   ],
   "source": [
    "c1_g, c2_g, c3_g, l1_g, l2_g, l3_g = symbols('C_1 C_2 C_3 L_1 L_2 L_3')\n",
    "w0 = symbols(r'\\omega_0')\n",
    "delta = symbols(r'\\Delta')\n",
    "g1, g2, g3, z0 = symbols('g_1 g_2 g_3 Z_0')\n",
    "\n",
    "c1_g = g1 / w0 / delta / z0\n",
    "c2_g = delta / w0 / g2 / z0\n",
    "c3_g = g3 / w0 / delta / z0\n",
    "l1_g = delta * z0 / w0 / g1\n",
    "l2_g = g2 * z0 / w0 / delta\n",
    "l3_g = delta * z0 / w0 / g3\n",
    "\n",
    "display(Math(\"C_1 = \" + latex(c1_g)))\n",
    "display(Math(\"C_2 = \" + latex(c2_g)))\n",
    "display(Math(\"C_3 = \" + latex(c3_g)))\n",
    "\n",
    "display(Math(\"L_1 = \" + latex(l1_g)))\n",
    "display(Math(\"L_2 = \" + latex(l2_g)))\n",
    "display(Math(\"L_3 = \" + latex(l3_g)))\n",
    "\n",
    "print(\"\\nLatex code:\")\n",
    "print(\"c1 = \" + latex(c1_g) + '\\n')\n",
    "print(\"c2 = \" + latex(c2_g) + '\\n')\n",
    "print(\"c3 = \" + latex(c3_g) + '\\n')\n",
    "print(\"l1 = \" + latex(l1_g) + '\\n')\n",
    "print(\"l2 = \" + latex(l2_g) + '\\n')\n",
    "print(\"l3 = \" + latex(l3_g) + '\\n')"
   ]
  },
  {
   "cell_type": "markdown",
   "metadata": {},
   "source": [
    "### C and L of 3rd order filter in tearms of gamma"
   ]
  },
  {
   "cell_type": "code",
   "execution_count": 5,
   "metadata": {},
   "outputs": [
    {
     "data": {
      "text/latex": [
       "$\\displaystyle C_{1, \\gamma} = \\frac{1}{Z_{0} \\Delta \\gamma \\omega_{0}}$"
      ],
      "text/plain": [
       "<IPython.core.display.Math object>"
      ]
     },
     "metadata": {},
     "output_type": "display_data"
    },
    {
     "data": {
      "text/latex": [
       "$\\displaystyle C_{2, \\gamma} = \\frac{\\Delta \\left(\\gamma^{2} + 0.75\\right)}{2 Z_{0} \\gamma \\omega_{0}}$"
      ],
      "text/plain": [
       "<IPython.core.display.Math object>"
      ]
     },
     "metadata": {},
     "output_type": "display_data"
    },
    {
     "data": {
      "text/latex": [
       "$\\displaystyle C_{3, \\gamma} = \\frac{1}{Z_{0} \\Delta \\gamma \\omega_{0}}$"
      ],
      "text/plain": [
       "<IPython.core.display.Math object>"
      ]
     },
     "metadata": {},
     "output_type": "display_data"
    },
    {
     "data": {
      "text/latex": [
       "$\\displaystyle L_{1, \\gamma} = \\frac{Z_{0} \\Delta \\gamma}{\\omega_{0}}$"
      ],
      "text/plain": [
       "<IPython.core.display.Math object>"
      ]
     },
     "metadata": {},
     "output_type": "display_data"
    },
    {
     "data": {
      "text/latex": [
       "$\\displaystyle L_{2, \\gamma} = \\frac{2 Z_{0} \\gamma}{\\Delta \\omega_{0} \\left(\\gamma^{2} + 0.75\\right)}$"
      ],
      "text/plain": [
       "<IPython.core.display.Math object>"
      ]
     },
     "metadata": {},
     "output_type": "display_data"
    },
    {
     "data": {
      "text/latex": [
       "$\\displaystyle L_{3, \\gamma} = \\frac{Z_{0} \\Delta \\gamma}{\\omega_{0}}$"
      ],
      "text/plain": [
       "<IPython.core.display.Math object>"
      ]
     },
     "metadata": {},
     "output_type": "display_data"
    },
    {
     "name": "stdout",
     "output_type": "stream",
     "text": [
      "\n",
      "Latex code:\n",
      "c1_gamma = \\frac{1}{Z_{0} \\Delta \\gamma \\omega_{0}}\n",
      "\n",
      "c2_gamma = \\frac{\\Delta \\left(\\gamma^{2} + 0.75\\right)}{2 Z_{0} \\gamma \\omega_{0}}\n",
      "\n",
      "c3_gamma = \\frac{1}{Z_{0} \\Delta \\gamma \\omega_{0}}\n",
      "\n",
      "l1_gamma = \\frac{Z_{0} \\Delta \\gamma}{\\omega_{0}}\n",
      "\n",
      "l2_gamma = \\frac{2 Z_{0} \\gamma}{\\Delta \\omega_{0} \\left(\\gamma^{2} + 0.75\\right)}\n",
      "\n",
      "l3_gamma = \\frac{Z_{0} \\Delta \\gamma}{\\omega_{0}}\n",
      "\n",
      "\n"
     ]
    }
   ],
   "source": [
    "c1_gamma = simplify(c1_g.subs(g1, cg1))\n",
    "c2_gamma = simplify(c2_g.subs(g2, cg2))\n",
    "c3_gamma = simplify(c3_g.subs(g3, cg3))\n",
    "l1_gamma = simplify(l1_g.subs(g1, cg1))\n",
    "l2_gamma = simplify(l2_g.subs(g2, cg2))\n",
    "l3_gamma = simplify(l3_g.subs(g3, cg3))\n",
    "\n",
    "display(Math(\"C_{1, \\gamma} = \" + latex(c1_gamma)))\n",
    "display(Math(\"C_{2, \\gamma} = \" + latex(c2_gamma)))\n",
    "display(Math(\"C_{3, \\gamma} = \" + latex(c3_gamma)))\n",
    "display(Math(\"L_{1, \\gamma} = \" + latex(l1_gamma)))\n",
    "display(Math(\"L_{2, \\gamma} = \" + latex(l2_gamma)))\n",
    "display(Math(\"L_{3, \\gamma} = \" + latex(l3_gamma)))\n",
    "\n",
    "print(\"\\nLatex code:\")\n",
    "print(\"c1_gamma = \" + latex(c1_gamma) + '\\n')\n",
    "print(\"c2_gamma = \" + latex(c2_gamma) + '\\n')\n",
    "print(\"c3_gamma = \" + latex(c3_gamma) + '\\n')\n",
    "print(\"l1_gamma = \" + latex(l1_gamma) + '\\n')\n",
    "print(\"l2_gamma = \" + latex(l2_gamma) + '\\n')\n",
    "print(\"l3_gamma = \" + latex(l3_gamma) + '\\n\\n')"
   ]
  },
  {
   "cell_type": "markdown",
   "metadata": {},
   "source": [
    "### C and L of 3rd order filter in tearms of x"
   ]
  },
  {
   "cell_type": "code",
   "execution_count": 6,
   "metadata": {},
   "outputs": [
    {
     "data": {
      "text/latex": [
       "$\\displaystyle C_{1, x} = \\frac{3 \\cdot \\left(4 x^{2} + 1\\right)}{2 Z_{0} \\Delta \\omega_{0} x \\left(4 x^{2} + 3\\right)}$"
      ],
      "text/plain": [
       "<IPython.core.display.Math object>"
      ]
     },
     "metadata": {},
     "output_type": "display_data"
    },
    {
     "data": {
      "text/latex": [
       "$\\displaystyle C_{2, x} = \\frac{3 \\Delta \\left(4 x^{2} + 1\\right)}{16 Z_{0} \\omega_{0} x}$"
      ],
      "text/plain": [
       "<IPython.core.display.Math object>"
      ]
     },
     "metadata": {},
     "output_type": "display_data"
    },
    {
     "data": {
      "text/latex": [
       "$\\displaystyle C_{3, x} = \\frac{1}{2 Z_{0} \\Delta \\omega_{0} x}$"
      ],
      "text/plain": [
       "<IPython.core.display.Math object>"
      ]
     },
     "metadata": {},
     "output_type": "display_data"
    },
    {
     "data": {
      "text/latex": [
       "$\\displaystyle L_{1, x} = \\frac{2 Z_{0} \\Delta x \\left(4 x^{2} + 3\\right)}{3 \\omega_{0} \\cdot \\left(4 x^{2} + 1\\right)}$"
      ],
      "text/plain": [
       "<IPython.core.display.Math object>"
      ]
     },
     "metadata": {},
     "output_type": "display_data"
    },
    {
     "data": {
      "text/latex": [
       "$\\displaystyle L_{2, x} = \\frac{16 Z_{0} x}{3 \\Delta \\omega_{0} \\cdot \\left(4 x^{2} + 1\\right)}$"
      ],
      "text/plain": [
       "<IPython.core.display.Math object>"
      ]
     },
     "metadata": {},
     "output_type": "display_data"
    },
    {
     "data": {
      "text/latex": [
       "$\\displaystyle L_{3, x} = \\frac{2 Z_{0} \\Delta x}{\\omega_{0}}$"
      ],
      "text/plain": [
       "<IPython.core.display.Math object>"
      ]
     },
     "metadata": {},
     "output_type": "display_data"
    },
    {
     "name": "stdout",
     "output_type": "stream",
     "text": [
      "\n",
      "Latex code:\n",
      "c1_x = \\frac{3 \\cdot \\left(4 x^{2} + 1\\right)}{2 Z_{0} \\Delta \\omega_{0} x \\left(4 x^{2} + 3\\right)}\n",
      "\n",
      "c2_x = \\frac{3 \\Delta \\left(4 x^{2} + 1\\right)}{16 Z_{0} \\omega_{0} x}\n",
      "\n",
      "c3_x = \\frac{1}{2 Z_{0} \\Delta \\omega_{0} x}\n",
      "\n",
      "l1_x = \\frac{2 Z_{0} \\Delta x \\left(4 x^{2} + 3\\right)}{3 \\omega_{0} \\cdot \\left(4 x^{2} + 1\\right)}\n",
      "\n",
      "l2_x = \\frac{16 Z_{0} x}{3 \\Delta \\omega_{0} \\cdot \\left(4 x^{2} + 1\\right)}\n",
      "\n",
      "l3_x = \\frac{2 Z_{0} \\Delta x}{\\omega_{0}}\n"
     ]
    }
   ],
   "source": [
    "c1_x = simplify(c1_g.subs(g1, fg1))\n",
    "c2_x = simplify(c2_g.subs(g2, fg2))\n",
    "c3_x = simplify(c3_g.subs(g3, fg3))\n",
    "l1_x = simplify(l1_g.subs(g1, fg1))\n",
    "l2_x = simplify(l2_g.subs(g2, fg2))\n",
    "l3_x = simplify(l3_g.subs(g3, fg3))\n",
    "\n",
    "display(Math(\"C_{1, x} = \" + latex(c1_x)))\n",
    "display(Math(\"C_{2, x} = \" + latex(c2_x)))\n",
    "display(Math(\"C_{3, x} = \" + latex(c3_x)))\n",
    "display(Math(\"L_{1, x} = \" + latex(l1_x)))\n",
    "display(Math(\"L_{2, x} = \" + latex(l2_x)))\n",
    "display(Math(\"L_{3, x} = \" + latex(l3_x)))\n",
    "\n",
    "print(\"\\nLatex code:\")\n",
    "print(\"c1_x = \" + latex(c1_x) + '\\n')\n",
    "print(\"c2_x = \" + latex(c2_x) + '\\n')\n",
    "print(\"c3_x = \" + latex(c3_x) + '\\n')\n",
    "print(\"l1_x = \" + latex(l1_x) + '\\n')\n",
    "print(\"l2_x = \" + latex(l2_x) + '\\n')\n",
    "print(\"l3_x = \" + latex(l3_x))"
   ]
  },
  {
   "cell_type": "markdown",
   "metadata": {},
   "source": [
    "### Norton transform"
   ]
  },
  {
   "cell_type": "code",
   "execution_count": 7,
   "metadata": {},
   "outputs": [
    {
     "data": {
      "text/latex": [
       "$\\displaystyle C_x = C_{2} n_{e} \\left(n_{e} - 1\\right)$"
      ],
      "text/plain": [
       "<IPython.core.display.Math object>"
      ]
     },
     "metadata": {},
     "output_type": "display_data"
    },
    {
     "data": {
      "text/latex": [
       "$\\displaystyle C_y = C_{2} \\cdot \\left(1 - n_{e}\\right) + C_{3}$"
      ],
      "text/plain": [
       "<IPython.core.display.Math object>"
      ]
     },
     "metadata": {},
     "output_type": "display_data"
    },
    {
     "data": {
      "text/latex": [
       "$\\displaystyle C_z = C_{2} n_{e}$"
      ],
      "text/plain": [
       "<IPython.core.display.Math object>"
      ]
     },
     "metadata": {},
     "output_type": "display_data"
    },
    {
     "data": {
      "text/latex": [
       "$\\displaystyle n_e \\leq 1 + \\frac{C_{3}}{C_{2}}$"
      ],
      "text/plain": [
       "<IPython.core.display.Math object>"
      ]
     },
     "metadata": {},
     "output_type": "display_data"
    },
    {
     "name": "stdout",
     "output_type": "stream",
     "text": [
      "\n",
      "Latex code:\n",
      "cx = C_{2} n_{e} \\left(n_{e} - 1\\right)\n",
      "\n",
      "cy = C_{2} \\cdot \\left(1 - n_{e}\\right) + C_{3}\n",
      "\n",
      "cz = C_{2} n_{e}\n",
      "\n",
      "cond <= 1 + \\frac{C_{3}}{C_{2}}\n"
     ]
    }
   ],
   "source": [
    "c2, c3, ne = symbols('C_2 C_3 n_e')\n",
    "cx, cy, cz = symbols('C_x C_y C_z')\n",
    "\n",
    "cx = ne*(ne - 1) * c2\n",
    "cy = (1 - ne)*c2 + c3\n",
    "cz = ne * c2\n",
    "cond = 1 + c3 / c2\n",
    "\n",
    "display(Math(\"C_x = \" + latex(cx)))\n",
    "display(Math(\"C_y = \" + latex(cy)))\n",
    "display(Math(\"C_z = \" + latex(cz)))\n",
    "display(Math(\"n_e \\leq \" + latex(cond)))\n",
    "\n",
    "print(\"\\nLatex code:\")\n",
    "print(\"cx = \" + latex(cx) + '\\n')\n",
    "print(\"cy = \" + latex(cy) + '\\n')\n",
    "print(\"cz = \" + latex(cz) + '\\n')\n",
    "print(\"cond <= \" + latex(cond))\n"
   ]
  },
  {
   "cell_type": "markdown",
   "metadata": {},
   "source": [
    "### Norton transform, in terams of g"
   ]
  },
  {
   "cell_type": "code",
   "execution_count": 8,
   "metadata": {},
   "outputs": [
    {
     "data": {
      "text/latex": [
       "$\\displaystyle C_{x} = \\frac{\\Delta n_{e} \\left(n_{e} - 1\\right)}{Z_{0} \\omega_{0} g_{2}}$"
      ],
      "text/plain": [
       "<IPython.core.display.Math object>"
      ]
     },
     "metadata": {},
     "output_type": "display_data"
    },
    {
     "data": {
      "text/latex": [
       "$\\displaystyle C_{y} = \\frac{- \\Delta^{2} \\left(n_{e} - 1\\right) + g_{2} g_{3}}{Z_{0} \\Delta \\omega_{0} g_{2}}$"
      ],
      "text/plain": [
       "<IPython.core.display.Math object>"
      ]
     },
     "metadata": {},
     "output_type": "display_data"
    },
    {
     "data": {
      "text/latex": [
       "$\\displaystyle C_{z} = \\frac{\\Delta n_{e}}{Z_{0} \\omega_{0} g_{2}}$"
      ],
      "text/plain": [
       "<IPython.core.display.Math object>"
      ]
     },
     "metadata": {},
     "output_type": "display_data"
    },
    {
     "data": {
      "text/latex": [
       "$\\displaystyle n_c \\leq 1 + \\frac{g_{2} g_{3}}{\\Delta^{2}}$"
      ],
      "text/plain": [
       "<IPython.core.display.Math object>"
      ]
     },
     "metadata": {},
     "output_type": "display_data"
    },
    {
     "name": "stdout",
     "output_type": "stream",
     "text": [
      "\n",
      "Latex code:\n",
      "cx_g = \\frac{\\Delta n_{e} \\left(n_{e} - 1\\right)}{Z_{0} \\omega_{0} g_{2}}\n",
      "\n",
      "cy_g = \\frac{- \\Delta^{2} \\left(n_{e} - 1\\right) + g_{2} g_{3}}{Z_{0} \\Delta \\omega_{0} g_{2}}\n",
      "\n",
      "cz_g = \\frac{\\Delta n_{e}}{Z_{0} \\omega_{0} g_{2}}\n"
     ]
    }
   ],
   "source": [
    "cx_g = simplify(cx.subs(c2, c2_g))\n",
    "cy_g = simplify(cy.subs(c2, c2_g).subs(c3, c3_g))\n",
    "cz_g = simplify(cz.subs(c2, c2_g))\n",
    "cond_g = simplify(cond.subs(c2, c2_g).subs(c3, c3_g))\n",
    "\n",
    "display(Math(\"C_{x} = \" + latex(cx_g)))\n",
    "display(Math(\"C_{y} = \" + latex(cy_g)))\n",
    "display(Math(\"C_{z} = \" + latex(cz_g)))\n",
    "display(Math(r\"n_c \\leq \" + latex(cond_g)))\n",
    "\n",
    "print(\"\\nLatex code:\")\n",
    "print(\"cx_g = \" + latex(cx_g) + '\\n')\n",
    "print(\"cy_g = \" + latex(cy_g) + '\\n')\n",
    "print(\"cz_g = \" + latex(cz_g))"
   ]
  },
  {
   "cell_type": "markdown",
   "metadata": {},
   "source": [
    "### Norton transform, in terams of gamma"
   ]
  },
  {
   "cell_type": "code",
   "execution_count": 9,
   "metadata": {},
   "outputs": [
    {
     "data": {
      "text/latex": [
       "$\\displaystyle C_{x, \\gamma} = \\frac{\\Delta n_{e} \\left(\\gamma^{2} + 0.75\\right) \\left(n_{e} - 1\\right)}{2 Z_{0} \\gamma \\omega_{0}}$"
      ],
      "text/plain": [
       "<IPython.core.display.Math object>"
      ]
     },
     "metadata": {},
     "output_type": "display_data"
    },
    {
     "data": {
      "text/latex": [
       "$\\displaystyle C_{y, \\gamma} = \\frac{- \\Delta^{2} \\left(\\gamma^{2} + 0.75\\right) \\left(n_{e} - 1\\right) + 2}{2 Z_{0} \\Delta \\gamma \\omega_{0}}$"
      ],
      "text/plain": [
       "<IPython.core.display.Math object>"
      ]
     },
     "metadata": {},
     "output_type": "display_data"
    },
    {
     "data": {
      "text/latex": [
       "$\\displaystyle C_{z, \\gamma} = \\frac{\\Delta n_{e} \\left(\\gamma^{2} + 0.75\\right)}{2 Z_{0} \\gamma \\omega_{0}}$"
      ],
      "text/plain": [
       "<IPython.core.display.Math object>"
      ]
     },
     "metadata": {},
     "output_type": "display_data"
    },
    {
     "data": {
      "text/latex": [
       "$\\displaystyle n_{c, \\gamma} \\leq \\frac{\\Delta^{2} \\left(\\gamma^{2} + 0.75\\right) + 2}{\\Delta^{2} \\left(\\gamma^{2} + 0.75\\right)}$"
      ],
      "text/plain": [
       "<IPython.core.display.Math object>"
      ]
     },
     "metadata": {},
     "output_type": "display_data"
    },
    {
     "name": "stdout",
     "output_type": "stream",
     "text": [
      "\n",
      "Latex code:\n",
      "cx_gamma = \\frac{\\Delta n_{e} \\left(\\gamma^{2} + 0.75\\right) \\left(n_{e} - 1\\right)}{2 Z_{0} \\gamma \\omega_{0}}\n",
      "\n",
      "cy_gamma = \\frac{- \\Delta^{2} \\left(\\gamma^{2} + 0.75\\right) \\left(n_{e} - 1\\right) + 2}{2 Z_{0} \\Delta \\gamma \\omega_{0}}\n",
      "\n",
      "cz_gamma = \\frac{\\Delta n_{e} \\left(\\gamma^{2} + 0.75\\right)}{2 Z_{0} \\gamma \\omega_{0}}\n",
      "\n",
      "cond_gamma = \\frac{\\Delta^{2} \\left(\\gamma^{2} + 0.75\\right) + 2}{\\Delta^{2} \\left(\\gamma^{2} + 0.75\\right)}\n"
     ]
    }
   ],
   "source": [
    "cx_gamma = simplify(cx_g.subs(g2, cg2))\n",
    "cy_gamma = simplify(cy_g.subs(g2, cg2).subs(g3, cg3))\n",
    "cz_gamma = simplify(cz_g.subs(g2, cg2))\n",
    "cond_gamma = simplify(cond_g.subs(g2, cg2).subs(g3, cg3))\n",
    "\n",
    "display(Math(\"C_{x, \\gamma} = \" + latex(cx_gamma)))\n",
    "display(Math(\"C_{y, \\gamma} = \" + latex(cy_gamma)))\n",
    "display(Math(\"C_{z, \\gamma} = \" + latex(cz_gamma)))\n",
    "display(Math(r\"n_{c, \\gamma} \\leq \" + latex(cond_gamma)))\n",
    "\n",
    "print(\"\\nLatex code:\")\n",
    "print(\"cx_gamma = \" + latex(cx_gamma) + '\\n')\n",
    "print(\"cy_gamma = \" + latex(cy_gamma) + '\\n')\n",
    "print(\"cz_gamma = \" + latex(cz_gamma) + '\\n')\n",
    "print(\"cond_gamma = \" + latex(cond_gamma))"
   ]
  },
  {
   "cell_type": "markdown",
   "metadata": {},
   "source": [
    "### Norton transform, in terams of x"
   ]
  },
  {
   "cell_type": "code",
   "execution_count": 10,
   "metadata": {},
   "outputs": [
    {
     "data": {
      "text/latex": [
       "$\\displaystyle C_{x, x} = \\frac{3 \\Delta n_{e} \\left(n_{e} - 1\\right) \\left(4 x^{2} + 1\\right)}{16 Z_{0} \\omega_{0} x}$"
      ],
      "text/plain": [
       "<IPython.core.display.Math object>"
      ]
     },
     "metadata": {},
     "output_type": "display_data"
    },
    {
     "data": {
      "text/latex": [
       "$\\displaystyle C_{y, x} = - \\frac{3 \\Delta^{2} \\left(n_{e} - 1\\right) \\left(4 x^{2} + 1\\right) - 8}{16 Z_{0} \\Delta \\omega_{0} x}$"
      ],
      "text/plain": [
       "<IPython.core.display.Math object>"
      ]
     },
     "metadata": {},
     "output_type": "display_data"
    },
    {
     "data": {
      "text/latex": [
       "$\\displaystyle C_{z, x} = \\frac{3 \\Delta n_{e} \\left(4 x^{2} + 1\\right)}{16 Z_{0} \\omega_{0} x}$"
      ],
      "text/plain": [
       "<IPython.core.display.Math object>"
      ]
     },
     "metadata": {},
     "output_type": "display_data"
    },
    {
     "data": {
      "text/latex": [
       "$\\displaystyle n_{c, x} \\leq 1 + \\frac{8}{3 \\Delta^{2} \\cdot \\left(4 x^{2} + 1\\right)}$"
      ],
      "text/plain": [
       "<IPython.core.display.Math object>"
      ]
     },
     "metadata": {},
     "output_type": "display_data"
    },
    {
     "name": "stdout",
     "output_type": "stream",
     "text": [
      "\n",
      "Latex code:\n",
      "cx_x = \\frac{3 \\Delta n_{e} \\left(n_{e} - 1\\right) \\left(4 x^{2} + 1\\right)}{16 Z_{0} \\omega_{0} x}\n",
      "\n",
      "cy_x = - \\frac{3 \\Delta^{2} \\left(n_{e} - 1\\right) \\left(4 x^{2} + 1\\right) - 8}{16 Z_{0} \\Delta \\omega_{0} x}\n",
      "\n",
      "cz_x = \\frac{3 \\Delta n_{e} \\left(4 x^{2} + 1\\right)}{16 Z_{0} \\omega_{0} x}\n",
      "\n"
     ]
    }
   ],
   "source": [
    "cx_x = simplify(cx_g.subs(g2, fg2))\n",
    "cy_x = simplify(cy_g.subs(g2, fg2).subs(g3, fg3))\n",
    "cz_x = simplify(cz_g.subs(g2, fg2))\n",
    "cond_x = simplify(cond_g.subs(g2, fg2).subs(g3, fg3))\n",
    "\n",
    "display(Math(\"C_{x, x} = \" + latex(cx_x)))\n",
    "display(Math(\"C_{y, x} = \" + latex(cy_x)))\n",
    "display(Math(\"C_{z, x} = \" + latex(cz_x)))\n",
    "display(Math(r\"n_{c, x} \\leq \" + latex(cond_x)))\n",
    "\n",
    "print(\"\\nLatex code:\")\n",
    "print(\"cx_x = \" + latex(cx_x) + '\\n')\n",
    "print(\"cy_x = \" + latex(cy_x) + '\\n')\n",
    "print(\"cz_x = \" + latex(cz_x) + '\\n')"
   ]
  },
  {
   "cell_type": "code",
   "execution_count": 11,
   "metadata": {},
   "outputs": [
    {
     "data": {
      "text/latex": [
       "$\\displaystyle \\frac{3 \\Delta^{2} \\cdot \\left(4 x^{2} + 1\\right) + 8}{6 Z_{0} \\Delta^{3} \\omega_{0} x \\left(4 x^{2} + 1\\right)}$"
      ],
      "text/plain": [
       "<IPython.core.display.Math object>"
      ]
     },
     "metadata": {},
     "output_type": "display_data"
    },
    {
     "data": {
      "text/latex": [
       "$\\displaystyle 0$"
      ],
      "text/plain": [
       "<IPython.core.display.Math object>"
      ]
     },
     "metadata": {},
     "output_type": "display_data"
    },
    {
     "data": {
      "text/latex": [
       "$\\displaystyle \\frac{3 \\Delta^{2} \\cdot \\left(4 x^{2} + 1\\right) + 8}{16 Z_{0} \\Delta \\omega_{0} x}$"
      ],
      "text/plain": [
       "<IPython.core.display.Math object>"
      ]
     },
     "metadata": {},
     "output_type": "display_data"
    }
   ],
   "source": [
    "cx_x_ = simplify(cx_x.subs(ne, cond_x))\n",
    "cy_x_ = simplify(cy_x.subs(ne, cond_x))\n",
    "cz_x_ = simplify(cz_x.subs(ne, cond_x))\n",
    "\n",
    "display(Math(latex(cx_x_)))\n",
    "display(Math(latex(cy_x_)))\n",
    "display(Math(latex(cz_x_)))"
   ]
  },
  {
   "cell_type": "markdown",
   "metadata": {},
   "source": [
    "### Real transformer"
   ]
  },
  {
   "cell_type": "code",
   "execution_count": 12,
   "metadata": {},
   "outputs": [
    {
     "data": {
      "text/latex": [
       "$\\displaystyle L_p = \\frac{L_{1} L_{p}}{L_{s}}$"
      ],
      "text/plain": [
       "<IPython.core.display.Math object>"
      ]
     },
     "metadata": {},
     "output_type": "display_data"
    },
    {
     "data": {
      "text/latex": [
       "$\\displaystyle L_s = L_{1}$"
      ],
      "text/plain": [
       "<IPython.core.display.Math object>"
      ]
     },
     "metadata": {},
     "output_type": "display_data"
    },
    {
     "data": {
      "text/latex": [
       "$\\displaystyle L_x = \\frac{L_{p} \\left(L_{1} \\left(k^{2} - 1\\right) + L_{2} k^{2}\\right)}{L_{s}}$"
      ],
      "text/plain": [
       "<IPython.core.display.Math object>"
      ]
     },
     "metadata": {},
     "output_type": "display_data"
    },
    {
     "data": {
      "text/latex": [
       "$\\displaystyle n = \\sqrt{\\frac{L_{s}}{L_{p}}}$"
      ],
      "text/plain": [
       "<IPython.core.display.Math object>"
      ]
     },
     "metadata": {},
     "output_type": "display_data"
    },
    {
     "name": "stdout",
     "output_type": "stream",
     "text": [
      "\n",
      "Latex code:\n",
      "lp = \\frac{L_{1} L_{p}}{L_{s}}\n",
      "\n",
      "ls = L_{1}\n",
      "\n",
      "lx = \\frac{L_{p} \\left(L_{1} \\left(k^{2} - 1\\right) + L_{2} k^{2}\\right)}{L_{s}}\n",
      "\n",
      "n = \\sqrt{\\frac{L_{s}}{L_{p}}}\n"
     ]
    }
   ],
   "source": [
    "l1, l2, lp, ls, lx, k, n, ne_ = symbols('L_1 L_2 L_p L_s L_x k n n_e')\n",
    "\n",
    "n = sqrt(ls / lp)\n",
    "ne_ = n / k\n",
    "lp = simplify(l1 / n**2)\n",
    "ls = simplify(lp * n**2)\n",
    "lx = simplify(l2 / ne_**2 - (1 - k**2) * lp)\n",
    "\n",
    "display(Math(\"L_p = \" + latex(lp)))\n",
    "display(Math(\"L_s = \" + latex(ls)))\n",
    "display(Math(\"L_x = \" + latex(lx)))\n",
    "display(Math(\"n = \" + latex(n)))\n",
    "\n",
    "print(\"\\nLatex code:\")\n",
    "print(\"lp = \" + latex(lp) + '\\n')\n",
    "print(\"ls = \" + latex(ls) + '\\n')\n",
    "print(\"lx = \" + latex(lx) + '\\n')\n",
    "print(\"n = \" + latex(n))"
   ]
  },
  {
   "cell_type": "markdown",
   "metadata": {},
   "source": [
    "### Real transformer in terms of g"
   ]
  },
  {
   "cell_type": "code",
   "execution_count": 13,
   "metadata": {},
   "outputs": [
    {
     "data": {
      "text/latex": [
       "$\\displaystyle L_p = \\frac{L_{p} Z_{0} \\Delta}{L_{s} \\omega_{0} g_{1}}$"
      ],
      "text/plain": [
       "<IPython.core.display.Math object>"
      ]
     },
     "metadata": {},
     "output_type": "display_data"
    },
    {
     "data": {
      "text/latex": [
       "$\\displaystyle L_s = \\frac{Z_{0} \\Delta}{\\omega_{0} g_{1}}$"
      ],
      "text/plain": [
       "<IPython.core.display.Math object>"
      ]
     },
     "metadata": {},
     "output_type": "display_data"
    },
    {
     "data": {
      "text/latex": [
       "$\\displaystyle L_x = \\frac{L_{p} Z_{0} \\left(\\Delta^{2} \\left(k^{2} - 1\\right) + g_{1} g_{2} k^{2}\\right)}{L_{s} \\Delta \\omega_{0} g_{1}}$"
      ],
      "text/plain": [
       "<IPython.core.display.Math object>"
      ]
     },
     "metadata": {},
     "output_type": "display_data"
    },
    {
     "name": "stdout",
     "output_type": "stream",
     "text": [
      "\n",
      "Latex code:\n",
      "lp_g = \\frac{L_{p} Z_{0} \\Delta}{L_{s} \\omega_{0} g_{1}}\n",
      "\n",
      "ls_g = \\frac{Z_{0} \\Delta}{\\omega_{0} g_{1}}\n",
      "\n",
      "lx_g = \\frac{L_{p} Z_{0} \\left(\\Delta^{2} \\left(k^{2} - 1\\right) + g_{1} g_{2} k^{2}\\right)}{L_{s} \\Delta \\omega_{0} g_{1}}\n",
      "\n"
     ]
    }
   ],
   "source": [
    "lp_g = simplify(lp.subs(l1, l1_g))\n",
    "ls_g = simplify(ls.subs(l1, l1_g))\n",
    "lx_g = simplify(lx.subs(l1, l1_g).subs(l2, l2_g))\n",
    "\n",
    "display(Math(\"L_p = \" + latex(lp_g)))\n",
    "display(Math(\"L_s = \" + latex(ls_g)))\n",
    "display(Math(\"L_x = \" + latex(lx_g)))\n",
    "\n",
    "print(\"\\nLatex code:\")\n",
    "print(\"lp_g = \" + latex(lp_g) + '\\n')\n",
    "print(\"ls_g = \" + latex(ls_g) + '\\n')\n",
    "print(\"lx_g = \" + latex(lx_g) + '\\n')"
   ]
  },
  {
   "cell_type": "markdown",
   "metadata": {},
   "source": [
    "### Real transformer in terms of gamma"
   ]
  },
  {
   "cell_type": "code",
   "execution_count": 14,
   "metadata": {},
   "outputs": [
    {
     "data": {
      "text/latex": [
       "$\\displaystyle L_{p, \\gamma} = \\frac{L_{p} Z_{0} \\Delta \\gamma}{L_{s} \\omega_{0}}$"
      ],
      "text/plain": [
       "<IPython.core.display.Math object>"
      ]
     },
     "metadata": {},
     "output_type": "display_data"
    },
    {
     "data": {
      "text/latex": [
       "$\\displaystyle L_{s, \\gamma} = \\frac{Z_{0} \\Delta \\gamma}{\\omega_{0}}$"
      ],
      "text/plain": [
       "<IPython.core.display.Math object>"
      ]
     },
     "metadata": {},
     "output_type": "display_data"
    },
    {
     "data": {
      "text/latex": [
       "$\\displaystyle L_{x, \\gamma} = \\frac{L_{p} Z_{0} \\gamma \\left(\\Delta^{2} \\left(\\gamma^{2} + 0.75\\right) \\left(k^{2} - 1\\right) + 2 k^{2}\\right)}{L_{s} \\Delta \\omega_{0} \\left(\\gamma^{2} + 0.75\\right)}$"
      ],
      "text/plain": [
       "<IPython.core.display.Math object>"
      ]
     },
     "metadata": {},
     "output_type": "display_data"
    },
    {
     "name": "stdout",
     "output_type": "stream",
     "text": [
      "\n",
      "Latex code:\n",
      "lp_gamma = \\frac{L_{p} Z_{0} \\Delta \\gamma}{L_{s} \\omega_{0}}\n",
      "\n",
      "ls_gamma = \\frac{Z_{0} \\Delta \\gamma}{\\omega_{0}}\n",
      "\n",
      "lx_gamma = \\frac{L_{p} Z_{0} \\gamma \\left(\\Delta^{2} \\left(\\gamma^{2} + 0.75\\right) \\left(k^{2} - 1\\right) + 2 k^{2}\\right)}{L_{s} \\Delta \\omega_{0} \\left(\\gamma^{2} + 0.75\\right)}\n",
      "\n"
     ]
    }
   ],
   "source": [
    "lp_gamma = simplify(lp_g.subs(g1, cg1))\n",
    "ls_gamma = simplify(ls_g.subs(g1, cg1))\n",
    "lx_gamma = simplify(lx_g.subs(g1, cg1).subs(g2, cg2))\n",
    "\n",
    "display(Math(\"L_{p, \\gamma} = \" + latex(lp_gamma)))\n",
    "display(Math(\"L_{s, \\gamma} = \" + latex(ls_gamma)))\n",
    "display(Math(\"L_{x, \\gamma} = \" + latex(lx_gamma)))\n",
    "\n",
    "print(\"\\nLatex code:\")\n",
    "print(\"lp_gamma = \" + latex(lp_gamma) + '\\n')\n",
    "print(\"ls_gamma = \" + latex(ls_gamma) + '\\n')\n",
    "print(\"lx_gamma = \" + latex(lx_gamma) + '\\n')"
   ]
  },
  {
   "cell_type": "markdown",
   "metadata": {},
   "source": [
    "### Real transformer in terms of x"
   ]
  },
  {
   "cell_type": "code",
   "execution_count": 15,
   "metadata": {},
   "outputs": [
    {
     "data": {
      "text/latex": [
       "$\\displaystyle L_{p, x} = \\frac{2 L_{p} Z_{0} \\Delta x \\left(4 x^{2} + 3\\right)}{3 L_{s} \\omega_{0} \\cdot \\left(4 x^{2} + 1\\right)}$"
      ],
      "text/plain": [
       "<IPython.core.display.Math object>"
      ]
     },
     "metadata": {},
     "output_type": "display_data"
    },
    {
     "data": {
      "text/latex": [
       "$\\displaystyle L_{s, x} = \\frac{2 Z_{0} \\Delta x \\left(4 x^{2} + 3\\right)}{3 \\omega_{0} \\cdot \\left(4 x^{2} + 1\\right)}$"
      ],
      "text/plain": [
       "<IPython.core.display.Math object>"
      ]
     },
     "metadata": {},
     "output_type": "display_data"
    },
    {
     "data": {
      "text/latex": [
       "$\\displaystyle L_{x, x} = \\frac{2 L_{p} Z_{0} x \\left(\\Delta^{2} \\left(k^{2} - 1\\right) \\left(4 x^{2} + 3\\right) + 8 k^{2}\\right)}{3 L_{s} \\Delta \\omega_{0} \\cdot \\left(4 x^{2} + 1\\right)}$"
      ],
      "text/plain": [
       "<IPython.core.display.Math object>"
      ]
     },
     "metadata": {},
     "output_type": "display_data"
    },
    {
     "name": "stdout",
     "output_type": "stream",
     "text": [
      "\n",
      "Latex code:\n",
      "lp_x = \\frac{2 L_{p} Z_{0} \\Delta x \\left(4 x^{2} + 3\\right)}{3 L_{s} \\omega_{0} \\cdot \\left(4 x^{2} + 1\\right)}\n",
      "\n",
      "ls_x = \\frac{2 Z_{0} \\Delta x \\left(4 x^{2} + 3\\right)}{3 \\omega_{0} \\cdot \\left(4 x^{2} + 1\\right)}\n",
      "\n",
      "lx_x = \\frac{2 L_{p} Z_{0} x \\left(\\Delta^{2} \\left(k^{2} - 1\\right) \\left(4 x^{2} + 3\\right) + 8 k^{2}\\right)}{3 L_{s} \\Delta \\omega_{0} \\cdot \\left(4 x^{2} + 1\\right)}\n"
     ]
    }
   ],
   "source": [
    "lp_x = simplify(lp_g.subs(g1, fg1))\n",
    "ls_x = simplify(ls_g.subs(g1, fg1))\n",
    "lx_x = simplify(lx_g.subs(g1, fg1).subs(g2, fg2))\n",
    "\n",
    "display(Math(\"L_{p, x} = \" + latex(lp_x)))\n",
    "display(Math(\"L_{s, x} = \" + latex(ls_x)))\n",
    "display(Math(\"L_{x, x} = \" + latex(lx_x)))\n",
    "\n",
    "print(\"\\nLatex code:\")\n",
    "print(\"lp_x = \" + latex(lp_x) + '\\n')\n",
    "print(\"ls_x = \" + latex(ls_x) + '\\n')\n",
    "print(\"lx_x = \" + latex(lx_x))"
   ]
  },
  {
   "cell_type": "markdown",
   "metadata": {},
   "source": [
    "### All elements in terms of g"
   ]
  },
  {
   "cell_type": "code",
   "execution_count": 16,
   "metadata": {},
   "outputs": [
    {
     "data": {
      "text/latex": [
       "$\\displaystyle C_1 = \\frac{g_{1}}{Z_{0} \\Delta \\omega_{0}}$"
      ],
      "text/plain": [
       "<IPython.core.display.Math object>"
      ]
     },
     "metadata": {},
     "output_type": "display_data"
    },
    {
     "data": {
      "text/latex": [
       "$\\displaystyle L_p = \\frac{L_{p} Z_{0} \\Delta}{L_{s} \\omega_{0} g_{1}}$"
      ],
      "text/plain": [
       "<IPython.core.display.Math object>"
      ]
     },
     "metadata": {},
     "output_type": "display_data"
    },
    {
     "data": {
      "text/latex": [
       "$\\displaystyle L_s = \\frac{Z_{0} \\Delta}{\\omega_{0} g_{1}}$"
      ],
      "text/plain": [
       "<IPython.core.display.Math object>"
      ]
     },
     "metadata": {},
     "output_type": "display_data"
    },
    {
     "data": {
      "text/latex": [
       "$\\displaystyle L_x = \\frac{L_{p} Z_{0} \\left(\\Delta^{2} \\left(k^{2} - 1\\right) + g_{1} g_{2} k^{2}\\right)}{L_{s} \\Delta \\omega_{0} g_{1}}$"
      ],
      "text/plain": [
       "<IPython.core.display.Math object>"
      ]
     },
     "metadata": {},
     "output_type": "display_data"
    },
    {
     "data": {
      "text/latex": [
       "$\\displaystyle C_x = \\frac{\\Delta \\left(- L_{p} k \\sqrt{\\frac{L_{s}}{L_{p}}} + L_{s}\\right)}{L_{p} Z_{0} \\omega_{0} g_{2} k^{2}}$"
      ],
      "text/plain": [
       "<IPython.core.display.Math object>"
      ]
     },
     "metadata": {},
     "output_type": "display_data"
    },
    {
     "data": {
      "text/latex": [
       "$\\displaystyle C_y = \\frac{\\Delta^{2} \\left(k - \\sqrt{\\frac{L_{s}}{L_{p}}}\\right) + g_{2} g_{3} k}{Z_{0} \\Delta \\omega_{0} g_{2} k}$"
      ],
      "text/plain": [
       "<IPython.core.display.Math object>"
      ]
     },
     "metadata": {},
     "output_type": "display_data"
    },
    {
     "data": {
      "text/latex": [
       "$\\displaystyle C_z = \\frac{\\Delta \\sqrt{\\frac{L_{s}}{L_{p}}}}{Z_{0} \\omega_{0} g_{2} k}$"
      ],
      "text/plain": [
       "<IPython.core.display.Math object>"
      ]
     },
     "metadata": {},
     "output_type": "display_data"
    },
    {
     "data": {
      "text/latex": [
       "$\\displaystyle L_3 = \\frac{Z_{0} \\Delta}{\\omega_{0} g_{3}}$"
      ],
      "text/plain": [
       "<IPython.core.display.Math object>"
      ]
     },
     "metadata": {},
     "output_type": "display_data"
    },
    {
     "name": "stdout",
     "output_type": "stream",
     "text": [
      "\n",
      "Latex code:\n",
      "c1_g = \\frac{g_{1}}{Z_{0} \\Delta \\omega_{0}}\n",
      "\n",
      "lp_g = \\frac{L_{p} Z_{0} \\Delta}{L_{s} \\omega_{0} g_{1}}\n",
      "\n",
      "ls_g = \\frac{Z_{0} \\Delta}{\\omega_{0} g_{1}}\n",
      "\n",
      "lx_g = \\frac{L_{p} Z_{0} \\left(\\Delta^{2} \\left(k^{2} - 1\\right) + g_{1} g_{2} k^{2}\\right)}{L_{s} \\Delta \\omega_{0} g_{1}}\n",
      "\n",
      "cx_g = \\frac{\\Delta \\left(- L_{p} k \\sqrt{\\frac{L_{s}}{L_{p}}} + L_{s}\\right)}{L_{p} Z_{0} \\omega_{0} g_{2} k^{2}}\n",
      "\n",
      "cy_g = \\frac{\\Delta \\sqrt{\\frac{L_{s}}{L_{p}}}}{Z_{0} \\omega_{0} g_{2} k}\n",
      "\n",
      "cz_g = \\frac{\\Delta^{2} \\left(k - \\sqrt{\\frac{L_{s}}{L_{p}}}\\right) + g_{2} g_{3} k}{Z_{0} \\Delta \\omega_{0} g_{2} k}\n",
      "\n",
      "l3_g = \\frac{Z_{0} \\Delta}{\\omega_{0} g_{3}}\n"
     ]
    }
   ],
   "source": [
    "cx_g = simplify(cx_g.subs(ne, n/k))\n",
    "cy_g = simplify(cy_g.subs(ne, n/k))\n",
    "cz_g = simplify(cz_g.subs(ne, n/k))\n",
    "\n",
    "display(Math(\"C_1 = \" + latex(c1_g)))\n",
    "display(Math(\"L_p = \" + latex(lp_g)))\n",
    "display(Math(\"L_s = \" + latex(ls_g)))\n",
    "display(Math(\"L_x = \" + latex(lx_g)))\n",
    "display(Math(\"C_x = \" + latex(cx_g)))\n",
    "display(Math(\"C_y = \" + latex(cy_g)))\n",
    "display(Math(\"C_z = \" + latex(cz_g)))\n",
    "display(Math(\"L_3 = \" + latex(l3_g)))\n",
    "\n",
    "print(\"\\nLatex code:\")\n",
    "print(\"c1_g = \" + latex(c1_g) + '\\n')\n",
    "print(\"lp_g = \" + latex(lp_g) + '\\n')\n",
    "print(\"ls_g = \" + latex(ls_g) + '\\n')\n",
    "print(\"lx_g = \" + latex(lx_g) + '\\n')\n",
    "print(\"cx_g = \" + latex(cx_g) + '\\n')\n",
    "print(\"cy_g = \" + latex(cz_g) + '\\n')\n",
    "print(\"cz_g = \" + latex(cy_g) + '\\n')\n",
    "print(\"l3_g = \" + latex(l3_g))"
   ]
  },
  {
   "cell_type": "markdown",
   "metadata": {},
   "source": [
    "### All elements in terms of gamma"
   ]
  },
  {
   "cell_type": "code",
   "execution_count": 17,
   "metadata": {},
   "outputs": [
    {
     "data": {
      "text/latex": [
       "$\\displaystyle C_{1, \\gamma} = \\frac{1}{Z_{0} \\Delta \\gamma \\omega_{0}}$"
      ],
      "text/plain": [
       "<IPython.core.display.Math object>"
      ]
     },
     "metadata": {},
     "output_type": "display_data"
    },
    {
     "data": {
      "text/latex": [
       "$\\displaystyle L_{p, \\gamma} = \\frac{L_{p} Z_{0} \\Delta \\gamma}{L_{s} \\omega_{0}}$"
      ],
      "text/plain": [
       "<IPython.core.display.Math object>"
      ]
     },
     "metadata": {},
     "output_type": "display_data"
    },
    {
     "data": {
      "text/latex": [
       "$\\displaystyle L_{s, \\gamma} = \\frac{Z_{0} \\Delta \\gamma}{\\omega_{0}}$"
      ],
      "text/plain": [
       "<IPython.core.display.Math object>"
      ]
     },
     "metadata": {},
     "output_type": "display_data"
    },
    {
     "data": {
      "text/latex": [
       "$\\displaystyle L_{x, \\gamma} = \\frac{L_{p} Z_{0} \\gamma \\left(\\Delta^{2} \\left(\\gamma^{2} + 0.75\\right) \\left(k^{2} - 1\\right) + 2 k^{2}\\right)}{L_{s} \\Delta \\omega_{0} \\left(\\gamma^{2} + 0.75\\right)}$"
      ],
      "text/plain": [
       "<IPython.core.display.Math object>"
      ]
     },
     "metadata": {},
     "output_type": "display_data"
    },
    {
     "data": {
      "text/latex": [
       "$\\displaystyle C_{x, \\gamma} = - \\frac{\\Delta \\sqrt{\\frac{L_{s}}{L_{p}}} \\left(\\gamma^{2} + 0.75\\right) \\left(k - \\sqrt{\\frac{L_{s}}{L_{p}}}\\right)}{2 Z_{0} \\gamma \\omega_{0} k^{2}}$"
      ],
      "text/plain": [
       "<IPython.core.display.Math object>"
      ]
     },
     "metadata": {},
     "output_type": "display_data"
    },
    {
     "data": {
      "text/latex": [
       "$\\displaystyle C_{y, \\gamma} = \\frac{\\frac{\\Delta^{2} \\left(\\gamma^{2} + 0.75\\right) \\left(k - \\sqrt{\\frac{L_{s}}{L_{p}}}\\right)}{2} + k}{Z_{0} \\Delta \\gamma \\omega_{0} k}$"
      ],
      "text/plain": [
       "<IPython.core.display.Math object>"
      ]
     },
     "metadata": {},
     "output_type": "display_data"
    },
    {
     "data": {
      "text/latex": [
       "$\\displaystyle C_{z, \\gamma} = \\frac{\\Delta \\sqrt{\\frac{L_{s}}{L_{p}}} \\left(\\gamma^{2} + 0.75\\right)}{2 Z_{0} \\gamma \\omega_{0} k}$"
      ],
      "text/plain": [
       "<IPython.core.display.Math object>"
      ]
     },
     "metadata": {},
     "output_type": "display_data"
    },
    {
     "data": {
      "text/latex": [
       "$\\displaystyle L_{3, \\gamma} = \\frac{Z_{0} \\Delta \\gamma}{\\omega_{0}}$"
      ],
      "text/plain": [
       "<IPython.core.display.Math object>"
      ]
     },
     "metadata": {},
     "output_type": "display_data"
    },
    {
     "name": "stdout",
     "output_type": "stream",
     "text": [
      "\n",
      "Latex code:\n",
      "c1_gamma = \\frac{1}{Z_{0} \\Delta \\gamma \\omega_{0}}\n",
      "\n",
      "lp_gamma = \\frac{L_{p} Z_{0} \\Delta \\gamma}{L_{s} \\omega_{0}}\n",
      "\n",
      "ls_gamma = \\frac{Z_{0} \\Delta \\gamma}{\\omega_{0}}\n",
      "\n",
      "lx_gamma = \\frac{L_{p} Z_{0} \\gamma \\left(\\Delta^{2} \\left(\\gamma^{2} + 0.75\\right) \\left(k^{2} - 1\\right) + 2 k^{2}\\right)}{L_{s} \\Delta \\omega_{0} \\left(\\gamma^{2} + 0.75\\right)}\n",
      "\n",
      "cx_gamma = - \\frac{\\Delta \\sqrt{\\frac{L_{s}}{L_{p}}} \\left(\\gamma^{2} + 0.75\\right) \\left(k - \\sqrt{\\frac{L_{s}}{L_{p}}}\\right)}{2 Z_{0} \\gamma \\omega_{0} k^{2}}\n",
      "\n",
      "cy_gamma = \\frac{\\Delta \\sqrt{\\frac{L_{s}}{L_{p}}} \\left(\\gamma^{2} + 0.75\\right)}{2 Z_{0} \\gamma \\omega_{0} k}\n",
      "\n",
      "cz_gamma = \\frac{\\frac{\\Delta^{2} \\left(\\gamma^{2} + 0.75\\right) \\left(k - \\sqrt{\\frac{L_{s}}{L_{p}}}\\right)}{2} + k}{Z_{0} \\Delta \\gamma \\omega_{0} k}\n",
      "\n",
      "l3_gamma = \\frac{Z_{0} \\Delta \\gamma}{\\omega_{0}}\n"
     ]
    }
   ],
   "source": [
    "cx_gamma = simplify(cx_gamma.subs(ne, n/k))\n",
    "cy_gamma = simplify(cy_gamma.subs(ne, n/k))\n",
    "cz_gamma = simplify(cz_gamma.subs(ne, n/k))\n",
    "\n",
    "display(Math(\"C_{1, \\gamma} = \" + latex(c1_gamma)))\n",
    "display(Math(\"L_{p, \\gamma} = \" + latex(lp_gamma)))\n",
    "display(Math(\"L_{s, \\gamma} = \" + latex(ls_gamma)))\n",
    "display(Math(\"L_{x, \\gamma} = \" + latex(lx_gamma)))\n",
    "display(Math(\"C_{x, \\gamma} = \" + latex(cx_gamma)))\n",
    "display(Math(\"C_{y, \\gamma} = \" + latex(cy_gamma)))\n",
    "display(Math(\"C_{z, \\gamma} = \" + latex(cz_gamma)))\n",
    "display(Math(\"L_{3, \\gamma} = \" + latex(l3_gamma)))\n",
    "\n",
    "print(\"\\nLatex code:\")\n",
    "print(\"c1_gamma = \" + latex(c1_gamma) + '\\n')\n",
    "print(\"lp_gamma = \" + latex(lp_gamma) + '\\n')\n",
    "print(\"ls_gamma = \" + latex(ls_gamma) + '\\n')\n",
    "print(\"lx_gamma = \" + latex(lx_gamma) + '\\n')\n",
    "print(\"cx_gamma = \" + latex(cx_gamma) + '\\n')\n",
    "print(\"cy_gamma = \" + latex(cz_gamma) + '\\n')\n",
    "print(\"cz_gamma = \" + latex(cy_gamma) + '\\n')\n",
    "print(\"l3_gamma = \" + latex(l3_gamma))"
   ]
  },
  {
   "cell_type": "markdown",
   "metadata": {},
   "source": [
    "### All elements in terms of x"
   ]
  },
  {
   "cell_type": "code",
   "execution_count": 18,
   "metadata": {},
   "outputs": [
    {
     "data": {
      "text/latex": [
       "$\\displaystyle C_{1, x} = \\frac{3 \\cdot \\left(4 x^{2} + 1\\right)}{2 Z_{0} \\Delta \\omega_{0} x \\left(4 x^{2} + 3\\right)}$"
      ],
      "text/plain": [
       "<IPython.core.display.Math object>"
      ]
     },
     "metadata": {},
     "output_type": "display_data"
    },
    {
     "data": {
      "text/latex": [
       "$\\displaystyle L_{p, x} = \\frac{2 L_{p} Z_{0} \\Delta x \\left(4 x^{2} + 3\\right)}{3 L_{s} \\omega_{0} \\cdot \\left(4 x^{2} + 1\\right)}$"
      ],
      "text/plain": [
       "<IPython.core.display.Math object>"
      ]
     },
     "metadata": {},
     "output_type": "display_data"
    },
    {
     "data": {
      "text/latex": [
       "$\\displaystyle L_{s, x} = \\frac{2 Z_{0} \\Delta x \\left(4 x^{2} + 3\\right)}{3 \\omega_{0} \\cdot \\left(4 x^{2} + 1\\right)}$"
      ],
      "text/plain": [
       "<IPython.core.display.Math object>"
      ]
     },
     "metadata": {},
     "output_type": "display_data"
    },
    {
     "data": {
      "text/latex": [
       "$\\displaystyle L_{x, x} = \\frac{2 L_{p} Z_{0} x \\left(\\Delta^{2} \\left(k^{2} - 1\\right) \\left(4 x^{2} + 3\\right) + 8 k^{2}\\right)}{3 L_{s} \\Delta \\omega_{0} \\cdot \\left(4 x^{2} + 1\\right)}$"
      ],
      "text/plain": [
       "<IPython.core.display.Math object>"
      ]
     },
     "metadata": {},
     "output_type": "display_data"
    },
    {
     "data": {
      "text/latex": [
       "$\\displaystyle C_{x, x} = - \\frac{3 \\Delta \\sqrt{\\frac{L_{s}}{L_{p}}} \\left(k - \\sqrt{\\frac{L_{s}}{L_{p}}}\\right) \\left(4 x^{2} + 1\\right)}{16 Z_{0} \\omega_{0} k^{2} x}$"
      ],
      "text/plain": [
       "<IPython.core.display.Math object>"
      ]
     },
     "metadata": {},
     "output_type": "display_data"
    },
    {
     "data": {
      "text/latex": [
       "$\\displaystyle C_{y, x} = \\frac{3 \\Delta^{2} \\left(k - \\sqrt{\\frac{L_{s}}{L_{p}}}\\right) \\left(4 x^{2} + 1\\right) + 8 k}{16 Z_{0} \\Delta \\omega_{0} k x}$"
      ],
      "text/plain": [
       "<IPython.core.display.Math object>"
      ]
     },
     "metadata": {},
     "output_type": "display_data"
    },
    {
     "data": {
      "text/latex": [
       "$\\displaystyle C_{z, x} = \\frac{3 \\Delta \\sqrt{\\frac{L_{s}}{L_{p}}} \\left(4 x^{2} + 1\\right)}{16 Z_{0} \\omega_{0} k x}$"
      ],
      "text/plain": [
       "<IPython.core.display.Math object>"
      ]
     },
     "metadata": {},
     "output_type": "display_data"
    },
    {
     "data": {
      "text/latex": [
       "$\\displaystyle L_{3, x} = \\frac{2 Z_{0} \\Delta x}{\\omega_{0}}$"
      ],
      "text/plain": [
       "<IPython.core.display.Math object>"
      ]
     },
     "metadata": {},
     "output_type": "display_data"
    },
    {
     "name": "stdout",
     "output_type": "stream",
     "text": [
      "\n",
      "Latex code:\n",
      "c1_x = \\frac{3 \\cdot \\left(4 x^{2} + 1\\right)}{2 Z_{0} \\Delta \\omega_{0} x \\left(4 x^{2} + 3\\right)}\n",
      "\n",
      "lp_x = \\frac{2 L_{p} Z_{0} \\Delta x \\left(4 x^{2} + 3\\right)}{3 L_{s} \\omega_{0} \\cdot \\left(4 x^{2} + 1\\right)}\n",
      "\n",
      "ls_x = \\frac{2 Z_{0} \\Delta x \\left(4 x^{2} + 3\\right)}{3 \\omega_{0} \\cdot \\left(4 x^{2} + 1\\right)}\n",
      "\n",
      "lx_x = \\frac{2 L_{p} Z_{0} x \\left(\\Delta^{2} \\left(k^{2} - 1\\right) \\left(4 x^{2} + 3\\right) + 8 k^{2}\\right)}{3 L_{s} \\Delta \\omega_{0} \\cdot \\left(4 x^{2} + 1\\right)}\n",
      "\n",
      "cx_x = - \\frac{3 \\Delta \\sqrt{\\frac{L_{s}}{L_{p}}} \\left(k - \\sqrt{\\frac{L_{s}}{L_{p}}}\\right) \\left(4 x^{2} + 1\\right)}{16 Z_{0} \\omega_{0} k^{2} x}\n",
      "\n",
      "cy_x = \\frac{3 \\Delta \\sqrt{\\frac{L_{s}}{L_{p}}} \\left(4 x^{2} + 1\\right)}{16 Z_{0} \\omega_{0} k x}\n",
      "\n",
      "cz_x = \\frac{3 \\Delta^{2} \\left(k - \\sqrt{\\frac{L_{s}}{L_{p}}}\\right) \\left(4 x^{2} + 1\\right) + 8 k}{16 Z_{0} \\Delta \\omega_{0} k x}\n",
      "\n",
      "l3_x = \\frac{2 Z_{0} \\Delta x}{\\omega_{0}}\n"
     ]
    }
   ],
   "source": [
    "cx_x = simplify(cx_x.subs(ne, n/k))\n",
    "cy_x = simplify(cy_x.subs(ne, n/k))\n",
    "cz_x = simplify(cz_x.subs(ne, n/k))\n",
    "\n",
    "display(Math(\"C_{1, x} = \" + latex(c1_x)))\n",
    "display(Math(\"L_{p, x} = \" + latex(lp_x)))\n",
    "display(Math(\"L_{s, x} = \" + latex(ls_x)))\n",
    "display(Math(\"L_{x, x} = \" + latex(lx_x)))\n",
    "display(Math(\"C_{x, x} = \" + latex(cx_x)))\n",
    "display(Math(\"C_{y, x} = \" + latex(cy_x)))\n",
    "display(Math(\"C_{z, x} = \" + latex(cz_x)))\n",
    "display(Math(\"L_{3, x} = \" + latex(l3_x)))\n",
    "\n",
    "print(\"\\nLatex code:\")\n",
    "print(\"c1_x = \" + latex(c1_x) + '\\n')\n",
    "print(\"lp_x = \" + latex(lp_x) + '\\n')\n",
    "print(\"ls_x = \" + latex(ls_x) + '\\n')\n",
    "print(\"lx_x = \" + latex(lx_x) + '\\n')\n",
    "print(\"cx_x = \" + latex(cx_x) + '\\n')\n",
    "print(\"cy_x = \" + latex(cz_x) + '\\n')\n",
    "print(\"cz_x = \" + latex(cy_x) + '\\n')\n",
    "print(\"l3_x = \" + latex(l3_x))"
   ]
  },
  {
   "cell_type": "markdown",
   "metadata": {},
   "source": [
    "### Condition for Lx = 0"
   ]
  },
  {
   "cell_type": "code",
   "execution_count": 19,
   "metadata": {},
   "outputs": [
    {
     "data": {
      "text/latex": [
       "$\\displaystyle k_{L_x = 0} = \\sqrt{\\frac{L_{1}}{L_{1} + L_{2}}}$"
      ],
      "text/plain": [
       "<IPython.core.display.Math object>"
      ]
     },
     "metadata": {},
     "output_type": "display_data"
    },
    {
     "name": "stdout",
     "output_type": "stream",
     "text": [
      "\n",
      "Latex code:\n",
      "k0 = \\sqrt{\\frac{L_{1}}{L_{1} + L_{2}}}\n"
     ]
    }
   ],
   "source": [
    "k0 = simplify(solve(lx, k)[1])\n",
    "\n",
    "display(Math(\"k_{L_x = 0} = \" + latex(k0)))\n",
    "\n",
    "print(\"\\nLatex code:\")\n",
    "print(\"k0 = \" + latex(k0))"
   ]
  },
  {
   "cell_type": "markdown",
   "metadata": {},
   "source": [
    "### Condition for Lx = 0, in tearms of g"
   ]
  },
  {
   "cell_type": "code",
   "execution_count": 20,
   "metadata": {},
   "outputs": [
    {
     "data": {
      "text/latex": [
       "$\\displaystyle k_{L_x = 0} = \\sqrt{\\frac{\\Delta^{2}}{\\Delta^{2} + g_{1} g_{2}}}$"
      ],
      "text/plain": [
       "<IPython.core.display.Math object>"
      ]
     },
     "metadata": {},
     "output_type": "display_data"
    },
    {
     "name": "stdout",
     "output_type": "stream",
     "text": [
      "\n",
      "Latex code:\n",
      "k0_g = \\sqrt{\\frac{\\Delta^{2}}{\\Delta^{2} + g_{1} g_{2}}}\n"
     ]
    }
   ],
   "source": [
    "k0_g = simplify(k0.subs(l1, l1_g).subs(l2, l2_g))\n",
    "\n",
    "display(Math(\"k_{L_x = 0} = \" + latex(k0_g)))\n",
    "\n",
    "print(\"\\nLatex code:\")\n",
    "print(\"k0_g = \" + latex(k0_g))"
   ]
  },
  {
   "cell_type": "markdown",
   "metadata": {},
   "source": [
    "### Condition for Lx = 0, in tearms of gamma"
   ]
  },
  {
   "cell_type": "code",
   "execution_count": 21,
   "metadata": {},
   "outputs": [
    {
     "data": {
      "text/latex": [
       "$\\displaystyle k_{\\gamma, L_x = 0} = \\sqrt{\\frac{\\Delta^{2} \\left(\\gamma^{2} + 0.75\\right)}{\\Delta^{2} \\left(\\gamma^{2} + 0.75\\right) + 2}}$"
      ],
      "text/plain": [
       "<IPython.core.display.Math object>"
      ]
     },
     "metadata": {},
     "output_type": "display_data"
    },
    {
     "data": {
      "text/latex": [
       "$\\displaystyle k_{\\gamma = 1, \\Delta = 0.707, L_x = 0} = 0.55167728436737$"
      ],
      "text/plain": [
       "<IPython.core.display.Math object>"
      ]
     },
     "metadata": {},
     "output_type": "display_data"
    },
    {
     "name": "stdout",
     "output_type": "stream",
     "text": [
      "\n",
      "Latex code:\n",
      "k0_gamma = \\sqrt{\\frac{\\Delta^{2} \\left(\\gamma^{2} + 0.75\\right)}{\\Delta^{2} \\left(\\gamma^{2} + 0.75\\right) + 2}}\n"
     ]
    }
   ],
   "source": [
    "k0_gamma = simplify(k0_g.subs(g1, cg1).subs(g2, cg2))\n",
    "k0_gamma_num = simplify(k0_gamma.subs(delta, 1/2**0.5).subs(gamma, 1))\n",
    "\n",
    "display(Math(\"k_{\\gamma, L_x = 0} = \" + latex(k0_gamma)))\n",
    "display(Math(\"k_{\\gamma = 1, \\Delta = 0.707, L_x = 0} = \" + latex(k0_gamma_num)))\n",
    "\n",
    "print(\"\\nLatex code:\")\n",
    "print(\"k0_gamma = \" + latex(k0_gamma))"
   ]
  },
  {
   "cell_type": "markdown",
   "metadata": {},
   "source": [
    "### Condition for Lx = 0, in tearms of x"
   ]
  },
  {
   "cell_type": "code",
   "execution_count": 22,
   "metadata": {},
   "outputs": [
    {
     "data": {
      "text/latex": [
       "$\\displaystyle k_{x, L_x = 0} = \\sqrt{\\frac{\\Delta^{2} \\cdot \\left(16 x^{4} + 16 x^{2} + 3\\right)}{\\left(4 x^{2} + 1\\right) \\left(\\Delta^{2} \\cdot \\left(4 x^{2} + 3\\right) + 8\\right)}}$"
      ],
      "text/plain": [
       "<IPython.core.display.Math object>"
      ]
     },
     "metadata": {},
     "output_type": "display_data"
    },
    {
     "data": {
      "text/latex": [
       "$\\displaystyle k_{x = 1, \\Delta = 0.707, L_x = 0} = 0.55167728436737$"
      ],
      "text/plain": [
       "<IPython.core.display.Math object>"
      ]
     },
     "metadata": {},
     "output_type": "display_data"
    },
    {
     "name": "stdout",
     "output_type": "stream",
     "text": [
      "\n",
      "Latex code:\n",
      "k0_x = \\sqrt{\\frac{\\Delta^{2} \\cdot \\left(16 x^{4} + 16 x^{2} + 3\\right)}{\\left(4 x^{2} + 1\\right) \\left(\\Delta^{2} \\cdot \\left(4 x^{2} + 3\\right) + 8\\right)}}\n"
     ]
    }
   ],
   "source": [
    "k0_x = simplify(k0_g.subs(g1, fg1).subs(g2, fg2))\n",
    "k0_x_num = simplify(k0_x.subs(delta, 1/2**0.5).subs(x, 1))\n",
    "\n",
    "display(Math(\"k_{x, L_x = 0} = \" + latex(k0_x)))\n",
    "display(Math(\"k_{x = 1, \\Delta = 0.707, L_x = 0} = \" + latex(k0_x_num)))\n",
    "\n",
    "print(\"\\nLatex code:\")\n",
    "print(\"k0_x = \" + latex(k0_x))"
   ]
  },
  {
   "cell_type": "markdown",
   "metadata": {},
   "source": [
    "### Function gamma(k)"
   ]
  },
  {
   "cell_type": "code",
   "execution_count": 23,
   "metadata": {},
   "outputs": [
    {
     "data": {
      "text/latex": [
       "$\\displaystyle \\gamma(k, \\Delta) = \\frac{0.5 \\sqrt{\\frac{- 3.0 \\Delta^{2} k^{2} + 3.0 \\Delta^{2} - 8.0 k^{2}}{k^{2} - 1.0}}}{\\Delta}$"
      ],
      "text/plain": [
       "<IPython.core.display.Math object>"
      ]
     },
     "metadata": {},
     "output_type": "display_data"
    },
    {
     "name": "stdout",
     "output_type": "stream",
     "text": [
      "\n",
      "Latex code:\n",
      "gamma_func = \\frac{0.5 \\sqrt{\\frac{- 3.0 \\Delta^{2} k^{2} + 3.0 \\Delta^{2} - 8.0 k^{2}}{k^{2} - 1.0}}}{\\Delta}\n"
     ]
    }
   ],
   "source": [
    "k_ = symbols('k')\n",
    "\n",
    "gamma_func = solve(k0_gamma - k, gamma)[0]\n",
    "# gamma_func = simplify(solve(k0_gamma - k, gamma)[0])\n",
    "\n",
    "display(Math(\"\\gamma(k, \\Delta) = \" + latex(gamma_func)))\n",
    "\n",
    "print(\"\\nLatex code:\")\n",
    "print(\"gamma_func = \" + latex(gamma_func))"
   ]
  },
  {
   "cell_type": "markdown",
   "metadata": {},
   "source": [
    "### Function x(k)"
   ]
  },
  {
   "cell_type": "code",
   "execution_count": 24,
   "metadata": {},
   "outputs": [
    {
     "data": {
      "text/latex": [
       "$\\displaystyle x(k, \\Delta) = \\frac{\\sqrt{\\frac{- 3 \\Delta^{2} k^{2} + 3 \\Delta^{2} - 8 k^{2}}{\\Delta^{2} \\left(k^{2} - 1\\right)}}}{2}$"
      ],
      "text/plain": [
       "<IPython.core.display.Math object>"
      ]
     },
     "metadata": {},
     "output_type": "display_data"
    },
    {
     "name": "stdout",
     "output_type": "stream",
     "text": [
      "\n",
      "Latex code:\n",
      "x_func = \\frac{\\sqrt{\\frac{- 3 \\Delta^{2} k^{2} + 3 \\Delta^{2} - 8 k^{2}}{\\Delta^{2} \\left(k^{2} - 1\\right)}}}{2}\n"
     ]
    }
   ],
   "source": [
    "k_ = symbols('k')\n",
    "\n",
    "x_func = simplify(solve(k0_x - k, x)[0])\n",
    "\n",
    "display(Math(\"x(k, \\Delta) = \" + latex(x_func)))\n",
    "\n",
    "print(\"\\nLatex code:\")\n",
    "print(\"x_func = \" + latex(x_func))"
   ]
  },
  {
   "cell_type": "code",
   "execution_count": 25,
   "metadata": {},
   "outputs": [
    {
     "data": {
      "text/latex": [
       "$\\displaystyle \\gamma(k = 0.55167728436737, \\Delta = 0.707) = 1.00026429490171$"
      ],
      "text/plain": [
       "<IPython.core.display.Math object>"
      ]
     },
     "metadata": {},
     "output_type": "display_data"
    },
    {
     "data": {
      "text/latex": [
       "$\\displaystyle x(k = 0.55167728436737, \\Delta = 0.707) = 1.00026429490171$"
      ],
      "text/plain": [
       "<IPython.core.display.Math object>"
      ]
     },
     "metadata": {},
     "output_type": "display_data"
    }
   ],
   "source": [
    "display(Math(\"\\gamma(k = 0.55167728436737, \\Delta = 0.707) = \" + latex(gamma_func.subs(k, .55167728436737).subs(delta, 0.707))))\n",
    "display(Math(\"x(k = 0.55167728436737, \\Delta = 0.707) = \" + latex(x_func.subs(k, .55167728436737).subs(delta, 0.707))))"
   ]
  },
  {
   "cell_type": "code",
   "execution_count": null,
   "metadata": {},
   "outputs": [],
   "source": []
  },
  {
   "cell_type": "code",
   "execution_count": 42,
   "metadata": {},
   "outputs": [
    {
     "name": "stdout",
     "output_type": "stream",
     "text": [
      "[4.10631116e-04 1.35524236e-03 2.32499555e-03 3.32058651e-03\n",
      " 4.34274111e-03 5.39221686e-03 6.46980453e-03 7.57632992e-03\n",
      " 8.71265569e-03 9.87968340e-03 1.10783556e-02 1.23096579e-02\n",
      " 1.35746220e-02 1.48743273e-02 1.62099047e-02 1.75825386e-02\n",
      " 1.89934709e-02 2.04440037e-02 2.19355033e-02 2.34694043e-02\n",
      " 2.50472132e-02 2.66705134e-02 2.83409699e-02 3.00603345e-02\n",
      " 3.18304514e-02 3.36532635e-02 3.55308189e-02 3.74652776e-02\n",
      " 3.94589199e-02 4.15141543e-02 4.36335266e-02 4.58197299e-02\n",
      " 4.80756150e-02 5.04042025e-02 5.28086950e-02 5.52924914e-02\n",
      " 5.78592015e-02 6.05126633e-02 6.32569603e-02 6.60964423e-02\n",
      " 6.90357465e-02 7.20798221e-02 7.52339566e-02 7.85038054e-02\n",
      " 8.18954237e-02 8.54153031e-02 8.90704109e-02 9.28682345e-02\n",
      " 9.68168311e-02 1.00924882e-01 1.05201757e-01 1.09657577e-01\n",
      " 1.14303299e-01 1.19150800e-01 1.24212975e-01 1.29503849e-01\n",
      " 1.35038705e-01 1.40834224e-01 1.46908655e-01 1.53281998e-01\n",
      " 1.59976219e-01 1.67015501e-01 1.74426531e-01 1.82238826e-01\n",
      " 1.90485126e-01 1.99201843e-01 2.08429588e-01 2.18213800e-01\n",
      " 2.28605477e-01 2.39662060e-01 2.51448481e-01 2.64038425e-01\n",
      " 2.77515854e-01 2.91976867e-01 3.07531972e-01 3.24308894e-01\n",
      " 3.42456060e-01 3.62146976e-01 3.83585749e-01 4.07014152e-01\n",
      " 4.32720728e-01 4.61052672e-01 4.92431539e-01 5.27374268e-01\n",
      " 5.66521782e-01 6.10678527e-01 6.60868178e-01 7.18413775e-01\n",
      " 7.85055791e-01 8.63130857e-01 9.55850917e-01 1.06775544e+00\n",
      " 1.20547633e+00 1.37910049e+00 1.60475677e+00 1.90993639e+00\n",
      " 2.34563762e+00 3.01832223e+00 4.19347089e+00 6.76942727e+00]\n"
     ]
    },
    {
     "data": {
      "image/png": "[encoded data removed]",
      "text/plain": [
       "<Figure size 640x480 with 1 Axes>"
      ]
     },
     "metadata": {},
     "output_type": "display_data"
    }
   ],
   "source": [
    "import numpy as np\n",
    "import matplotlib.pyplot as plt\n",
    "\n",
    "delta = 1 / 2**0.5\n",
    "k = np.linspace(0.4, 0.99, 100)\n",
    "x = 0.5 * ((-3 * delta**2 * k**2 + 3 * delta**2 - 8 * k**2) / (delta*82 * (k**2 - 1)))**0.5\n",
    "g = 0.5 / delta * ((-3*delta**2 * k**2 + ) / (1 - k**2))**0.5\n",
    "\n",
    "plt.plot(x)\n",
    "print((-3 * delta**2 * k**2 + 3 * delta**2 - 8 * k**2) / (delta*82 * (k**2 - 1)))"
   ]
  },
  {
   "cell_type": "code",
   "execution_count": null,
   "metadata": {},
   "outputs": [],
   "source": []
  },
  {
   "cell_type": "code",
   "execution_count": null,
   "metadata": {},
   "outputs": [],
   "source": []
  },
  {
   "cell_type": "code",
   "execution_count": null,
   "metadata": {},
   "outputs": [],
   "source": []
  },
  {
   "cell_type": "code",
   "execution_count": null,
   "metadata": {},
   "outputs": [],
   "source": []
  },
  {
   "cell_type": "code",
   "execution_count": null,
   "metadata": {},
   "outputs": [],
   "source": []
  },
  {
   "cell_type": "markdown",
   "metadata": {},
   "source": [
    "### Moje funkcije"
   ]
  },
  {
   "cell_type": "code",
   "execution_count": null,
   "metadata": {},
   "outputs": [],
   "source": [
    "from IPython.display import display, Math, Latex\n",
    "from sympy import *\n",
    "from sympy.solvers import solve"
   ]
  },
  {
   "cell_type": "markdown",
   "metadata": {},
   "source": [
    "### Chebyshev elements gi"
   ]
  },
  {
   "cell_type": "code",
   "execution_count": null,
   "metadata": {},
   "outputs": [],
   "source": [
    "cg1, cg2, cg3 = symbols('g_1 g_2 g_3')\n",
    "gamma = symbols(r'\\gamma')\n",
    "\n",
    "cg1 = 1 / gamma\n",
    "cg2 = 2 * gamma / (gamma**2 + 3/4)\n",
    "cg3 = 1 / gamma\n",
    "\n",
    "display(Math(\"g_1 = \" + latex(cg1)))\n",
    "display(Math(\"g_2 = \" + latex(cg2)))\n",
    "display(Math(\"g_3 = \" + latex(cg3)))\n",
    "\n",
    "print(\"Latex code\")\n",
    "print(latex(cg1))\n",
    "print(latex(cg2))\n",
    "print(latex(cg3))"
   ]
  },
  {
   "cell_type": "markdown",
   "metadata": {},
   "source": [
    "### Fano elements gi"
   ]
  },
  {
   "cell_type": "code",
   "execution_count": null,
   "metadata": {},
   "outputs": [],
   "source": [
    "fg1, fg2, fg3 = symbols('g_1 g_2 g_3')\n",
    "x, r, n = symbols('x r n')\n",
    "\n",
    "fg3 = (sin(pi / 2 / n)) / (x)\n",
    "r = 2\n",
    "fg2 = 1 / fg3 * (4 * sin((2*r - 1) * pi / 2 / n) * sin((2*r + 1) * pi / 2 / n)) / (2 * x**2 * (1 - cos(r * pi / n)) + (sin(r * pi / n))**2)\n",
    "r = 1\n",
    "fg1 = 1 / fg2 * (4 * sin((2*r - 1) * pi / 2 / n) * sin((2*r + 1) * pi / 2 / n)) / (2 * x**2 * (1 - cos(r * pi / n)) + (sin(r * pi / n))**2)\n",
    "# display(Math(latex(g3)))\n",
    "\n",
    "fg3_val = simplify(fg3.subs(n,3))\n",
    "fg2_val = simplify(fg2.subs(n,3))\n",
    "fg1_val = simplify(fg1.subs(n,3))\n",
    "\n",
    "display(Math(\"g_3 =\" + latex(fg3_val)))\n",
    "display(Math(\"g_2 =\" + latex(fg2_val)))\n",
    "display(Math(\"g_1 =\" + latex(fg1_val)))\n",
    "\n",
    "print(\"Latex code\")\n",
    "print(latex(fg3_val))\n",
    "print(latex(fg2_val))\n",
    "print(latex(fg1_val))"
   ]
  },
  {
   "cell_type": "markdown",
   "metadata": {},
   "source": [
    "### Passband Ripple for Chebyshev and Fano"
   ]
  },
  {
   "cell_type": "code",
   "execution_count": null,
   "metadata": {},
   "outputs": [],
   "source": [
    "n, x = symbols('n x')\n",
    "delta = symbols(r'\\delta')\n",
    "\n",
    "delta = 10 * log((coth(n * asinh(x))**2), 10)\n",
    "\n",
    "# Print the simplified expression\n",
    "display(Math(\"\\delta = \" + latex(delta)))\n",
    "\n",
    "delta_val = simplify(delta.subs(n,3).subs(x,1))\n",
    "print(f\"delta = \", delta_val.evalf())"
   ]
  },
  {
   "cell_type": "code",
   "execution_count": null,
   "metadata": {},
   "outputs": [],
   "source": [
    "n = symbols('n')\n",
    "gamma = symbols(r'\\gamma')\n",
    "delta = symbols(r'\\delta')\n",
    "epsilon = symbols(r'epsilon')\n",
    "\n",
    "epsilon = (sinh(n * asinh(gamma)))**-1\n",
    "\n",
    "delta = 10 * log((1 + epsilon**2), 10)\n",
    "\n",
    "# Print the simplified expression\n",
    "display(Math(\"\\delta = \" + latex(delta)))\n",
    "\n",
    "delta_val = simplify(delta.subs(n,3).subs(gamma,1))\n",
    "print(f\"delta = \", delta_val.evalf())"
   ]
  },
  {
   "cell_type": "markdown",
   "metadata": {},
   "source": [
    "### Circuit elements"
   ]
  },
  {
   "cell_type": "code",
   "execution_count": null,
   "metadata": {},
   "outputs": [],
   "source": [
    "c1, c2, c3, l1, l2, l3 = symbols('C_1 C_2 C_3 L_1 L_2 L_3')\n",
    "w0 = symbols(r'\\omega_0')\n",
    "delta = symbols(r'\\Delta')\n",
    "g1, g2, g3, z0 = symbols('g_1 g_2 g_3 Z_0')\n",
    "\n",
    "c1 = g1 / w0 / delta / z0\n",
    "c2 = delta / w0 / g2 / z0\n",
    "c3 = g3 / w0 / delta / z0\n",
    "l1 = delta * z0 / w0 / g1\n",
    "l2 = g2 * z0 / w0 / delta\n",
    "l3 = delta * z0 / w0 / g3\n",
    "\n",
    "display(Math(\"C_1 = \" + latex(c1)))\n",
    "display(Math(\"C_2 = \" + latex(c2)))\n",
    "display(Math(\"C_3 = \" + latex(c3)))\n",
    "\n",
    "display(Math(\"L_1 = \" + latex(l1)))\n",
    "display(Math(\"L_2 = \" + latex(l2)))\n",
    "display(Math(\"L_3 = \" + latex(l3)))\n",
    "\n",
    "print(\"Latex code\")\n",
    "print(latex(c1))\n",
    "print(latex(c2))\n",
    "print(latex(c3))\n",
    "\n",
    "print(latex(l1))\n",
    "print(latex(l2))\n",
    "print(latex(l3))"
   ]
  },
  {
   "cell_type": "markdown",
   "metadata": {},
   "source": [
    "### Circuit elements in terams of gamma and x"
   ]
  },
  {
   "cell_type": "code",
   "execution_count": null,
   "metadata": {},
   "outputs": [],
   "source": [
    "c1_gamma = simplify(c1.subs(g1, cg1))\n",
    "c2_gamma = simplify(c2.subs(g2, cg2))\n",
    "c3_gamma = simplify(c3.subs(g3, cg3))\n",
    "\n",
    "l1_gamma = simplify(l1.subs(g1, cg1))\n",
    "l2_gamma = simplify(l2.subs(g2, cg2))\n",
    "l3_gamma = simplify(l3.subs(g3, cg3))\n",
    "\n",
    "display(Math(\"C_{1, \\gamma} = \" + latex(c1_gamma)))\n",
    "display(Math(\"C_{2, \\gamma} = \" + latex(c2_gamma)))\n",
    "display(Math(\"C_{3, \\gamma} = \" + latex(c3_gamma)))\n",
    "display(Math(\"L_{1, \\gamma} = \" + latex(l1_gamma)))\n",
    "display(Math(\"L_{2, \\gamma} = \" + latex(l2_gamma)))\n",
    "display(Math(\"L_{3, \\gamma} = \" + latex(l3_gamma)))\n"
   ]
  },
  {
   "cell_type": "code",
   "execution_count": null,
   "metadata": {},
   "outputs": [],
   "source": [
    "c1_x = simplify(c1.subs(g1, fg1_val))\n",
    "c2_x = simplify(c2.subs(g2, fg2_val))\n",
    "c3_x = simplify(c3.subs(g3, fg3_val))\n",
    "\n",
    "l1_x = simplify(l1.subs(g1, fg1_val))\n",
    "l2_x = simplify(l2.subs(g2, fg2_val))\n",
    "l3_x = simplify(l3.subs(g3, fg3_val))\n",
    "\n",
    "display(Math(\"C_{1, x} = \" + latex(c1_x)))\n",
    "display(Math(\"C_{2, x} = \" + latex(c2_x)))\n",
    "display(Math(\"C_{3, x} = \" + latex(c3_x)))\n",
    "display(Math(\"L_{1, x} = \" + latex(l1_x)))\n",
    "display(Math(\"L_{2, x} = \" + latex(l2_x)))\n",
    "display(Math(\"L_{3, x} = \" + latex(l3_x)))\n"
   ]
  },
  {
   "cell_type": "markdown",
   "metadata": {},
   "source": [
    "### Norton transform"
   ]
  },
  {
   "cell_type": "code",
   "execution_count": null,
   "metadata": {},
   "outputs": [],
   "source": [
    "c2_, c3_, ne_ = symbols('C_2 C_3 n_e')\n",
    "cx, cy, cz = symbols('C_x C_y C_z')\n",
    "\n",
    "cx = ne_*(ne_ - 1) * c2_\n",
    "cy = (1 - ne_)*c2_ + c3_\n",
    "cz = ne_ * c2_\n",
    "cond = 1 + c3_ / c2_\n",
    "\n",
    "display(Math(\"C_x = \" + latex(cx)))\n",
    "display(Math(\"C_y = \" + latex(cy)))\n",
    "display(Math(\"C_z = \" + latex(cz)))\n",
    "display(Math(\"n_e \\leq \" + latex(cond)))\n",
    "\n",
    "print(\"Latex code\")\n",
    "print(latex(cx))\n",
    "print(latex(cy))\n",
    "print(latex(cz))\n",
    "print(latex(cond))"
   ]
  },
  {
   "cell_type": "markdown",
   "metadata": {},
   "source": [
    "### Real transformer elements"
   ]
  },
  {
   "cell_type": "code",
   "execution_count": null,
   "metadata": {},
   "outputs": [],
   "source": [
    "l1_, l2_, lp, ls, lx_, k, n, ne = symbols('L_1 L_2 L_p L_s L_x k n n_e')\n",
    "\n",
    "n = sqrt(ls / lp)\n",
    "ne = n / k\n",
    "\n",
    "lp = l1_ / n**2\n",
    "display(Math(\"L_p = \" + latex(lp)))\n",
    "\n",
    "ls = lp * n**2\n",
    "display(Math(\"L_s = \" + latex(ls)))\n",
    "\n",
    "equation = l2_/ne**2 - lx_ - (1 - k**2)*lp\n",
    "sol = solve(equation, lx_)\n",
    "lx = sol[0]\n",
    "display(Math(\"L_x = \" + latex(simplify(lx))))\n",
    "display(Math(\"n_e = \" + latex(ne)))\n",
    "\n",
    "print(\"Latex code\")\n",
    "print(latex(lp))\n",
    "print(latex(ls))\n",
    "print(latex(simplify(lx)))\n",
    "print(latex(ne))\n"
   ]
  },
  {
   "cell_type": "markdown",
   "metadata": {},
   "source": [
    "### All elements"
   ]
  },
  {
   "cell_type": "code",
   "execution_count": null,
   "metadata": {},
   "outputs": [],
   "source": [
    "c1_all = simplify(c1)\n",
    "lp_all = simplify(lp.subs(l1_, l1))\n",
    "ls_all = simplify(lp.subs(l1_, l1))\n",
    "lx_all = simplify(lx.subs(l1_, l1).subs(l2_, l2))\n",
    "cx_all = simplify(cx.subs(c2_, c2).subs(ne_, ne))\n",
    "cy_all = simplify(cy.subs(c2_, c2).subs(c3_, c3).subs(ne_, ne))\n",
    "cz_all = simplify(cz.subs(c2_, c2).subs(ne_, ne))\n",
    "l3_all = simplify(l3)\n",
    "\n",
    "display(Math(\"C_1 = \" + latex(c1_all)))\n",
    "display(Math(\"L_s = \" + latex(ls_all)))\n",
    "display(Math(\"L_p = \" + latex(lp_all)))\n",
    "display(Math(\"L_x = \" + latex(lx_all)))\n",
    "display(Math(\"C_x = \" + latex(cx_all)))\n",
    "display(Math(\"C_y = \" + latex(cy_all)))\n",
    "display(Math(\"C_z = \" + latex(cz_all)))\n",
    "display(Math(\"L_3 = \" + latex(l3_all)))\n",
    "\n",
    "print(\"Latex code\")\n",
    "print(latex(c1_all))\n",
    "print(latex(ls_all))\n",
    "print(latex(lp_all))\n",
    "print(latex(lx_all))\n",
    "print(latex(cx_all))\n",
    "print(latex(cy_all))\n",
    "print(latex(cz_all))\n",
    "print(latex(l3_all))"
   ]
  },
  {
   "cell_type": "markdown",
   "metadata": {},
   "source": [
    "### All elements Chebyshev"
   ]
  },
  {
   "cell_type": "code",
   "execution_count": null,
   "metadata": {},
   "outputs": [],
   "source": [
    "display(Math(\"C_1 = \" + latex(simplify(c1_all.subs(g1, cg1)))))\n",
    "# display(Math(\"L_s = \" + latex(ls_all.subs(g1, cg1))))\n",
    "# display(Math(\"L_p = \" + latex(lp_all.subs(g1, cg1))))\n",
    "display(Math(\"L_x = \" + latex(simplify(lx_all.subs(g1, cg1).subs(g2, cg2)))))\n",
    "display(Math(\"C_x = \" + latex(simplify(cx_all.subs(g2, cg2)))))\n",
    "display(Math(\"C_y = \" + latex(simplify(cy_all.subs(g3, cg3).subs(g2, cg2)))))\n",
    "display(Math(\"C_z = \" + latex(simplify(cz_all.subs(g2, cg2)))))\n",
    "display(Math(\"L_3 = \" + latex(simplify(l3_all.subs(g3, cg3)))))\n"
   ]
  },
  {
   "cell_type": "markdown",
   "metadata": {},
   "source": [
    "### All elements Fano"
   ]
  },
  {
   "cell_type": "code",
   "execution_count": null,
   "metadata": {},
   "outputs": [],
   "source": [
    "display(Math(\"C_1 = \" + latex(simplify(c1_all.subs(g1, fg1_val)))))\n",
    "# display(Math(\"L_s = \" + latex(ls_all.subs(g1, cg1))))\n",
    "# display(Math(\"L_p = \" + latex(lp_all.subs(g1, cg1))))\n",
    "display(Math(\"L_{x, \\gamma} = \" + latex(simplify(lx_all.subs(g1, fg1_val).subs(g2, fg2_val)))))\n",
    "display(Math(\"C_{x, \\gamma} = \" + latex(simplify(cx_all.subs(g2, fg2_val)))))\n",
    "display(Math(\"C_{y, \\gamma} = \" + latex(simplify(cy_all.subs(g3, fg3_val).subs(g2, fg2_val)))))\n",
    "display(Math(\"C_{z, \\gamma} = \" + latex(simplify(cz_all.subs(g2, fg2_val)))))\n",
    "display(Math(\"L_{3, \\gamma} = \" + latex(simplify(l3_all.subs(g3, fg3_val)))))\n"
   ]
  },
  {
   "cell_type": "markdown",
   "metadata": {},
   "source": [
    "### Condition for k that Lx = 0"
   ]
  },
  {
   "cell_type": "code",
   "execution_count": null,
   "metadata": {},
   "outputs": [],
   "source": [
    "k_solv = simplify(solve(lx_all, k)[1])\n",
    "display(Math(\"k = \" + latex(k_solv)))\n",
    "\n",
    "print(\"Latex code\")\n",
    "print(latex(k_solv))"
   ]
  },
  {
   "cell_type": "markdown",
   "metadata": {},
   "source": [
    "### Condition for k that Lz = 0 for Chebyshev"
   ]
  },
  {
   "cell_type": "code",
   "execution_count": null,
   "metadata": {},
   "outputs": [],
   "source": [
    "display(Math(\"k_{\\gamma} = \" + latex(simplify(k_solv.subs(g1, cg1).subs(g2, cg2)))))"
   ]
  },
  {
   "cell_type": "markdown",
   "metadata": {},
   "source": [
    "### Condition for k that Lz = 0 for Fano"
   ]
  },
  {
   "cell_type": "code",
   "execution_count": null,
   "metadata": {},
   "outputs": [],
   "source": []
  },
  {
   "cell_type": "markdown",
   "metadata": {},
   "source": [
    "### Minimum k for gamma >= 1"
   ]
  },
  {
   "cell_type": "code",
   "execution_count": null,
   "metadata": {},
   "outputs": [],
   "source": [
    "k_ = symbols('k')\n",
    "k_gamma = simplify(k_solv.subs(g1, cg1).subs(g2, cg2))\n",
    "\n",
    "# Condition gamma >= 1\n",
    "gamma_0 = solve(gamma - 1, gamma)\n",
    "\n",
    "k_gamma_val = simplify(k_gamma.subs(gamma, gamma_0[0]).subs(delta, 2**0.5/2))\n",
    "\n",
    "display(Math(\"k_{\\gamma} = \" + latex(k_gamma)))\n",
    "display(Math(\"k_{min, \\gamma} = \" + latex(k_gamma_val)))\n",
    "\n",
    "print(\"Latex code\")\n",
    "print(latex(k_gamma))"
   ]
  },
  {
   "cell_type": "markdown",
   "metadata": {},
   "source": [
    "### Minimum k for x >= 1"
   ]
  },
  {
   "cell_type": "code",
   "execution_count": null,
   "metadata": {},
   "outputs": [],
   "source": [
    "k_x = simplify(k_solv.subs(g1, fg1_val).subs(g2, fg2_val))\n",
    "\n",
    "# Condition x >= 1\n",
    "x_0 = solve(x - 1, x)\n",
    "\n",
    "k_x_val = simplify(k_x.subs(x, x_0[0]).subs(delta, 2**0.5/2))\n",
    "\n",
    "display(Math(\"k_x = \" + latex(k_x)))\n",
    "display(Math(\"k_{min,x} = \" + latex(k_x_val)))\n",
    "\n",
    "print(\"Latex code\")\n",
    "print(latex(k_x))"
   ]
  },
  {
   "cell_type": "markdown",
   "metadata": {},
   "source": [
    "### gamma(k), Lx = 0"
   ]
  },
  {
   "cell_type": "code",
   "execution_count": null,
   "metadata": {},
   "outputs": [],
   "source": [
    "k__ = symbols('k')\n",
    "\n",
    "gamma_func = simplify(solve(k_gamma - k__, gamma)[0])\n",
    "\n",
    "display(Math(\"\\gamma(k, \\Delta) = \" + latex(gamma_func)))\n",
    "\n",
    "print(\"Latex code\")\n",
    "print(latex(gamma_func))"
   ]
  },
  {
   "cell_type": "markdown",
   "metadata": {},
   "source": [
    "### x(k), Lx = 0"
   ]
  },
  {
   "cell_type": "code",
   "execution_count": null,
   "metadata": {},
   "outputs": [],
   "source": [
    "k__ = symbols('k')\n",
    "\n",
    "x_func = simplify(solve(k_x - k__, x)[0])\n",
    "\n",
    "display(Math(\"\\gamma(k, \\Delta) = \" + latex(x_func)))\n",
    "\n",
    "print(\"Latex code\")\n",
    "print(latex(x_func))"
   ]
  },
  {
   "cell_type": "code",
   "execution_count": null,
   "metadata": {},
   "outputs": [],
   "source": []
  }
 ],
 "metadata": {
  "kernelspec": {
   "display_name": "Python 3 (ipykernel)",
   "language": "python",
   "name": "python3"
  },
  "language_info": {
   "codemirror_mode": {
    "name": "ipython",
    "version": 3
   },
   "file_extension": ".py",
   "mimetype": "text/x-python",
   "name": "python",
   "nbconvert_exporter": "python",
   "pygments_lexer": "ipython3",
   "version": "3.10.9"
  }
 },
 "nbformat": 4,
 "nbformat_minor": 4
}
