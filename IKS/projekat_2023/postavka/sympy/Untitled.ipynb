{
 "cells": [
  {
   "cell_type": "code",
   "execution_count": 15,
   "id": "db7a82fc-113d-4baa-92aa-1ac124ff3b28",
   "metadata": {},
   "outputs": [],
   "source": [
    "from IPython.display import display, Math, Latex\n",
    "from sympy import *\n",
    "from sympy.solvers import solve"
   ]
  },
  {
   "cell_type": "code",
   "execution_count": 25,
   "id": "4f5c98db-985b-4a68-b4fc-664dcd789bc8",
   "metadata": {},
   "outputs": [
    {
     "data": {
      "text/latex": [
       "$\\displaystyle g_1 = \\frac{1}{\\gamma}$"
      ],
      "text/plain": [
       "<IPython.core.display.Math object>"
      ]
     },
     "metadata": {},
     "output_type": "display_data"
    },
    {
     "data": {
      "text/latex": [
       "$\\displaystyle g_2 = \\frac{2 \\gamma}{\\gamma^{2} + 0.75}$"
      ],
      "text/plain": [
       "<IPython.core.display.Math object>"
      ]
     },
     "metadata": {},
     "output_type": "display_data"
    },
    {
     "data": {
      "text/latex": [
       "$\\displaystyle g_3 = \\frac{1}{\\gamma}$"
      ],
      "text/plain": [
       "<IPython.core.display.Math object>"
      ]
     },
     "metadata": {},
     "output_type": "display_data"
    },
    {
     "name": "stdout",
     "output_type": "stream",
     "text": [
      "\n",
      "Latex code:\n",
      "g1 = \\frac{1}{\\gamma}\n",
      "\n",
      "g2 = \\frac{2 \\gamma}{\\gamma^{2} + 0.75}\n",
      "\n",
      "g3 = \\frac{1}{\\gamma}\n"
     ]
    }
   ],
   "source": [
    "cg1, cg2, cg3 = symbols('g_1 g_2 g_3')\n",
    "gamma = symbols(r'\\gamma')\n",
    "\n",
    "cg1 = 1 / gamma\n",
    "cg2 = 2 * gamma / (gamma**2 + 3/4)\n",
    "cg3 = 1 / gamma\n",
    "\n",
    "display(Math(\"g_1 = \" + latex(cg1)))\n",
    "display(Math(\"g_2 = \" + latex(cg2)))\n",
    "display(Math(\"g_3 = \" + latex(cg3)))\n",
    "\n",
    "print(\"\\nLatex code:\")\n",
    "print(\"g1 = \" + latex(cg1) + '\\n')\n",
    "print(\"g2 = \" + latex(cg2) + '\\n')\n",
    "print(\"g3 = \" + latex(cg3))"
   ]
  },
  {
   "cell_type": "code",
   "execution_count": 17,
   "id": "4900c3fa-1362-4054-8e04-1b14f1262d0b",
   "metadata": {},
   "outputs": [
    {
     "data": {
      "text/latex": [
       "$\\displaystyle g_1 = \\frac{12 x^{2} + 3}{8 x^{3} + 6 x}$"
      ],
      "text/plain": [
       "<IPython.core.display.Math object>"
      ]
     },
     "metadata": {},
     "output_type": "display_data"
    },
    {
     "data": {
      "text/latex": [
       "$\\displaystyle g_2 = \\frac{16 x}{3 \\cdot \\left(4 x^{2} + 1\\right)}$"
      ],
      "text/plain": [
       "<IPython.core.display.Math object>"
      ]
     },
     "metadata": {},
     "output_type": "display_data"
    },
    {
     "data": {
      "text/latex": [
       "$\\displaystyle g_3 = \\frac{1}{2 x}$"
      ],
      "text/plain": [
       "<IPython.core.display.Math object>"
      ]
     },
     "metadata": {},
     "output_type": "display_data"
    },
    {
     "name": "stdout",
     "output_type": "stream",
     "text": [
      "\n",
      "Latex code:\n",
      "g1 = \\frac{12 x^{2} + 3}{8 x^{3} + 6 x}\n",
      "\n",
      "g2 = \\frac{16 x}{3 \\cdot \\left(4 x^{2} + 1\\right)}\n",
      "\n",
      "g3 = \\frac{1}{2 x}\n"
     ]
    }
   ],
   "source": [
    "fg1_, fg2_, fg3_ = symbols('g_1 g_2 g_3')\n",
    "x, n, r = symbols('x n r')\n",
    "\n",
    "fg3_ = sin(pi / 2 / n) / x\n",
    "fg3 = simplify(fg3_.subs(n, 3))\n",
    "\n",
    "tmp  = 4 * sin(pi*(2*r - 1) / 2 / n) * sin(pi * (2 * r + 1) / 2 / n) / (2 * x**2 * (1 - cos(r * pi / n)) + (sin(r * pi / n))**2)\n",
    "fg2_ = 1 / fg3 * tmp\n",
    "fg2 = simplify(fg2_.subs(n, 3).subs(r, 2))\n",
    "\n",
    "fg1_ = 1 / fg2 * tmp\n",
    "fg1 = simplify(fg1_.subs(n, 3).subs(r, 1))\n",
    "\n",
    "display(Math(\"g_1 = \" + latex(fg1)))\n",
    "display(Math(\"g_2 = \" + latex(fg2)))\n",
    "display(Math(\"g_3 = \" + latex(fg3)))\n",
    "\n",
    "print(\"\\nLatex code:\")\n",
    "print(\"g1 = \" + latex(fg1) + '\\n')\n",
    "print(\"g2 = \" + latex(fg2) + '\\n')\n",
    "print(\"g3 = \" + latex(fg3))"
   ]
  },
  {
   "cell_type": "code",
   "execution_count": 18,
   "id": "510e1f18-c406-4bd8-b4e2-84e2bd542533",
   "metadata": {},
   "outputs": [
    {
     "data": {
      "text/latex": [
       "$\\displaystyle C_1 = \\frac{g_{1}}{Z_{0} \\Delta \\omega_{0}}$"
      ],
      "text/plain": [
       "<IPython.core.display.Math object>"
      ]
     },
     "metadata": {},
     "output_type": "display_data"
    },
    {
     "data": {
      "text/latex": [
       "$\\displaystyle C_2 = \\frac{\\Delta}{Z_{0} \\omega_{0} g_{2}}$"
      ],
      "text/plain": [
       "<IPython.core.display.Math object>"
      ]
     },
     "metadata": {},
     "output_type": "display_data"
    },
    {
     "data": {
      "text/latex": [
       "$\\displaystyle C_3 = \\frac{g_{3}}{Z_{0} \\Delta \\omega_{0}}$"
      ],
      "text/plain": [
       "<IPython.core.display.Math object>"
      ]
     },
     "metadata": {},
     "output_type": "display_data"
    },
    {
     "data": {
      "text/latex": [
       "$\\displaystyle L_1 = \\frac{Z_{0} \\Delta}{\\omega_{0} g_{1}}$"
      ],
      "text/plain": [
       "<IPython.core.display.Math object>"
      ]
     },
     "metadata": {},
     "output_type": "display_data"
    },
    {
     "data": {
      "text/latex": [
       "$\\displaystyle L_2 = \\frac{Z_{0} g_{2}}{\\Delta \\omega_{0}}$"
      ],
      "text/plain": [
       "<IPython.core.display.Math object>"
      ]
     },
     "metadata": {},
     "output_type": "display_data"
    },
    {
     "data": {
      "text/latex": [
       "$\\displaystyle L_3 = \\frac{Z_{0} \\Delta}{\\omega_{0} g_{3}}$"
      ],
      "text/plain": [
       "<IPython.core.display.Math object>"
      ]
     },
     "metadata": {},
     "output_type": "display_data"
    },
    {
     "name": "stdout",
     "output_type": "stream",
     "text": [
      "\n",
      "Latex code:\n",
      "c1 = \\frac{g_{1}}{Z_{0} \\Delta \\omega_{0}}\n",
      "\n",
      "c2 = \\frac{\\Delta}{Z_{0} \\omega_{0} g_{2}}\n",
      "\n",
      "c3 = \\frac{g_{3}}{Z_{0} \\Delta \\omega_{0}}\n",
      "\n",
      "l1 = \\frac{Z_{0} \\Delta}{\\omega_{0} g_{1}}\n",
      "\n",
      "l2 = \\frac{Z_{0} g_{2}}{\\Delta \\omega_{0}}\n",
      "\n",
      "l3 = \\frac{Z_{0} \\Delta}{\\omega_{0} g_{3}}\n",
      "\n"
     ]
    }
   ],
   "source": [
    "c1_g, c2_g, c3_g, l1_g, l2_g, l3_g = symbols('C_1 C_2 C_3 L_1 L_2 L_3')\n",
    "w0 = symbols(r'\\omega_0')\n",
    "delta = symbols(r'\\Delta')\n",
    "g1, g2, g3, z0 = symbols('g_1 g_2 g_3 Z_0')\n",
    "\n",
    "c1_g = g1 / w0 / delta / z0\n",
    "c2_g = delta / w0 / g2 / z0\n",
    "c3_g = g3 / w0 / delta / z0\n",
    "l1_g = delta * z0 / w0 / g1\n",
    "l2_g = g2 * z0 / w0 / delta\n",
    "l3_g = delta * z0 / w0 / g3\n",
    "\n",
    "display(Math(\"C_1 = \" + latex(c1_g)))\n",
    "display(Math(\"C_2 = \" + latex(c2_g)))\n",
    "display(Math(\"C_3 = \" + latex(c3_g)))\n",
    "\n",
    "display(Math(\"L_1 = \" + latex(l1_g)))\n",
    "display(Math(\"L_2 = \" + latex(l2_g)))\n",
    "display(Math(\"L_3 = \" + latex(l3_g)))\n",
    "\n",
    "print(\"\\nLatex code:\")\n",
    "print(\"c1 = \" + latex(c1_g) + '\\n')\n",
    "print(\"c2 = \" + latex(c2_g) + '\\n')\n",
    "print(\"c3 = \" + latex(c3_g) + '\\n')\n",
    "print(\"l1 = \" + latex(l1_g) + '\\n')\n",
    "print(\"l2 = \" + latex(l2_g) + '\\n')\n",
    "print(\"l3 = \" + latex(l3_g) + '\\n')"
   ]
  },
  {
   "cell_type": "markdown",
   "id": "9caa58b6-e227-4e26-8c2d-d6c1a2eacb96",
   "metadata": {},
   "source": [
    "### Norton transformation"
   ]
  },
  {
   "cell_type": "code",
   "execution_count": 20,
   "id": "b4289d44-ab46-46ad-836f-eade282e8f23",
   "metadata": {},
   "outputs": [
    {
     "data": {
      "text/latex": [
       "$\\displaystyle C_x = C_{2} n_{e} \\left(n_{e} - 1\\right)$"
      ],
      "text/plain": [
       "<IPython.core.display.Math object>"
      ]
     },
     "metadata": {},
     "output_type": "display_data"
    },
    {
     "data": {
      "text/latex": [
       "$\\displaystyle C_y = C_{2} \\cdot \\left(1 - n_{e}\\right) + C_{3}$"
      ],
      "text/plain": [
       "<IPython.core.display.Math object>"
      ]
     },
     "metadata": {},
     "output_type": "display_data"
    },
    {
     "data": {
      "text/latex": [
       "$\\displaystyle C_z = C_{2} n_{e}$"
      ],
      "text/plain": [
       "<IPython.core.display.Math object>"
      ]
     },
     "metadata": {},
     "output_type": "display_data"
    },
    {
     "data": {
      "text/latex": [
       "$\\displaystyle n_e \\leq 1 + \\frac{C_{3}}{C_{2}}$"
      ],
      "text/plain": [
       "<IPython.core.display.Math object>"
      ]
     },
     "metadata": {},
     "output_type": "display_data"
    },
    {
     "name": "stdout",
     "output_type": "stream",
     "text": [
      "\n",
      "Latex code:\n",
      "cx = C_{2} n_{e} \\left(n_{e} - 1\\right)\n",
      "\n",
      "cy = C_{2} \\cdot \\left(1 - n_{e}\\right) + C_{3}\n",
      "\n",
      "cz = C_{2} n_{e}\n",
      "\n",
      "ne <= 1 + \\frac{C_{3}}{C_{2}}\n"
     ]
    }
   ],
   "source": [
    "c2, c3, ne = symbols('C_2 C_3 n_e')\n",
    "cx, cy, cz = symbols('C_x C_y C_z')\n",
    "\n",
    "cx = ne*(ne - 1) * c2\n",
    "cy = (1 - ne)*c2 + c3\n",
    "cz = ne * c2\n",
    "cond = 1 + c3 / c2\n",
    "\n",
    "display(Math(\"C_x = \" + latex(cx)))\n",
    "display(Math(\"C_y = \" + latex(cy)))\n",
    "display(Math(\"C_z = \" + latex(cz)))\n",
    "display(Math(\"n_e \\leq \" + latex(cond)))\n",
    "\n",
    "print(\"\\nLatex code:\")\n",
    "print(\"cx = \" + latex(cx) + '\\n')\n",
    "print(\"cy = \" + latex(cy) + '\\n')\n",
    "print(\"cz = \" + latex(cz) + '\\n')\n",
    "print(\"ne <= \" + latex(cond))\n"
   ]
  },
  {
   "cell_type": "markdown",
   "id": "19dcb870-322f-422f-a091-c2976e5b03db",
   "metadata": {},
   "source": [
    "### Real transformator"
   ]
  },
  {
   "cell_type": "code",
   "execution_count": 76,
   "id": "72248ce4-ca01-4c33-8d97-00f394cf96b4",
   "metadata": {},
   "outputs": [
    {
     "data": {
      "text/latex": [
       "$\\displaystyle n_e = \\frac{n}{k}$"
      ],
      "text/plain": [
       "<IPython.core.display.Math object>"
      ]
     },
     "metadata": {},
     "output_type": "display_data"
    },
    {
     "data": {
      "text/latex": [
       "$\\displaystyle L_s = L_{1}$"
      ],
      "text/plain": [
       "<IPython.core.display.Math object>"
      ]
     },
     "metadata": {},
     "output_type": "display_data"
    },
    {
     "data": {
      "text/latex": [
       "$\\displaystyle L_p = \\frac{L_{1}}{n^{2}}$"
      ],
      "text/plain": [
       "<IPython.core.display.Math object>"
      ]
     },
     "metadata": {},
     "output_type": "display_data"
    },
    {
     "data": {
      "text/latex": [
       "$\\displaystyle L_x = \\frac{- L_{1} + k^{2} \\left(L_{1} + L_{2}\\right)}{n^{2}}$"
      ],
      "text/plain": [
       "<IPython.core.display.Math object>"
      ]
     },
     "metadata": {},
     "output_type": "display_data"
    },
    {
     "data": {
      "text/latex": [
       "$\\displaystyle k_{L_x = 0} = \\sqrt{\\frac{L_{1}}{L_{1} + L_{2}}}$"
      ],
      "text/plain": [
       "<IPython.core.display.Math object>"
      ]
     },
     "metadata": {},
     "output_type": "display_data"
    }
   ],
   "source": [
    "n, k = symbols('n k')\n",
    "ls, lp, lx = symbols('L_s L_p L_x')\n",
    "l1, l2 = symbols('L_1 L_2')\n",
    "\n",
    "ne_ = n / k\n",
    "ls = l1\n",
    "lp = ls / n**2\n",
    "lx = simplify(1/n**2 * (k**2*(l1 + l2) - l1))\n",
    "\n",
    "display(Math(\"n_e = \" + latex(ne_)))\n",
    "display(Math(\"L_s = \" + latex(ls)))\n",
    "display(Math(\"L_p = \" + latex(lp)))\n",
    "display(Math(\"L_x = \" + latex(lx)))\n",
    "\n",
    "display(Math(\"k_{L_x = 0} = \" + latex(simplify(solve(lx, k)[1]))))"
   ]
  },
  {
   "cell_type": "markdown",
   "id": "88672283-fdef-4799-8305-0959de7e7fa1",
   "metadata": {},
   "source": [
    "### All elements in terams of gamma"
   ]
  },
  {
   "cell_type": "code",
   "execution_count": 78,
   "id": "e55efc51-34ca-4677-abf4-71bd4d5bf698",
   "metadata": {},
   "outputs": [
    {
     "data": {
      "text/latex": [
       "$\\displaystyle C_{1. \\gamma} = \\frac{1}{Z_{0} \\Delta \\gamma \\omega_{0}}$"
      ],
      "text/plain": [
       "<IPython.core.display.Math object>"
      ]
     },
     "metadata": {},
     "output_type": "display_data"
    },
    {
     "data": {
      "text/latex": [
       "$\\displaystyle L_{s. \\gamma} = \\frac{Z_{0} \\Delta \\gamma}{\\omega_{0}}$"
      ],
      "text/plain": [
       "<IPython.core.display.Math object>"
      ]
     },
     "metadata": {},
     "output_type": "display_data"
    },
    {
     "data": {
      "text/latex": [
       "$\\displaystyle L_{p. \\gamma} = \\frac{Z_{0} \\Delta \\gamma}{\\omega_{0} n^{2}}$"
      ],
      "text/plain": [
       "<IPython.core.display.Math object>"
      ]
     },
     "metadata": {},
     "output_type": "display_data"
    },
    {
     "data": {
      "text/latex": [
       "$\\displaystyle L_{x. \\gamma} = \\frac{Z_{0} \\gamma \\left(- \\Delta^{2} \\left(\\gamma^{2} + 0.75\\right) + k^{2} \\left(\\Delta^{2} \\left(\\gamma^{2} + 0.75\\right) + 2\\right)\\right)}{\\Delta \\omega_{0} n^{2} \\left(\\gamma^{2} + 0.75\\right)}$"
      ],
      "text/plain": [
       "<IPython.core.display.Math object>"
      ]
     },
     "metadata": {},
     "output_type": "display_data"
    },
    {
     "data": {
      "text/latex": [
       "$\\displaystyle C_{x. \\gamma} = - \\frac{\\Delta n \\left(\\gamma^{2} + 0.75\\right) \\left(k - n\\right)}{2 Z_{0} \\gamma \\omega_{0} k^{2}}$"
      ],
      "text/plain": [
       "<IPython.core.display.Math object>"
      ]
     },
     "metadata": {},
     "output_type": "display_data"
    },
    {
     "data": {
      "text/latex": [
       "$\\displaystyle C_{z. \\gamma} = \\frac{\\Delta n \\left(\\gamma^{2} + 0.75\\right)}{2 Z_{0} \\gamma \\omega_{0} k}$"
      ],
      "text/plain": [
       "<IPython.core.display.Math object>"
      ]
     },
     "metadata": {},
     "output_type": "display_data"
    },
    {
     "data": {
      "text/latex": [
       "$\\displaystyle C_{y. \\gamma} = \\frac{\\frac{\\Delta^{2} \\left(\\gamma^{2} + 0.75\\right) \\left(k - n\\right)}{2} + k}{Z_{0} \\Delta \\gamma \\omega_{0} k}$"
      ],
      "text/plain": [
       "<IPython.core.display.Math object>"
      ]
     },
     "metadata": {},
     "output_type": "display_data"
    },
    {
     "data": {
      "text/latex": [
       "$\\displaystyle L_{3. \\gamma} = \\frac{Z_{0} \\Delta \\gamma}{\\omega_{0}}$"
      ],
      "text/plain": [
       "<IPython.core.display.Math object>"
      ]
     },
     "metadata": {},
     "output_type": "display_data"
    },
    {
     "data": {
      "text/latex": [
       "$\\displaystyle k_{L_x = 0, \\gamma} = \\Delta \\sqrt{\\frac{4.0 \\gamma^{2} + 3.0}{4.0 \\Delta^{2} \\gamma^{2} + 3.0 \\Delta^{2} + 8.0}}$"
      ],
      "text/plain": [
       "<IPython.core.display.Math object>"
      ]
     },
     "metadata": {},
     "output_type": "display_data"
    },
    {
     "data": {
      "text/latex": [
       "$\\displaystyle k_{L_x = 0, \\Delta = 0.707, \\gamma = 1} = 0.551619325895164$"
      ],
      "text/plain": [
       "<IPython.core.display.Math object>"
      ]
     },
     "metadata": {},
     "output_type": "display_data"
    },
    {
     "data": {
      "text/latex": [
       "$\\displaystyle k_{L_x = 0, \\Delta = 0.707, \\gamma = 0} = 0.397309174073032$"
      ],
      "text/plain": [
       "<IPython.core.display.Math object>"
      ]
     },
     "metadata": {},
     "output_type": "display_data"
    },
    {
     "data": {
      "text/latex": [
       "$\\displaystyle \\gamma(k, \\Delta) = 0.5 \\sqrt{\\frac{- 3.0 \\Delta^{2} \\left(k^{2} - 1.0\\right) - 8.0 k^{2}}{\\Delta^{2} \\left(k^{2} - 1.0\\right)}}$"
      ],
      "text/plain": [
       "<IPython.core.display.Math object>"
      ]
     },
     "metadata": {},
     "output_type": "display_data"
    },
    {
     "name": "stdout",
     "output_type": "stream",
     "text": [
      "0.5 \\sqrt{\\frac{- 3.0 \\Delta^{2} \\left(k^{2} - 1.0\\right) - 8.0 k^{2}}{\\Delta^{2} \\left(k^{2} - 1.0\\right)}}\n"
     ]
    }
   ],
   "source": [
    "c1_gamma = simplify(c1_g.subs(g1, cg1))\n",
    "\n",
    "ls_gamma = simplify(ls.subs(l1, l1_g).subs(g1, cg1))\n",
    "lp_gamma = simplify(lp.subs(l1, l1_g).subs(g1, cg1))\n",
    "lx_gamma = simplify(lx.subs(l1, l1_g).subs(l2, l2_g).subs(g1, cg1).subs(g2, cg2))\n",
    "\n",
    "cx_gamma = simplify(cx.subs(c2, c2_g).subs(g2, cg2).subs(ne, ne_))\n",
    "cz_gamma = simplify(cz.subs(c2, c2_g).subs(g2, cg2).subs(ne, ne_))\n",
    "cy_gamma = simplify(cy.subs(c2, c2_g).subs(c3, c3_g).subs(g2, cg2).subs(g3, cg3).subs(ne, ne_))\n",
    "\n",
    "l3_gamma = simplify(l3_g.subs(g3, cg3))\n",
    "\n",
    "k0_gamma = simplify(solve(lx_gamma, k)[1])\n",
    "k0_gamma_val = k0_gamma.subs(delta, 0.707).subs(gamma, 1)\n",
    "k_gamma_min = k0_gamma.subs(delta, 0.707).subs(gamma, 0)\n",
    "\n",
    "k_ = symbols('k')\n",
    "k0_gamma_inverse = simplify(solve(k0_gamma - k_, gamma)[0])\n",
    "\n",
    "display(Math(\"C_{1. \\gamma} = \" + latex(c1_gamma)))\n",
    "\n",
    "display(Math(\"L_{s. \\gamma} = \" + latex(ls_gamma)))\n",
    "display(Math(\"L_{p. \\gamma} = \" + latex(lp_gamma)))\n",
    "display(Math(\"L_{x. \\gamma} = \" + latex(lx_gamma)))\n",
    "\n",
    "display(Math(\"C_{x. \\gamma} = \" + latex(cx_gamma)))\n",
    "display(Math(\"C_{z. \\gamma} = \" + latex(cz_gamma)))\n",
    "display(Math(\"C_{y. \\gamma} = \" + latex(cy_gamma)))\n",
    "\n",
    "display(Math(\"L_{3. \\gamma} = \" + latex(l3_gamma)))\n",
    "\n",
    "display(Math(\"k_{L_x = 0, \\gamma} = \" + latex(k0_gamma)))\n",
    "display(Math(\"k_{L_x = 0, \\Delta = 0.707, \\gamma = 1} = \" + latex(k0_gamma_val)))\n",
    "display(Math(\"k_{L_x = 0, \\Delta = 0.707, \\gamma = 0} = \" + latex(k_gamma_min)))\n",
    "\n",
    "display(Math(\"\\gamma(k, \\Delta) = \" + latex(k0_gamma_inverse)))\n",
    "\n",
    "print(latex(k0_gamma_inverse))"
   ]
  },
  {
   "cell_type": "markdown",
   "id": "ca7ae589-27a6-45bd-9582-9d73a27a21e0",
   "metadata": {},
   "source": [
    "### All elements in terams of x"
   ]
  },
  {
   "cell_type": "code",
   "execution_count": 79,
   "id": "a32e15af-68fa-4e12-b417-dcf73f1df7b2",
   "metadata": {},
   "outputs": [
    {
     "data": {
      "text/latex": [
       "$\\displaystyle C_{1. x} = \\frac{3 \\cdot \\left(4 x^{2} + 1\\right)}{2 Z_{0} \\Delta \\omega_{0} x \\left(4 x^{2} + 3\\right)}$"
      ],
      "text/plain": [
       "<IPython.core.display.Math object>"
      ]
     },
     "metadata": {},
     "output_type": "display_data"
    },
    {
     "data": {
      "text/latex": [
       "$\\displaystyle L_{s. x} = \\frac{2 Z_{0} \\Delta x \\left(4 x^{2} + 3\\right)}{3 \\omega_{0} \\cdot \\left(4 x^{2} + 1\\right)}$"
      ],
      "text/plain": [
       "<IPython.core.display.Math object>"
      ]
     },
     "metadata": {},
     "output_type": "display_data"
    },
    {
     "data": {
      "text/latex": [
       "$\\displaystyle L_{p. x} = \\frac{2 Z_{0} \\Delta x \\left(4 x^{2} + 3\\right)}{3 \\omega_{0} n^{2} \\cdot \\left(4 x^{2} + 1\\right)}$"
      ],
      "text/plain": [
       "<IPython.core.display.Math object>"
      ]
     },
     "metadata": {},
     "output_type": "display_data"
    },
    {
     "data": {
      "text/latex": [
       "$\\displaystyle L_{x. x} = \\frac{2 Z_{0} x \\left(- \\Delta^{2} \\cdot \\left(4 x^{2} + 3\\right) + k^{2} \\left(\\Delta^{2} \\cdot \\left(4 x^{2} + 3\\right) + 8\\right)\\right)}{3 \\Delta \\omega_{0} n^{2} \\cdot \\left(4 x^{2} + 1\\right)}$"
      ],
      "text/plain": [
       "<IPython.core.display.Math object>"
      ]
     },
     "metadata": {},
     "output_type": "display_data"
    },
    {
     "data": {
      "text/latex": [
       "$\\displaystyle C_{x. x} = - \\frac{3 \\Delta n \\left(k - n\\right) \\left(4 x^{2} + 1\\right)}{16 Z_{0} \\omega_{0} k^{2} x}$"
      ],
      "text/plain": [
       "<IPython.core.display.Math object>"
      ]
     },
     "metadata": {},
     "output_type": "display_data"
    },
    {
     "data": {
      "text/latex": [
       "$\\displaystyle C_{z. x} = \\frac{3 \\Delta n \\left(4 x^{2} + 1\\right)}{16 Z_{0} \\omega_{0} k x}$"
      ],
      "text/plain": [
       "<IPython.core.display.Math object>"
      ]
     },
     "metadata": {},
     "output_type": "display_data"
    },
    {
     "data": {
      "text/latex": [
       "$\\displaystyle C_{y. x} = \\frac{3 \\Delta^{2} \\left(k - n\\right) \\left(4 x^{2} + 1\\right) + 8 k}{16 Z_{0} \\Delta \\omega_{0} k x}$"
      ],
      "text/plain": [
       "<IPython.core.display.Math object>"
      ]
     },
     "metadata": {},
     "output_type": "display_data"
    },
    {
     "data": {
      "text/latex": [
       "$\\displaystyle L_{3. x} = \\frac{2 Z_{0} \\Delta x}{\\omega_{0}}$"
      ],
      "text/plain": [
       "<IPython.core.display.Math object>"
      ]
     },
     "metadata": {},
     "output_type": "display_data"
    },
    {
     "data": {
      "text/latex": [
       "$\\displaystyle k_{L_x = 0, x} = \\Delta \\sqrt{\\frac{4 x^{2} + 3}{4 \\Delta^{2} x^{2} + 3 \\Delta^{2} + 8}}$"
      ],
      "text/plain": [
       "<IPython.core.display.Math object>"
      ]
     },
     "metadata": {},
     "output_type": "display_data"
    },
    {
     "data": {
      "text/latex": [
       "$\\displaystyle k_{L_x = 0, \\Delta = 0.707, x = 1} = 0.551619325895164$"
      ],
      "text/plain": [
       "<IPython.core.display.Math object>"
      ]
     },
     "metadata": {},
     "output_type": "display_data"
    },
    {
     "data": {
      "text/latex": [
       "$\\displaystyle k_{L_x = 0, \\Delta = 0.707, x = 0} = 0.397309174073032$"
      ],
      "text/plain": [
       "<IPython.core.display.Math object>"
      ]
     },
     "metadata": {},
     "output_type": "display_data"
    },
    {
     "data": {
      "text/latex": [
       "$\\displaystyle x(k, \\Delta) = \\frac{\\sqrt{\\frac{- 3 \\Delta^{2} \\left(k^{2} - 1\\right) - 8 k^{2}}{\\Delta^{2} \\left(k^{2} - 1\\right)}}}{2}$"
      ],
      "text/plain": [
       "<IPython.core.display.Math object>"
      ]
     },
     "metadata": {},
     "output_type": "display_data"
    }
   ],
   "source": [
    "c1_x = simplify(c1_g.subs(g1, fg1))\n",
    "\n",
    "ls_x = simplify(ls.subs(l1, l1_g).subs(g1, fg1))\n",
    "lp_x = simplify(lp.subs(l1, l1_g).subs(g1, fg1))\n",
    "lx_x = simplify(lx.subs(l1, l1_g).subs(l2, l2_g).subs(g1, fg1).subs(g2, fg2))\n",
    "\n",
    "cx_x = simplify(cx.subs(c2, c2_g).subs(g2, fg2).subs(ne, ne_))\n",
    "cz_x = simplify(cz.subs(c2, c2_g).subs(g2, fg2).subs(ne, ne_))\n",
    "cy_x = simplify(cy.subs(c2, c2_g).subs(c3, c3_g).subs(g2, fg2).subs(g3, fg3).subs(ne, ne_))\n",
    "\n",
    "l3_x = simplify(l3_g.subs(g3, fg3))\n",
    "\n",
    "k0_x = simplify(solve(lx_x, k)[1])\n",
    "k0_x_val = k0_x.subs(delta, 0.707).subs(x, 1)\n",
    "k0_x_min = k0_x.subs(delta, 0.707).subs(x, 0)\n",
    "\n",
    "k_ = symbols('k')\n",
    "k0_x_inverse = simplify(solve(k0_x - k_, x)[0])\n",
    "\n",
    "\n",
    "display(Math(\"C_{1. x} = \" + latex(c1_x)))\n",
    "\n",
    "display(Math(\"L_{s. x} = \" + latex(ls_x)))\n",
    "display(Math(\"L_{p. x} = \" + latex(lp_x)))\n",
    "display(Math(\"L_{x. x} = \" + latex(lx_x)))\n",
    "\n",
    "display(Math(\"C_{x. x} = \" + latex(cx_x)))\n",
    "display(Math(\"C_{z. x} = \" + latex(cz_x)))\n",
    "display(Math(\"C_{y. x} = \" + latex(cy_x)))\n",
    "\n",
    "display(Math(\"L_{3. x} = \" + latex(l3_x)))\n",
    "\n",
    "display(Math(\"k_{L_x = 0, x} = \" + latex(k0_x)))\n",
    "display(Math(\"k_{L_x = 0, \\Delta = 0.707, x = 1} = \" + latex(k0_x_val)))\n",
    "display(Math(\"k_{L_x = 0, \\Delta = 0.707, x = 0} = \" + latex(k0_x_min)))\n",
    "\n",
    "display(Math(\"x(k, \\Delta) = \" + latex(k0_x_inverse)))"
   ]
  },
  {
   "cell_type": "code",
   "execution_count": 75,
   "id": "e7133892-bd65-40b9-92dd-9bd60fa855e2",
   "metadata": {},
   "outputs": [],
   "source": [
    "import numpy as np\n",
    "\n",
    "d = 1 / np.sqrt(2)\n",
    "k = np.linspace(0.551, 0.8, 1024)\n",
    "\n",
    "a = 0.5*(np.sqrt((-3*d**2*(k**2-1)-8*k**2)/(d**2*(k**2-1))))\n"
   ]
  },
  {
   "cell_type": "code",
   "execution_count": null,
   "id": "d48ec637-c7f0-4eff-98dd-df0dfccdc026",
   "metadata": {},
   "outputs": [],
   "source": []
  }
 ],
 "metadata": {
  "kernelspec": {
   "display_name": "Python 3 (ipykernel)",
   "language": "python",
   "name": "python3"
  },
  "language_info": {
   "codemirror_mode": {
    "name": "ipython",
    "version": 3
   },
   "file_extension": ".py",
   "mimetype": "text/x-python",
   "name": "python",
   "nbconvert_exporter": "python",
   "pygments_lexer": "ipython3",
   "version": "3.10.9"
  }
 },
 "nbformat": 4,
 "nbformat_minor": 5
}
