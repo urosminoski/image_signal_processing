{
 "cells": [
  {
   "cell_type": "markdown",
   "id": "b2fd20f5-8866-4616-80f6-42eeaaa1126a",
   "metadata": {},
   "source": [
    "# 1 Ideal transformator"
   ]
  },
  {
   "cell_type": "code",
   "execution_count": null,
   "id": "4d04f74a-ae02-4997-ad92-de32c4ffd488",
   "metadata": {},
   "outputs": [],
   "source": [
    "from IPython.display import display, Math, Latex\n",
    "from sympy import *\n",
    "from sympy.solvers import solve"
   ]
  },
  {
   "cell_type": "code",
   "execution_count": 2,
   "id": "95eb07ee-b909-4b15-adf8-6a7932e7e4dd",
   "metadata": {},
   "outputs": [
    {
     "data": {
      "text/latex": [
       "$\\displaystyle g_1 = \\frac{1}{\\gamma}$"
      ],
      "text/plain": [
       "<IPython.core.display.Math object>"
      ]
     },
     "metadata": {},
     "output_type": "display_data"
    },
    {
     "data": {
      "text/latex": [
       "$\\displaystyle g_2 = \\frac{2 \\gamma}{\\gamma^{2} + 0.75}$"
      ],
      "text/plain": [
       "<IPython.core.display.Math object>"
      ]
     },
     "metadata": {},
     "output_type": "display_data"
    },
    {
     "data": {
      "text/latex": [
       "$\\displaystyle g_3 = \\frac{1}{\\gamma}$"
      ],
      "text/plain": [
       "<IPython.core.display.Math object>"
      ]
     },
     "metadata": {},
     "output_type": "display_data"
    },
    {
     "name": "stdout",
     "output_type": "stream",
     "text": [
      "\n",
      "Latex code:\n",
      "g1 = \\frac{1}{\\gamma}\n",
      "\n",
      "g2 = \\frac{2 \\gamma}{\\gamma^{2} + 0.75}\n",
      "\n",
      "g3 = \\frac{1}{\\gamma}\n"
     ]
    }
   ],
   "source": [
    "cg1, cg2, cg3 = symbols('g_1 g_2 g_3')\n",
    "gamma = symbols(r'\\gamma')\n",
    "\n",
    "cg1 = 1 / gamma\n",
    "cg2 = 2 * gamma / (gamma**2 + 3/4)\n",
    "cg3 = 1 / gamma\n",
    "\n",
    "display(Math(\"g_1 = \" + latex(cg1)))\n",
    "display(Math(\"g_2 = \" + latex(cg2)))\n",
    "display(Math(\"g_3 = \" + latex(cg3)))\n",
    "\n",
    "print(\"\\nLatex code:\")\n",
    "print(\"g1 = \" + latex(cg1) + '\\n')\n",
    "print(\"g2 = \" + latex(cg2) + '\\n')\n",
    "print(\"g3 = \" + latex(cg3))"
   ]
  },
  {
   "cell_type": "code",
   "execution_count": 3,
   "id": "f8f4b919-0ca4-41c0-81ef-8a0d40c34dea",
   "metadata": {},
   "outputs": [
    {
     "data": {
      "text/latex": [
       "$\\displaystyle g_1 = \\frac{12 x^{2} + 3}{8 x^{3} + 6 x}$"
      ],
      "text/plain": [
       "<IPython.core.display.Math object>"
      ]
     },
     "metadata": {},
     "output_type": "display_data"
    },
    {
     "data": {
      "text/latex": [
       "$\\displaystyle g_2 = \\frac{16 x}{3 \\cdot \\left(4 x^{2} + 1\\right)}$"
      ],
      "text/plain": [
       "<IPython.core.display.Math object>"
      ]
     },
     "metadata": {},
     "output_type": "display_data"
    },
    {
     "data": {
      "text/latex": [
       "$\\displaystyle g_3 = \\frac{1}{2 x}$"
      ],
      "text/plain": [
       "<IPython.core.display.Math object>"
      ]
     },
     "metadata": {},
     "output_type": "display_data"
    },
    {
     "name": "stdout",
     "output_type": "stream",
     "text": [
      "\n",
      "Latex code:\n",
      "g1 = \\frac{12 x^{2} + 3}{8 x^{3} + 6 x}\n",
      "\n",
      "g2 = \\frac{16 x}{3 \\cdot \\left(4 x^{2} + 1\\right)}\n",
      "\n",
      "g3 = \\frac{1}{2 x}\n"
     ]
    }
   ],
   "source": [
    "fg1_, fg2_, fg3_ = symbols('g_1 g_2 g_3')\n",
    "x, n, r = symbols('x n r')\n",
    "\n",
    "fg3_ = sin(pi / 2 / n) / x\n",
    "fg3 = simplify(fg3_.subs(n, 3))\n",
    "\n",
    "tmp  = 4 * sin(pi*(2*r - 1) / 2 / n) * sin(pi * (2 * r + 1) / 2 / n) / (2 * x**2 * (1 - cos(r * pi / n)) + (sin(r * pi / n))**2)\n",
    "fg2_ = 1 / fg3 * tmp\n",
    "fg2 = simplify(fg2_.subs(n, 3).subs(r, 2))\n",
    "\n",
    "fg1_ = 1 / fg2 * tmp\n",
    "fg1 = simplify(fg1_.subs(n, 3).subs(r, 1))\n",
    "\n",
    "display(Math(\"g_1 = \" + latex(fg1)))\n",
    "display(Math(\"g_2 = \" + latex(fg2)))\n",
    "display(Math(\"g_3 = \" + latex(fg3)))\n",
    "\n",
    "print(\"\\nLatex code:\")\n",
    "print(\"g1 = \" + latex(fg1) + '\\n')\n",
    "print(\"g2 = \" + latex(fg2) + '\\n')\n",
    "print(\"g3 = \" + latex(fg3))"
   ]
  },
  {
   "cell_type": "code",
   "execution_count": 4,
   "id": "0d0e6a36-6588-49fe-b53e-679bf64abeee",
   "metadata": {},
   "outputs": [
    {
     "data": {
      "text/latex": [
       "$\\displaystyle C_1 = \\frac{g_{1}}{Z_{0} \\Delta \\omega_{0}}$"
      ],
      "text/plain": [
       "<IPython.core.display.Math object>"
      ]
     },
     "metadata": {},
     "output_type": "display_data"
    },
    {
     "data": {
      "text/latex": [
       "$\\displaystyle C_2 = \\frac{\\Delta}{Z_{0} \\omega_{0} g_{2}}$"
      ],
      "text/plain": [
       "<IPython.core.display.Math object>"
      ]
     },
     "metadata": {},
     "output_type": "display_data"
    },
    {
     "data": {
      "text/latex": [
       "$\\displaystyle C_3 = \\frac{g_{3}}{Z_{0} \\Delta \\omega_{0}}$"
      ],
      "text/plain": [
       "<IPython.core.display.Math object>"
      ]
     },
     "metadata": {},
     "output_type": "display_data"
    },
    {
     "data": {
      "text/latex": [
       "$\\displaystyle L_1 = \\frac{Z_{0} \\Delta}{\\omega_{0} g_{1}}$"
      ],
      "text/plain": [
       "<IPython.core.display.Math object>"
      ]
     },
     "metadata": {},
     "output_type": "display_data"
    },
    {
     "data": {
      "text/latex": [
       "$\\displaystyle L_2 = \\frac{Z_{0} g_{2}}{\\Delta \\omega_{0}}$"
      ],
      "text/plain": [
       "<IPython.core.display.Math object>"
      ]
     },
     "metadata": {},
     "output_type": "display_data"
    },
    {
     "data": {
      "text/latex": [
       "$\\displaystyle L_3 = \\frac{Z_{0} \\Delta}{\\omega_{0} g_{3}}$"
      ],
      "text/plain": [
       "<IPython.core.display.Math object>"
      ]
     },
     "metadata": {},
     "output_type": "display_data"
    },
    {
     "name": "stdout",
     "output_type": "stream",
     "text": [
      "\n",
      "Latex code:\n",
      "c1 = \\frac{g_{1}}{Z_{0} \\Delta \\omega_{0}}\n",
      "\n",
      "c2 = \\frac{\\Delta}{Z_{0} \\omega_{0} g_{2}}\n",
      "\n",
      "c3 = \\frac{g_{3}}{Z_{0} \\Delta \\omega_{0}}\n",
      "\n",
      "l1 = \\frac{Z_{0} \\Delta}{\\omega_{0} g_{1}}\n",
      "\n",
      "l2 = \\frac{Z_{0} g_{2}}{\\Delta \\omega_{0}}\n",
      "\n",
      "l3 = \\frac{Z_{0} \\Delta}{\\omega_{0} g_{3}}\n",
      "\n"
     ]
    }
   ],
   "source": [
    "c1_g, c2_g, c3_g, l1_g, l2_g, l3_g = symbols('C_1 C_2 C_3 L_1 L_2 L_3')\n",
    "w0 = symbols(r'\\omega_0')\n",
    "delta = symbols(r'\\Delta')\n",
    "g1, g2, g3, z0 = symbols('g_1 g_2 g_3 Z_0')\n",
    "\n",
    "c1_g = g1 / w0 / delta / z0\n",
    "c2_g = delta / w0 / g2 / z0\n",
    "c3_g = g3 / w0 / delta / z0\n",
    "l1_g = delta * z0 / w0 / g1\n",
    "l2_g = g2 * z0 / w0 / delta\n",
    "l3_g = delta * z0 / w0 / g3\n",
    "\n",
    "display(Math(\"C_1 = \" + latex(c1_g)))\n",
    "display(Math(\"C_2 = \" + latex(c2_g)))\n",
    "display(Math(\"C_3 = \" + latex(c3_g)))\n",
    "\n",
    "display(Math(\"L_1 = \" + latex(l1_g)))\n",
    "display(Math(\"L_2 = \" + latex(l2_g)))\n",
    "display(Math(\"L_3 = \" + latex(l3_g)))\n",
    "\n",
    "print(\"\\nLatex code:\")\n",
    "print(\"c1 = \" + latex(c1_g) + '\\n')\n",
    "print(\"c2 = \" + latex(c2_g) + '\\n')\n",
    "print(\"c3 = \" + latex(c3_g) + '\\n')\n",
    "print(\"l1 = \" + latex(l1_g) + '\\n')\n",
    "print(\"l2 = \" + latex(l2_g) + '\\n')\n",
    "print(\"l3 = \" + latex(l3_g) + '\\n')"
   ]
  },
  {
   "cell_type": "markdown",
   "id": "a002dc2b-3307-46db-a6ae-08285fb71ec7",
   "metadata": {},
   "source": [
    "### Norton transformation"
   ]
  },
  {
   "cell_type": "code",
   "execution_count": 5,
   "id": "4475e044-7a58-46b9-aa1f-ed4f283f507f",
   "metadata": {},
   "outputs": [
    {
     "data": {
      "text/latex": [
       "$\\displaystyle C_x = C_{2} n_{c} \\left(n_{c} - 1\\right)$"
      ],
      "text/plain": [
       "<IPython.core.display.Math object>"
      ]
     },
     "metadata": {},
     "output_type": "display_data"
    },
    {
     "data": {
      "text/latex": [
       "$\\displaystyle C_y = C_{2} \\cdot \\left(1 - n_{c}\\right) + C_{3}$"
      ],
      "text/plain": [
       "<IPython.core.display.Math object>"
      ]
     },
     "metadata": {},
     "output_type": "display_data"
    },
    {
     "data": {
      "text/latex": [
       "$\\displaystyle C_z = C_{2} n_{c}$"
      ],
      "text/plain": [
       "<IPython.core.display.Math object>"
      ]
     },
     "metadata": {},
     "output_type": "display_data"
    },
    {
     "data": {
      "text/latex": [
       "$\\displaystyle n_c \\leq 1 + \\frac{C_{3}}{C_{2}}$"
      ],
      "text/plain": [
       "<IPython.core.display.Math object>"
      ]
     },
     "metadata": {},
     "output_type": "display_data"
    },
    {
     "name": "stdout",
     "output_type": "stream",
     "text": [
      "\n",
      "Latex code:\n",
      "cx = C_{2} n_{c} \\left(n_{c} - 1\\right)\n",
      "\n",
      "cy = C_{2} \\cdot \\left(1 - n_{c}\\right) + C_{3}\n",
      "\n",
      "cz = C_{2} n_{c}\n",
      "\n",
      "nc <= 1 + \\frac{C_{3}}{C_{2}}\n"
     ]
    }
   ],
   "source": [
    "c2, c3, nc = symbols('C_2 C_3 n_c')\n",
    "cx, cy, cz = symbols('C_x C_y C_z')\n",
    "\n",
    "cx = nc*(nc - 1) * c2\n",
    "cy = (1 - nc)*c2 + c3\n",
    "cz = nc * c2\n",
    "cond = 1 + c3 / c2\n",
    "\n",
    "display(Math(\"C_x = \" + latex(cx)))\n",
    "display(Math(\"C_y = \" + latex(cy)))\n",
    "display(Math(\"C_z = \" + latex(cz)))\n",
    "display(Math(\"n_c \\leq \" + latex(cond)))\n",
    "\n",
    "print(\"\\nLatex code:\")\n",
    "print(\"cx = \" + latex(cx) + '\\n')\n",
    "print(\"cy = \" + latex(cy) + '\\n')\n",
    "print(\"cz = \" + latex(cz) + '\\n')\n",
    "print(\"nc <= \" + latex(cond))"
   ]
  },
  {
   "cell_type": "markdown",
   "id": "550edc47-d7ad-46ab-84a1-c18417f9ed80",
   "metadata": {},
   "source": [
    "### Real transformator"
   ]
  },
  {
   "cell_type": "code",
   "execution_count": 6,
   "id": "00655ed2-23f2-4ace-9622-49266dd493df",
   "metadata": {},
   "outputs": [
    {
     "data": {
      "text/latex": [
       "$\\displaystyle L_p = \\frac{L_{1}}{n^{2}}$"
      ],
      "text/plain": [
       "<IPython.core.display.Math object>"
      ]
     },
     "metadata": {},
     "output_type": "display_data"
    },
    {
     "data": {
      "text/latex": [
       "$\\displaystyle L_s = L_{1}$"
      ],
      "text/plain": [
       "<IPython.core.display.Math object>"
      ]
     },
     "metadata": {},
     "output_type": "display_data"
    },
    {
     "data": {
      "text/latex": [
       "$\\displaystyle L_x = \\frac{L_{1} \\left(k^{2} - 1\\right) + L_{2} k^{2}}{n^{2}}$"
      ],
      "text/plain": [
       "<IPython.core.display.Math object>"
      ]
     },
     "metadata": {},
     "output_type": "display_data"
    },
    {
     "data": {
      "text/latex": [
       "$\\displaystyle k_{L_x = 0} = \\sqrt{\\frac{L_{1}}{L_{1} + L_{2}}}$"
      ],
      "text/plain": [
       "<IPython.core.display.Math object>"
      ]
     },
     "metadata": {},
     "output_type": "display_data"
    }
   ],
   "source": [
    "n, k = symbols('n k')\n",
    "ls, lp, lx = symbols('L_s L_p L_x')\n",
    "l1, l2 = symbols('L_1 L_2')\n",
    "\n",
    "nc_ = n / k\n",
    "lp = simplify(solve(l1/nc_**2 - lp*k**2, lp)[0])\n",
    "ls = simplify(n**2 * lp)\n",
    "lx = simplify(l2/nc_**2 - (1 - k**2) * lp)\n",
    "\n",
    "k0 = simplify(solve(lx, k)[1])\n",
    "\n",
    "display(Math(\"L_p = \" + latex(lp)))\n",
    "display(Math(\"L_s = \" + latex(ls)))\n",
    "display(Math(\"L_x = \" + latex(lx)))\n",
    "display(Math(\"k_{L_x = 0} = \" + latex(k0)))\n",
    "\n",
    "# ne = n / k\n",
    "# ls = l1\n",
    "# lp = ls / n**2\n",
    "# lx = simplify(1/n**2 * (k**2*(l1 + l2) - l1))\n",
    "\n",
    "# display(Math(\"n_e = \" + latex(ne_)))\n",
    "# display(Math(\"L_s = \" + latex(ls)))\n",
    "# display(Math(\"L_p = \" + latex(lp)))\n",
    "# display(Math(\"L_x = \" + latex(lx)))\n",
    "\n",
    "# display(Math(\"k_{L_x = 0} = \" + latex(simplify(solve(lx, k)[1]))))"
   ]
  },
  {
   "cell_type": "markdown",
   "id": "f90a2676-667f-446a-bef8-a3a55ef525fe",
   "metadata": {},
   "source": [
    "### All elements in terms of $g$"
   ]
  },
  {
   "cell_type": "code",
   "execution_count": 10,
   "id": "a5c5c5f5-e89e-4b77-b078-25cdd3212483",
   "metadata": {},
   "outputs": [
    {
     "data": {
      "text/latex": [
       "$\\displaystyle C_{1} = \\frac{g_{1} n_{c}^{2}}{Z_{0} \\Delta \\omega_{0}}$"
      ],
      "text/plain": [
       "<IPython.core.display.Math object>"
      ]
     },
     "metadata": {},
     "output_type": "display_data"
    },
    {
     "data": {
      "text/latex": [
       "$\\displaystyle L_{s} = \\frac{Z_{0} \\Delta}{\\omega_{0} g_{1}}$"
      ],
      "text/plain": [
       "<IPython.core.display.Math object>"
      ]
     },
     "metadata": {},
     "output_type": "display_data"
    },
    {
     "data": {
      "text/latex": [
       "$\\displaystyle L_{p} = \\frac{Z_{0} \\Delta}{\\omega_{0} g_{1} n^{2}}$"
      ],
      "text/plain": [
       "<IPython.core.display.Math object>"
      ]
     },
     "metadata": {},
     "output_type": "display_data"
    },
    {
     "data": {
      "text/latex": [
       "$\\displaystyle L_{x} = \\frac{Z_{0} \\left(\\Delta^{2} \\left(k^{2} - 1\\right) + g_{1} g_{2} k^{2}\\right)}{\\Delta \\omega_{0} g_{1} n^{2}}$"
      ],
      "text/plain": [
       "<IPython.core.display.Math object>"
      ]
     },
     "metadata": {},
     "output_type": "display_data"
    },
    {
     "data": {
      "text/latex": [
       "$\\displaystyle C_{x} = \\frac{\\Delta n \\left(- k + n\\right)}{Z_{0} \\omega_{0} g_{2} k^{2}}$"
      ],
      "text/plain": [
       "<IPython.core.display.Math object>"
      ]
     },
     "metadata": {},
     "output_type": "display_data"
    },
    {
     "data": {
      "text/latex": [
       "$\\displaystyle C_{z} = \\frac{\\Delta n}{Z_{0} \\omega_{0} g_{2} k}$"
      ],
      "text/plain": [
       "<IPython.core.display.Math object>"
      ]
     },
     "metadata": {},
     "output_type": "display_data"
    },
    {
     "data": {
      "text/latex": [
       "$\\displaystyle C_{y} = \\frac{\\Delta^{2} \\left(k - n\\right) + g_{2} g_{3} k}{Z_{0} \\Delta \\omega_{0} g_{2} k}$"
      ],
      "text/plain": [
       "<IPython.core.display.Math object>"
      ]
     },
     "metadata": {},
     "output_type": "display_data"
    },
    {
     "data": {
      "text/latex": [
       "$\\displaystyle L_3 = \\frac{Z_{0} \\Delta}{\\omega_{0} g_{3}}$"
      ],
      "text/plain": [
       "<IPython.core.display.Math object>"
      ]
     },
     "metadata": {},
     "output_type": "display_data"
    },
    {
     "data": {
      "text/latex": [
       "$\\displaystyle k_{L_x = 0} = \\Delta \\sqrt{\\frac{1}{\\Delta^{2} + g_{1} g_{2}}}$"
      ],
      "text/plain": [
       "<IPython.core.display.Math object>"
      ]
     },
     "metadata": {},
     "output_type": "display_data"
    },
    {
     "name": "stdout",
     "output_type": "stream",
     "text": [
      "latex code:\n",
      "c1 = \\frac{g_{1}}{Z_{0} \\Delta \\omega_{0}}\n",
      "\n",
      "ls = \\frac{Z_{0} \\Delta}{\\omega_{0} g_{1}}\n",
      "\n",
      "lp = \\frac{Z_{0} \\Delta}{\\omega_{0} g_{1} n^{2}}\n",
      "\n",
      "lx = \\frac{Z_{0} \\left(\\Delta^{2} \\left(k^{2} - 1\\right) + g_{1} g_{2} k^{2}\\right)}{\\Delta \\omega_{0} g_{1} n^{2}}\n",
      "\n",
      "cx = \\frac{\\Delta n \\left(- k + n\\right)}{Z_{0} \\omega_{0} g_{2} k^{2}}\n",
      "\n",
      "cz = \\frac{\\Delta n}{Z_{0} \\omega_{0} g_{2} k}\n",
      "\n",
      "cy = \\frac{\\Delta^{2} \\left(k - n\\right) + g_{2} g_{3} k}{Z_{0} \\Delta \\omega_{0} g_{2} k}\n",
      "\n",
      "l3 = \\frac{Z_{0} \\Delta}{\\omega_{0} g_{3}}\n",
      "\n"
     ]
    }
   ],
   "source": [
    "c1_g_ = simplify(c1_g * nc**2)\n",
    "ls_g = simplify(ls.subs(l1, l1_g))\n",
    "lp_g = simplify(lp.subs(l1, l1_g))\n",
    "lx_g = simplify(lx.subs(l1, l1_g).subs(l2, l2_g))\n",
    "\n",
    "cx_g = simplify((cx).subs(c2, c2_g).subs(nc, nc_))\n",
    "cz_g = simplify((cz).subs(c2, c2_g).subs(nc, nc_))\n",
    "cy_g = simplify((cy).subs(c2, c2_g).subs(c3, c3_g).subs(nc, nc_))\n",
    "\n",
    "l3_g_ = simplify(l3_g)\n",
    "\n",
    "k0_g = simplify(solve(lx_g, k)[1])\n",
    "\n",
    "display(Math(\"C_{1} = \" + latex(c1_g_)))\n",
    "\n",
    "display(Math(\"L_{s} = \" + latex(ls_g)))\n",
    "display(Math(\"L_{p} = \" + latex(lp_g)))\n",
    "display(Math(\"L_{x} = \" + latex(lx_g)))\n",
    "\n",
    "display(Math(\"C_{x} = \" + latex(cx_g)))\n",
    "display(Math(\"C_{z} = \" + latex(cz_g)))\n",
    "display(Math(\"C_{y} = \" + latex(cy_g)))\n",
    "\n",
    "display(Math(\"L_3 = \" + latex(l3_g_)))\n",
    "\n",
    "display(Math(\"k_{L_x = 0} = \" + latex(k0_g)))\n",
    "\n",
    "print(\"latex code:\")\n",
    "print(\"c1 = \" + latex(c1_g) + '\\n')\n",
    "print(\"ls = \" + latex(ls_g) + '\\n')\n",
    "print(\"lp = \" + latex(lp_g) + '\\n')\n",
    "print(\"lx = \" + latex(lx_g) + '\\n')\n",
    "print(\"cx = \" + latex(cx_g) + '\\n')\n",
    "print(\"cz = \" + latex(cz_g) + '\\n')\n",
    "print(\"cy = \" + latex(cy_g) + '\\n')\n",
    "print(\"l3 = \" + latex(l3_g) + '\\n')"
   ]
  },
  {
   "cell_type": "markdown",
   "id": "a3c51ed0-4870-4d06-850c-66c96e4aaf4f",
   "metadata": {},
   "source": [
    "### All elements in terms of $\\gamma$"
   ]
  },
  {
   "cell_type": "code",
   "execution_count": 11,
   "id": "f5f955fc-706d-444b-81c0-3b13f04a5a8c",
   "metadata": {},
   "outputs": [
    {
     "data": {
      "text/latex": [
       "$\\displaystyle C_{1, \\gamma} = \\frac{n_{c}^{2}}{Z_{0} \\Delta \\gamma \\omega_{0}}$"
      ],
      "text/plain": [
       "<IPython.core.display.Math object>"
      ]
     },
     "metadata": {},
     "output_type": "display_data"
    },
    {
     "data": {
      "text/latex": [
       "$\\displaystyle L_{s, \\gamma} = \\frac{Z_{0} \\Delta \\gamma}{\\omega_{0}}$"
      ],
      "text/plain": [
       "<IPython.core.display.Math object>"
      ]
     },
     "metadata": {},
     "output_type": "display_data"
    },
    {
     "data": {
      "text/latex": [
       "$\\displaystyle L_{p, \\gamma} = \\frac{Z_{0} \\Delta \\gamma}{\\omega_{0} n^{2}}$"
      ],
      "text/plain": [
       "<IPython.core.display.Math object>"
      ]
     },
     "metadata": {},
     "output_type": "display_data"
    },
    {
     "data": {
      "text/latex": [
       "$\\displaystyle L_{x, \\gamma} = \\frac{Z_{0} \\gamma \\left(\\Delta^{2} \\left(\\gamma^{2} + 0.75\\right) \\left(k^{2} - 1\\right) + 2 k^{2}\\right)}{\\Delta \\omega_{0} n^{2} \\left(\\gamma^{2} + 0.75\\right)}$"
      ],
      "text/plain": [
       "<IPython.core.display.Math object>"
      ]
     },
     "metadata": {},
     "output_type": "display_data"
    },
    {
     "data": {
      "text/latex": [
       "$\\displaystyle C_{x, \\gamma} = - \\frac{\\Delta n \\left(\\gamma^{2} + 0.75\\right) \\left(k - n\\right)}{2 Z_{0} \\gamma \\omega_{0} k^{2}}$"
      ],
      "text/plain": [
       "<IPython.core.display.Math object>"
      ]
     },
     "metadata": {},
     "output_type": "display_data"
    },
    {
     "data": {
      "text/latex": [
       "$\\displaystyle C_{z, \\gamma} = \\frac{\\Delta n \\left(\\gamma^{2} + 0.75\\right)}{2 Z_{0} \\gamma \\omega_{0} k}$"
      ],
      "text/plain": [
       "<IPython.core.display.Math object>"
      ]
     },
     "metadata": {},
     "output_type": "display_data"
    },
    {
     "data": {
      "text/latex": [
       "$\\displaystyle C_{y, \\gamma} = \\frac{\\frac{\\Delta^{2} \\left(\\gamma^{2} + 0.75\\right) \\left(k - n\\right)}{2} + k}{Z_{0} \\Delta \\gamma \\omega_{0} k}$"
      ],
      "text/plain": [
       "<IPython.core.display.Math object>"
      ]
     },
     "metadata": {},
     "output_type": "display_data"
    },
    {
     "data": {
      "text/latex": [
       "$\\displaystyle L_{3, \\gamma} = \\frac{Z_{0} \\Delta \\gamma}{\\omega_{0}}$"
      ],
      "text/plain": [
       "<IPython.core.display.Math object>"
      ]
     },
     "metadata": {},
     "output_type": "display_data"
    },
    {
     "data": {
      "text/latex": [
       "$\\displaystyle k_{L_x = 0, \\gamma} = \\Delta \\sqrt{\\frac{\\gamma^{2} + 0.75}{\\Delta^{2} \\left(\\gamma^{2} + 0.75\\right) + 2}}$"
      ],
      "text/plain": [
       "<IPython.core.display.Math object>"
      ]
     },
     "metadata": {},
     "output_type": "display_data"
    },
    {
     "data": {
      "text/latex": [
       "$\\displaystyle \\gamma(\\Delta, k) = 0.5 \\sqrt{\\frac{- 3.0 \\Delta^{2} \\left(k^{2} - 1.0\\right) - 8.0 k^{2}}{\\Delta^{2} \\left(k^{2} - 1.0\\right)}}$"
      ],
      "text/plain": [
       "<IPython.core.display.Math object>"
      ]
     },
     "metadata": {},
     "output_type": "display_data"
    }
   ],
   "source": [
    "c1_gamma = simplify(c1_g_.subs(g1, cg1).subs(g2, cg2).subs(g3, cg3))\n",
    "\n",
    "lp_gamma = simplify(lp_g.subs(g1, cg1).subs(g2, cg2).subs(g3, cg3))\n",
    "ls_gamma = simplify(ls_g.subs(g1, cg1).subs(g2, cg2).subs(g3, cg3))\n",
    "lx_gamma = simplify(lx_g.subs(g1, cg1).subs(g2, cg2).subs(g3, cg3))\n",
    "\n",
    "cx_gamma = simplify(cx_g.subs(g1, cg1).subs(g2, cg2).subs(g3, cg3))\n",
    "cy_gamma = simplify(cy_g.subs(g1, cg1).subs(g2, cg2).subs(g3, cg3))\n",
    "cz_gamma = simplify(cz_g.subs(g1, cg1).subs(g2, cg2).subs(g3, cg3))\n",
    "\n",
    "l3_gamma = simplify(l3_g_.subs(g1, cg1).subs(g2, cg2).subs(g3, cg3))\n",
    "\n",
    "k0_gamma = simplify(k0_g.subs(g1, cg1).subs(g2, cg2).subs(g3, cg3))\n",
    "k0_gamma_inv = simplify(solve(k0_gamma - k, gamma)[0])\n",
    "\n",
    "display(Math(\"C_{1, \\gamma} = \" + latex(c1_gamma)))\n",
    "\n",
    "display(Math(\"L_{s, \\gamma} = \" + latex(ls_gamma)))\n",
    "display(Math(\"L_{p, \\gamma} = \" + latex(lp_gamma)))\n",
    "display(Math(\"L_{x, \\gamma} = \" + latex(lx_gamma)))\n",
    "\n",
    "display(Math(\"C_{x, \\gamma} = \" + latex(cx_gamma)))\n",
    "display(Math(\"C_{z, \\gamma} = \" + latex(cz_gamma)))\n",
    "display(Math(\"C_{y, \\gamma} = \" + latex(cy_gamma)))\n",
    "\n",
    "display(Math(\"L_{3, \\gamma} = \" + latex(l3_gamma)))\n",
    "\n",
    "display(Math(\"k_{L_x = 0, \\gamma} = \" + latex(k0_gamma)))\n",
    "display(Math(\"\\gamma(\\Delta, k) = \" + latex(k0_gamma_inv)))"
   ]
  },
  {
   "cell_type": "markdown",
   "id": "28de6f06-3bef-41b4-832a-4f6bb4d2fbb4",
   "metadata": {},
   "source": [
    "### All elements in terms of $x$"
   ]
  },
  {
   "cell_type": "code",
   "execution_count": 13,
   "id": "75d874d4-9826-42ba-bfeb-c2307574d78c",
   "metadata": {},
   "outputs": [
    {
     "data": {
      "text/latex": [
       "$\\displaystyle C_{1, x} = \\frac{n_{c}^{2} \\cdot \\left(6 x^{2} + \\frac{3}{2}\\right)}{Z_{0} \\Delta \\omega_{0} x \\left(4 x^{2} + 3\\right)}$"
      ],
      "text/plain": [
       "<IPython.core.display.Math object>"
      ]
     },
     "metadata": {},
     "output_type": "display_data"
    },
    {
     "data": {
      "text/latex": [
       "$\\displaystyle L_{s, x} = \\frac{2 Z_{0} \\Delta x \\left(4 x^{2} + 3\\right)}{3 \\omega_{0} \\cdot \\left(4 x^{2} + 1\\right)}$"
      ],
      "text/plain": [
       "<IPython.core.display.Math object>"
      ]
     },
     "metadata": {},
     "output_type": "display_data"
    },
    {
     "data": {
      "text/latex": [
       "$\\displaystyle L_{p, x} = \\frac{2 Z_{0} \\Delta x \\left(4 x^{2} + 3\\right)}{3 \\omega_{0} n^{2} \\cdot \\left(4 x^{2} + 1\\right)}$"
      ],
      "text/plain": [
       "<IPython.core.display.Math object>"
      ]
     },
     "metadata": {},
     "output_type": "display_data"
    },
    {
     "data": {
      "text/latex": [
       "$\\displaystyle L_{x, x} = \\frac{2 Z_{0} x \\left(\\Delta^{2} \\left(k^{2} - 1\\right) \\left(4 x^{2} + 3\\right) + 8 k^{2}\\right)}{3 \\Delta \\omega_{0} n^{2} \\cdot \\left(4 x^{2} + 1\\right)}$"
      ],
      "text/plain": [
       "<IPython.core.display.Math object>"
      ]
     },
     "metadata": {},
     "output_type": "display_data"
    },
    {
     "data": {
      "text/latex": [
       "$\\displaystyle C_{x, x} = - \\frac{3 \\Delta n \\left(k - n\\right) \\left(4 x^{2} + 1\\right)}{16 Z_{0} \\omega_{0} k^{2} x}$"
      ],
      "text/plain": [
       "<IPython.core.display.Math object>"
      ]
     },
     "metadata": {},
     "output_type": "display_data"
    },
    {
     "data": {
      "text/latex": [
       "$\\displaystyle C_{z, x} = \\frac{3 \\Delta n \\left(4 x^{2} + 1\\right)}{16 Z_{0} \\omega_{0} k x}$"
      ],
      "text/plain": [
       "<IPython.core.display.Math object>"
      ]
     },
     "metadata": {},
     "output_type": "display_data"
    },
    {
     "data": {
      "text/latex": [
       "$\\displaystyle C_{y, x} = \\frac{3 \\Delta^{2} \\left(k - n\\right) \\left(4 x^{2} + 1\\right) + 8 k}{16 Z_{0} \\Delta \\omega_{0} k x}$"
      ],
      "text/plain": [
       "<IPython.core.display.Math object>"
      ]
     },
     "metadata": {},
     "output_type": "display_data"
    },
    {
     "data": {
      "text/latex": [
       "$\\displaystyle L_{3, x} = \\frac{2 Z_{0} \\Delta x}{\\omega_{0}}$"
      ],
      "text/plain": [
       "<IPython.core.display.Math object>"
      ]
     },
     "metadata": {},
     "output_type": "display_data"
    },
    {
     "data": {
      "text/latex": [
       "$\\displaystyle k_{L_x = 0, x} = \\Delta \\sqrt{\\frac{16 x^{4} + 16 x^{2} + 3}{\\left(4 x^{2} + 1\\right) \\left(\\Delta^{2} \\cdot \\left(4 x^{2} + 3\\right) + 8\\right)}}$"
      ],
      "text/plain": [
       "<IPython.core.display.Math object>"
      ]
     },
     "metadata": {},
     "output_type": "display_data"
    },
    {
     "data": {
      "text/latex": [
       "$\\displaystyle x(\\Delta, k) = \\frac{\\sqrt{\\frac{- 3 \\Delta^{2} \\left(k^{2} - 1\\right) - 8 k^{2}}{\\Delta^{2} \\left(k^{2} - 1\\right)}}}{2}$"
      ],
      "text/plain": [
       "<IPython.core.display.Math object>"
      ]
     },
     "metadata": {},
     "output_type": "display_data"
    }
   ],
   "source": [
    "c1_x = simplify(c1_g_.subs(g1, fg1).subs(g2, fg2).subs(g3, fg3))\n",
    "\n",
    "lp_x = simplify(lp_g.subs(g1, fg1).subs(g2, fg2).subs(g3, fg3))\n",
    "ls_x = simplify(ls_g.subs(g1, fg1).subs(g2, fg2).subs(g3, fg3))\n",
    "lx_x = simplify(lx_g.subs(g1, fg1).subs(g2, fg2).subs(g3, fg3))\n",
    "\n",
    "cx_x = simplify(cx_g.subs(g1, fg1).subs(g2, fg2).subs(g3, fg3))\n",
    "cy_x = simplify(cy_g.subs(g1, fg1).subs(g2, fg2).subs(g3, fg3))\n",
    "cz_x = simplify(cz_g.subs(g1, fg1).subs(g2, fg2).subs(g3, fg3))\n",
    "\n",
    "l3_x = simplify(l3_g_.subs(g1, fg1).subs(g2, fg2).subs(g3, fg3))\n",
    "\n",
    "k0_x = simplify(k0_g.subs(g1, fg1).subs(g2, fg2).subs(g3, fg3))\n",
    "k0_x_inv = simplify(solve(k0_x - k, x)[0])\n",
    "\n",
    "display(Math(\"C_{1, x} = \" + latex(c1_x)))\n",
    "\n",
    "display(Math(\"L_{s, x} = \" + latex(ls_x)))\n",
    "display(Math(\"L_{p, x} = \" + latex(lp_x)))\n",
    "display(Math(\"L_{x, x} = \" + latex(lx_x)))\n",
    "\n",
    "display(Math(\"C_{x, x} = \" + latex(cx_x)))\n",
    "display(Math(\"C_{z, x} = \" + latex(cz_x)))\n",
    "display(Math(\"C_{y, x} = \" + latex(cy_x)))\n",
    "\n",
    "display(Math(\"L_{3, x} = \" + latex(l3_x)))\n",
    "\n",
    "display(Math(\"k_{L_x = 0, x} = \" + latex(k0_x)))\n",
    "display(Math(\"x(\\Delta, k) = \" + latex(k0_x_inv)))"
   ]
  },
  {
   "cell_type": "markdown",
   "id": "c9a68bfa-95aa-4b22-96be-c0d1d824b323",
   "metadata": {},
   "source": [
    "### All elements for given $\\Delta$, $L_x = L_0$, $L_s = L_p$, $n_{c} = n_{c, max}$"
   ]
  },
  {
   "cell_type": "markdown",
   "id": "3d6ec2cb-938a-49ee-882b-fed335e84e2e",
   "metadata": {},
   "source": [
    "#### For $\\gamma$"
   ]
  },
  {
   "cell_type": "code",
   "execution_count": 14,
   "id": "d7150148-4ae8-4308-8457-b0c22ab0a729",
   "metadata": {},
   "outputs": [
    {
     "data": {
      "text/latex": [
       "$\\displaystyle \\Delta = \\frac{\\sqrt{2}}{2}$"
      ],
      "text/plain": [
       "<IPython.core.display.Math object>"
      ]
     },
     "metadata": {},
     "output_type": "display_data"
    },
    {
     "data": {
      "text/latex": [
       "$\\displaystyle n = 1$"
      ],
      "text/plain": [
       "<IPython.core.display.Math object>"
      ]
     },
     "metadata": {},
     "output_type": "display_data"
    },
    {
     "data": {
      "text/latex": [
       "$\\displaystyle k = \\Delta \\sqrt{\\frac{\\gamma^{2} + 0.75}{\\Delta^{2} \\left(\\gamma^{2} + 0.75\\right) + 2}}$"
      ],
      "text/plain": [
       "<IPython.core.display.Math object>"
      ]
     },
     "metadata": {},
     "output_type": "display_data"
    },
    {
     "data": {
      "text/latex": [
       "$\\displaystyle \\gamma(\\Delta, k) = 0.5 \\sqrt{\\frac{- 3.0 \\Delta^{2} \\left(k^{2} - 1.0\\right) - 8.0 k^{2}}{\\Delta^{2} \\left(k^{2} - 1.0\\right)}}$"
      ],
      "text/plain": [
       "<IPython.core.display.Math object>"
      ]
     },
     "metadata": {},
     "output_type": "display_data"
    },
    {
     "data": {
      "text/latex": [
       "$\\displaystyle n_c = \\frac{1.0}{k^{2}}$"
      ],
      "text/plain": [
       "<IPython.core.display.Math object>"
      ]
     },
     "metadata": {},
     "output_type": "display_data"
    },
    {
     "data": {
      "text/latex": [
       "$\\displaystyle C_1 = \\frac{2.0}{Z_{0} \\Delta \\omega_{0} k^{4} \\sqrt{\\frac{- 3.0 \\Delta^{2} \\left(k^{2} - 1.0\\right) - 8.0 k^{2}}{\\Delta^{2} \\left(k^{2} - 1.0\\right)}}}$"
      ],
      "text/plain": [
       "<IPython.core.display.Math object>"
      ]
     },
     "metadata": {},
     "output_type": "display_data"
    },
    {
     "data": {
      "text/latex": [
       "$\\displaystyle L_p = \\frac{0.5 Z_{0} \\Delta \\sqrt{\\frac{- 3.0 \\Delta^{2} \\left(k^{2} - 1.0\\right) - 8.0 k^{2}}{\\Delta^{2} \\left(k^{2} - 1.0\\right)}}}{\\omega_{0}}$"
      ],
      "text/plain": [
       "<IPython.core.display.Math object>"
      ]
     },
     "metadata": {},
     "output_type": "display_data"
    },
    {
     "data": {
      "text/latex": [
       "$\\displaystyle L_s = \\frac{0.5 Z_{0} \\Delta \\sqrt{\\frac{- 3.0 \\Delta^{2} \\left(k^{2} - 1.0\\right) - 8.0 k^{2}}{\\Delta^{2} \\left(k^{2} - 1.0\\right)}}}{\\omega_{0}}$"
      ],
      "text/plain": [
       "<IPython.core.display.Math object>"
      ]
     },
     "metadata": {},
     "output_type": "display_data"
    },
    {
     "data": {
      "text/latex": [
       "$\\displaystyle L_x = 0$"
      ],
      "text/plain": [
       "<IPython.core.display.Math object>"
      ]
     },
     "metadata": {},
     "output_type": "display_data"
    },
    {
     "data": {
      "text/latex": [
       "$\\displaystyle C_x = \\frac{0.707106781186547}{Z_{0} \\Delta \\omega_{0} \\sqrt{\\frac{- 0.375 \\Delta^{2} k^{2} + 0.375 \\Delta^{2} - k^{2}}{\\Delta^{2} \\left(k^{2} - 1.0\\right)}} \\left(k + 1\\right)}$"
      ],
      "text/plain": [
       "<IPython.core.display.Math object>"
      ]
     },
     "metadata": {},
     "output_type": "display_data"
    },
    {
     "data": {
      "text/latex": [
       "$\\displaystyle C_y = \\frac{0.707106781186547}{Z_{0} \\Delta \\omega_{0} \\sqrt{\\frac{- 0.375 \\Delta^{2} k^{2} + 0.375 \\Delta^{2} - k^{2}}{\\Delta^{2} \\left(k^{2} - 1.0\\right)}} \\left(k + 1\\right)}$"
      ],
      "text/plain": [
       "<IPython.core.display.Math object>"
      ]
     },
     "metadata": {},
     "output_type": "display_data"
    },
    {
     "data": {
      "text/latex": [
       "$\\displaystyle C_z = - \\frac{2.0 k}{Z_{0} \\Delta \\omega_{0} \\sqrt{- \\frac{3.0 \\Delta^{2} \\left(k^{2} - 1.0\\right) + 8.0 k^{2}}{\\Delta^{2} \\left(k^{2} - 1.0\\right)}} \\left(k^{2} - 1.0\\right)}$"
      ],
      "text/plain": [
       "<IPython.core.display.Math object>"
      ]
     },
     "metadata": {},
     "output_type": "display_data"
    },
    {
     "data": {
      "text/latex": [
       "$\\displaystyle L_3 = \\frac{0.5 Z_{0} \\Delta \\sqrt{\\frac{- 3.0 \\Delta^{2} \\left(k^{2} - 1.0\\right) - 8.0 k^{2}}{\\Delta^{2} \\left(k^{2} - 1.0\\right)}}}{\\omega_{0}}$"
      ],
      "text/plain": [
       "<IPython.core.display.Math object>"
      ]
     },
     "metadata": {},
     "output_type": "display_data"
    }
   ],
   "source": [
    "delta_gamma_ = sqrt(2) / 2\n",
    "n_gamma_ = 1\n",
    "k_gamma_ = k0_gamma\n",
    "gamma_ = k0_gamma_inv\n",
    "nc_gamma_ = simplify((1 + c3_g / c2_g).subs(g1, cg1).subs(g2, cg2).subs(g3, cg3).subs(gamma, k0_gamma_inv))\n",
    "\n",
    "c1_gamma_ = simplify(c1_gamma.subs(gamma, k0_gamma_inv).subs(nc, nc_gamma_).subs(n, n_gamma_))\n",
    "ls_gamma_ = simplify(ls_gamma.subs(gamma, k0_gamma_inv).subs(nc, nc_gamma_).subs(n, n_gamma_))\n",
    "lp_gamma_ = simplify(lp_gamma.subs(gamma, k0_gamma_inv).subs(nc, nc_gamma_).subs(n, n_gamma_))\n",
    "lx_gamma_ = simplify(lx_gamma.subs(gamma, k0_gamma_inv).subs(nc, nc_gamma_).subs(n, n_gamma_))\n",
    "cx_gamma_ = simplify(cx_gamma.subs(gamma, k0_gamma_inv).subs(nc, nc_gamma_).subs(n, n_gamma_))\n",
    "cy_gamma_ = simplify(cy_gamma.subs(gamma, k0_gamma_inv).subs(nc, nc_gamma_).subs(n, n_gamma_))\n",
    "cz_gamma_ = simplify(cz_gamma.subs(gamma, k0_gamma_inv).subs(nc, nc_gamma_).subs(n, n_gamma_))\n",
    "l3_gamma_ = simplify(l3_gamma.subs(gamma, k0_gamma_inv).subs(nc, nc_gamma_).subs(n, n_gamma_))\n",
    "\n",
    "display(Math(\"\\Delta = \" + latex(delta_gamma_)))\n",
    "display(Math(\"n = \" + latex(n_gamma_)))\n",
    "display(Math(\"k = \" + latex(k_gamma_)))\n",
    "display(Math(\"\\gamma(\\Delta, k) = \" + latex(gamma_)))\n",
    "display(Math(\"n_c = \" + latex(nc_gamma_)))\n",
    "\n",
    "display(Math(\"C_1 = \" + latex(c1_gamma_)))\n",
    "display(Math(\"L_p = \" + latex(lp_gamma_)))\n",
    "display(Math(\"L_s = \" + latex(ls_gamma_)))\n",
    "display(Math(\"L_x = \" + latex(lx_gamma_)))\n",
    "display(Math(\"C_x = \" + latex(cx_gamma_)))\n",
    "display(Math(\"C_y = \" + latex(cy_gamma_)))\n",
    "display(Math(\"C_z = \" + latex(cz_gamma_)))\n",
    "display(Math(\"L_3 = \" + latex(l3_gamma_)))\n",
    "\n",
    "# display(Math(\" = \" + latex()))"
   ]
  },
  {
   "cell_type": "markdown",
   "id": "faff9629-d898-441d-8b97-3393c062291d",
   "metadata": {},
   "source": [
    "#### For $x$"
   ]
  },
  {
   "cell_type": "code",
   "execution_count": 15,
   "id": "8db72b12-2973-45d8-8f22-64c21d2d174e",
   "metadata": {},
   "outputs": [
    {
     "data": {
      "text/latex": [
       "$\\displaystyle \\Delta = \\frac{\\sqrt{2}}{2}$"
      ],
      "text/plain": [
       "<IPython.core.display.Math object>"
      ]
     },
     "metadata": {},
     "output_type": "display_data"
    },
    {
     "data": {
      "text/latex": [
       "$\\displaystyle n = 1$"
      ],
      "text/plain": [
       "<IPython.core.display.Math object>"
      ]
     },
     "metadata": {},
     "output_type": "display_data"
    },
    {
     "data": {
      "text/latex": [
       "$\\displaystyle k = \\Delta \\sqrt{\\frac{16 x^{4} + 16 x^{2} + 3}{\\left(4 x^{2} + 1\\right) \\left(\\Delta^{2} \\cdot \\left(4 x^{2} + 3\\right) + 8\\right)}}$"
      ],
      "text/plain": [
       "<IPython.core.display.Math object>"
      ]
     },
     "metadata": {},
     "output_type": "display_data"
    },
    {
     "data": {
      "text/latex": [
       "$\\displaystyle \\gamma(\\Delta, k) = \\frac{\\sqrt{\\frac{- 3 \\Delta^{2} \\left(k^{2} - 1\\right) - 8 k^{2}}{\\Delta^{2} \\left(k^{2} - 1\\right)}}}{2}$"
      ],
      "text/plain": [
       "<IPython.core.display.Math object>"
      ]
     },
     "metadata": {},
     "output_type": "display_data"
    },
    {
     "data": {
      "text/latex": [
       "$\\displaystyle n_c = \\frac{3 \\Delta^{2} \\cdot \\left(1 - k^{2}\\right) - 8 k^{2} - 4}{3 \\left(- \\Delta^{2} \\left(k^{2} - 1\\right) - 4 k^{2}\\right)}$"
      ],
      "text/plain": [
       "<IPython.core.display.Math object>"
      ]
     },
     "metadata": {},
     "output_type": "display_data"
    },
    {
     "data": {
      "text/latex": [
       "$\\displaystyle C_1 = \\frac{\\left(3 \\Delta^{2} \\left(k^{2} - 1\\right) + 8 k^{2} + 4\\right)^{2}}{12 Z_{0} \\Delta \\omega_{0} k^{2} \\sqrt{\\frac{- 3 \\Delta^{2} \\left(k^{2} - 1\\right) - 8 k^{2}}{\\Delta^{2} \\left(k^{2} - 1\\right)}} \\left(\\Delta^{2} \\left(k^{2} - 1\\right) + 4 k^{2}\\right)}$"
      ],
      "text/plain": [
       "<IPython.core.display.Math object>"
      ]
     },
     "metadata": {},
     "output_type": "display_data"
    },
    {
     "data": {
      "text/latex": [
       "$\\displaystyle L_p = \\frac{4 Z_{0} \\Delta k^{2} \\sqrt{- \\frac{3 \\Delta^{2} \\left(k^{2} - 1\\right) + 8 k^{2}}{\\Delta^{2} \\left(k^{2} - 1\\right)}}}{3 \\omega_{0} \\left(\\Delta^{2} \\left(k^{2} - 1\\right) + 4 k^{2}\\right)}$"
      ],
      "text/plain": [
       "<IPython.core.display.Math object>"
      ]
     },
     "metadata": {},
     "output_type": "display_data"
    },
    {
     "data": {
      "text/latex": [
       "$\\displaystyle L_s = \\frac{4 Z_{0} \\Delta k^{2} \\sqrt{- \\frac{3 \\Delta^{2} \\left(k^{2} - 1\\right) + 8 k^{2}}{\\Delta^{2} \\left(k^{2} - 1\\right)}}}{3 \\omega_{0} \\left(\\Delta^{2} \\left(k^{2} - 1\\right) + 4 k^{2}\\right)}$"
      ],
      "text/plain": [
       "<IPython.core.display.Math object>"
      ]
     },
     "metadata": {},
     "output_type": "display_data"
    },
    {
     "data": {
      "text/latex": [
       "$\\displaystyle L_x = 0$"
      ],
      "text/plain": [
       "<IPython.core.display.Math object>"
      ]
     },
     "metadata": {},
     "output_type": "display_data"
    },
    {
     "data": {
      "text/latex": [
       "$\\displaystyle C_x = \\frac{3 \\left(\\Delta^{2} k^{2} - \\Delta^{2} + 4 k^{2}\\right)}{4 Z_{0} \\Delta \\omega_{0} k^{2} \\sqrt{\\frac{- 3 \\Delta^{2} k^{2} + 3 \\Delta^{2} - 8 k^{2}}{\\Delta^{2} \\left(k^{2} - 1\\right)}} \\left(k + 1\\right)}$"
      ],
      "text/plain": [
       "<IPython.core.display.Math object>"
      ]
     },
     "metadata": {},
     "output_type": "display_data"
    },
    {
     "data": {
      "text/latex": [
       "$\\displaystyle C_y = \\frac{- 3 \\Delta^{2} k^{2} + 3 \\Delta^{2} - 8 k^{2} + 4 k}{4 Z_{0} \\Delta \\omega_{0} k \\sqrt{\\frac{- 3 \\Delta^{2} k^{2} + 3 \\Delta^{2} - 8 k^{2}}{\\Delta^{2} \\left(k^{2} - 1\\right)}} \\left(k + 1\\right)}$"
      ],
      "text/plain": [
       "<IPython.core.display.Math object>"
      ]
     },
     "metadata": {},
     "output_type": "display_data"
    },
    {
     "data": {
      "text/latex": [
       "$\\displaystyle C_z = \\frac{3 \\left(\\Delta^{2} \\cdot \\left(1 - k^{2}\\right) - 4 k^{2}\\right)}{4 Z_{0} \\Delta \\omega_{0} k \\sqrt{\\frac{- 3 \\Delta^{2} \\left(k^{2} - 1\\right) - 8 k^{2}}{\\Delta^{2} \\left(k^{2} - 1\\right)}} \\left(k^{2} - 1\\right)}$"
      ],
      "text/plain": [
       "<IPython.core.display.Math object>"
      ]
     },
     "metadata": {},
     "output_type": "display_data"
    },
    {
     "data": {
      "text/latex": [
       "$\\displaystyle L_3 = \\frac{Z_{0} \\Delta \\sqrt{\\frac{- 3 \\Delta^{2} \\left(k^{2} - 1\\right) - 8 k^{2}}{\\Delta^{2} \\left(k^{2} - 1\\right)}}}{\\omega_{0}}$"
      ],
      "text/plain": [
       "<IPython.core.display.Math object>"
      ]
     },
     "metadata": {},
     "output_type": "display_data"
    }
   ],
   "source": [
    "delta_x_ = sqrt(2) / 2\n",
    "n_x_ = 1\n",
    "k_x_ = k0_x\n",
    "x_ = k0_x_inv\n",
    "nc_x_ = simplify((1 + c3_g / c2_g).subs(g1, fg1).subs(g2, fg2).subs(g3, fg3).subs(x, k0_x_inv))\n",
    "\n",
    "c1_x_ = simplify(c1_x.subs(x, k0_x_inv).subs(nc, nc_x_).subs(n, n_x_))\n",
    "ls_x_ = simplify(ls_x.subs(x, k0_x_inv).subs(nc, nc_x_).subs(n, n_x_))\n",
    "lp_x_ = simplify(lp_x.subs(x, k0_x_inv).subs(nc, nc_x_).subs(n, n_x_))\n",
    "lx_x_ = simplify(lx_x.subs(x, k0_x_inv).subs(nc, nc_x_).subs(n, n_x_))\n",
    "cx_x_ = simplify(cx_x.subs(x, k0_x_inv).subs(nc, nc_x_).subs(n, n_x_))\n",
    "cy_x_ = simplify(cy_x.subs(x, k0_x_inv).subs(nc, nc_x_).subs(n, n_x_))\n",
    "cz_x_ = simplify(cz_x.subs(x, k0_x_inv).subs(nc, nc_x_).subs(n, n_x_))\n",
    "l3_x_ = simplify(l3_x.subs(x, k0_x_inv).subs(nc, nc_x_).subs(n, n_x_))\n",
    "\n",
    "display(Math(\"\\Delta = \" + latex(delta_x_)))\n",
    "display(Math(\"n = \" + latex(n_x_)))\n",
    "display(Math(\"k = \" + latex(k_x_)))\n",
    "display(Math(\"\\gamma(\\Delta, k) = \" + latex(x_)))\n",
    "display(Math(\"n_c = \" + latex(nc_x_)))\n",
    "\n",
    "display(Math(\"C_1 = \" + latex(c1_x_)))\n",
    "display(Math(\"L_p = \" + latex(lp_x_)))\n",
    "display(Math(\"L_s = \" + latex(ls_x_)))\n",
    "display(Math(\"L_x = \" + latex(lx_x_)))\n",
    "display(Math(\"C_x = \" + latex(cx_x_)))\n",
    "display(Math(\"C_y = \" + latex(cy_x_)))\n",
    "display(Math(\"C_z = \" + latex(cz_x_)))\n",
    "display(Math(\"L_3 = \" + latex(l3_x_)))\n",
    "\n",
    "# display(Math(\" = \" + latex()))"
   ]
  },
  {
   "cell_type": "code",
   "execution_count": null,
   "id": "9b527756-b6c1-425f-8956-f3c115c43ede",
   "metadata": {},
   "outputs": [],
   "source": []
  }
 ],
 "metadata": {
  "kernelspec": {
   "display_name": "Python 3 (ipykernel)",
   "language": "python",
   "name": "python3"
  },
  "language_info": {
   "codemirror_mode": {
    "name": "ipython",
    "version": 3
   },
   "file_extension": ".py",
   "mimetype": "text/x-python",
   "name": "python",
   "nbconvert_exporter": "python",
   "pygments_lexer": "ipython3",
   "version": "3.10.9"
  }
 },
 "nbformat": 4,
 "nbformat_minor": 5
}
