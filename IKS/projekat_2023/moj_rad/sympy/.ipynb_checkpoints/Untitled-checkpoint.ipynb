{
 "cells": [
  {
   "cell_type": "markdown",
   "id": "c64db7ba-5f50-45ee-8051-9643ba6aa0d3",
   "metadata": {},
   "source": [
    "# 2 Ideal transformators"
   ]
  },
  {
   "cell_type": "code",
   "execution_count": 1,
   "id": "e2a43a13-abf7-45e6-aeca-3f9013dee3bf",
   "metadata": {},
   "outputs": [],
   "source": [
    "from IPython.display import display, Math, Latex\n",
    "from sympy import *\n",
    "from sympy.solvers import solve"
   ]
  },
  {
   "cell_type": "code",
   "execution_count": 28,
   "id": "63fcafe4-3a94-4ee0-aca5-91cc5be7542c",
   "metadata": {},
   "outputs": [
    {
     "data": {
      "text/latex": [
       "$\\displaystyle Z_{IN} = Z_{0}$"
      ],
      "text/plain": [
       "<IPython.core.display.Math object>"
      ]
     },
     "metadata": {},
     "output_type": "display_data"
    },
    {
     "data": {
      "text/latex": [
       "$\\displaystyle g_1 = \\frac{1}{\\gamma}$"
      ],
      "text/plain": [
       "<IPython.core.display.Math object>"
      ]
     },
     "metadata": {},
     "output_type": "display_data"
    },
    {
     "data": {
      "text/latex": [
       "$\\displaystyle g_2 = \\frac{2 \\gamma}{\\gamma^{2} + 0.75}$"
      ],
      "text/plain": [
       "<IPython.core.display.Math object>"
      ]
     },
     "metadata": {},
     "output_type": "display_data"
    },
    {
     "data": {
      "text/latex": [
       "$\\displaystyle g_3 = \\frac{1}{\\gamma}$"
      ],
      "text/plain": [
       "<IPython.core.display.Math object>"
      ]
     },
     "metadata": {},
     "output_type": "display_data"
    },
    {
     "data": {
      "text/latex": [
       "$\\displaystyle Z_{OUT} = Z_{0}$"
      ],
      "text/plain": [
       "<IPython.core.display.Math object>"
      ]
     },
     "metadata": {},
     "output_type": "display_data"
    },
    {
     "name": "stdout",
     "output_type": "stream",
     "text": [
      "\n",
      "Latex code:\n",
      "g1 = \\frac{1}{\\gamma}\n",
      "\n",
      "g2 = \\frac{2 \\gamma}{\\gamma^{2} + 0.75}\n",
      "\n",
      "g3 = \\frac{1}{\\gamma}\n"
     ]
    }
   ],
   "source": [
    "cg1, cg2, cg3 = symbols('g_1 g_2 g_3')\n",
    "gamma = symbols(r'\\gamma')\n",
    "z0 = symbols('Z_0')\n",
    "\n",
    "cg1 = 1 / gamma\n",
    "cg2 = 2 * gamma / (gamma**2 + 3/4)\n",
    "cg3 = 1 / gamma\n",
    "\n",
    "display(Math(\"Z_{IN} = \" + latex(z0)))\n",
    "display(Math(\"g_1 = \" + latex(cg1)))\n",
    "display(Math(\"g_2 = \" + latex(cg2)))\n",
    "display(Math(\"g_3 = \" + latex(cg3)))\n",
    "display(Math(\"Z_{OUT} = \" + latex(z0)))\n",
    "\n",
    "print(\"\\nLatex code:\")\n",
    "print(\"g1 = \" + latex(cg1) + '\\n')\n",
    "print(\"g2 = \" + latex(cg2) + '\\n')\n",
    "print(\"g3 = \" + latex(cg3))"
   ]
  },
  {
   "cell_type": "code",
   "execution_count": 29,
   "id": "1e886c0f-36f1-49e9-b896-bb3c9ae32ea7",
   "metadata": {},
   "outputs": [
    {
     "data": {
      "text/latex": [
       "$\\displaystyle Z_{IN} = Z_{0}$"
      ],
      "text/plain": [
       "<IPython.core.display.Math object>"
      ]
     },
     "metadata": {},
     "output_type": "display_data"
    },
    {
     "data": {
      "text/latex": [
       "$\\displaystyle g_1 = \\frac{12 x^{2} + 3}{8 x^{3} + 6 x}$"
      ],
      "text/plain": [
       "<IPython.core.display.Math object>"
      ]
     },
     "metadata": {},
     "output_type": "display_data"
    },
    {
     "data": {
      "text/latex": [
       "$\\displaystyle g_2 = \\frac{16 x}{3 \\cdot \\left(4 x^{2} + 1\\right)}$"
      ],
      "text/plain": [
       "<IPython.core.display.Math object>"
      ]
     },
     "metadata": {},
     "output_type": "display_data"
    },
    {
     "data": {
      "text/latex": [
       "$\\displaystyle g_3 = \\frac{1}{2 x}$"
      ],
      "text/plain": [
       "<IPython.core.display.Math object>"
      ]
     },
     "metadata": {},
     "output_type": "display_data"
    },
    {
     "data": {
      "text/latex": [
       "$\\displaystyle Z_{OUT} = Z_{0}$"
      ],
      "text/plain": [
       "<IPython.core.display.Math object>"
      ]
     },
     "metadata": {},
     "output_type": "display_data"
    },
    {
     "name": "stdout",
     "output_type": "stream",
     "text": [
      "\n",
      "Latex code:\n",
      "g1 = \\frac{12 x^{2} + 3}{8 x^{3} + 6 x}\n",
      "\n",
      "g2 = \\frac{16 x}{3 \\cdot \\left(4 x^{2} + 1\\right)}\n",
      "\n",
      "g3 = \\frac{1}{2 x}\n"
     ]
    }
   ],
   "source": [
    "fg1_, fg2_, fg3_ = symbols('g_1 g_2 g_3')\n",
    "x, n, r = symbols('x n r')\n",
    "\n",
    "fg3_ = sin(pi / 2 / n) / x\n",
    "fg3 = simplify(fg3_.subs(n, 3))\n",
    "\n",
    "tmp  = 4 * sin(pi*(2*r - 1) / 2 / n) * sin(pi * (2 * r + 1) / 2 / n) / (2 * x**2 * (1 - cos(r * pi / n)) + (sin(r * pi / n))**2)\n",
    "fg2_ = 1 / fg3 * tmp\n",
    "fg2 = simplify(fg2_.subs(n, 3).subs(r, 2))\n",
    "\n",
    "fg1_ = 1 / fg2 * tmp\n",
    "fg1 = simplify(fg1_.subs(n, 3).subs(r, 1))\n",
    "\n",
    "display(Math(\"Z_{IN} = \" + latex(z0)))\n",
    "display(Math(\"g_1 = \" + latex(fg1)))\n",
    "display(Math(\"g_2 = \" + latex(fg2)))\n",
    "display(Math(\"g_3 = \" + latex(fg3)))\n",
    "display(Math(\"Z_{OUT} = \" + latex(z0)))\n",
    "\n",
    "print(\"\\nLatex code:\")\n",
    "print(\"g1 = \" + latex(fg1) + '\\n')\n",
    "print(\"g2 = \" + latex(fg2) + '\\n')\n",
    "print(\"g3 = \" + latex(fg3))"
   ]
  },
  {
   "cell_type": "code",
   "execution_count": 30,
   "id": "489f1fe6-40d5-49ed-8af7-61b911fe0800",
   "metadata": {},
   "outputs": [
    {
     "data": {
      "text/latex": [
       "$\\displaystyle Z_{IN} = Z_{0}$"
      ],
      "text/plain": [
       "<IPython.core.display.Math object>"
      ]
     },
     "metadata": {},
     "output_type": "display_data"
    },
    {
     "data": {
      "text/latex": [
       "$\\displaystyle C_1 = \\frac{g_{1}}{Z_{0} \\Delta \\omega_{0}}$"
      ],
      "text/plain": [
       "<IPython.core.display.Math object>"
      ]
     },
     "metadata": {},
     "output_type": "display_data"
    },
    {
     "data": {
      "text/latex": [
       "$\\displaystyle C_2 = \\frac{\\Delta}{Z_{0} \\omega_{0} g_{2}}$"
      ],
      "text/plain": [
       "<IPython.core.display.Math object>"
      ]
     },
     "metadata": {},
     "output_type": "display_data"
    },
    {
     "data": {
      "text/latex": [
       "$\\displaystyle C_3 = \\frac{g_{3}}{Z_{0} \\Delta \\omega_{0}}$"
      ],
      "text/plain": [
       "<IPython.core.display.Math object>"
      ]
     },
     "metadata": {},
     "output_type": "display_data"
    },
    {
     "data": {
      "text/latex": [
       "$\\displaystyle L_1 = \\frac{Z_{0} \\Delta}{\\omega_{0} g_{1}}$"
      ],
      "text/plain": [
       "<IPython.core.display.Math object>"
      ]
     },
     "metadata": {},
     "output_type": "display_data"
    },
    {
     "data": {
      "text/latex": [
       "$\\displaystyle L_2 = \\frac{Z_{0} g_{2}}{\\Delta \\omega_{0}}$"
      ],
      "text/plain": [
       "<IPython.core.display.Math object>"
      ]
     },
     "metadata": {},
     "output_type": "display_data"
    },
    {
     "data": {
      "text/latex": [
       "$\\displaystyle L_3 = \\frac{Z_{0} \\Delta}{\\omega_{0} g_{3}}$"
      ],
      "text/plain": [
       "<IPython.core.display.Math object>"
      ]
     },
     "metadata": {},
     "output_type": "display_data"
    },
    {
     "data": {
      "text/latex": [
       "$\\displaystyle Z_{OUT} = Z_{0}$"
      ],
      "text/plain": [
       "<IPython.core.display.Math object>"
      ]
     },
     "metadata": {},
     "output_type": "display_data"
    },
    {
     "name": "stdout",
     "output_type": "stream",
     "text": [
      "\n",
      "Latex code:\n",
      "c1 = \\frac{g_{1}}{Z_{0} \\Delta \\omega_{0}}\n",
      "\n",
      "c2 = \\frac{\\Delta}{Z_{0} \\omega_{0} g_{2}}\n",
      "\n",
      "c3 = \\frac{g_{3}}{Z_{0} \\Delta \\omega_{0}}\n",
      "\n",
      "l1 = \\frac{Z_{0} \\Delta}{\\omega_{0} g_{1}}\n",
      "\n",
      "l2 = \\frac{Z_{0} g_{2}}{\\Delta \\omega_{0}}\n",
      "\n",
      "l3 = \\frac{Z_{0} \\Delta}{\\omega_{0} g_{3}}\n",
      "\n"
     ]
    }
   ],
   "source": [
    "c1_g, c2_g, c3_g, l1_g, l2_g, l3_g = symbols('C_1 C_2 C_3 L_1 L_2 L_3')\n",
    "w0 = symbols(r'\\omega_0')\n",
    "delta = symbols(r'\\Delta')\n",
    "g1, g2, g3, z0 = symbols('g_1 g_2 g_3 Z_0')\n",
    "\n",
    "c1_g = g1 / w0 / delta / z0\n",
    "c2_g = delta / w0 / g2 / z0\n",
    "c3_g = g3 / w0 / delta / z0\n",
    "l1_g = delta * z0 / w0 / g1\n",
    "l2_g = g2 * z0 / w0 / delta\n",
    "l3_g = delta * z0 / w0 / g3\n",
    "\n",
    "display(Math(\"Z_{IN} = \" + latex(z0)))\n",
    "display(Math(\"C_1 = \" + latex(c1_g)))\n",
    "display(Math(\"C_2 = \" + latex(c2_g)))\n",
    "display(Math(\"C_3 = \" + latex(c3_g)))\n",
    "\n",
    "display(Math(\"L_1 = \" + latex(l1_g)))\n",
    "display(Math(\"L_2 = \" + latex(l2_g)))\n",
    "display(Math(\"L_3 = \" + latex(l3_g)))\n",
    "display(Math(\"Z_{OUT} = \" + latex(z0)))\n",
    "\n",
    "print(\"\\nLatex code:\")\n",
    "print(\"c1 = \" + latex(c1_g) + '\\n')\n",
    "print(\"c2 = \" + latex(c2_g) + '\\n')\n",
    "print(\"c3 = \" + latex(c3_g) + '\\n')\n",
    "print(\"l1 = \" + latex(l1_g) + '\\n')\n",
    "print(\"l2 = \" + latex(l2_g) + '\\n')\n",
    "print(\"l3 = \" + latex(l3_g) + '\\n')"
   ]
  },
  {
   "cell_type": "markdown",
   "id": "af3451e8-4598-4a05-b51c-22b9cb214f13",
   "metadata": {},
   "source": [
    "### Norton transformation"
   ]
  },
  {
   "cell_type": "code",
   "execution_count": 53,
   "id": "adca71b1-d5a0-409a-ad2e-1ec98d1d6443",
   "metadata": {},
   "outputs": [
    {
     "data": {
      "text/latex": [
       "$\\displaystyle C_x = C_{2} n_{c} \\left(n_{c} - 1\\right)$"
      ],
      "text/plain": [
       "<IPython.core.display.Math object>"
      ]
     },
     "metadata": {},
     "output_type": "display_data"
    },
    {
     "data": {
      "text/latex": [
       "$\\displaystyle C_y = C_{2} \\cdot \\left(1 - n_{c}\\right) + C_{3}$"
      ],
      "text/plain": [
       "<IPython.core.display.Math object>"
      ]
     },
     "metadata": {},
     "output_type": "display_data"
    },
    {
     "data": {
      "text/latex": [
       "$\\displaystyle C_z = C_{2} n_{c}$"
      ],
      "text/plain": [
       "<IPython.core.display.Math object>"
      ]
     },
     "metadata": {},
     "output_type": "display_data"
    },
    {
     "data": {
      "text/latex": [
       "$\\displaystyle n_{c, max} = 1 + \\frac{C_{3}}{C_{2}}$"
      ],
      "text/plain": [
       "<IPython.core.display.Math object>"
      ]
     },
     "metadata": {},
     "output_type": "display_data"
    },
    {
     "name": "stdout",
     "output_type": "stream",
     "text": [
      "\n",
      "Latex code:\n",
      "cx = C_{2} n_{c} \\left(n_{c} - 1\\right)\n",
      "\n",
      "cy = C_{2} \\cdot \\left(1 - n_{c}\\right) + C_{3}\n",
      "\n",
      "cz = C_{2} n_{c}\n",
      "\n",
      "nc <= 1 + \\frac{C_{3}}{C_{2}}\n"
     ]
    }
   ],
   "source": [
    "c2, c3, nc = symbols('C_2 C_3 n_c')\n",
    "cx, cy, cz = symbols('C_x C_y C_z')\n",
    "\n",
    "cx = nc*(nc - 1) * c2\n",
    "cy = (1 - nc)*c2 + c3\n",
    "cz = nc * c2\n",
    "nc_max = 1 + c3 / c2\n",
    "\n",
    "display(Math(\"C_x = \" + latex(cx)))\n",
    "display(Math(\"C_y = \" + latex(cy)))\n",
    "display(Math(\"C_z = \" + latex(cz)))\n",
    "display(Math(\"n_{c, max} = \" + latex(nc_max)))\n",
    "\n",
    "print(\"\\nLatex code:\")\n",
    "print(\"cx = \" + latex(cx) + '\\n')\n",
    "print(\"cy = \" + latex(cy) + '\\n')\n",
    "print(\"cz = \" + latex(cz) + '\\n')\n",
    "print(\"nc <= \" + latex(cond))"
   ]
  },
  {
   "cell_type": "code",
   "execution_count": 32,
   "id": "09303263-8032-4d20-ab45-0f53edca0afe",
   "metadata": {},
   "outputs": [
    {
     "data": {
      "text/latex": [
       "$\\displaystyle Z_{IN} = \\frac{Z_{0}}{n_{c}^{2}}$"
      ],
      "text/plain": [
       "<IPython.core.display.Math object>"
      ]
     },
     "metadata": {},
     "output_type": "display_data"
    },
    {
     "data": {
      "text/latex": [
       "$\\displaystyle C_1 = \\frac{g_{1} n_{c}^{2}}{Z_{0} \\Delta \\omega_{0}}$"
      ],
      "text/plain": [
       "<IPython.core.display.Math object>"
      ]
     },
     "metadata": {},
     "output_type": "display_data"
    },
    {
     "data": {
      "text/latex": [
       "$\\displaystyle L_1 = \\frac{Z_{0} \\Delta}{\\omega_{0} g_{1} n_{c}^{2}}$"
      ],
      "text/plain": [
       "<IPython.core.display.Math object>"
      ]
     },
     "metadata": {},
     "output_type": "display_data"
    },
    {
     "data": {
      "text/latex": [
       "$\\displaystyle L_2 = \\frac{Z_{0} g_{2}}{\\Delta \\omega_{0} n_{c}^{2}}$"
      ],
      "text/plain": [
       "<IPython.core.display.Math object>"
      ]
     },
     "metadata": {},
     "output_type": "display_data"
    },
    {
     "data": {
      "text/latex": [
       "$\\displaystyle C_x = \\frac{\\Delta n_{c} \\left(n_{c} - 1\\right)}{Z_{0} \\omega_{0} g_{2}}$"
      ],
      "text/plain": [
       "<IPython.core.display.Math object>"
      ]
     },
     "metadata": {},
     "output_type": "display_data"
    },
    {
     "data": {
      "text/latex": [
       "$\\displaystyle C_y = \\frac{- \\Delta^{2} \\left(n_{c} - 1\\right) + g_{2} g_{3}}{Z_{0} \\Delta \\omega_{0} g_{2}}$"
      ],
      "text/plain": [
       "<IPython.core.display.Math object>"
      ]
     },
     "metadata": {},
     "output_type": "display_data"
    },
    {
     "data": {
      "text/latex": [
       "$\\displaystyle C_z = \\frac{\\Delta n_{c}}{Z_{0} \\omega_{0} g_{2}}$"
      ],
      "text/plain": [
       "<IPython.core.display.Math object>"
      ]
     },
     "metadata": {},
     "output_type": "display_data"
    },
    {
     "data": {
      "text/latex": [
       "$\\displaystyle L_3 = \\frac{Z_{0} \\Delta}{\\omega_{0} g_{3}}$"
      ],
      "text/plain": [
       "<IPython.core.display.Math object>"
      ]
     },
     "metadata": {},
     "output_type": "display_data"
    },
    {
     "data": {
      "text/latex": [
       "$\\displaystyle Z_{OUT} = Z_{0}$"
      ],
      "text/plain": [
       "<IPython.core.display.Math object>"
      ]
     },
     "metadata": {},
     "output_type": "display_data"
    }
   ],
   "source": [
    "zin_n = z0 / nc**2\n",
    "c1_n = c1_g * nc**2\n",
    "l1_n = l1_g / nc**2\n",
    "l2_n = l2_g / nc**2\n",
    "cx_n = simplify(cx.subs(c2, c2_g))\n",
    "cy_n = simplify(cy.subs(c2, c2_g).subs(c3, c3_g))\n",
    "cz_n = simplify(cz.subs(c2, c2_g))\n",
    "l3_n = l3_g\n",
    "\n",
    "display(Math(\"Z_{IN} = \" + latex(zin_n)))\n",
    "display(Math(\"C_1 = \" + latex(c1_n)))\n",
    "display(Math(\"L_1 = \" + latex(l1_n)))\n",
    "display(Math(\"L_2 = \" + latex(l2_n)))\n",
    "display(Math(\"C_x = \" + latex(cx_n)))\n",
    "display(Math(\"C_y = \" + latex(cy_n)))\n",
    "display(Math(\"C_z = \" + latex(cz_n)))\n",
    "display(Math(\"L_3 = \" + latex(l3_n)))\n",
    "display(Math(\"Z_{OUT} = \" + latex(z0)))"
   ]
  },
  {
   "cell_type": "markdown",
   "id": "0bf6d458-34ff-4d43-a4da-94dd007d27b0",
   "metadata": {},
   "source": [
    "### Real transformator"
   ]
  },
  {
   "cell_type": "code",
   "execution_count": 37,
   "id": "2ac1cc5b-6c25-44e5-938f-dc2b661b1d78",
   "metadata": {},
   "outputs": [
    {
     "data": {
      "text/latex": [
       "$\\displaystyle L_p = \\frac{L_{1}}{k^{2} n_{c}^{2}}$"
      ],
      "text/plain": [
       "<IPython.core.display.Math object>"
      ]
     },
     "metadata": {},
     "output_type": "display_data"
    },
    {
     "data": {
      "text/latex": [
       "$\\displaystyle L_s = \\frac{L_{1} n^{2}}{k^{2} n_{c}^{2}}$"
      ],
      "text/plain": [
       "<IPython.core.display.Math object>"
      ]
     },
     "metadata": {},
     "output_type": "display_data"
    },
    {
     "data": {
      "text/latex": [
       "$\\displaystyle L_x = \\frac{L_{1} \\left(k^{2} - 1\\right) + L_{2} k^{2}}{k^{2} n_{c}^{2}}$"
      ],
      "text/plain": [
       "<IPython.core.display.Math object>"
      ]
     },
     "metadata": {},
     "output_type": "display_data"
    },
    {
     "data": {
      "text/latex": [
       "$\\displaystyle k_{L_x = 0} = \\sqrt{\\frac{L_{1}}{L_{1} + L_{2}}}$"
      ],
      "text/plain": [
       "<IPython.core.display.Math object>"
      ]
     },
     "metadata": {},
     "output_type": "display_data"
    }
   ],
   "source": [
    "n, k = symbols('n k')\n",
    "ls, lp, lx = symbols('L_s L_p L_x')\n",
    "l1, l2 = symbols('L_1 L_2')\n",
    "\n",
    "lp = simplify(solve(l1)[0])\n",
    "\n",
    "lp = l1 / nc**2 / k**2 #simplify(solve(l1/nc**2 - lp*k**2, lp)[0])\n",
    "ls = simplify(n**2 * lp)\n",
    "lx = simplify(l2/nc**2 - (1 - k**2) * lp)\n",
    "\n",
    "k0 = simplify(solve(lx, k)[1])\n",
    "\n",
    "display(Math(\"L_p = \" + latex(lp)))\n",
    "display(Math(\"L_s = \" + latex(ls)))\n",
    "display(Math(\"L_x = \" + latex(lx)))\n",
    "display(Math(\"k_{L_x = 0} = \" + latex(k0)))\n"
   ]
  },
  {
   "cell_type": "code",
   "execution_count": 39,
   "id": "da753533-c5f5-4b7b-b4ad-cdf7f429879a",
   "metadata": {},
   "outputs": [
    {
     "data": {
      "text/latex": [
       "$\\displaystyle Z_{IN} = \\frac{Z_{0} n^{2}}{k^{2} n_{c}^{2}}$"
      ],
      "text/plain": [
       "<IPython.core.display.Math object>"
      ]
     },
     "metadata": {},
     "output_type": "display_data"
    },
    {
     "data": {
      "text/latex": [
       "$\\displaystyle C_1 = \\frac{g_{1} k^{2} n_{c}^{2}}{Z_{0} \\Delta \\omega_{0} n^{2}}$"
      ],
      "text/plain": [
       "<IPython.core.display.Math object>"
      ]
     },
     "metadata": {},
     "output_type": "display_data"
    },
    {
     "data": {
      "text/latex": [
       "$\\displaystyle L_p = \\frac{L_{1}}{k^{2} n_{c}^{2}}$"
      ],
      "text/plain": [
       "<IPython.core.display.Math object>"
      ]
     },
     "metadata": {},
     "output_type": "display_data"
    },
    {
     "data": {
      "text/latex": [
       "$\\displaystyle L_s = \\frac{L_{1} n^{2}}{k^{2} n_{c}^{2}}$"
      ],
      "text/plain": [
       "<IPython.core.display.Math object>"
      ]
     },
     "metadata": {},
     "output_type": "display_data"
    },
    {
     "data": {
      "text/latex": [
       "$\\displaystyle L_x = \\frac{L_{1} \\left(k^{2} - 1\\right) + L_{2} k^{2}}{k^{2} n_{c}^{2}}$"
      ],
      "text/plain": [
       "<IPython.core.display.Math object>"
      ]
     },
     "metadata": {},
     "output_type": "display_data"
    },
    {
     "data": {
      "text/latex": [
       "$\\displaystyle C_x = \\frac{\\Delta n_{c} \\left(n_{c} - 1\\right)}{Z_{0} \\omega_{0} g_{2}}$"
      ],
      "text/plain": [
       "<IPython.core.display.Math object>"
      ]
     },
     "metadata": {},
     "output_type": "display_data"
    },
    {
     "data": {
      "text/latex": [
       "$\\displaystyle C_y = \\frac{- \\Delta^{2} \\left(n_{c} - 1\\right) + g_{2} g_{3}}{Z_{0} \\Delta \\omega_{0} g_{2}}$"
      ],
      "text/plain": [
       "<IPython.core.display.Math object>"
      ]
     },
     "metadata": {},
     "output_type": "display_data"
    },
    {
     "data": {
      "text/latex": [
       "$\\displaystyle C_z = \\frac{\\Delta n_{c}}{Z_{0} \\omega_{0} g_{2}}$"
      ],
      "text/plain": [
       "<IPython.core.display.Math object>"
      ]
     },
     "metadata": {},
     "output_type": "display_data"
    },
    {
     "data": {
      "text/latex": [
       "$\\displaystyle L_3 = \\frac{Z_{0} \\Delta}{\\omega_{0} g_{3}}$"
      ],
      "text/plain": [
       "<IPython.core.display.Math object>"
      ]
     },
     "metadata": {},
     "output_type": "display_data"
    },
    {
     "data": {
      "text/latex": [
       "$\\displaystyle Z_{OUT} = Z_{0}$"
      ],
      "text/plain": [
       "<IPython.core.display.Math object>"
      ]
     },
     "metadata": {},
     "output_type": "display_data"
    }
   ],
   "source": [
    "zin_t = zin_n * n**2 / k**2\n",
    "c1_t = c1_n * k**2 / n**2\n",
    "lp_t = lp\n",
    "ls_t = ls\n",
    "lx_t = lx\n",
    "cx_t = cx_n \n",
    "cy_t = cy_n\n",
    "cz_t = cz_n\n",
    "l3_t = l3_n\n",
    "zout_t = z0\n",
    "\n",
    "display(Math(\"Z_{IN} = \" + latex(zin_t)))\n",
    "display(Math(\"C_1 = \" + latex(c1_t)))\n",
    "display(Math(\"L_p = \" + latex(lp_t)))\n",
    "display(Math(\"L_s = \" + latex(ls_t)))\n",
    "display(Math(\"L_x = \" + latex(lx_t)))\n",
    "display(Math(\"C_x = \" + latex(cx_t)))\n",
    "display(Math(\"C_y = \" + latex(cy_t)))\n",
    "display(Math(\"C_z = \" + latex(cz_t)))\n",
    "display(Math(\"L_3 = \" + latex(l3_t)))\n",
    "display(Math(\"Z_{OUT} = \" + latex(z0)))"
   ]
  },
  {
   "cell_type": "code",
   "execution_count": 44,
   "id": "e93846f0-c729-4cea-87f2-baff88a683d5",
   "metadata": {},
   "outputs": [
    {
     "data": {
      "text/latex": [
       "$\\displaystyle Z_{IN} = \\frac{Z_{0} n^{2}}{k^{2} n_{c}^{2}}$"
      ],
      "text/plain": [
       "<IPython.core.display.Math object>"
      ]
     },
     "metadata": {},
     "output_type": "display_data"
    },
    {
     "data": {
      "text/latex": [
       "$\\displaystyle C_1 = \\frac{k^{2} n_{c}^{2}}{Z_{0} \\Delta \\gamma \\omega_{0} n^{2}}$"
      ],
      "text/plain": [
       "<IPython.core.display.Math object>"
      ]
     },
     "metadata": {},
     "output_type": "display_data"
    },
    {
     "data": {
      "text/latex": [
       "$\\displaystyle L_p = \\frac{Z_{0} \\Delta \\gamma}{\\omega_{0} k^{2} n_{c}^{4}}$"
      ],
      "text/plain": [
       "<IPython.core.display.Math object>"
      ]
     },
     "metadata": {},
     "output_type": "display_data"
    },
    {
     "data": {
      "text/latex": [
       "$\\displaystyle L_s = \\frac{Z_{0} \\Delta \\gamma n^{2}}{\\omega_{0} k^{2} n_{c}^{4}}$"
      ],
      "text/plain": [
       "<IPython.core.display.Math object>"
      ]
     },
     "metadata": {},
     "output_type": "display_data"
    },
    {
     "data": {
      "text/latex": [
       "$\\displaystyle L_x = \\frac{Z_{0} \\gamma \\left(\\Delta^{2} \\left(\\gamma^{2} + 0.75\\right) \\left(k^{2} - 1\\right) + 2 k^{2}\\right)}{\\Delta \\omega_{0} k^{2} n_{c}^{4} \\left(\\gamma^{2} + 0.75\\right)}$"
      ],
      "text/plain": [
       "<IPython.core.display.Math object>"
      ]
     },
     "metadata": {},
     "output_type": "display_data"
    },
    {
     "data": {
      "text/latex": [
       "$\\displaystyle C_x = \\frac{\\Delta n_{c} \\left(\\gamma^{2} + 0.75\\right) \\left(n_{c} - 1\\right)}{2 Z_{0} \\gamma \\omega_{0}}$"
      ],
      "text/plain": [
       "<IPython.core.display.Math object>"
      ]
     },
     "metadata": {},
     "output_type": "display_data"
    },
    {
     "data": {
      "text/latex": [
       "$\\displaystyle C_y = \\frac{- \\Delta^{2} \\left(\\gamma^{2} + 0.75\\right) \\left(n_{c} - 1\\right) + 2}{2 Z_{0} \\Delta \\gamma \\omega_{0}}$"
      ],
      "text/plain": [
       "<IPython.core.display.Math object>"
      ]
     },
     "metadata": {},
     "output_type": "display_data"
    },
    {
     "data": {
      "text/latex": [
       "$\\displaystyle C_z = \\frac{\\Delta n_{c} \\left(\\gamma^{2} + 0.75\\right)}{2 Z_{0} \\gamma \\omega_{0}}$"
      ],
      "text/plain": [
       "<IPython.core.display.Math object>"
      ]
     },
     "metadata": {},
     "output_type": "display_data"
    },
    {
     "data": {
      "text/latex": [
       "$\\displaystyle L_3 = \\frac{Z_{0} \\Delta \\gamma}{\\omega_{0}}$"
      ],
      "text/plain": [
       "<IPython.core.display.Math object>"
      ]
     },
     "metadata": {},
     "output_type": "display_data"
    },
    {
     "data": {
      "text/latex": [
       "$\\displaystyle Z_{OUT} = Z_{0}$"
      ],
      "text/plain": [
       "<IPython.core.display.Math object>"
      ]
     },
     "metadata": {},
     "output_type": "display_data"
    }
   ],
   "source": [
    "zin_gamma = simplify(zin_t.subs(g1, cg1).subs(g2, cg2).subs(g3, cg3))\n",
    "c1_gamma = simplify(c1_t.subs(g1, cg1).subs(g2, cg2).subs(g3, cg3))\n",
    "lp_gamma = simplify(lp_t.subs(l1, l1_n).subs(l2, l2_n).subs(g1, cg1).subs(g2, cg2).subs(g3, cg3))\n",
    "ls_gamma = simplify(ls_t.subs(l1, l1_n).subs(l2, l2_n).subs(g1, cg1).subs(g2, cg2).subs(g3, cg3))\n",
    "lx_gamma = simplify(lx_t.subs(l1, l1_n).subs(l2, l2_n).subs(g1, cg1).subs(g2, cg2).subs(g3, cg3))\n",
    "cx_gamma = simplify(cx_t.subs(g1, cg1).subs(g2, cg2).subs(g3, cg3))\n",
    "cy_gamma = simplify(cy_t.subs(g1, cg1).subs(g2, cg2).subs(g3, cg3))\n",
    "cz_gamma = simplify(cz_t.subs(g1, cg1).subs(g2, cg2).subs(g3, cg3))\n",
    "l3_gamma = simplify(l3_t.subs(g1, cg1).subs(g2, cg2).subs(g3, cg3))\n",
    "zout_gamma = simplify(zout_t.subs(g1, cg1).subs(g2, cg2).subs(g3, cg3))\n",
    "\n",
    "display(Math(\"Z_{IN} = \" + latex(zin_gamma)))\n",
    "display(Math(\"C_1 = \" + latex(c1_gamma)))\n",
    "display(Math(\"L_p = \" + latex(lp_gamma)))\n",
    "display(Math(\"L_s = \" + latex(ls_gamma)))\n",
    "display(Math(\"L_x = \" + latex(lx_gamma)))\n",
    "display(Math(\"C_x = \" + latex(cx_gamma)))\n",
    "display(Math(\"C_y = \" + latex(cy_gamma)))\n",
    "display(Math(\"C_z = \" + latex(cz_gamma)))\n",
    "display(Math(\"L_3 = \" + latex(l3_gamma)))\n",
    "display(Math(\"Z_{OUT} = \" + latex(zout_gamma)))"
   ]
  },
  {
   "cell_type": "code",
   "execution_count": 58,
   "id": "c1542a2d-1c98-42a3-875f-ba64477dccae",
   "metadata": {},
   "outputs": [
    {
     "data": {
      "text/latex": [
       "$\\displaystyle k(\\Delta, \\gamma)|_{L_x = 0} = \\Delta \\sqrt{\\frac{4.0 \\gamma^{2} + 3.0}{4.0 \\Delta^{2} \\gamma^{2} + 3.0 \\Delta^{2} + 8.0}}$"
      ],
      "text/plain": [
       "<IPython.core.display.Math object>"
      ]
     },
     "metadata": {},
     "output_type": "display_data"
    },
    {
     "data": {
      "text/latex": [
       "$\\displaystyle k(\\Delta = 0.707, \\gamma = 1)|_{L_x = 0} = 0.551619325895164$"
      ],
      "text/plain": [
       "<IPython.core.display.Math object>"
      ]
     },
     "metadata": {},
     "output_type": "display_data"
    },
    {
     "data": {
      "text/latex": [
       "$\\displaystyle \\gamma(\\Delta, k)|_{L_x = 0} = 0.5 \\sqrt{\\frac{- 3.0 \\Delta^{2} \\left(k^{2} - 1.0\\right) - 8.0 k^{2}}{\\Delta^{2} \\left(k^{2} - 1.0\\right)}}$"
      ],
      "text/plain": [
       "<IPython.core.display.Math object>"
      ]
     },
     "metadata": {},
     "output_type": "display_data"
    },
    {
     "data": {
      "text/latex": [
       "$\\displaystyle n_{c, max} = \\frac{1.0}{k^{2}}$"
      ],
      "text/plain": [
       "<IPython.core.display.Math object>"
      ]
     },
     "metadata": {},
     "output_type": "display_data"
    },
    {
     "data": {
      "text/latex": [
       "$\\displaystyle n = 1$"
      ],
      "text/plain": [
       "<IPython.core.display.Math object>"
      ]
     },
     "metadata": {},
     "output_type": "display_data"
    }
   ],
   "source": [
    "k0_gamma = simplify(solve(lx_gamma, k)[1])\n",
    "k0_gamma_1 = k0_gamma.subs(delta, 0.707).subs(gamma, 1)\n",
    "k0_gamma_inv = simplify(solve(k0_gamma - k, gamma)[0])\n",
    "\n",
    "nc_max_gamma = simplify(nc_max.subs(c2, c2_g).subs(c3, c3_g).subs(g1, cg1).subs(g2, cg2).subs(g3, cg3).subs(gamma, k0_gamma_inv))\n",
    "n_gamma = 1\n",
    "\n",
    "display(Math(\"k(\\Delta, \\gamma)|_{L_x = 0} = \" + latex(k0_gamma)))\n",
    "display(Math(\"k(\\Delta = 0.707, \\gamma = 1)|_{L_x = 0} = \" + latex(k0_gamma_1)))\n",
    "display(Math(\"\\gamma(\\Delta, k)|_{L_x = 0} = \" + latex(k0_gamma_inv)))\n",
    "\n",
    "display(Math(\"n_{c, max} = \" + latex(nc_max_gamma)))\n",
    "display(Math(\"n = \" + latex(n_gamma)))"
   ]
  },
  {
   "cell_type": "code",
   "execution_count": 60,
   "id": "d262077f-9e8c-4c57-852c-b2ca6ff4fc94",
   "metadata": {},
   "outputs": [
    {
     "data": {
      "text/latex": [
       "$\\displaystyle Z_{IN} = 1.0 Z_{0} k^{2}$"
      ],
      "text/plain": [
       "<IPython.core.display.Math object>"
      ]
     },
     "metadata": {},
     "output_type": "display_data"
    },
    {
     "data": {
      "text/latex": [
       "$\\displaystyle C_1 = \\frac{2.0}{Z_{0} \\Delta \\omega_{0} k^{2} \\sqrt{\\frac{- 3.0 \\Delta^{2} \\left(k^{2} - 1.0\\right) - 8.0 k^{2}}{\\Delta^{2} \\left(k^{2} - 1.0\\right)}}}$"
      ],
      "text/plain": [
       "<IPython.core.display.Math object>"
      ]
     },
     "metadata": {},
     "output_type": "display_data"
    },
    {
     "data": {
      "text/latex": [
       "$\\displaystyle L_p = \\frac{0.5 Z_{0} \\Delta k^{6} \\sqrt{\\frac{- 3.0 \\Delta^{2} \\left(k^{2} - 1.0\\right) - 8.0 k^{2}}{\\Delta^{2} \\left(k^{2} - 1.0\\right)}}}{\\omega_{0}}$"
      ],
      "text/plain": [
       "<IPython.core.display.Math object>"
      ]
     },
     "metadata": {},
     "output_type": "display_data"
    },
    {
     "data": {
      "text/latex": [
       "$\\displaystyle L_s = \\frac{0.5 Z_{0} \\Delta k^{6} \\sqrt{\\frac{- 3.0 \\Delta^{2} \\left(k^{2} - 1.0\\right) - 8.0 k^{2}}{\\Delta^{2} \\left(k^{2} - 1.0\\right)}}}{\\omega_{0}}$"
      ],
      "text/plain": [
       "<IPython.core.display.Math object>"
      ]
     },
     "metadata": {},
     "output_type": "display_data"
    },
    {
     "data": {
      "text/latex": [
       "$\\displaystyle L_x = 0$"
      ],
      "text/plain": [
       "<IPython.core.display.Math object>"
      ]
     },
     "metadata": {},
     "output_type": "display_data"
    },
    {
     "data": {
      "text/latex": [
       "$\\displaystyle C_x = \\frac{2.0}{Z_{0} \\Delta \\omega_{0} k^{2} \\sqrt{\\frac{- 3.0 \\Delta^{2} \\left(k^{2} - 1.0\\right) - 8.0 k^{2}}{\\Delta^{2} \\left(k^{2} - 1.0\\right)}}}$"
      ],
      "text/plain": [
       "<IPython.core.display.Math object>"
      ]
     },
     "metadata": {},
     "output_type": "display_data"
    },
    {
     "data": {
      "text/latex": [
       "$\\displaystyle C_y = 0$"
      ],
      "text/plain": [
       "<IPython.core.display.Math object>"
      ]
     },
     "metadata": {},
     "output_type": "display_data"
    },
    {
     "data": {
      "text/latex": [
       "$\\displaystyle C_z = - \\frac{2.0}{Z_{0} \\Delta \\omega_{0} \\sqrt{- \\frac{3.0 \\Delta^{2} \\left(k^{2} - 1.0\\right) + 8.0 k^{2}}{\\Delta^{2} \\left(k^{2} - 1.0\\right)}} \\left(k^{2} - 1.0\\right)}$"
      ],
      "text/plain": [
       "<IPython.core.display.Math object>"
      ]
     },
     "metadata": {},
     "output_type": "display_data"
    },
    {
     "data": {
      "text/latex": [
       "$\\displaystyle L_3 = \\frac{0.5 Z_{0} \\Delta \\sqrt{\\frac{- 3.0 \\Delta^{2} \\left(k^{2} - 1.0\\right) - 8.0 k^{2}}{\\Delta^{2} \\left(k^{2} - 1.0\\right)}}}{\\omega_{0}}$"
      ],
      "text/plain": [
       "<IPython.core.display.Math object>"
      ]
     },
     "metadata": {},
     "output_type": "display_data"
    },
    {
     "data": {
      "text/latex": [
       "$\\displaystyle Z_{OUT} = Z_{0}$"
      ],
      "text/plain": [
       "<IPython.core.display.Math object>"
      ]
     },
     "metadata": {},
     "output_type": "display_data"
    }
   ],
   "source": [
    "zin_gamma_val = simplify(zin_gamma.subs(gamma, k0_gamma_inv).subs(nc, nc_max_gamma).subs(n, n_gamma)) \n",
    "c1_gamma_val = simplify(c1_gamma.subs(gamma, k0_gamma_inv).subs(nc, nc_max_gamma).subs(n, n_gamma)) \n",
    "lp_gamma_val = simplify(lp_gamma.subs(gamma, k0_gamma_inv).subs(nc, nc_max_gamma).subs(n, n_gamma)) \n",
    "ls_gamma_val = simplify(ls_gamma.subs(gamma, k0_gamma_inv).subs(nc, nc_max_gamma).subs(n, n_gamma)) \n",
    "lx_gamma_val = simplify(lx_gamma.subs(gamma, k0_gamma_inv).subs(nc, nc_max_gamma).subs(n, n_gamma)) \n",
    "cx_gamma_val = simplify(cx_gamma.subs(gamma, k0_gamma_inv).subs(nc, nc_max_gamma).subs(n, n_gamma)) \n",
    "cy_gamma_val = simplify(cy_gamma.subs(gamma, k0_gamma_inv).subs(nc, nc_max_gamma).subs(n, n_gamma)) \n",
    "cz_gamma_val = simplify(cz_gamma.subs(gamma, k0_gamma_inv).subs(nc, nc_max_gamma).subs(n, n_gamma)) \n",
    "l3_gamma_val = simplify(l3_gamma.subs(gamma, k0_gamma_inv).subs(nc, nc_max_gamma).subs(n, n_gamma)) \n",
    "zout_gamma_val = simplify(zout_gamma.subs(gamma, k0_gamma_inv).subs(nc, nc_max_gamma).subs(n, n_gamma)) \n",
    "\n",
    "display(Math(\"Z_{IN} = \" + latex(zin_gamma_val)))\n",
    "display(Math(\"C_1 = \" + latex(c1_gamma_val)))\n",
    "display(Math(\"L_p = \" + latex(lp_gamma_val)))\n",
    "display(Math(\"L_s = \" + latex(ls_gamma_val)))\n",
    "display(Math(\"L_x = \" + latex(lx_gamma_val)))\n",
    "display(Math(\"C_x = \" + latex(cx_gamma_val)))\n",
    "display(Math(\"C_y = \" + latex(cy_gamma_val)))\n",
    "display(Math(\"C_z = \" + latex(cz_gamma_val)))\n",
    "display(Math(\"L_3 = \" + latex(l3_gamma_val)))\n",
    "display(Math(\"Z_{OUT} = \" + latex(zout_gamma_val)))"
   ]
  },
  {
   "cell_type": "markdown",
   "id": "d97a5d7f-defd-40e9-b9d4-e1c63b250d4a",
   "metadata": {},
   "source": [
    "<!-- ### All elements in terms of $g$ -->"
   ]
  },
  {
   "cell_type": "code",
   "execution_count": 40,
   "id": "9f2627b4-3489-4cd2-849a-687a734455a1",
   "metadata": {},
   "outputs": [],
   "source": [
    "# c1_g_ = simplify(c1_g * nc**2)\n",
    "# ls_g = simplify(ls.subs(l1, l1_g))\n",
    "# lp_g = simplify(lp.subs(l1, l1_g))\n",
    "# lx_g = simplify(lx.subs(l1, l1_g).subs(l2, l2_g))\n",
    "\n",
    "# cx_g = simplify((cx * n**2 / k**2).subs(c2, c2_g)) #.subs(ne, ne_))\n",
    "# cz_g = simplify((cz * n**2 / k**2).subs(c2, c2_g)) #.subs(ne, ne_))\n",
    "# cy_g = simplify((cy * n**2 / k**2).subs(c2, c2_g).subs(c3, c3_g)) #.subs(ne, ne_))\n",
    "\n",
    "# l3_g_ = simplify(l3_g * k**2 / n**2)\n",
    "\n",
    "# k0_g = simplify(solve(lx_g, k)[1])\n",
    "\n",
    "# display(Math(\"C_{1} = \" + latex(c1_g_)))\n",
    "\n",
    "# display(Math(\"L_{s} = \" + latex(ls_g)))\n",
    "# display(Math(\"L_{p} = \" + latex(lp_g)))\n",
    "# display(Math(\"L_{x} = \" + latex(lx_g)))\n",
    "\n",
    "# display(Math(\"C_{x} = \" + latex(cx_g)))\n",
    "# display(Math(\"C_{z} = \" + latex(cz_g)))\n",
    "# display(Math(\"C_{y} = \" + latex(cy_g)))\n",
    "\n",
    "# display(Math(\"L_3 = \" + latex(l3_g_)))\n",
    "\n",
    "# display(Math(\"k_{L_x = 0} = \" + latex(k0_g)))\n",
    "\n",
    "# print(\"latex code:\")\n",
    "# print(\"c1 = \" + latex(c1_g) + '\\n')\n",
    "# print(\"ls = \" + latex(ls_g) + '\\n')\n",
    "# print(\"lp = \" + latex(lp_g) + '\\n')\n",
    "# print(\"lx = \" + latex(lx_g) + '\\n')\n",
    "# print(\"cx = \" + latex(cx_g) + '\\n')\n",
    "# print(\"cz = \" + latex(cz_g) + '\\n')\n",
    "# print(\"cy = \" + latex(cy_g) + '\\n')\n",
    "# print(\"l3 = \" + latex(l3_g) + '\\n')"
   ]
  },
  {
   "cell_type": "markdown",
   "id": "9311f3f0-2158-47b5-8c28-b91e16155364",
   "metadata": {},
   "source": [
    "### All elements in terms of $\\gamma$"
   ]
  },
  {
   "cell_type": "code",
   "execution_count": 8,
   "id": "49598f10-9ab3-4337-bd48-d904e4669a2c",
   "metadata": {},
   "outputs": [
    {
     "data": {
      "text/latex": [
       "$\\displaystyle C_{1, \\gamma} = \\frac{n_{c}^{2}}{Z_{0} \\Delta \\gamma \\omega_{0}}$"
      ],
      "text/plain": [
       "<IPython.core.display.Math object>"
      ]
     },
     "metadata": {},
     "output_type": "display_data"
    },
    {
     "data": {
      "text/latex": [
       "$\\displaystyle L_{s, \\gamma} = \\frac{Z_{0} \\Delta \\gamma}{\\omega_{0} n_{c}^{2}}$"
      ],
      "text/plain": [
       "<IPython.core.display.Math object>"
      ]
     },
     "metadata": {},
     "output_type": "display_data"
    },
    {
     "data": {
      "text/latex": [
       "$\\displaystyle L_{p, \\gamma} = \\frac{Z_{0} \\Delta \\gamma}{\\omega_{0} n^{2} n_{c}^{2}}$"
      ],
      "text/plain": [
       "<IPython.core.display.Math object>"
      ]
     },
     "metadata": {},
     "output_type": "display_data"
    },
    {
     "data": {
      "text/latex": [
       "$\\displaystyle L_{x, \\gamma} = \\frac{Z_{0} \\gamma \\left(\\Delta^{2} \\left(\\gamma^{2} + 0.75\\right) \\left(k^{2} - 1\\right) + 2 k^{2}\\right)}{\\Delta \\omega_{0} n^{2} n_{c}^{2} \\left(\\gamma^{2} + 0.75\\right)}$"
      ],
      "text/plain": [
       "<IPython.core.display.Math object>"
      ]
     },
     "metadata": {},
     "output_type": "display_data"
    },
    {
     "data": {
      "text/latex": [
       "$\\displaystyle C_{x, \\gamma} = \\frac{\\Delta n^{2} n_{c} \\left(\\gamma^{2} + 0.75\\right) \\left(n_{c} - 1\\right)}{2 Z_{0} \\gamma \\omega_{0} k^{2}}$"
      ],
      "text/plain": [
       "<IPython.core.display.Math object>"
      ]
     },
     "metadata": {},
     "output_type": "display_data"
    },
    {
     "data": {
      "text/latex": [
       "$\\displaystyle C_{z, \\gamma} = \\frac{\\Delta n^{2} n_{c} \\left(\\gamma^{2} + 0.75\\right)}{2 Z_{0} \\gamma \\omega_{0} k^{2}}$"
      ],
      "text/plain": [
       "<IPython.core.display.Math object>"
      ]
     },
     "metadata": {},
     "output_type": "display_data"
    },
    {
     "data": {
      "text/latex": [
       "$\\displaystyle C_{y, \\gamma} = \\frac{n^{2} \\left(- \\Delta^{2} \\left(\\gamma^{2} + 0.75\\right) \\left(n_{c} - 1\\right) + 2\\right)}{2 Z_{0} \\Delta \\gamma \\omega_{0} k^{2}}$"
      ],
      "text/plain": [
       "<IPython.core.display.Math object>"
      ]
     },
     "metadata": {},
     "output_type": "display_data"
    },
    {
     "data": {
      "text/latex": [
       "$\\displaystyle L_{3, \\gamma} = \\frac{Z_{0} \\Delta \\gamma k^{2}}{\\omega_{0} n^{2}}$"
      ],
      "text/plain": [
       "<IPython.core.display.Math object>"
      ]
     },
     "metadata": {},
     "output_type": "display_data"
    },
    {
     "data": {
      "text/latex": [
       "$\\displaystyle k_{L_x = 0, \\gamma} = \\Delta \\sqrt{\\frac{\\gamma^{2} + 0.75}{\\Delta^{2} \\left(\\gamma^{2} + 0.75\\right) + 2}}$"
      ],
      "text/plain": [
       "<IPython.core.display.Math object>"
      ]
     },
     "metadata": {},
     "output_type": "display_data"
    },
    {
     "data": {
      "text/latex": [
       "$\\displaystyle \\gamma(\\Delta, k) = 0.5 \\sqrt{\\frac{- 3.0 \\Delta^{2} \\left(k^{2} - 1.0\\right) - 8.0 k^{2}}{\\Delta^{2} \\left(k^{2} - 1.0\\right)}}$"
      ],
      "text/plain": [
       "<IPython.core.display.Math object>"
      ]
     },
     "metadata": {},
     "output_type": "display_data"
    }
   ],
   "source": [
    "c1_gamma = simplify(c1_g_.subs(g1, cg1).subs(g2, cg2).subs(g3, cg3))\n",
    "\n",
    "lp_gamma = simplify(lp_g.subs(g1, cg1).subs(g2, cg2).subs(g3, cg3))\n",
    "ls_gamma = simplify(ls_g.subs(g1, cg1).subs(g2, cg2).subs(g3, cg3))\n",
    "lx_gamma = simplify(lx_g.subs(g1, cg1).subs(g2, cg2).subs(g3, cg3))\n",
    "\n",
    "cx_gamma = simplify(cx_g.subs(g1, cg1).subs(g2, cg2).subs(g3, cg3))\n",
    "cy_gamma = simplify(cy_g.subs(g1, cg1).subs(g2, cg2).subs(g3, cg3))\n",
    "cz_gamma = simplify(cz_g.subs(g1, cg1).subs(g2, cg2).subs(g3, cg3))\n",
    "\n",
    "l3_gamma = simplify(l3_g_.subs(g1, cg1).subs(g2, cg2).subs(g3, cg3))\n",
    "\n",
    "k0_gamma = simplify(k0_g.subs(g1, cg1).subs(g2, cg2).subs(g3, cg3))\n",
    "k0_gamma_inv = simplify(solve(k0_gamma - k, gamma)[0])\n",
    "\n",
    "display(Math(\"C_{1, \\gamma} = \" + latex(c1_gamma)))\n",
    "\n",
    "display(Math(\"L_{s, \\gamma} = \" + latex(ls_gamma)))\n",
    "display(Math(\"L_{p, \\gamma} = \" + latex(lp_gamma)))\n",
    "display(Math(\"L_{x, \\gamma} = \" + latex(lx_gamma)))\n",
    "\n",
    "display(Math(\"C_{x, \\gamma} = \" + latex(cx_gamma)))\n",
    "display(Math(\"C_{z, \\gamma} = \" + latex(cz_gamma)))\n",
    "display(Math(\"C_{y, \\gamma} = \" + latex(cy_gamma)))\n",
    "\n",
    "display(Math(\"L_{3, \\gamma} = \" + latex(l3_gamma)))\n",
    "\n",
    "display(Math(\"k_{L_x = 0, \\gamma} = \" + latex(k0_gamma)))\n",
    "display(Math(\"\\gamma(\\Delta, k) = \" + latex(k0_gamma_inv)))"
   ]
  },
  {
   "cell_type": "markdown",
   "id": "539edab1-fd75-4c92-a544-960082c687fa",
   "metadata": {},
   "source": [
    "### All elements in terms of $x$"
   ]
  },
  {
   "cell_type": "code",
   "execution_count": 9,
   "id": "3189b704-2c86-42cd-8fc9-572c5160b4d4",
   "metadata": {},
   "outputs": [
    {
     "data": {
      "text/latex": [
       "$\\displaystyle C_{1, x} = \\frac{n_{c}^{2} \\cdot \\left(6 x^{2} + \\frac{3}{2}\\right)}{Z_{0} \\Delta \\omega_{0} x \\left(4 x^{2} + 3\\right)}$"
      ],
      "text/plain": [
       "<IPython.core.display.Math object>"
      ]
     },
     "metadata": {},
     "output_type": "display_data"
    },
    {
     "data": {
      "text/latex": [
       "$\\displaystyle L_{s, x} = \\frac{2 Z_{0} \\Delta x \\left(4 x^{2} + 3\\right)}{3 \\omega_{0} n_{c}^{2} \\cdot \\left(4 x^{2} + 1\\right)}$"
      ],
      "text/plain": [
       "<IPython.core.display.Math object>"
      ]
     },
     "metadata": {},
     "output_type": "display_data"
    },
    {
     "data": {
      "text/latex": [
       "$\\displaystyle L_{p, x} = \\frac{2 Z_{0} \\Delta x \\left(4 x^{2} + 3\\right)}{3 \\omega_{0} n^{2} n_{c}^{2} \\cdot \\left(4 x^{2} + 1\\right)}$"
      ],
      "text/plain": [
       "<IPython.core.display.Math object>"
      ]
     },
     "metadata": {},
     "output_type": "display_data"
    },
    {
     "data": {
      "text/latex": [
       "$\\displaystyle L_{x, x} = \\frac{2 Z_{0} x \\left(\\Delta^{2} \\left(k^{2} - 1\\right) \\left(4 x^{2} + 3\\right) + 8 k^{2}\\right)}{3 \\Delta \\omega_{0} n^{2} n_{c}^{2} \\cdot \\left(4 x^{2} + 1\\right)}$"
      ],
      "text/plain": [
       "<IPython.core.display.Math object>"
      ]
     },
     "metadata": {},
     "output_type": "display_data"
    },
    {
     "data": {
      "text/latex": [
       "$\\displaystyle C_{x, x} = \\frac{3 \\Delta n^{2} n_{c} \\left(n_{c} - 1\\right) \\left(4 x^{2} + 1\\right)}{16 Z_{0} \\omega_{0} k^{2} x}$"
      ],
      "text/plain": [
       "<IPython.core.display.Math object>"
      ]
     },
     "metadata": {},
     "output_type": "display_data"
    },
    {
     "data": {
      "text/latex": [
       "$\\displaystyle C_{z, x} = \\frac{3 \\Delta n^{2} n_{c} \\left(4 x^{2} + 1\\right)}{16 Z_{0} \\omega_{0} k^{2} x}$"
      ],
      "text/plain": [
       "<IPython.core.display.Math object>"
      ]
     },
     "metadata": {},
     "output_type": "display_data"
    },
    {
     "data": {
      "text/latex": [
       "$\\displaystyle C_{y, x} = - \\frac{n^{2} \\cdot \\left(3 \\Delta^{2} \\left(n_{c} - 1\\right) \\left(4 x^{2} + 1\\right) - 8\\right)}{16 Z_{0} \\Delta \\omega_{0} k^{2} x}$"
      ],
      "text/plain": [
       "<IPython.core.display.Math object>"
      ]
     },
     "metadata": {},
     "output_type": "display_data"
    },
    {
     "data": {
      "text/latex": [
       "$\\displaystyle L_{3, x} = \\frac{2 Z_{0} \\Delta k^{2} x}{\\omega_{0} n^{2}}$"
      ],
      "text/plain": [
       "<IPython.core.display.Math object>"
      ]
     },
     "metadata": {},
     "output_type": "display_data"
    },
    {
     "data": {
      "text/latex": [
       "$\\displaystyle k_{L_x = 0, x} = \\Delta \\sqrt{\\frac{16 x^{4} + 16 x^{2} + 3}{\\left(4 x^{2} + 1\\right) \\left(\\Delta^{2} \\cdot \\left(4 x^{2} + 3\\right) + 8\\right)}}$"
      ],
      "text/plain": [
       "<IPython.core.display.Math object>"
      ]
     },
     "metadata": {},
     "output_type": "display_data"
    },
    {
     "data": {
      "text/latex": [
       "$\\displaystyle x(\\Delta, k) = \\frac{\\sqrt{\\frac{- 3 \\Delta^{2} \\left(k^{2} - 1\\right) - 8 k^{2}}{\\Delta^{2} \\left(k^{2} - 1\\right)}}}{2}$"
      ],
      "text/plain": [
       "<IPython.core.display.Math object>"
      ]
     },
     "metadata": {},
     "output_type": "display_data"
    }
   ],
   "source": [
    "c1_x = simplify(c1_g_.subs(g1, fg1).subs(g2, fg2).subs(g3, fg3))\n",
    "\n",
    "lp_x = simplify(lp_g.subs(g1, fg1).subs(g2, fg2).subs(g3, fg3))\n",
    "ls_x = simplify(ls_g.subs(g1, fg1).subs(g2, fg2).subs(g3, fg3))\n",
    "lx_x = simplify(lx_g.subs(g1, fg1).subs(g2, fg2).subs(g3, fg3))\n",
    "\n",
    "cx_x = simplify(cx_g.subs(g1, fg1).subs(g2, fg2).subs(g3, fg3))\n",
    "cy_x = simplify(cy_g.subs(g1, fg1).subs(g2, fg2).subs(g3, fg3))\n",
    "cz_x = simplify(cz_g.subs(g1, fg1).subs(g2, fg2).subs(g3, fg3))\n",
    "\n",
    "l3_x = simplify(l3_g_.subs(g1, fg1).subs(g2, fg2).subs(g3, fg3))\n",
    "\n",
    "k0_x = simplify(k0_g.subs(g1, fg1).subs(g2, fg2).subs(g3, fg3))\n",
    "k0_x_inv = simplify(solve(k0_x - k, x)[0])\n",
    "\n",
    "display(Math(\"C_{1, x} = \" + latex(c1_x)))\n",
    "\n",
    "display(Math(\"L_{s, x} = \" + latex(ls_x)))\n",
    "display(Math(\"L_{p, x} = \" + latex(lp_x)))\n",
    "display(Math(\"L_{x, x} = \" + latex(lx_x)))\n",
    "\n",
    "display(Math(\"C_{x, x} = \" + latex(cx_x)))\n",
    "display(Math(\"C_{z, x} = \" + latex(cz_x)))\n",
    "display(Math(\"C_{y, x} = \" + latex(cy_x)))\n",
    "\n",
    "display(Math(\"L_{3, x} = \" + latex(l3_x)))\n",
    "\n",
    "display(Math(\"k_{L_x = 0, x} = \" + latex(k0_x)))\n",
    "display(Math(\"x(\\Delta, k) = \" + latex(k0_x_inv)))"
   ]
  },
  {
   "cell_type": "code",
   "execution_count": 10,
   "id": "72fcf50f-cb2f-4943-a789-4f41f54318fa",
   "metadata": {},
   "outputs": [
    {
     "data": {
      "text/plain": [
       "17.99999999999997"
      ]
     },
     "execution_count": 10,
     "metadata": {},
     "output_type": "execute_result"
    }
   ],
   "source": [
    "50/0.6**2/2.77777777777778**2"
   ]
  },
  {
   "cell_type": "code",
   "execution_count": 11,
   "id": "caa7779a-ca03-4856-b969-327624e7385c",
   "metadata": {},
   "outputs": [
    {
     "data": {
      "text/plain": [
       "1.6666666666666667"
      ]
     },
     "execution_count": 11,
     "metadata": {},
     "output_type": "execute_result"
    }
   ],
   "source": [
    "1/0.6"
   ]
  },
  {
   "cell_type": "code",
   "execution_count": 12,
   "id": "4d85e3aa-ffe6-40f1-b1c0-7ef70cd1be75",
   "metadata": {},
   "outputs": [
    {
     "data": {
      "text/latex": [
       "$\\displaystyle n = 1$"
      ],
      "text/plain": [
       "<IPython.core.display.Math object>"
      ]
     },
     "metadata": {},
     "output_type": "display_data"
    },
    {
     "data": {
      "text/latex": [
       "$\\displaystyle k_{L_x = 0}\\Delta \\sqrt{\\frac{\\gamma^{2} + 0.75}{\\Delta^{2} \\left(\\gamma^{2} + 0.75\\right) + 2}}$"
      ],
      "text/plain": [
       "<IPython.core.display.Math object>"
      ]
     },
     "metadata": {},
     "output_type": "display_data"
    },
    {
     "data": {
      "text/latex": [
       "$\\displaystyle \\gamma_{L_x = 0} = 0.5 \\sqrt{\\frac{- 3.0 \\Delta^{2} \\left(k^{2} - 1.0\\right) - 8.0 k^{2}}{\\Delta^{2} \\left(k^{2} - 1.0\\right)}}$"
      ],
      "text/plain": [
       "<IPython.core.display.Math object>"
      ]
     },
     "metadata": {},
     "output_type": "display_data"
    },
    {
     "data": {
      "text/latex": [
       "$\\displaystyle \\gamma(L_x = 0, \\Delta = 0.707, k = 0.6) = 1.22502232847854$"
      ],
      "text/plain": [
       "<IPython.core.display.Math object>"
      ]
     },
     "metadata": {},
     "output_type": "display_data"
    },
    {
     "data": {
      "text/latex": [
       "$\\displaystyle n_c = \\frac{1.0}{k^{2}}$"
      ],
      "text/plain": [
       "<IPython.core.display.Math object>"
      ]
     },
     "metadata": {},
     "output_type": "display_data"
    },
    {
     "data": {
      "text/latex": [
       "$\\displaystyle n_c = 2.77777777777778$"
      ],
      "text/plain": [
       "<IPython.core.display.Math object>"
      ]
     },
     "metadata": {},
     "output_type": "display_data"
    },
    {
     "data": {
      "text/latex": [
       "$\\displaystyle k = 0.6$"
      ],
      "text/plain": [
       "<IPython.core.display.Math object>"
      ]
     },
     "metadata": {},
     "output_type": "display_data"
    }
   ],
   "source": [
    "n_gamma_ = 1\n",
    "k_gamma_ = k0_gamma\n",
    "gamma_ = k0_gamma_inv\n",
    "\n",
    "gamma_0 = gamma_.subs(delta, 0.707).subs(k, 0.6)\n",
    "\n",
    "nc_gamma_ = simplify((1 + c3_g / c2_g).subs(g1, cg1).subs(g2, cg2).subs(g3, cg3).subs(gamma, k0_gamma_inv))\n",
    "nc_gamma__ = nc_gamma_.subs(k, 0.6)\n",
    "\n",
    "display(Math(\"n = \" + latex(n_gamma_)))\n",
    "display(Math(\"k_{L_x = 0}\" + latex(k_gamma_)))\n",
    "display(Math(\"\\gamma_{L_x = 0} = \" + latex(gamma_)))\n",
    "display(Math(\"\\gamma(L_x = 0, \\Delta = 0.707, k = 0.6) = \" + latex(gamma_0)))\n",
    "display(Math(\"n_c = \" + latex(nc_gamma_)))\n",
    "display(Math(\"n_c = \" + latex(nc_gamma__)))\n",
    "display(Math(\"k = \" + latex(0.6)))"
   ]
  },
  {
   "cell_type": "code",
   "execution_count": 13,
   "id": "d9a022f0-7497-4320-b8e5-3c21ba3f88c7",
   "metadata": {},
   "outputs": [
    {
     "data": {
      "text/latex": [
       "$\\displaystyle C_1 = \\frac{8.90905376821365}{Z_{0} \\omega_{0}}$"
      ],
      "text/plain": [
       "<IPython.core.display.Math object>"
      ]
     },
     "metadata": {},
     "output_type": "display_data"
    },
    {
     "data": {
      "text/latex": [
       "$\\displaystyle L_p = \\frac{0.112245365895969 Z_{0}}{\\omega_{0}}$"
      ],
      "text/plain": [
       "<IPython.core.display.Math object>"
      ]
     },
     "metadata": {},
     "output_type": "display_data"
    },
    {
     "data": {
      "text/latex": [
       "$\\displaystyle L_s = \\frac{0.112245365895969 Z_{0}}{\\omega_{0}}$"
      ],
      "text/plain": [
       "<IPython.core.display.Math object>"
      ]
     },
     "metadata": {},
     "output_type": "display_data"
    },
    {
     "data": {
      "text/latex": [
       "$\\displaystyle L_x = \\frac{2.65850431200384 \\cdot 10^{-16} Z_{0}}{\\omega_{0}}$"
      ],
      "text/plain": [
       "<IPython.core.display.Math object>"
      ]
     },
     "metadata": {},
     "output_type": "display_data"
    },
    {
     "data": {
      "text/latex": [
       "$\\displaystyle C_x = \\frac{8.90905376821362}{Z_{0} \\omega_{0}}$"
      ],
      "text/plain": [
       "<IPython.core.display.Math object>"
      ]
     },
     "metadata": {},
     "output_type": "display_data"
    },
    {
     "data": {
      "text/latex": [
       "$\\displaystyle C_y = \\frac{8.54585564062547 \\cdot 10^{-15}}{Z_{0} \\omega_{0}}$"
      ],
      "text/plain": [
       "<IPython.core.display.Math object>"
      ]
     },
     "metadata": {},
     "output_type": "display_data"
    },
    {
     "data": {
      "text/latex": [
       "$\\displaystyle C_z = \\frac{5.01134274462016}{Z_{0} \\omega_{0}}$"
      ],
      "text/plain": [
       "<IPython.core.display.Math object>"
      ]
     },
     "metadata": {},
     "output_type": "display_data"
    },
    {
     "data": {
      "text/latex": [
       "$\\displaystyle L_3 = \\frac{0.311792683044358 Z_{0}}{\\omega_{0}}$"
      ],
      "text/plain": [
       "<IPython.core.display.Math object>"
      ]
     },
     "metadata": {},
     "output_type": "display_data"
    }
   ],
   "source": [
    "c1_gamma_ = simplify(c1_gamma.subs(nc, 2.77777777777778).subs(n, 1).subs(k, 0.6).subs(gamma, 1.22502232847854).subs(delta, 0.707))\n",
    "ls_gamma_ = simplify(ls_gamma.subs(nc, 2.77777777777778).subs(n, 1).subs(k, 0.6).subs(gamma, 1.22502232847854).subs(delta, 0.707))\n",
    "lp_gamma_ = simplify(lp_gamma.subs(nc, 2.77777777777778).subs(n, 1).subs(k, 0.6).subs(gamma, 1.22502232847854).subs(delta, 0.707))\n",
    "lx_gamma_ = simplify(lx_gamma.subs(nc, 2.77777777777778).subs(n, 1).subs(k, 0.6).subs(gamma, 1.22502232847854).subs(delta, 0.707))\n",
    "cx_gamma_ = simplify(cx_gamma.subs(nc, 2.77777777777778).subs(n, 1).subs(k, 0.6).subs(gamma, 1.22502232847854).subs(delta, 0.707))\n",
    "cy_gamma_ = simplify(cy_gamma.subs(nc, 2.77777777777778).subs(n, 1).subs(k, 0.6).subs(gamma, 1.22502232847854).subs(delta, 0.707))\n",
    "cz_gamma_ = simplify(cz_gamma.subs(nc, 2.77777777777778).subs(n, 1).subs(k, 0.6).subs(gamma, 1.22502232847854).subs(delta, 0.707))\n",
    "l3_gamma_ = simplify(l3_gamma.subs(nc, 2.77777777777778).subs(n, 1).subs(k, 0.6).subs(gamma, 1.22502232847854).subs(delta, 0.707))\n",
    "\n",
    "display(Math(\"C_1 = \" + latex(c1_gamma_)))\n",
    "display(Math(\"L_p = \" + latex(lp_gamma_)))\n",
    "display(Math(\"L_s = \" + latex(ls_gamma_)))\n",
    "display(Math(\"L_x = \" + latex(lx_gamma_)))\n",
    "display(Math(\"C_x = \" + latex(cx_gamma_)))\n",
    "display(Math(\"C_y = \" + latex(cy_gamma_)))\n",
    "display(Math(\"C_z = \" + latex(cz_gamma_)))\n",
    "display(Math(\"L_3 = \" + latex(l3_gamma_)))"
   ]
  },
  {
   "cell_type": "markdown",
   "id": "d288843f-b4c7-4c6b-9211-076873875aab",
   "metadata": {},
   "source": [
    "### All elements for given $\\Delta$, $L_x = L_0$, $L_s = L_p$, $n_{c} = n_{c, max}$"
   ]
  },
  {
   "cell_type": "markdown",
   "id": "62a58752-aa5b-4f69-828e-d1bea4114ca5",
   "metadata": {},
   "source": [
    "#### For $\\gamma$"
   ]
  },
  {
   "cell_type": "code",
   "execution_count": 14,
   "id": "a54efcef-5d05-42c5-818e-2de1c4f8882a",
   "metadata": {},
   "outputs": [
    {
     "data": {
      "text/latex": [
       "$\\displaystyle \\Delta = \\frac{\\sqrt{2}}{2}$"
      ],
      "text/plain": [
       "<IPython.core.display.Math object>"
      ]
     },
     "metadata": {},
     "output_type": "display_data"
    },
    {
     "data": {
      "text/latex": [
       "$\\displaystyle n = 1$"
      ],
      "text/plain": [
       "<IPython.core.display.Math object>"
      ]
     },
     "metadata": {},
     "output_type": "display_data"
    },
    {
     "data": {
      "text/latex": [
       "$\\displaystyle k = \\Delta \\sqrt{\\frac{\\gamma^{2} + 0.75}{\\Delta^{2} \\left(\\gamma^{2} + 0.75\\right) + 2}}$"
      ],
      "text/plain": [
       "<IPython.core.display.Math object>"
      ]
     },
     "metadata": {},
     "output_type": "display_data"
    },
    {
     "data": {
      "text/latex": [
       "$\\displaystyle \\gamma(\\Delta, k) = 0.5 \\sqrt{\\frac{- 3.0 \\Delta^{2} \\left(k^{2} - 1.0\\right) - 8.0 k^{2}}{\\Delta^{2} \\left(k^{2} - 1.0\\right)}}$"
      ],
      "text/plain": [
       "<IPython.core.display.Math object>"
      ]
     },
     "metadata": {},
     "output_type": "display_data"
    },
    {
     "data": {
      "text/latex": [
       "$\\displaystyle n_c = \\frac{1.0}{k^{2}}$"
      ],
      "text/plain": [
       "<IPython.core.display.Math object>"
      ]
     },
     "metadata": {},
     "output_type": "display_data"
    },
    {
     "data": {
      "text/latex": [
       "$\\displaystyle C_1 = \\frac{2.0}{Z_{0} \\Delta \\omega_{0} k^{4} \\sqrt{\\frac{- 3.0 \\Delta^{2} \\left(k^{2} - 1.0\\right) - 8.0 k^{2}}{\\Delta^{2} \\left(k^{2} - 1.0\\right)}}}$"
      ],
      "text/plain": [
       "<IPython.core.display.Math object>"
      ]
     },
     "metadata": {},
     "output_type": "display_data"
    },
    {
     "data": {
      "text/latex": [
       "$\\displaystyle L_p = \\frac{0.5 Z_{0} \\Delta k^{4} \\sqrt{\\frac{- 3.0 \\Delta^{2} \\left(k^{2} - 1.0\\right) - 8.0 k^{2}}{\\Delta^{2} \\left(k^{2} - 1.0\\right)}}}{\\omega_{0}}$"
      ],
      "text/plain": [
       "<IPython.core.display.Math object>"
      ]
     },
     "metadata": {},
     "output_type": "display_data"
    },
    {
     "data": {
      "text/latex": [
       "$\\displaystyle L_s = \\frac{0.5 Z_{0} \\Delta k^{4} \\sqrt{\\frac{- 3.0 \\Delta^{2} \\left(k^{2} - 1.0\\right) - 8.0 k^{2}}{\\Delta^{2} \\left(k^{2} - 1.0\\right)}}}{\\omega_{0}}$"
      ],
      "text/plain": [
       "<IPython.core.display.Math object>"
      ]
     },
     "metadata": {},
     "output_type": "display_data"
    },
    {
     "data": {
      "text/latex": [
       "$\\displaystyle L_x = 0$"
      ],
      "text/plain": [
       "<IPython.core.display.Math object>"
      ]
     },
     "metadata": {},
     "output_type": "display_data"
    },
    {
     "data": {
      "text/latex": [
       "$\\displaystyle C_x = \\frac{2.0}{Z_{0} \\Delta \\omega_{0} k^{4} \\sqrt{\\frac{- 3.0 \\Delta^{2} \\left(k^{2} - 1.0\\right) - 8.0 k^{2}}{\\Delta^{2} \\left(k^{2} - 1.0\\right)}}}$"
      ],
      "text/plain": [
       "<IPython.core.display.Math object>"
      ]
     },
     "metadata": {},
     "output_type": "display_data"
    },
    {
     "data": {
      "text/latex": [
       "$\\displaystyle C_y = 0$"
      ],
      "text/plain": [
       "<IPython.core.display.Math object>"
      ]
     },
     "metadata": {},
     "output_type": "display_data"
    },
    {
     "data": {
      "text/latex": [
       "$\\displaystyle C_z = - \\frac{2.0}{Z_{0} \\Delta \\omega_{0} k^{2} \\sqrt{- \\frac{3.0 \\Delta^{2} \\left(k^{2} - 1.0\\right) + 8.0 k^{2}}{\\Delta^{2} \\left(k^{2} - 1.0\\right)}} \\left(k^{2} - 1.0\\right)}$"
      ],
      "text/plain": [
       "<IPython.core.display.Math object>"
      ]
     },
     "metadata": {},
     "output_type": "display_data"
    },
    {
     "data": {
      "text/latex": [
       "$\\displaystyle L_3 = \\frac{0.5 Z_{0} \\Delta k^{2} \\sqrt{\\frac{- 3.0 \\Delta^{2} \\left(k^{2} - 1.0\\right) - 8.0 k^{2}}{\\Delta^{2} \\left(k^{2} - 1.0\\right)}}}{\\omega_{0}}$"
      ],
      "text/plain": [
       "<IPython.core.display.Math object>"
      ]
     },
     "metadata": {},
     "output_type": "display_data"
    }
   ],
   "source": [
    "delta_gamma_ = sqrt(2) / 2\n",
    "n_gamma_ = 1\n",
    "k_gamma_ = k0_gamma\n",
    "gamma_ = k0_gamma_inv\n",
    "nc_gamma_ = simplify((1 + c3_g / c2_g).subs(g1, cg1).subs(g2, cg2).subs(g3, cg3).subs(gamma, k0_gamma_inv))\n",
    "\n",
    "c1_gamma_ = simplify(c1_gamma.subs(gamma, k0_gamma_inv).subs(nc, nc_gamma_).subs(n, n_gamma_))\n",
    "ls_gamma_ = simplify(ls_gamma.subs(gamma, k0_gamma_inv).subs(nc, nc_gamma_).subs(n, n_gamma_))\n",
    "lp_gamma_ = simplify(lp_gamma.subs(gamma, k0_gamma_inv).subs(nc, nc_gamma_).subs(n, n_gamma_))\n",
    "lx_gamma_ = simplify(lx_gamma.subs(gamma, k0_gamma_inv).subs(nc, nc_gamma_).subs(n, n_gamma_))\n",
    "cx_gamma_ = simplify(cx_gamma.subs(gamma, k0_gamma_inv).subs(nc, nc_gamma_).subs(n, n_gamma_))\n",
    "cy_gamma_ = simplify(cy_gamma.subs(gamma, k0_gamma_inv).subs(nc, nc_gamma_).subs(n, n_gamma_))\n",
    "cz_gamma_ = simplify(cz_gamma.subs(gamma, k0_gamma_inv).subs(nc, nc_gamma_).subs(n, n_gamma_))\n",
    "l3_gamma_ = simplify(l3_gamma.subs(gamma, k0_gamma_inv).subs(nc, nc_gamma_).subs(n, n_gamma_))\n",
    "\n",
    "display(Math(\"\\Delta = \" + latex(delta_gamma_)))\n",
    "display(Math(\"n = \" + latex(n_gamma_)))\n",
    "display(Math(\"k = \" + latex(k_gamma_)))\n",
    "display(Math(\"\\gamma(\\Delta, k) = \" + latex(gamma_)))\n",
    "display(Math(\"n_c = \" + latex(nc_gamma_)))\n",
    "\n",
    "display(Math(\"C_1 = \" + latex(c1_gamma_)))\n",
    "display(Math(\"L_p = \" + latex(lp_gamma_)))\n",
    "display(Math(\"L_s = \" + latex(ls_gamma_)))\n",
    "display(Math(\"L_x = \" + latex(lx_gamma_)))\n",
    "display(Math(\"C_x = \" + latex(cx_gamma_)))\n",
    "display(Math(\"C_y = \" + latex(cy_gamma_)))\n",
    "display(Math(\"C_z = \" + latex(cz_gamma_)))\n",
    "display(Math(\"L_3 = \" + latex(l3_gamma_)))\n",
    "\n",
    "# display(Math(\" = \" + latex()))"
   ]
  },
  {
   "cell_type": "code",
   "execution_count": 15,
   "id": "ca0d0b1f-da3e-4aa7-9253-aa4200ef79c5",
   "metadata": {},
   "outputs": [
    {
     "data": {
      "text/latex": [
       "$\\displaystyle C_1 = \\frac{7.27476112331839}{Z_{0} \\Delta \\omega_{0} \\sqrt{-0.666666666666667 + \\frac{1}{\\Delta^{2}}}}$"
      ],
      "text/plain": [
       "<IPython.core.display.Math object>"
      ]
     },
     "metadata": {},
     "output_type": "display_data"
    },
    {
     "data": {
      "text/latex": [
       "$\\displaystyle L_p = \\frac{0.137461558262665 Z_{0} \\Delta \\sqrt{-0.666666666666667 + \\frac{1}{\\Delta^{2}}}}{\\omega_{0}}$"
      ],
      "text/plain": [
       "<IPython.core.display.Math object>"
      ]
     },
     "metadata": {},
     "output_type": "display_data"
    },
    {
     "data": {
      "text/latex": [
       "$\\displaystyle L_s = \\frac{0.137461558262665 Z_{0} \\Delta \\sqrt{-0.666666666666667 + \\frac{1}{\\Delta^{2}}}}{\\omega_{0}}$"
      ],
      "text/plain": [
       "<IPython.core.display.Math object>"
      ]
     },
     "metadata": {},
     "output_type": "display_data"
    },
    {
     "data": {
      "text/latex": [
       "$\\displaystyle L_x = 0$"
      ],
      "text/plain": [
       "<IPython.core.display.Math object>"
      ]
     },
     "metadata": {},
     "output_type": "display_data"
    },
    {
     "data": {
      "text/latex": [
       "$\\displaystyle C_x = \\frac{7.27476112331839}{Z_{0} \\Delta \\omega_{0} \\sqrt{-0.666666666666667 + \\frac{1}{\\Delta^{2}}}}$"
      ],
      "text/plain": [
       "<IPython.core.display.Math object>"
      ]
     },
     "metadata": {},
     "output_type": "display_data"
    },
    {
     "data": {
      "text/latex": [
       "$\\displaystyle C_y = 0$"
      ],
      "text/plain": [
       "<IPython.core.display.Math object>"
      ]
     },
     "metadata": {},
     "output_type": "display_data"
    },
    {
     "data": {
      "text/latex": [
       "$\\displaystyle C_z = \\frac{4.0920531318666}{Z_{0} \\Delta \\omega_{0} \\sqrt{-0.666666666666667 + \\frac{1}{\\Delta^{2}}}}$"
      ],
      "text/plain": [
       "<IPython.core.display.Math object>"
      ]
     },
     "metadata": {},
     "output_type": "display_data"
    },
    {
     "data": {
      "text/latex": [
       "$\\displaystyle L_3 = \\frac{0.381837661840736 Z_{0} \\Delta \\sqrt{-0.666666666666667 + \\frac{1}{\\Delta^{2}}}}{\\omega_{0}}$"
      ],
      "text/plain": [
       "<IPython.core.display.Math object>"
      ]
     },
     "metadata": {},
     "output_type": "display_data"
    }
   ],
   "source": [
    "c1_gamma_val = simplify(c1_gamma_.subs(k, 0.6))\n",
    "ls_gamma_val = simplify(ls_gamma_.subs(k, 0.6))\n",
    "lp_gamma_val = simplify(lp_gamma_.subs(k, 0.6))\n",
    "lx_gamma_val = simplify(lx_gamma_.subs(k, 0.6))\n",
    "cx_gamma_val = simplify(cx_gamma_.subs(k, 0.6))\n",
    "cy_gamma_val = simplify(cy_gamma_.subs(k, 0.6))\n",
    "cz_gamma_val = simplify(cz_gamma_.subs(k, 0.6))\n",
    "l3_gamma_val = simplify(l3_gamma_.subs(k, 0.6))\n",
    "\n",
    "display(Math(\"C_1 = \" + latex(c1_gamma_val)))\n",
    "display(Math(\"L_p = \" + latex(lp_gamma_val)))\n",
    "display(Math(\"L_s = \" + latex(ls_gamma_val)))\n",
    "display(Math(\"L_x = \" + latex(lx_gamma_val)))\n",
    "display(Math(\"C_x = \" + latex(cx_gamma_val)))\n",
    "display(Math(\"C_y = \" + latex(cy_gamma_val)))\n",
    "display(Math(\"C_z = \" + latex(cz_gamma_val)))\n",
    "display(Math(\"L_3 = \" + latex(l3_gamma_val)))"
   ]
  },
  {
   "cell_type": "markdown",
   "id": "97eea916-b3f1-41a4-a726-898eb51e7c65",
   "metadata": {},
   "source": [
    "#### For $x$"
   ]
  },
  {
   "cell_type": "code",
   "execution_count": 16,
   "id": "2799304a-0cd0-4578-8069-df5c1fc31723",
   "metadata": {},
   "outputs": [
    {
     "data": {
      "text/latex": [
       "$\\displaystyle \\Delta = \\frac{\\sqrt{2}}{2}$"
      ],
      "text/plain": [
       "<IPython.core.display.Math object>"
      ]
     },
     "metadata": {},
     "output_type": "display_data"
    },
    {
     "data": {
      "text/latex": [
       "$\\displaystyle n = 1$"
      ],
      "text/plain": [
       "<IPython.core.display.Math object>"
      ]
     },
     "metadata": {},
     "output_type": "display_data"
    },
    {
     "data": {
      "text/latex": [
       "$\\displaystyle k = \\Delta \\sqrt{\\frac{16 x^{4} + 16 x^{2} + 3}{\\left(4 x^{2} + 1\\right) \\left(\\Delta^{2} \\cdot \\left(4 x^{2} + 3\\right) + 8\\right)}}$"
      ],
      "text/plain": [
       "<IPython.core.display.Math object>"
      ]
     },
     "metadata": {},
     "output_type": "display_data"
    },
    {
     "data": {
      "text/latex": [
       "$\\displaystyle \\gamma(\\Delta, k) = \\frac{\\sqrt{\\frac{- 3 \\Delta^{2} \\left(k^{2} - 1\\right) - 8 k^{2}}{\\Delta^{2} \\left(k^{2} - 1\\right)}}}{2}$"
      ],
      "text/plain": [
       "<IPython.core.display.Math object>"
      ]
     },
     "metadata": {},
     "output_type": "display_data"
    },
    {
     "data": {
      "text/latex": [
       "$\\displaystyle n_c = \\frac{3 \\Delta^{2} \\cdot \\left(1 - k^{2}\\right) - 8 k^{2} - 4}{3 \\left(- \\Delta^{2} \\left(k^{2} - 1\\right) - 4 k^{2}\\right)}$"
      ],
      "text/plain": [
       "<IPython.core.display.Math object>"
      ]
     },
     "metadata": {},
     "output_type": "display_data"
    },
    {
     "data": {
      "text/latex": [
       "$\\displaystyle C_1 = \\frac{\\left(3 \\Delta^{2} \\left(k^{2} - 1\\right) + 8 k^{2} + 4\\right)^{2}}{12 Z_{0} \\Delta \\omega_{0} k^{2} \\sqrt{\\frac{- 3 \\Delta^{2} \\left(k^{2} - 1\\right) - 8 k^{2}}{\\Delta^{2} \\left(k^{2} - 1\\right)}} \\left(\\Delta^{2} \\left(k^{2} - 1\\right) + 4 k^{2}\\right)}$"
      ],
      "text/plain": [
       "<IPython.core.display.Math object>"
      ]
     },
     "metadata": {},
     "output_type": "display_data"
    },
    {
     "data": {
      "text/latex": [
       "$\\displaystyle L_p = \\frac{12 Z_{0} \\Delta k^{2} \\sqrt{\\frac{- 3 \\Delta^{2} \\left(k^{2} - 1\\right) - 8 k^{2}}{\\Delta^{2} \\left(k^{2} - 1\\right)}} \\left(\\Delta^{2} \\left(k^{2} - 1\\right) + 4 k^{2}\\right)}{\\omega_{0} \\left(3 \\Delta^{2} \\left(k^{2} - 1\\right) + 8 k^{2} + 4\\right)^{2}}$"
      ],
      "text/plain": [
       "<IPython.core.display.Math object>"
      ]
     },
     "metadata": {},
     "output_type": "display_data"
    },
    {
     "data": {
      "text/latex": [
       "$\\displaystyle L_s = \\frac{12 Z_{0} \\Delta k^{2} \\sqrt{\\frac{- 3 \\Delta^{2} \\left(k^{2} - 1\\right) - 8 k^{2}}{\\Delta^{2} \\left(k^{2} - 1\\right)}} \\left(\\Delta^{2} \\left(k^{2} - 1\\right) + 4 k^{2}\\right)}{\\omega_{0} \\left(3 \\Delta^{2} \\left(k^{2} - 1\\right) + 8 k^{2} + 4\\right)^{2}}$"
      ],
      "text/plain": [
       "<IPython.core.display.Math object>"
      ]
     },
     "metadata": {},
     "output_type": "display_data"
    },
    {
     "data": {
      "text/latex": [
       "$\\displaystyle L_x = 0$"
      ],
      "text/plain": [
       "<IPython.core.display.Math object>"
      ]
     },
     "metadata": {},
     "output_type": "display_data"
    },
    {
     "data": {
      "text/latex": [
       "$\\displaystyle C_x = \\frac{\\Delta^{2} k^{2} - \\Delta^{2} + \\frac{8 k^{2}}{3} + \\frac{4}{3}}{Z_{0} \\Delta \\omega_{0} k^{2} \\sqrt{\\frac{- 3 \\Delta^{2} k^{2} + 3 \\Delta^{2} - 8 k^{2}}{\\Delta^{2} \\left(k^{2} - 1\\right)}} \\left(\\Delta^{2} k^{2} - \\Delta^{2} + 4 k^{2}\\right)}$"
      ],
      "text/plain": [
       "<IPython.core.display.Math object>"
      ]
     },
     "metadata": {},
     "output_type": "display_data"
    },
    {
     "data": {
      "text/latex": [
       "$\\displaystyle C_y = 0$"
      ],
      "text/plain": [
       "<IPython.core.display.Math object>"
      ]
     },
     "metadata": {},
     "output_type": "display_data"
    },
    {
     "data": {
      "text/latex": [
       "$\\displaystyle C_z = \\frac{- 3 \\Delta^{2} k^{2} + 3 \\Delta^{2} - 8 k^{2} - 4}{4 Z_{0} \\Delta \\omega_{0} k^{2} \\sqrt{\\frac{- 3 \\Delta^{2} k^{2} + 3 \\Delta^{2} - 8 k^{2}}{\\Delta^{2} \\left(k^{2} - 1\\right)}} \\left(k^{2} - 1\\right)}$"
      ],
      "text/plain": [
       "<IPython.core.display.Math object>"
      ]
     },
     "metadata": {},
     "output_type": "display_data"
    },
    {
     "data": {
      "text/latex": [
       "$\\displaystyle L_3 = \\frac{Z_{0} \\Delta k^{2} \\sqrt{\\frac{- 3 \\Delta^{2} \\left(k^{2} - 1\\right) - 8 k^{2}}{\\Delta^{2} \\left(k^{2} - 1\\right)}}}{\\omega_{0}}$"
      ],
      "text/plain": [
       "<IPython.core.display.Math object>"
      ]
     },
     "metadata": {},
     "output_type": "display_data"
    }
   ],
   "source": [
    "delta_x_ = sqrt(2) / 2\n",
    "n_x_ = 1\n",
    "k_x_ = k0_x\n",
    "x_ = k0_x_inv\n",
    "nc_x_ = simplify((1 + c3_g / c2_g).subs(g1, fg1).subs(g2, fg2).subs(g3, fg3).subs(x, k0_x_inv))\n",
    "\n",
    "c1_x_ = simplify(c1_x.subs(x, k0_x_inv).subs(nc, nc_x_).subs(n, n_x_))\n",
    "ls_x_ = simplify(ls_x.subs(x, k0_x_inv).subs(nc, nc_x_).subs(n, n_x_))\n",
    "lp_x_ = simplify(lp_x.subs(x, k0_x_inv).subs(nc, nc_x_).subs(n, n_x_))\n",
    "lx_x_ = simplify(lx_x.subs(x, k0_x_inv).subs(nc, nc_x_).subs(n, n_x_))\n",
    "cx_x_ = simplify(cx_x.subs(x, k0_x_inv).subs(nc, nc_x_).subs(n, n_x_))\n",
    "cy_x_ = simplify(cy_x.subs(x, k0_x_inv).subs(nc, nc_x_).subs(n, n_x_))\n",
    "cz_x_ = simplify(cz_x.subs(x, k0_x_inv).subs(nc, nc_x_).subs(n, n_x_))\n",
    "l3_x_ = simplify(l3_x.subs(x, k0_x_inv).subs(nc, nc_x_).subs(n, n_x_))\n",
    "\n",
    "display(Math(\"\\Delta = \" + latex(delta_x_)))\n",
    "display(Math(\"n = \" + latex(n_x_)))\n",
    "display(Math(\"k = \" + latex(k_x_)))\n",
    "display(Math(\"\\gamma(\\Delta, k) = \" + latex(x_)))\n",
    "display(Math(\"n_c = \" + latex(nc_x_)))\n",
    "\n",
    "display(Math(\"C_1 = \" + latex(c1_x_)))\n",
    "display(Math(\"L_p = \" + latex(lp_x_)))\n",
    "display(Math(\"L_s = \" + latex(ls_x_)))\n",
    "display(Math(\"L_x = \" + latex(lx_x_)))\n",
    "display(Math(\"C_x = \" + latex(cx_x_)))\n",
    "display(Math(\"C_y = \" + latex(cy_x_)))\n",
    "display(Math(\"C_z = \" + latex(cz_x_)))\n",
    "display(Math(\"L_3 = \" + latex(l3_x_)))\n",
    "\n",
    "# display(Math(\" = \" + latex()))"
   ]
  },
  {
   "cell_type": "code",
   "execution_count": null,
   "id": "8d343f4a-8329-43eb-a944-9021b9e9e494",
   "metadata": {},
   "outputs": [],
   "source": []
  },
  {
   "cell_type": "code",
   "execution_count": null,
   "id": "835bc696-49aa-4905-a1bf-7ee644c818c8",
   "metadata": {},
   "outputs": [],
   "source": []
  },
  {
   "cell_type": "code",
   "execution_count": 17,
   "id": "bfe76745-4dbb-40c2-8da8-087dbfe72ad2",
   "metadata": {},
   "outputs": [
    {
     "name": "stdout",
     "output_type": "stream",
     "text": [
      "0.04364805402450113\n"
     ]
    }
   ],
   "source": [
    "import numpy as np\n",
    "\n",
    "print(10 * np.log10(1 / (1 - 0.01)))"
   ]
  },
  {
   "cell_type": "code",
   "execution_count": 18,
   "id": "17d2b035-f3f9-4830-9f52-577c4abb76c9",
   "metadata": {},
   "outputs": [
    {
     "data": {
      "text/plain": [
       "0.14139004430676444"
      ]
     },
     "execution_count": 18,
     "metadata": {},
     "output_type": "execute_result"
    }
   ],
   "source": [
    "(1 - 1 / 10**(0.0877/10))**0.5"
   ]
  },
  {
   "cell_type": "code",
   "execution_count": null,
   "id": "9c3838f0-05db-4317-9e3b-d0e1d9ad220a",
   "metadata": {},
   "outputs": [],
   "source": []
  },
  {
   "cell_type": "code",
   "execution_count": null,
   "id": "779306d8-edc4-41d5-9786-bc680da4ce0a",
   "metadata": {},
   "outputs": [],
   "source": []
  }
 ],
 "metadata": {
  "kernelspec": {
   "display_name": "Python 3 (ipykernel)",
   "language": "python",
   "name": "python3"
  },
  "language_info": {
   "codemirror_mode": {
    "name": "ipython",
    "version": 3
   },
   "file_extension": ".py",
   "mimetype": "text/x-python",
   "name": "python",
   "nbconvert_exporter": "python",
   "pygments_lexer": "ipython3",
   "version": "3.10.9"
  }
 },
 "nbformat": 4,
 "nbformat_minor": 5
}
