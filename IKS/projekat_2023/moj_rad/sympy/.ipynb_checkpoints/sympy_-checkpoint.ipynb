{
 "cells": [
  {
   "cell_type": "code",
   "execution_count": 1,
   "id": "64303343-73bf-4f80-8f6f-b52b3c2802af",
   "metadata": {},
   "outputs": [],
   "source": [
    "from IPython.display import display, Math, Latex\n",
    "from sympy import *\n",
    "from sympy.solvers import solve\n",
    "import numpy as np"
   ]
  },
  {
   "cell_type": "markdown",
   "id": "841d99ef-4785-44ea-8f7c-d2b3235789d7",
   "metadata": {},
   "source": [
    "## $g$ in terams of $\\gamma$"
   ]
  },
  {
   "cell_type": "code",
   "execution_count": 2,
   "id": "46534e3f-a23e-41a3-9e97-5cce4009f3b4",
   "metadata": {},
   "outputs": [
    {
     "data": {
      "text/latex": [
       "$\\displaystyle Z_{IN} = Z_{0}$"
      ],
      "text/plain": [
       "<IPython.core.display.Math object>"
      ]
     },
     "metadata": {},
     "output_type": "display_data"
    },
    {
     "data": {
      "text/latex": [
       "$\\displaystyle g_1 = \\frac{1}{\\gamma}$"
      ],
      "text/plain": [
       "<IPython.core.display.Math object>"
      ]
     },
     "metadata": {},
     "output_type": "display_data"
    },
    {
     "data": {
      "text/latex": [
       "$\\displaystyle g_2 = \\frac{2 \\gamma}{\\gamma^{2} + 0.75}$"
      ],
      "text/plain": [
       "<IPython.core.display.Math object>"
      ]
     },
     "metadata": {},
     "output_type": "display_data"
    },
    {
     "data": {
      "text/latex": [
       "$\\displaystyle g_3 = \\frac{1}{\\gamma}$"
      ],
      "text/plain": [
       "<IPython.core.display.Math object>"
      ]
     },
     "metadata": {},
     "output_type": "display_data"
    },
    {
     "data": {
      "text/latex": [
       "$\\displaystyle Z_{OUT} = Z_{0}$"
      ],
      "text/plain": [
       "<IPython.core.display.Math object>"
      ]
     },
     "metadata": {},
     "output_type": "display_data"
    },
    {
     "name": "stdout",
     "output_type": "stream",
     "text": [
      "\n",
      "Latex code:\n",
      "g1 = \\frac{1}{\\gamma}\n",
      "\n",
      "g2 = \\frac{2 \\gamma}{\\gamma^{2} + 0.75}\n",
      "\n",
      "g3 = \\frac{1}{\\gamma}\n"
     ]
    }
   ],
   "source": [
    "cg1, cg2, cg3 = symbols('g_1 g_2 g_3')\n",
    "gamma = symbols(r'\\gamma')\n",
    "z0 = symbols('Z_0')\n",
    "\n",
    "cg1 = 1 / gamma\n",
    "cg2 = 2 * gamma / (gamma**2 + 3/4)\n",
    "cg3 = 1 / gamma\n",
    "\n",
    "display(Math(\"Z_{IN} = \" + latex(z0)))\n",
    "display(Math(\"g_1 = \" + latex(cg1)))\n",
    "display(Math(\"g_2 = \" + latex(cg2)))\n",
    "display(Math(\"g_3 = \" + latex(cg3)))\n",
    "display(Math(\"Z_{OUT} = \" + latex(z0)))\n",
    "\n",
    "print(\"\\nLatex code:\")\n",
    "print(\"g1 = \" + latex(cg1) + '\\n')\n",
    "print(\"g2 = \" + latex(cg2) + '\\n')\n",
    "print(\"g3 = \" + latex(cg3))"
   ]
  },
  {
   "cell_type": "markdown",
   "id": "45a2e48d-1c80-4171-ae19-9409dff4d098",
   "metadata": {},
   "source": [
    "## $g$ in terms of $x$"
   ]
  },
  {
   "cell_type": "code",
   "execution_count": 3,
   "id": "4919bb14-c06b-4092-9ae5-8c3355216b1d",
   "metadata": {},
   "outputs": [
    {
     "data": {
      "text/latex": [
       "$\\displaystyle Z_{IN} = Z_{0}$"
      ],
      "text/plain": [
       "<IPython.core.display.Math object>"
      ]
     },
     "metadata": {},
     "output_type": "display_data"
    },
    {
     "data": {
      "text/latex": [
       "$\\displaystyle g_1 = \\frac{12 x^{2} + 3}{8 x^{3} + 6 x}$"
      ],
      "text/plain": [
       "<IPython.core.display.Math object>"
      ]
     },
     "metadata": {},
     "output_type": "display_data"
    },
    {
     "data": {
      "text/latex": [
       "$\\displaystyle g_2 = \\frac{16 x}{3 \\cdot \\left(4 x^{2} + 1\\right)}$"
      ],
      "text/plain": [
       "<IPython.core.display.Math object>"
      ]
     },
     "metadata": {},
     "output_type": "display_data"
    },
    {
     "data": {
      "text/latex": [
       "$\\displaystyle g_3 = \\frac{1}{2 x}$"
      ],
      "text/plain": [
       "<IPython.core.display.Math object>"
      ]
     },
     "metadata": {},
     "output_type": "display_data"
    },
    {
     "data": {
      "text/latex": [
       "$\\displaystyle Z_{OUT} = Z_{0}$"
      ],
      "text/plain": [
       "<IPython.core.display.Math object>"
      ]
     },
     "metadata": {},
     "output_type": "display_data"
    },
    {
     "name": "stdout",
     "output_type": "stream",
     "text": [
      "\n",
      "Latex code:\n",
      "g1 = \\frac{12 x^{2} + 3}{8 x^{3} + 6 x}\n",
      "\n",
      "g2 = \\frac{16 x}{3 \\cdot \\left(4 x^{2} + 1\\right)}\n",
      "\n",
      "g3 = \\frac{1}{2 x}\n"
     ]
    }
   ],
   "source": [
    "fg1_, fg2_, fg3_ = symbols('g_1 g_2 g_3')\n",
    "x, n, r = symbols('x n r')\n",
    "\n",
    "fg3_ = sin(pi / 2 / n) / x\n",
    "fg3 = simplify(fg3_.subs(n, 3))\n",
    "\n",
    "tmp  = 4 * sin(pi*(2*r - 1) / 2 / n) * sin(pi * (2 * r + 1) / 2 / n) / (2 * x**2 * (1 - cos(r * pi / n)) + (sin(r * pi / n))**2)\n",
    "fg2_ = 1 / fg3 * tmp\n",
    "fg2 = simplify(fg2_.subs(n, 3).subs(r, 2))\n",
    "\n",
    "fg1_ = 1 / fg2 * tmp\n",
    "fg1 = simplify(fg1_.subs(n, 3).subs(r, 1))\n",
    "\n",
    "display(Math(\"Z_{IN} = \" + latex(z0)))\n",
    "display(Math(\"g_1 = \" + latex(fg1)))\n",
    "display(Math(\"g_2 = \" + latex(fg2)))\n",
    "display(Math(\"g_3 = \" + latex(fg3)))\n",
    "display(Math(\"Z_{OUT} = \" + latex(z0)))\n",
    "\n",
    "print(\"\\nLatex code:\")\n",
    "print(\"g1 = \" + latex(fg1) + '\\n')\n",
    "print(\"g2 = \" + latex(fg2) + '\\n')\n",
    "print(\"g3 = \" + latex(fg3))"
   ]
  },
  {
   "cell_type": "markdown",
   "id": "785fe91b-60e7-4039-a158-eb32d01ec7dc",
   "metadata": {},
   "source": [
    "## Elements of denormalized filter"
   ]
  },
  {
   "cell_type": "code",
   "execution_count": 4,
   "id": "0242a4ee-7654-48d7-873c-815087ae2039",
   "metadata": {},
   "outputs": [
    {
     "data": {
      "text/latex": [
       "$\\displaystyle Z_{IN} = Z_{0}$"
      ],
      "text/plain": [
       "<IPython.core.display.Math object>"
      ]
     },
     "metadata": {},
     "output_type": "display_data"
    },
    {
     "data": {
      "text/latex": [
       "$\\displaystyle C_1 = \\frac{g_{1}}{Z_{0} \\Delta \\omega_{0}}$"
      ],
      "text/plain": [
       "<IPython.core.display.Math object>"
      ]
     },
     "metadata": {},
     "output_type": "display_data"
    },
    {
     "data": {
      "text/latex": [
       "$\\displaystyle C_2 = \\frac{\\Delta}{Z_{0} \\omega_{0} g_{2}}$"
      ],
      "text/plain": [
       "<IPython.core.display.Math object>"
      ]
     },
     "metadata": {},
     "output_type": "display_data"
    },
    {
     "data": {
      "text/latex": [
       "$\\displaystyle C_3 = \\frac{g_{3}}{Z_{0} \\Delta \\omega_{0}}$"
      ],
      "text/plain": [
       "<IPython.core.display.Math object>"
      ]
     },
     "metadata": {},
     "output_type": "display_data"
    },
    {
     "data": {
      "text/latex": [
       "$\\displaystyle L_1 = \\frac{Z_{0} \\Delta}{\\omega_{0} g_{1}}$"
      ],
      "text/plain": [
       "<IPython.core.display.Math object>"
      ]
     },
     "metadata": {},
     "output_type": "display_data"
    },
    {
     "data": {
      "text/latex": [
       "$\\displaystyle L_2 = \\frac{Z_{0} g_{2}}{\\Delta \\omega_{0}}$"
      ],
      "text/plain": [
       "<IPython.core.display.Math object>"
      ]
     },
     "metadata": {},
     "output_type": "display_data"
    },
    {
     "data": {
      "text/latex": [
       "$\\displaystyle L_3 = \\frac{Z_{0} \\Delta}{\\omega_{0} g_{3}}$"
      ],
      "text/plain": [
       "<IPython.core.display.Math object>"
      ]
     },
     "metadata": {},
     "output_type": "display_data"
    },
    {
     "data": {
      "text/latex": [
       "$\\displaystyle Z_{OUT} = Z_{0}$"
      ],
      "text/plain": [
       "<IPython.core.display.Math object>"
      ]
     },
     "metadata": {},
     "output_type": "display_data"
    },
    {
     "name": "stdout",
     "output_type": "stream",
     "text": [
      "\n",
      "Latex code:\n",
      "c1 = \\frac{g_{1}}{Z_{0} \\Delta \\omega_{0}}\n",
      "\n",
      "c2 = \\frac{\\Delta}{Z_{0} \\omega_{0} g_{2}}\n",
      "\n",
      "c3 = \\frac{g_{3}}{Z_{0} \\Delta \\omega_{0}}\n",
      "\n",
      "l1 = \\frac{Z_{0} \\Delta}{\\omega_{0} g_{1}}\n",
      "\n",
      "l2 = \\frac{Z_{0} g_{2}}{\\Delta \\omega_{0}}\n",
      "\n",
      "l3 = \\frac{Z_{0} \\Delta}{\\omega_{0} g_{3}}\n",
      "\n"
     ]
    }
   ],
   "source": [
    "c1_g, c2_g, c3_g, l1_g, l2_g, l3_g = symbols('C_1 C_2 C_3 L_1 L_2 L_3')\n",
    "w0 = symbols(r'\\omega_0')\n",
    "delta = symbols(r'\\Delta')\n",
    "g1, g2, g3, z0 = symbols('g_1 g_2 g_3 Z_0')\n",
    "\n",
    "c1_g = g1 / w0 / delta / z0\n",
    "c2_g = delta / w0 / g2 / z0\n",
    "c3_g = g3 / w0 / delta / z0\n",
    "l1_g = delta * z0 / w0 / g1\n",
    "l2_g = g2 * z0 / w0 / delta\n",
    "l3_g = delta * z0 / w0 / g3\n",
    "\n",
    "display(Math(\"Z_{IN} = \" + latex(z0)))\n",
    "display(Math(\"C_1 = \" + latex(c1_g)))\n",
    "display(Math(\"C_2 = \" + latex(c2_g)))\n",
    "display(Math(\"C_3 = \" + latex(c3_g)))\n",
    "\n",
    "display(Math(\"L_1 = \" + latex(l1_g)))\n",
    "display(Math(\"L_2 = \" + latex(l2_g)))\n",
    "display(Math(\"L_3 = \" + latex(l3_g)))\n",
    "display(Math(\"Z_{OUT} = \" + latex(z0)))\n",
    "\n",
    "print(\"\\nLatex code:\")\n",
    "print(\"c1 = \" + latex(c1_g) + '\\n')\n",
    "print(\"c2 = \" + latex(c2_g) + '\\n')\n",
    "print(\"c3 = \" + latex(c3_g) + '\\n')\n",
    "print(\"l1 = \" + latex(l1_g) + '\\n')\n",
    "print(\"l2 = \" + latex(l2_g) + '\\n')\n",
    "print(\"l3 = \" + latex(l3_g) + '\\n')"
   ]
  },
  {
   "cell_type": "markdown",
   "id": "ed6e5889-51ea-4abe-bcca-a325922c3a90",
   "metadata": {},
   "source": [
    "## Elements with Norton transformation"
   ]
  },
  {
   "cell_type": "code",
   "execution_count": 5,
   "id": "dc6cd7b9-250c-4090-ab56-b395d72cc796",
   "metadata": {},
   "outputs": [
    {
     "data": {
      "text/latex": [
       "$\\displaystyle Z_{in} = Z_{0}$"
      ],
      "text/plain": [
       "<IPython.core.display.Math object>"
      ]
     },
     "metadata": {},
     "output_type": "display_data"
    },
    {
     "data": {
      "text/latex": [
       "$\\displaystyle C_1 = \\frac{g_{1}}{Z_{0} \\Delta \\omega_{0}}$"
      ],
      "text/plain": [
       "<IPython.core.display.Math object>"
      ]
     },
     "metadata": {},
     "output_type": "display_data"
    },
    {
     "data": {
      "text/latex": [
       "$\\displaystyle L_1 = \\frac{Z_{0} \\Delta}{\\omega_{0} g_{1}}$"
      ],
      "text/plain": [
       "<IPython.core.display.Math object>"
      ]
     },
     "metadata": {},
     "output_type": "display_data"
    },
    {
     "data": {
      "text/latex": [
       "$\\displaystyle L_2 = \\frac{Z_{0} g_{2}}{\\Delta \\omega_{0}}$"
      ],
      "text/plain": [
       "<IPython.core.display.Math object>"
      ]
     },
     "metadata": {},
     "output_type": "display_data"
    },
    {
     "data": {
      "text/latex": [
       "$\\displaystyle C_{x} = C_{2} n_{c} \\left(n_{c} - 1\\right) = \\frac{\\Delta n_{c} \\left(n_{c} - 1\\right)}{Z_{0} \\omega_{0} g_{2}}$"
      ],
      "text/plain": [
       "<IPython.core.display.Math object>"
      ]
     },
     "metadata": {},
     "output_type": "display_data"
    },
    {
     "data": {
      "text/latex": [
       "$\\displaystyle C_{y} = C_{2} \\cdot \\left(1 - n_{c}\\right) + C_{3} = \\frac{- \\Delta^{2} \\left(n_{c} - 1\\right) + g_{2} g_{3}}{Z_{0} \\Delta \\omega_{0} g_{2}}$"
      ],
      "text/plain": [
       "<IPython.core.display.Math object>"
      ]
     },
     "metadata": {},
     "output_type": "display_data"
    },
    {
     "data": {
      "text/latex": [
       "$\\displaystyle C_{z} = C_{2} n_{c} = \\frac{\\Delta n_{c}}{Z_{0} \\omega_{0} g_{2}}$"
      ],
      "text/plain": [
       "<IPython.core.display.Math object>"
      ]
     },
     "metadata": {},
     "output_type": "display_data"
    },
    {
     "data": {
      "text/latex": [
       "$\\displaystyle L_3 = \\frac{Z_{0} \\Delta}{\\omega_{0} g_{3}}$"
      ],
      "text/plain": [
       "<IPython.core.display.Math object>"
      ]
     },
     "metadata": {},
     "output_type": "display_data"
    },
    {
     "data": {
      "text/latex": [
       "$\\displaystyle Z_{out} = Z_{0}$"
      ],
      "text/plain": [
       "<IPython.core.display.Math object>"
      ]
     },
     "metadata": {},
     "output_type": "display_data"
    },
    {
     "name": "stdout",
     "output_type": "stream",
     "text": [
      "\n"
     ]
    },
    {
     "data": {
      "text/latex": [
       "$\\displaystyle n_{c, max} = 1 + \\frac{C_{3}}{C_{2}} = 1 + \\frac{g_{2} g_{3}}{\\Delta^{2}}$"
      ],
      "text/plain": [
       "<IPython.core.display.Math object>"
      ]
     },
     "metadata": {},
     "output_type": "display_data"
    }
   ],
   "source": [
    "nc = symbols(\"n_c\")\n",
    "c2, c3 = symbols(\"C_2 C_3\")\n",
    "\n",
    "cx_raw = nc*(nc - 1) * c2\n",
    "cy_raw = (1 - nc)*c2 + c3\n",
    "cz_raw = nc * c2\n",
    "nc_max_raw = 1 + c3 / c2\n",
    "\n",
    "cx_g = simplify(cx_raw.subs(c2, c2_g).subs(c3, c3_g))\n",
    "cy_g = simplify(cy_raw.subs(c2, c2_g).subs(c3, c3_g))\n",
    "cz_g = simplify(cz_raw.subs(c2, c2_g).subs(c3, c3_g))\n",
    "nc_max_g = simplify(nc_max_raw.subs(c2, c2_g).subs(c3, c3_g))\n",
    "\n",
    "display(Math(\"Z_{in} = \" + latex(z0)))\n",
    "display(Math(\"C_1 = \" + latex(c1_g)))\n",
    "display(Math(\"L_1 = \" + latex(l1_g)))\n",
    "display(Math(\"L_2 = \" + latex(l2_g)))\n",
    "display(Math(\"C_{x} = \" + latex(cx_raw) + \" = \" + latex(cx_g)))\n",
    "display(Math(\"C_{y} = \" + latex(cy_raw) + \" = \" + latex(cy_g)))\n",
    "display(Math(\"C_{z} = \" + latex(cz_raw) + \" = \" + latex(cz_g)))\n",
    "display(Math(\"L_3 = \" + latex(l3_g)))\n",
    "display(Math(\"Z_{out} = \" + latex(z0)))\n",
    "print('')\n",
    "display(Math(\"n_{c, max} = \" + latex(nc_max_raw) + \" = \" + latex(nc_max_g)))"
   ]
  },
  {
   "cell_type": "markdown",
   "id": "ca17e8c4-d44b-45ba-b089-4277ed63679b",
   "metadata": {},
   "source": [
    "## Elements with removal of ideal transformator"
   ]
  },
  {
   "cell_type": "code",
   "execution_count": 6,
   "id": "03ee3c68-ca75-490e-830d-6e81dc41ce70",
   "metadata": {},
   "outputs": [
    {
     "data": {
      "text/latex": [
       "$\\displaystyle Z_{in} = \\frac{Z_{0}}{n_{c}^{2}}$"
      ],
      "text/plain": [
       "<IPython.core.display.Math object>"
      ]
     },
     "metadata": {},
     "output_type": "display_data"
    },
    {
     "data": {
      "text/latex": [
       "$\\displaystyle C_1 = \\frac{g_{1} n_{c}^{2}}{Z_{0} \\Delta \\omega_{0}}$"
      ],
      "text/plain": [
       "<IPython.core.display.Math object>"
      ]
     },
     "metadata": {},
     "output_type": "display_data"
    },
    {
     "data": {
      "text/latex": [
       "$\\displaystyle L_1 = \\frac{Z_{0} \\Delta}{\\omega_{0} g_{1} n_{c}^{2}}$"
      ],
      "text/plain": [
       "<IPython.core.display.Math object>"
      ]
     },
     "metadata": {},
     "output_type": "display_data"
    },
    {
     "data": {
      "text/latex": [
       "$\\displaystyle L_2 = \\frac{Z_{0} g_{2}}{\\Delta \\omega_{0} n_{c}^{2}}$"
      ],
      "text/plain": [
       "<IPython.core.display.Math object>"
      ]
     },
     "metadata": {},
     "output_type": "display_data"
    },
    {
     "data": {
      "text/latex": [
       "$\\displaystyle C_x = \\frac{\\Delta n_{c} \\left(n_{c} - 1\\right)}{Z_{0} \\omega_{0} g_{2}}$"
      ],
      "text/plain": [
       "<IPython.core.display.Math object>"
      ]
     },
     "metadata": {},
     "output_type": "display_data"
    },
    {
     "data": {
      "text/latex": [
       "$\\displaystyle C_y = \\frac{- \\Delta^{2} \\left(n_{c} - 1\\right) + g_{2} g_{3}}{Z_{0} \\Delta \\omega_{0} g_{2}}$"
      ],
      "text/plain": [
       "<IPython.core.display.Math object>"
      ]
     },
     "metadata": {},
     "output_type": "display_data"
    },
    {
     "data": {
      "text/latex": [
       "$\\displaystyle C_z = \\frac{\\Delta n_{c}}{Z_{0} \\omega_{0} g_{2}}$"
      ],
      "text/plain": [
       "<IPython.core.display.Math object>"
      ]
     },
     "metadata": {},
     "output_type": "display_data"
    },
    {
     "data": {
      "text/latex": [
       "$\\displaystyle L_3 = \\frac{Z_{0} \\Delta}{\\omega_{0} g_{3}}$"
      ],
      "text/plain": [
       "<IPython.core.display.Math object>"
      ]
     },
     "metadata": {},
     "output_type": "display_data"
    },
    {
     "data": {
      "text/latex": [
       "$\\displaystyle Z_{out} = Z_{0}$"
      ],
      "text/plain": [
       "<IPython.core.display.Math object>"
      ]
     },
     "metadata": {},
     "output_type": "display_data"
    }
   ],
   "source": [
    "zin_ = z0 / nc**2\n",
    "c1_ = c1_g * nc**2\n",
    "l1_ = l1_g / nc**2\n",
    "l2_ = l2_g / nc**2\n",
    "cx_ = cx_g\n",
    "cy_ = cy_g\n",
    "cz_ = cz_g\n",
    "l3_ = l3_g\n",
    "\n",
    "display(Math(\"Z_{in} = \" + latex(zin_)))\n",
    "display(Math(\"C_1 = \" + latex(c1_)))\n",
    "display(Math(\"L_1 = \" + latex(l1_)))\n",
    "display(Math(\"L_2 = \" + latex(l2_)))\n",
    "display(Math(\"C_x = \" + latex(cx_)))\n",
    "display(Math(\"C_y = \" + latex(cy_)))\n",
    "display(Math(\"C_z = \" + latex(cz_)))\n",
    "display(Math(\"L_3 = \" + latex(l3_)))\n",
    "display(Math(\"Z_{out} = \" + latex(z0)))"
   ]
  },
  {
   "cell_type": "markdown",
   "id": "085cec8e-d91e-4e45-8e97-4fe9d44ebb91",
   "metadata": {},
   "source": [
    "## Elements when second ideal transformator is placed after $C_1$ and before $L_1$"
   ]
  },
  {
   "cell_type": "code",
   "execution_count": 7,
   "id": "9f1cb1ec-20bf-4051-9ca7-32e66d825b4b",
   "metadata": {},
   "outputs": [
    {
     "data": {
      "text/latex": [
       "$\\displaystyle Z_{in} = \\frac{Z_{0} n^{2}}{k^{2} n_{c}^{2}}$"
      ],
      "text/plain": [
       "<IPython.core.display.Math object>"
      ]
     },
     "metadata": {},
     "output_type": "display_data"
    },
    {
     "data": {
      "text/latex": [
       "$\\displaystyle C_1 = \\frac{g_{1} k^{2} n_{c}^{2}}{Z_{0} \\Delta \\omega_{0} n^{2}}$"
      ],
      "text/plain": [
       "<IPython.core.display.Math object>"
      ]
     },
     "metadata": {},
     "output_type": "display_data"
    },
    {
     "data": {
      "text/latex": [
       "$\\displaystyle L_1 = \\frac{Z_{0} \\Delta}{\\omega_{0} g_{1} n_{c}^{2}}$"
      ],
      "text/plain": [
       "<IPython.core.display.Math object>"
      ]
     },
     "metadata": {},
     "output_type": "display_data"
    },
    {
     "data": {
      "text/latex": [
       "$\\displaystyle L_2 = \\frac{Z_{0} g_{2}}{\\Delta \\omega_{0} n_{c}^{2}}$"
      ],
      "text/plain": [
       "<IPython.core.display.Math object>"
      ]
     },
     "metadata": {},
     "output_type": "display_data"
    },
    {
     "data": {
      "text/latex": [
       "$\\displaystyle C_x = \\frac{\\Delta n_{c} \\left(n_{c} - 1\\right)}{Z_{0} \\omega_{0} g_{2}}$"
      ],
      "text/plain": [
       "<IPython.core.display.Math object>"
      ]
     },
     "metadata": {},
     "output_type": "display_data"
    },
    {
     "data": {
      "text/latex": [
       "$\\displaystyle C_y = \\frac{- \\Delta^{2} \\left(n_{c} - 1\\right) + g_{2} g_{3}}{Z_{0} \\Delta \\omega_{0} g_{2}}$"
      ],
      "text/plain": [
       "<IPython.core.display.Math object>"
      ]
     },
     "metadata": {},
     "output_type": "display_data"
    },
    {
     "data": {
      "text/latex": [
       "$\\displaystyle C_z = \\frac{\\Delta n_{c}}{Z_{0} \\omega_{0} g_{2}}$"
      ],
      "text/plain": [
       "<IPython.core.display.Math object>"
      ]
     },
     "metadata": {},
     "output_type": "display_data"
    },
    {
     "data": {
      "text/latex": [
       "$\\displaystyle L_3 = \\frac{Z_{0} \\Delta}{\\omega_{0} g_{3}}$"
      ],
      "text/plain": [
       "<IPython.core.display.Math object>"
      ]
     },
     "metadata": {},
     "output_type": "display_data"
    },
    {
     "data": {
      "text/latex": [
       "$\\displaystyle Z_{out} = Z_{0}$"
      ],
      "text/plain": [
       "<IPython.core.display.Math object>"
      ]
     },
     "metadata": {},
     "output_type": "display_data"
    }
   ],
   "source": [
    "n, k = symbols(\"n k\")\n",
    "\n",
    "zin__ = zin_ * n**2 / k**2\n",
    "c1__ = c1_ / n**2 * k**2\n",
    "l1__ = l1_\n",
    "l2__ = l2_\n",
    "cx__ = cx_\n",
    "cy__ = cy_\n",
    "cz__ = cz_\n",
    "l3__ = l3_\n",
    "\n",
    "display(Math(\"Z_{in} = \" + latex(zin__)))\n",
    "display(Math(\"C_1 = \" + latex(c1__)))\n",
    "display(Math(\"L_1 = \" + latex(l1__)))\n",
    "display(Math(\"L_2 = \" + latex(l2__)))\n",
    "display(Math(\"C_x = \" + latex(cx__)))\n",
    "display(Math(\"C_y = \" + latex(cy__)))\n",
    "display(Math(\"C_z = \" + latex(cz__)))\n",
    "display(Math(\"L_3 = \" + latex(l3__)))\n",
    "display(Math(\"Z_{out} = \" + latex(z0)))"
   ]
  },
  {
   "cell_type": "markdown",
   "id": "eccf1f1d-a04c-4070-8d3e-df7ec602c4e4",
   "metadata": {},
   "source": [
    "## All elements with real transformator"
   ]
  },
  {
   "cell_type": "code",
   "execution_count": 8,
   "id": "2a55568f-476e-4e42-8c27-087aacc74207",
   "metadata": {},
   "outputs": [
    {
     "data": {
      "text/latex": [
       "$\\displaystyle Z_{in} = \\frac{Z_{0} n^{2}}{k^{2} n_{c}^{2}}$"
      ],
      "text/plain": [
       "<IPython.core.display.Math object>"
      ]
     },
     "metadata": {},
     "output_type": "display_data"
    },
    {
     "data": {
      "text/latex": [
       "$\\displaystyle C_1 = \\frac{g_{1} k^{2} n_{c}^{2}}{Z_{0} \\Delta \\omega_{0} n^{2}}$"
      ],
      "text/plain": [
       "<IPython.core.display.Math object>"
      ]
     },
     "metadata": {},
     "output_type": "display_data"
    },
    {
     "data": {
      "text/latex": [
       "$\\displaystyle L_p = \\frac{L_{1}}{k^{2} n_{c}^{2}} = \\frac{Z_{0} \\Delta}{\\omega_{0} g_{1} k^{2} n_{c}^{2}}$"
      ],
      "text/plain": [
       "<IPython.core.display.Math object>"
      ]
     },
     "metadata": {},
     "output_type": "display_data"
    },
    {
     "data": {
      "text/latex": [
       "$\\displaystyle L_s = \\frac{L_{1} n^{2}}{k^{2} n_{c}^{2}} = \\frac{Z_{0} \\Delta n^{2}}{\\omega_{0} g_{1} k^{2} n_{c}^{2}}$"
      ],
      "text/plain": [
       "<IPython.core.display.Math object>"
      ]
     },
     "metadata": {},
     "output_type": "display_data"
    },
    {
     "data": {
      "text/latex": [
       "$\\displaystyle L_x = \\frac{L_{1} \\left(k^{2} - 1\\right) + L_{2} k^{2}}{k^{2} n_{c}^{2}} = \\frac{Z_{0} \\left(\\Delta^{2} \\left(k^{2} - 1\\right) + g_{1} g_{2} k^{2}\\right)}{\\Delta \\omega_{0} g_{1} k^{2} n_{c}^{2}}$"
      ],
      "text/plain": [
       "<IPython.core.display.Math object>"
      ]
     },
     "metadata": {},
     "output_type": "display_data"
    },
    {
     "data": {
      "text/latex": [
       "$\\displaystyle C_x = \\frac{\\Delta n_{c} \\left(n_{c} - 1\\right)}{Z_{0} \\omega_{0} g_{2}}$"
      ],
      "text/plain": [
       "<IPython.core.display.Math object>"
      ]
     },
     "metadata": {},
     "output_type": "display_data"
    },
    {
     "data": {
      "text/latex": [
       "$\\displaystyle C_y = \\frac{- \\Delta^{2} \\left(n_{c} - 1\\right) + g_{2} g_{3}}{Z_{0} \\Delta \\omega_{0} g_{2}}$"
      ],
      "text/plain": [
       "<IPython.core.display.Math object>"
      ]
     },
     "metadata": {},
     "output_type": "display_data"
    },
    {
     "data": {
      "text/latex": [
       "$\\displaystyle C_z = \\frac{\\Delta n_{c}}{Z_{0} \\omega_{0} g_{2}}$"
      ],
      "text/plain": [
       "<IPython.core.display.Math object>"
      ]
     },
     "metadata": {},
     "output_type": "display_data"
    },
    {
     "data": {
      "text/latex": [
       "$\\displaystyle L_3 = \\frac{Z_{0} \\Delta}{\\omega_{0} g_{3}}$"
      ],
      "text/plain": [
       "<IPython.core.display.Math object>"
      ]
     },
     "metadata": {},
     "output_type": "display_data"
    },
    {
     "name": "stdout",
     "output_type": "stream",
     "text": [
      "\n"
     ]
    },
    {
     "data": {
      "text/latex": [
       "$\\displaystyle k|_{L_x = 0} = \\sqrt{\\frac{L_{1}}{L_{1} + L_{2}}} = \\Delta \\sqrt{\\frac{1}{\\Delta^{2} + g_{1} g_{2}}}$"
      ],
      "text/plain": [
       "<IPython.core.display.Math object>"
      ]
     },
     "metadata": {},
     "output_type": "display_data"
    },
    {
     "data": {
      "text/latex": [
       "$\\displaystyle n_{c, max} = 1 + \\frac{g_{2} g_{3}}{\\Delta^{2}}$"
      ],
      "text/plain": [
       "<IPython.core.display.Math object>"
      ]
     },
     "metadata": {},
     "output_type": "display_data"
    },
    {
     "name": "stdout",
     "output_type": "stream",
     "text": [
      "\n",
      "Latex code:\n",
      "\n",
      "zin = \\frac{Z_{0} n^{2}}{k^{2} n_{c}^{2}}\n",
      "\n",
      "c1 = \\frac{g_{1} k^{2} n_{c}^{2}}{Z_{0} \\Delta \\omega_{0} n^{2}}\n",
      "\n",
      "lp = \\frac{Z_{0} \\Delta}{\\omega_{0} g_{1} k^{2} n_{c}^{2}}\n",
      "\n",
      "ls = \\frac{Z_{0} \\Delta n^{2}}{\\omega_{0} g_{1} k^{2} n_{c}^{2}}\n",
      "\n",
      "lx = \\frac{Z_{0} \\left(\\Delta^{2} \\left(k^{2} - 1\\right) + g_{1} g_{2} k^{2}\\right)}{\\Delta \\omega_{0} g_{1} k^{2} n_{c}^{2}}\n",
      "\n",
      "cx = \\frac{\\Delta n_{c} \\left(n_{c} - 1\\right)}{Z_{0} \\omega_{0} g_{2}}\n",
      "\n",
      "cy = \\frac{- \\Delta^{2} \\left(n_{c} - 1\\right) + g_{2} g_{3}}{Z_{0} \\Delta \\omega_{0} g_{2}}\n",
      "\n",
      "cz = \\frac{\\Delta n_{c}}{Z_{0} \\omega_{0} g_{2}}\n",
      "\n",
      "l3 = \\frac{Z_{0} \\Delta}{\\omega_{0} g_{3}}\n",
      "\n",
      "k0 = \\Delta \\sqrt{\\frac{1}{\\Delta^{2} + g_{1} g_{2}}}\n",
      "\n",
      "nc_max = 1 + \\frac{g_{2} g_{3}}{\\Delta^{2}}\n",
      "\n"
     ]
    }
   ],
   "source": [
    "l1, l2 = symbols(\"L_1 L_2\")\n",
    "\n",
    "lp_raw = l1 / nc**2 / k**2\n",
    "ls_raw = n**2 * lp_raw\n",
    "lx_raw = simplify(l2 / nc**2 - (1 - k**2)*lp_raw)\n",
    "k0_raw = simplify(solve(lx_raw, k)[1])\n",
    "\n",
    "lp_ = l1__ / k**2\n",
    "ls_ = n**2 * lp_\n",
    "lx_ = simplify(l2__ - (1 - k**2)*lp_)\n",
    "\n",
    "k0_ = simplify(solve(lx_, k)[1])\n",
    "\n",
    "zin = zin__\n",
    "c1 = c1__\n",
    "lp = lp_\n",
    "ls = ls_\n",
    "lx = lx_\n",
    "cx = cx__\n",
    "cy = cy__\n",
    "cz = cz__\n",
    "l3 = l3__\n",
    "zout = z0\n",
    "\n",
    "k0 = k0_\n",
    "nc_max = nc_max_g\n",
    "\n",
    "display(Math(\"Z_{in} = \" + latex(zin)))\n",
    "display(Math(\"C_1 = \" + latex(c1)))\n",
    "display(Math(\"L_p = \" + latex(lp_raw) + \" = \" + latex(lp)))\n",
    "display(Math(\"L_s = \" + latex(ls_raw) + \" = \" + latex(ls)))\n",
    "display(Math(\"L_x = \" + latex(lx_raw) + \" = \" + latex(lx)))\n",
    "display(Math(\"C_x = \" + latex(cx)))\n",
    "display(Math(\"C_y = \" + latex(cy)))\n",
    "display(Math(\"C_z = \" + latex(cz)))\n",
    "display(Math(\"L_3 = \" + latex(l3)))\n",
    "print('')\n",
    "display(Math(\"k|_{L_x = 0} = \" + latex(k0_raw) + \" = \" + latex(k0_)))\n",
    "display(Math(\"n_{c, max} = \" + latex(nc_max)))\n",
    "\n",
    "print(\"\\nLatex code:\\n\")\n",
    "print(\"zin = \" + latex(zin) + '\\n')\n",
    "print(\"c1 = \" + latex(c1) + '\\n')\n",
    "print(\"lp = \" + latex(lp) + '\\n')\n",
    "print(\"ls = \" + latex(ls) + '\\n')\n",
    "print(\"lx = \" + latex(lx) + '\\n')\n",
    "print(\"cx = \" + latex(cx) + '\\n')\n",
    "print(\"cy = \" + latex(cy) + '\\n')\n",
    "print(\"cz = \" + latex(cz) + '\\n')\n",
    "print(\"l3 = \" + latex(l3) + '\\n')\n",
    "print(\"k0 = \" + latex(k0) + '\\n')\n",
    "print(\"nc_max = \" + latex(nc_max) + '\\n')"
   ]
  },
  {
   "cell_type": "markdown",
   "id": "ad0e7f26-6c1b-4768-b937-e71f2d3d19e7",
   "metadata": {},
   "source": [
    "## Inverse $k(\\Delta, \\gamma)$ and $k(\\Delta, x)$ for $L_x = 0$"
   ]
  },
  {
   "cell_type": "code",
   "execution_count": 9,
   "id": "8718fde3-516a-4828-be54-f97bf710c6e3",
   "metadata": {},
   "outputs": [
    {
     "data": {
      "text/latex": [
       "$\\displaystyle \\gamma(\\Delta, k)|_{L_x = 0} = 0.5 \\sqrt{\\frac{- 3.0 \\Delta^{2} \\left(k^{2} - 1.0\\right) - 8.0 k^{2}}{\\Delta^{2} \\left(k^{2} - 1.0\\right)}}$"
      ],
      "text/plain": [
       "<IPython.core.display.Math object>"
      ]
     },
     "metadata": {},
     "output_type": "display_data"
    },
    {
     "data": {
      "text/latex": [
       "$\\displaystyle x(\\Delta, k)|_{L_x = 0} = \\frac{\\sqrt{\\frac{- 3 \\Delta^{2} \\left(k^{2} - 1\\right) - 8 k^{2}}{\\Delta^{2} \\left(k^{2} - 1\\right)}}}{2}$"
      ],
      "text/plain": [
       "<IPython.core.display.Math object>"
      ]
     },
     "metadata": {},
     "output_type": "display_data"
    },
    {
     "data": {
      "text/latex": [
       "$\\displaystyle x(\\Delta, k)|_{L_x = 0} = \\gamma(\\Delta, k)|_{L_x = 0}$"
      ],
      "text/plain": [
       "<IPython.core.display.Math object>"
      ]
     },
     "metadata": {},
     "output_type": "display_data"
    },
    {
     "data": {
      "text/latex": [
       "$\\displaystyle k_{min}|_{\\gamma = 0, x = 0} = 0.397309174073032$"
      ],
      "text/plain": [
       "<IPython.core.display.Math object>"
      ]
     },
     "metadata": {},
     "output_type": "display_data"
    },
    {
     "name": "stdout",
     "output_type": "stream",
     "text": [
      "\n",
      "Latex code:\n",
      "\n",
      "\\frac{\\sqrt{\\frac{- 3 \\Delta^{2} \\left(k^{2} - 1\\right) - 8 k^{2}}{\\Delta^{2} \\left(k^{2} - 1\\right)}}}{2}\n"
     ]
    }
   ],
   "source": [
    "k0_gamma = simplify(k0.subs(g1, cg1).subs(g2, cg2))\n",
    "k0_x = simplify(k0.subs(g1, fg1).subs(g2, fg2))\n",
    "\n",
    "k0_gamma_inv = simplify(solve(k0_gamma - k, gamma)[0])\n",
    "k0_x_inv = simplify(solve(k0_x - k, x)[0])\n",
    "\n",
    "k0_min = k0_x.subs(delta, 0.707).subs(x, 0)\n",
    "\n",
    "display(Math(\"\\gamma(\\Delta, k)|_{L_x = 0} = \" + latex(k0_gamma_inv)))\n",
    "display(Math(\"x(\\Delta, k)|_{L_x = 0} = \" + latex(k0_x_inv)))\n",
    "display(Math(\"x(\\Delta, k)|_{L_x = 0} = \\gamma(\\Delta, k)|_{L_x = 0}\"))\n",
    "display(Math(\"k_{min}|_{\\gamma = 0, x = 0} = \" + latex(k0_min)))\n",
    "\n",
    "print(\"\\nLatex code:\\n\")\n",
    "print(latex(k0_x_inv))"
   ]
  },
  {
   "cell_type": "markdown",
   "id": "dd4b8aa4-abc4-4317-8e10-15968ca89faa",
   "metadata": {},
   "source": [
    "## Elements for $\\gamma$"
   ]
  },
  {
   "cell_type": "code",
   "execution_count": 10,
   "id": "f5db7b90-3cda-47b0-9507-cdfb6e84bc55",
   "metadata": {},
   "outputs": [
    {
     "data": {
      "text/latex": [
       "$\\displaystyle Z_{in} = \\frac{Z_{0} n^{2}}{k^{2} n_{c}^{2}}$"
      ],
      "text/plain": [
       "<IPython.core.display.Math object>"
      ]
     },
     "metadata": {},
     "output_type": "display_data"
    },
    {
     "data": {
      "text/latex": [
       "$\\displaystyle C_1 = \\frac{k^{2} n_{c}^{2}}{Z_{0} \\Delta \\gamma \\omega_{0} n^{2}}$"
      ],
      "text/plain": [
       "<IPython.core.display.Math object>"
      ]
     },
     "metadata": {},
     "output_type": "display_data"
    },
    {
     "data": {
      "text/latex": [
       "$\\displaystyle L_p = \\frac{Z_{0} \\Delta \\gamma}{\\omega_{0} k^{2} n_{c}^{2}}$"
      ],
      "text/plain": [
       "<IPython.core.display.Math object>"
      ]
     },
     "metadata": {},
     "output_type": "display_data"
    },
    {
     "data": {
      "text/latex": [
       "$\\displaystyle L_s = \\frac{Z_{0} \\Delta \\gamma n^{2}}{\\omega_{0} k^{2} n_{c}^{2}}$"
      ],
      "text/plain": [
       "<IPython.core.display.Math object>"
      ]
     },
     "metadata": {},
     "output_type": "display_data"
    },
    {
     "data": {
      "text/latex": [
       "$\\displaystyle L_x = \\frac{Z_{0} \\gamma \\left(\\Delta^{2} \\left(\\gamma^{2} + 0.75\\right) \\left(k^{2} - 1\\right) + 2 k^{2}\\right)}{\\Delta \\omega_{0} k^{2} n_{c}^{2} \\left(\\gamma^{2} + 0.75\\right)}$"
      ],
      "text/plain": [
       "<IPython.core.display.Math object>"
      ]
     },
     "metadata": {},
     "output_type": "display_data"
    },
    {
     "data": {
      "text/latex": [
       "$\\displaystyle C_x = \\frac{\\Delta n_{c} \\left(\\gamma^{2} + 0.75\\right) \\left(n_{c} - 1\\right)}{2 Z_{0} \\gamma \\omega_{0}}$"
      ],
      "text/plain": [
       "<IPython.core.display.Math object>"
      ]
     },
     "metadata": {},
     "output_type": "display_data"
    },
    {
     "data": {
      "text/latex": [
       "$\\displaystyle C_y = \\frac{- \\Delta^{2} \\left(\\gamma^{2} + 0.75\\right) \\left(n_{c} - 1\\right) + 2}{2 Z_{0} \\Delta \\gamma \\omega_{0}}$"
      ],
      "text/plain": [
       "<IPython.core.display.Math object>"
      ]
     },
     "metadata": {},
     "output_type": "display_data"
    },
    {
     "data": {
      "text/latex": [
       "$\\displaystyle C_z = \\frac{\\Delta n_{c} \\left(\\gamma^{2} + 0.75\\right)}{2 Z_{0} \\gamma \\omega_{0}}$"
      ],
      "text/plain": [
       "<IPython.core.display.Math object>"
      ]
     },
     "metadata": {},
     "output_type": "display_data"
    },
    {
     "data": {
      "text/latex": [
       "$\\displaystyle L_3 = \\frac{Z_{0} \\Delta \\gamma}{\\omega_{0}}$"
      ],
      "text/plain": [
       "<IPython.core.display.Math object>"
      ]
     },
     "metadata": {},
     "output_type": "display_data"
    },
    {
     "name": "stdout",
     "output_type": "stream",
     "text": [
      "\n"
     ]
    },
    {
     "data": {
      "text/latex": [
       "$\\displaystyle k|_{L_x = 0} = \\Delta \\sqrt{\\frac{\\gamma^{2} + 0.75}{\\Delta^{2} \\left(\\gamma^{2} + 0.75\\right) + 2}}$"
      ],
      "text/plain": [
       "<IPython.core.display.Math object>"
      ]
     },
     "metadata": {},
     "output_type": "display_data"
    },
    {
     "data": {
      "text/latex": [
       "$\\displaystyle k(\\gamma = 1, \\Delta = 0.707)|_{L_x = 0} = 0.551619325895164$"
      ],
      "text/plain": [
       "<IPython.core.display.Math object>"
      ]
     },
     "metadata": {},
     "output_type": "display_data"
    },
    {
     "data": {
      "text/latex": [
       "$\\displaystyle \\gamma(\\Delta, k)|_{L_x = 0} = \\frac{\\sqrt{\\frac{- 3 \\Delta^{2} \\left(k^{2} - 1\\right) - 8 k^{2}}{\\Delta^{2} \\left(k^{2} - 1\\right)}}}{2}$"
      ],
      "text/plain": [
       "<IPython.core.display.Math object>"
      ]
     },
     "metadata": {},
     "output_type": "display_data"
    },
    {
     "data": {
      "text/latex": [
       "$\\displaystyle n_{c, max} = \\frac{\\Delta^{2} \\left(\\gamma^{2} + 0.75\\right) + 2}{\\Delta^{2} \\left(\\gamma^{2} + 0.75\\right)}$"
      ],
      "text/plain": [
       "<IPython.core.display.Math object>"
      ]
     },
     "metadata": {},
     "output_type": "display_data"
    }
   ],
   "source": [
    "zin_gamma = simplify(zin.subs(g1, cg1).subs(g2, cg2).subs(g3, cg3))\n",
    "c1_gamma = simplify(c1.subs(g1, cg1).subs(g2, cg2).subs(g3, cg3))\n",
    "lp_gamma = simplify(lp.subs(g1, cg1).subs(g2, cg2).subs(g3, cg3))\n",
    "ls_gamma = simplify(ls.subs(g1, cg1).subs(g2, cg2).subs(g3, cg3))\n",
    "lx_gamma = simplify(lx.subs(g1, cg1).subs(g2, cg2).subs(g3, cg3))\n",
    "cx_gamma = simplify(cx.subs(g1, cg1).subs(g2, cg2).subs(g3, cg3))\n",
    "cy_gamma = simplify(cy.subs(g1, cg1).subs(g2, cg2).subs(g3, cg3))\n",
    "cz_gamma = simplify(cz.subs(g1, cg1).subs(g2, cg2).subs(g3, cg3))\n",
    "l3_gamma = simplify(l3.subs(g1, cg1).subs(g2, cg2).subs(g3, cg3))\n",
    "zout_gamma = simplify(zout.subs(g1, cg1).subs(g2, cg2).subs(g3, cg3))\n",
    "\n",
    "k0_gamma = simplify(k0.subs(g1, cg1).subs(g2, cg2).subs(g3, cg3))\n",
    "nc_max_gamma = simplify(nc_max.subs(g1, cg1).subs(g2, cg2).subs(g3, cg3))\n",
    "\n",
    "k0_gamma_inv = k0_x_inv\n",
    "\n",
    "display(Math(\"Z_{in} = \" + latex(zin_gamma)))\n",
    "display(Math(\"C_1 = \" + latex(c1_gamma)))\n",
    "display(Math(\"L_p = \" + latex(lp_gamma)))\n",
    "display(Math(\"L_s = \" + latex(ls_gamma)))\n",
    "display(Math(\"L_x = \" + latex(lx_gamma)))\n",
    "display(Math(\"C_x = \" + latex(cx_gamma)))\n",
    "display(Math(\"C_y = \" + latex(cy_gamma)))\n",
    "display(Math(\"C_z = \" + latex(cz_gamma)))\n",
    "display(Math(\"L_3 = \" + latex(l3_gamma)))\n",
    "print('')\n",
    "display(Math(\"k|_{L_x = 0} = \" + latex(k0_gamma)))\n",
    "display(Math(\"k(\\gamma = 1, \\Delta = 0.707)|_{L_x = 0} = \" + latex(simplify(k0_gamma.subs(gamma, 1).subs(delta, 0.707)))))\n",
    "display(Math(\"\\gamma(\\Delta, k)|_{L_x = 0} = \" + latex(k0_gamma_inv)))\n",
    "display(Math(\"n_{c, max} = \" + latex(nc_max_gamma)))"
   ]
  },
  {
   "cell_type": "markdown",
   "id": "25ba3351-d159-4b70-8d35-3aabf713c9b6",
   "metadata": {},
   "source": [
    "## Elements for $x$"
   ]
  },
  {
   "cell_type": "code",
   "execution_count": 11,
   "id": "ad16f7ff-f313-4612-a84a-91efd2336c8c",
   "metadata": {},
   "outputs": [
    {
     "data": {
      "text/latex": [
       "$\\displaystyle Z_{in} = \\frac{Z_{0} n^{2}}{k^{2} n_{c}^{2}}$"
      ],
      "text/plain": [
       "<IPython.core.display.Math object>"
      ]
     },
     "metadata": {},
     "output_type": "display_data"
    },
    {
     "data": {
      "text/latex": [
       "$\\displaystyle C_1 = \\frac{k^{2} n_{c}^{2} \\cdot \\left(6 x^{2} + \\frac{3}{2}\\right)}{Z_{0} \\Delta \\omega_{0} n^{2} x \\left(4 x^{2} + 3\\right)}$"
      ],
      "text/plain": [
       "<IPython.core.display.Math object>"
      ]
     },
     "metadata": {},
     "output_type": "display_data"
    },
    {
     "data": {
      "text/latex": [
       "$\\displaystyle L_p = \\frac{2 Z_{0} \\Delta x \\left(4 x^{2} + 3\\right)}{3 \\omega_{0} k^{2} n_{c}^{2} \\cdot \\left(4 x^{2} + 1\\right)}$"
      ],
      "text/plain": [
       "<IPython.core.display.Math object>"
      ]
     },
     "metadata": {},
     "output_type": "display_data"
    },
    {
     "data": {
      "text/latex": [
       "$\\displaystyle L_s = \\frac{2 Z_{0} \\Delta n^{2} x \\left(4 x^{2} + 3\\right)}{3 \\omega_{0} k^{2} n_{c}^{2} \\cdot \\left(4 x^{2} + 1\\right)}$"
      ],
      "text/plain": [
       "<IPython.core.display.Math object>"
      ]
     },
     "metadata": {},
     "output_type": "display_data"
    },
    {
     "data": {
      "text/latex": [
       "$\\displaystyle L_x = \\frac{2 Z_{0} x \\left(\\Delta^{2} \\left(k^{2} - 1\\right) \\left(4 x^{2} + 3\\right) + 8 k^{2}\\right)}{3 \\Delta \\omega_{0} k^{2} n_{c}^{2} \\cdot \\left(4 x^{2} + 1\\right)}$"
      ],
      "text/plain": [
       "<IPython.core.display.Math object>"
      ]
     },
     "metadata": {},
     "output_type": "display_data"
    },
    {
     "data": {
      "text/latex": [
       "$\\displaystyle C_x = \\frac{3 \\Delta n_{c} \\left(n_{c} - 1\\right) \\left(4 x^{2} + 1\\right)}{16 Z_{0} \\omega_{0} x}$"
      ],
      "text/plain": [
       "<IPython.core.display.Math object>"
      ]
     },
     "metadata": {},
     "output_type": "display_data"
    },
    {
     "data": {
      "text/latex": [
       "$\\displaystyle C_y = - \\frac{3 \\Delta^{2} \\left(n_{c} - 1\\right) \\left(4 x^{2} + 1\\right) - 8}{16 Z_{0} \\Delta \\omega_{0} x}$"
      ],
      "text/plain": [
       "<IPython.core.display.Math object>"
      ]
     },
     "metadata": {},
     "output_type": "display_data"
    },
    {
     "data": {
      "text/latex": [
       "$\\displaystyle C_z = \\frac{3 \\Delta n_{c} \\left(4 x^{2} + 1\\right)}{16 Z_{0} \\omega_{0} x}$"
      ],
      "text/plain": [
       "<IPython.core.display.Math object>"
      ]
     },
     "metadata": {},
     "output_type": "display_data"
    },
    {
     "data": {
      "text/latex": [
       "$\\displaystyle L_3 = \\frac{2 Z_{0} \\Delta x}{\\omega_{0}}$"
      ],
      "text/plain": [
       "<IPython.core.display.Math object>"
      ]
     },
     "metadata": {},
     "output_type": "display_data"
    },
    {
     "name": "stdout",
     "output_type": "stream",
     "text": [
      "\n"
     ]
    },
    {
     "data": {
      "text/latex": [
       "$\\displaystyle k|_{L_x = 0} = \\Delta \\sqrt{\\frac{16 x^{4} + 16 x^{2} + 3}{\\left(4 x^{2} + 1\\right) \\left(\\Delta^{2} \\cdot \\left(4 x^{2} + 3\\right) + 8\\right)}}$"
      ],
      "text/plain": [
       "<IPython.core.display.Math object>"
      ]
     },
     "metadata": {},
     "output_type": "display_data"
    },
    {
     "data": {
      "text/latex": [
       "$\\displaystyle k(x = 1, \\Delta = 0.707)|_{L_x = 0} = 0.208492507813671 \\sqrt{7}$"
      ],
      "text/plain": [
       "<IPython.core.display.Math object>"
      ]
     },
     "metadata": {},
     "output_type": "display_data"
    },
    {
     "data": {
      "text/latex": [
       "$\\displaystyle x(\\Delta, k)|_{L_x = 0} = \\frac{\\sqrt{\\frac{- 3 \\Delta^{2} \\left(k^{2} - 1\\right) - 8 k^{2}}{\\Delta^{2} \\left(k^{2} - 1\\right)}}}{2}$"
      ],
      "text/plain": [
       "<IPython.core.display.Math object>"
      ]
     },
     "metadata": {},
     "output_type": "display_data"
    },
    {
     "data": {
      "text/latex": [
       "$\\displaystyle n_{c, max} = 1 + \\frac{8}{3 \\Delta^{2} \\cdot \\left(4 x^{2} + 1\\right)}$"
      ],
      "text/plain": [
       "<IPython.core.display.Math object>"
      ]
     },
     "metadata": {},
     "output_type": "display_data"
    }
   ],
   "source": [
    "zin_x = simplify(zin.subs(g1, fg1).subs(g2, fg2).subs(g3, fg3))\n",
    "c1_x = simplify(c1.subs(g1, fg1).subs(g2, fg2).subs(g3, fg3))\n",
    "lp_x = simplify(lp.subs(g1, fg1).subs(g2, fg2).subs(g3, fg3))\n",
    "ls_x = simplify(ls.subs(g1, fg1).subs(g2, fg2).subs(g3, fg3))\n",
    "lx_x = simplify(lx.subs(g1, fg1).subs(g2, fg2).subs(g3, fg3))\n",
    "cx_x = simplify(cx.subs(g1, fg1).subs(g2, fg2).subs(g3, fg3))\n",
    "cy_x = simplify(cy.subs(g1, fg1).subs(g2, fg2).subs(g3, fg3))\n",
    "cz_x = simplify(cz.subs(g1, fg1).subs(g2, fg2).subs(g3, fg3))\n",
    "l3_x = simplify(l3.subs(g1, fg1).subs(g2, fg2).subs(g3, fg3))\n",
    "zout_x = simplify(zout.subs(g1, fg1).subs(g2, fg2).subs(g3, fg3))\n",
    "\n",
    "k0_x = simplify(k0.subs(g1, fg1).subs(g2, fg2).subs(g3, fg3))\n",
    "nc_max_x = simplify(nc_max.subs(g1, fg1).subs(g2, fg2).subs(g3, fg3))\n",
    "\n",
    "k0_x_inv = k0_x_inv\n",
    "\n",
    "display(Math(\"Z_{in} = \" + latex(zin_x)))\n",
    "display(Math(\"C_1 = \" + latex(c1_x)))\n",
    "display(Math(\"L_p = \" + latex(lp_x)))\n",
    "display(Math(\"L_s = \" + latex(ls_x)))\n",
    "display(Math(\"L_x = \" + latex(lx_x)))\n",
    "display(Math(\"C_x = \" + latex(cx_x)))\n",
    "display(Math(\"C_y = \" + latex(cy_x)))\n",
    "display(Math(\"C_z = \" + latex(cz_x)))\n",
    "display(Math(\"L_3 = \" + latex(l3_x)))\n",
    "print('')\n",
    "display(Math(\"k|_{L_x = 0} = \" + latex(k0_x)))\n",
    "display(Math(\"k(x = 1, \\Delta = 0.707)|_{L_x = 0} = \" + latex(simplify(k0_x.subs(x, 1).subs(delta, 0.707)))))\n",
    "display(Math(\"x(\\Delta, k)|_{L_x = 0} = \" + latex(k0_x_inv)))\n",
    "display(Math(\"n_{c, max} = \" + latex(nc_max_x)))"
   ]
  },
  {
   "cell_type": "markdown",
   "id": "eedeaa09-c4a2-4e2a-bb40-713e9c99c901",
   "metadata": {},
   "source": [
    "## Sanity check, elements for $n_c = n_{c, max}$ and $\\gamma = \\gamma(\\Delta, k)|_{L_x = 0}$ and $x = x(\\Delta, k)|_{L_x = 0}$\n",
    "\n",
    "## $L_x$ and $C_y$ should be $0$"
   ]
  },
  {
   "cell_type": "code",
   "execution_count": 12,
   "id": "2316b535-2ee7-4fd3-8d4a-8dddb09585f4",
   "metadata": {},
   "outputs": [
    {
     "data": {
      "text/latex": [
       "$\\displaystyle Z_{in} = 1.0 Z_{0} k^{2} n^{2}$"
      ],
      "text/plain": [
       "<IPython.core.display.Math object>"
      ]
     },
     "metadata": {},
     "output_type": "display_data"
    },
    {
     "data": {
      "text/latex": [
       "$\\displaystyle C_1 = \\frac{2.0}{Z_{0} \\Delta \\omega_{0} k^{2} n^{2} \\sqrt{\\frac{- 3 \\Delta^{2} \\left(k^{2} - 1\\right) - 8 k^{2}}{\\Delta^{2} \\left(k^{2} - 1\\right)}}}$"
      ],
      "text/plain": [
       "<IPython.core.display.Math object>"
      ]
     },
     "metadata": {},
     "output_type": "display_data"
    },
    {
     "data": {
      "text/latex": [
       "$\\displaystyle L_p = \\frac{0.5 Z_{0} \\Delta k^{2} \\sqrt{\\frac{- 3 \\Delta^{2} \\left(k^{2} - 1\\right) - 8 k^{2}}{\\Delta^{2} \\left(k^{2} - 1\\right)}}}{\\omega_{0}}$"
      ],
      "text/plain": [
       "<IPython.core.display.Math object>"
      ]
     },
     "metadata": {},
     "output_type": "display_data"
    },
    {
     "data": {
      "text/latex": [
       "$\\displaystyle L_s = \\frac{0.5 Z_{0} \\Delta k^{2} n^{2} \\sqrt{\\frac{- 3 \\Delta^{2} \\left(k^{2} - 1\\right) - 8 k^{2}}{\\Delta^{2} \\left(k^{2} - 1\\right)}}}{\\omega_{0}}$"
      ],
      "text/plain": [
       "<IPython.core.display.Math object>"
      ]
     },
     "metadata": {},
     "output_type": "display_data"
    },
    {
     "data": {
      "text/latex": [
       "$\\displaystyle L_x = 0$"
      ],
      "text/plain": [
       "<IPython.core.display.Math object>"
      ]
     },
     "metadata": {},
     "output_type": "display_data"
    },
    {
     "data": {
      "text/latex": [
       "$\\displaystyle C_x = \\frac{2}{Z_{0} \\Delta \\omega_{0} k^{2} \\sqrt{\\frac{- 3 \\Delta^{2} \\left(k^{2} - 1\\right) - 8 k^{2}}{\\Delta^{2} \\left(k^{2} - 1\\right)}}}$"
      ],
      "text/plain": [
       "<IPython.core.display.Math object>"
      ]
     },
     "metadata": {},
     "output_type": "display_data"
    },
    {
     "data": {
      "text/latex": [
       "$\\displaystyle C_y = 0$"
      ],
      "text/plain": [
       "<IPython.core.display.Math object>"
      ]
     },
     "metadata": {},
     "output_type": "display_data"
    },
    {
     "data": {
      "text/latex": [
       "$\\displaystyle C_z = - \\frac{2}{Z_{0} \\Delta \\omega_{0} \\sqrt{- \\frac{3 \\Delta^{2} \\left(k^{2} - 1\\right) + 8 k^{2}}{\\Delta^{2} \\left(k^{2} - 1\\right)}} \\left(k^{2} - 1\\right)}$"
      ],
      "text/plain": [
       "<IPython.core.display.Math object>"
      ]
     },
     "metadata": {},
     "output_type": "display_data"
    },
    {
     "data": {
      "text/latex": [
       "$\\displaystyle L_3 = \\frac{Z_{0} \\Delta \\sqrt{\\frac{- 3 \\Delta^{2} \\left(k^{2} - 1\\right) - 8 k^{2}}{\\Delta^{2} \\left(k^{2} - 1\\right)}}}{2 \\omega_{0}}$"
      ],
      "text/plain": [
       "<IPython.core.display.Math object>"
      ]
     },
     "metadata": {},
     "output_type": "display_data"
    }
   ],
   "source": [
    "zin_gamma_san = simplify(zin_gamma.subs(nc, nc_max_gamma).subs(gamma, k0_gamma_inv))\n",
    "c1_gamma_san = simplify(c1_gamma.subs(nc, nc_max_gamma).subs(gamma, k0_gamma_inv))\n",
    "lp_gamma_san = simplify(lp_gamma.subs(nc, nc_max_gamma).subs(gamma, k0_gamma_inv))\n",
    "ls_gamma_san = simplify(ls_gamma.subs(nc, nc_max_gamma).subs(gamma, k0_gamma_inv))\n",
    "lx_gamma_san = simplify(lx_gamma.subs(nc, nc_max_gamma).subs(gamma, k0_gamma_inv))\n",
    "cx_gamma_san = simplify(cx_gamma.subs(nc, nc_max_gamma).subs(gamma, k0_gamma_inv))\n",
    "cy_gamma_san = simplify(cy_gamma.subs(nc, nc_max_gamma).subs(gamma, k0_gamma_inv))\n",
    "cz_gamma_san = simplify(cz_gamma.subs(nc, nc_max_gamma).subs(gamma, k0_gamma_inv))\n",
    "l3_gamma_san = simplify(l3_gamma.subs(nc, nc_max_gamma).subs(gamma, k0_gamma_inv))\n",
    "zout_gamma_san = simplify(zout_gamma.subs(nc, nc_max_gamma).subs(gamma, k0_gamma_inv))\n",
    "\n",
    "display(Math(\"Z_{in} = \" + latex(zin_gamma_san)))\n",
    "display(Math(\"C_1 = \" + latex(c1_gamma_san)))\n",
    "display(Math(\"L_p = \" + latex(lp_gamma_san)))\n",
    "display(Math(\"L_s = \" + latex(ls_gamma_san)))\n",
    "display(Math(\"L_x = \" + latex(lx_gamma_san)))\n",
    "display(Math(\"C_x = \" + latex(cx_gamma_san)))\n",
    "display(Math(\"C_y = \" + latex(cy_gamma_san)))\n",
    "display(Math(\"C_z = \" + latex(cz_gamma_san)))\n",
    "display(Math(\"L_3 = \" + latex(l3_gamma_san)))"
   ]
  },
  {
   "cell_type": "code",
   "execution_count": 13,
   "id": "15e11051-e966-41ad-9e46-39224dc633cb",
   "metadata": {},
   "outputs": [
    {
     "data": {
      "text/latex": [
       "$\\displaystyle Z_{in} = \\frac{9 Z_{0} n^{2} \\left(\\Delta^{2} \\left(k^{2} - 1\\right) + 4 k^{2}\\right)^{2}}{k^{2} \\left(3 \\Delta^{2} \\left(k^{2} - 1\\right) + 8 k^{2} + 4\\right)^{2}}$"
      ],
      "text/plain": [
       "<IPython.core.display.Math object>"
      ]
     },
     "metadata": {},
     "output_type": "display_data"
    },
    {
     "data": {
      "text/latex": [
       "$\\displaystyle C_1 = \\frac{\\left(3 \\Delta^{2} \\left(k^{2} - 1\\right) + 8 k^{2} + 4\\right)^{2}}{12 Z_{0} \\Delta \\omega_{0} n^{2} \\sqrt{- \\frac{3 \\Delta^{2} \\left(k^{2} - 1\\right) + 8 k^{2}}{\\Delta^{2} \\left(k^{2} - 1\\right)}} \\left(\\Delta^{2} \\left(k^{2} - 1\\right) + 4 k^{2}\\right)}$"
      ],
      "text/plain": [
       "<IPython.core.display.Math object>"
      ]
     },
     "metadata": {},
     "output_type": "display_data"
    },
    {
     "data": {
      "text/latex": [
       "$\\displaystyle L_p = \\frac{12 Z_{0} \\Delta \\sqrt{- \\frac{3 \\Delta^{2} \\left(k^{2} - 1\\right) + 8 k^{2}}{\\Delta^{2} \\left(k^{2} - 1\\right)}} \\left(\\Delta^{2} \\left(k^{2} - 1\\right) + 4 k^{2}\\right)}{\\omega_{0} \\left(3 \\Delta^{2} \\left(k^{2} - 1\\right) + 8 k^{2} + 4\\right)^{2}}$"
      ],
      "text/plain": [
       "<IPython.core.display.Math object>"
      ]
     },
     "metadata": {},
     "output_type": "display_data"
    },
    {
     "data": {
      "text/latex": [
       "$\\displaystyle L_s = \\frac{12 Z_{0} \\Delta n^{2} \\sqrt{- \\frac{3 \\Delta^{2} \\left(k^{2} - 1\\right) + 8 k^{2}}{\\Delta^{2} \\left(k^{2} - 1\\right)}} \\left(\\Delta^{2} \\left(k^{2} - 1\\right) + 4 k^{2}\\right)}{\\omega_{0} \\left(3 \\Delta^{2} \\left(k^{2} - 1\\right) + 8 k^{2} + 4\\right)^{2}}$"
      ],
      "text/plain": [
       "<IPython.core.display.Math object>"
      ]
     },
     "metadata": {},
     "output_type": "display_data"
    },
    {
     "data": {
      "text/latex": [
       "$\\displaystyle L_x = 0$"
      ],
      "text/plain": [
       "<IPython.core.display.Math object>"
      ]
     },
     "metadata": {},
     "output_type": "display_data"
    },
    {
     "data": {
      "text/latex": [
       "$\\displaystyle C_x = \\frac{3 \\Delta^{2} \\cdot \\left(1 - k^{2}\\right) - 8 k^{2} - 4}{3 Z_{0} \\Delta \\omega_{0} \\sqrt{\\frac{- 3 \\Delta^{2} \\left(k^{2} - 1\\right) - 8 k^{2}}{\\Delta^{2} \\left(k^{2} - 1\\right)}} \\left(- \\Delta^{2} \\left(k^{2} - 1\\right) - 4 k^{2}\\right)}$"
      ],
      "text/plain": [
       "<IPython.core.display.Math object>"
      ]
     },
     "metadata": {},
     "output_type": "display_data"
    },
    {
     "data": {
      "text/latex": [
       "$\\displaystyle C_y = 0$"
      ],
      "text/plain": [
       "<IPython.core.display.Math object>"
      ]
     },
     "metadata": {},
     "output_type": "display_data"
    },
    {
     "data": {
      "text/latex": [
       "$\\displaystyle C_z = \\frac{- 3 \\Delta^{2} k^{2} + 3 \\Delta^{2} - 8 k^{2} - 4}{4 Z_{0} \\Delta \\omega_{0} \\sqrt{\\frac{- 3 \\Delta^{2} k^{2} + 3 \\Delta^{2} - 8 k^{2}}{\\Delta^{2} \\left(k^{2} - 1\\right)}} \\left(k^{2} - 1\\right)}$"
      ],
      "text/plain": [
       "<IPython.core.display.Math object>"
      ]
     },
     "metadata": {},
     "output_type": "display_data"
    },
    {
     "data": {
      "text/latex": [
       "$\\displaystyle L_3 = \\frac{Z_{0} \\Delta \\sqrt{\\frac{- 3 \\Delta^{2} \\left(k^{2} - 1\\right) - 8 k^{2}}{\\Delta^{2} \\left(k^{2} - 1\\right)}}}{\\omega_{0}}$"
      ],
      "text/plain": [
       "<IPython.core.display.Math object>"
      ]
     },
     "metadata": {},
     "output_type": "display_data"
    }
   ],
   "source": [
    "zin_x_san = simplify(zin_x.subs(nc, nc_max_x).subs(x, k0_x_inv))\n",
    "c1_x_san = simplify(c1_x.subs(nc, nc_max_x).subs(x, k0_x_inv))\n",
    "lp_x_san = simplify(lp_x.subs(nc, nc_max_x).subs(x, k0_x_inv))\n",
    "ls_x_san = simplify(ls_x.subs(nc, nc_max_x).subs(x, k0_x_inv))\n",
    "lx_x_san = simplify(lx_x.subs(nc, nc_max_x).subs(x, k0_x_inv))\n",
    "cx_x_san = simplify(cx_x.subs(nc, nc_max_x).subs(x, k0_x_inv))\n",
    "cy_x_san = simplify(cy_x.subs(nc, nc_max_x).subs(x, k0_x_inv))\n",
    "cz_x_san = simplify(cz_x.subs(nc, nc_max_x).subs(x, k0_x_inv))\n",
    "l3_x_san = simplify(l3_x.subs(nc, nc_max_x).subs(x, k0_x_inv))\n",
    "zout_x_san = simplify(zout_x.subs(nc, nc_max_x).subs(x, k0_x_inv))\n",
    "\n",
    "display(Math(\"Z_{in} = \" + latex(zin_x_san)))\n",
    "display(Math(\"C_1 = \" + latex(c1_x_san)))\n",
    "display(Math(\"L_p = \" + latex(lp_x_san)))\n",
    "display(Math(\"L_s = \" + latex(ls_x_san)))\n",
    "display(Math(\"L_x = \" + latex(lx_x_san)))\n",
    "display(Math(\"C_x = \" + latex(cx_x_san)))\n",
    "display(Math(\"C_y = \" + latex(cy_x_san)))\n",
    "display(Math(\"C_z = \" + latex(cz_x_san)))\n",
    "display(Math(\"L_3 = \" + latex(l3_x_san)))"
   ]
  },
  {
   "cell_type": "markdown",
   "id": "7e33dc06-d6ae-42db-9261-23ab5ff43a82",
   "metadata": {},
   "source": [
    "## Calculating $n_c$ and $\\gamma$ for $L_x = 0$ and $C_y = 0$ for given $k$, $\\Delta$ and $\\omega_0$"
   ]
  },
  {
   "cell_type": "code",
   "execution_count": 14,
   "id": "a2bd34f5-8777-4054-a913-4f1d472714e5",
   "metadata": {},
   "outputs": [
    {
     "data": {
      "text/latex": [
       "$\\displaystyle \\gamma_{min} = 0.999735715076741$"
      ],
      "text/plain": [
       "<IPython.core.display.Math object>"
      ]
     },
     "metadata": {},
     "output_type": "display_data"
    },
    {
     "data": {
      "text/latex": [
       "$\\displaystyle \\gamma_{max} = 1.22474487139159$"
      ],
      "text/plain": [
       "<IPython.core.display.Math object>"
      ]
     },
     "metadata": {},
     "output_type": "display_data"
    },
    {
     "data": {
      "text/latex": [
       "$\\displaystyle n_{c, max} = 3.28640477995783$"
      ],
      "text/plain": [
       "<IPython.core.display.Math object>"
      ]
     },
     "metadata": {},
     "output_type": "display_data"
    },
    {
     "data": {
      "text/latex": [
       "$\\displaystyle n_{c, min} = 2.77777777777778$"
      ],
      "text/plain": [
       "<IPython.core.display.Math object>"
      ]
     },
     "metadata": {},
     "output_type": "display_data"
    },
    {
     "data": {
      "text/latex": [
       "$\\displaystyle Z_{in, min} = 15.2141940350518$"
      ],
      "text/plain": [
       "<IPython.core.display.Math object>"
      ]
     },
     "metadata": {},
     "output_type": "display_data"
    },
    {
     "data": {
      "text/latex": [
       "$\\displaystyle Z_{in, max} = 18.0$"
      ],
      "text/plain": [
       "<IPython.core.display.Math object>"
      ]
     },
     "metadata": {},
     "output_type": "display_data"
    }
   ],
   "source": [
    "z0_val = 50\n",
    "w0_val = 26.66e9\n",
    "n_val = 1\n",
    "delta_val = 1 / 2**0.5\n",
    "\n",
    "k_val_min = 0.551619325895164\n",
    "k_val_max = 0.6\n",
    "\n",
    "gamma_val_min = k0_gamma_inv.subs(delta, delta_val).subs(k, k_val_min)\n",
    "gamma_val_max = k0_gamma_inv.subs(delta, delta_val).subs(k, k_val_max)\n",
    "\n",
    "nc_val_min = nc_max_gamma.subs(delta, delta_val).subs(gamma, gamma_val_min)\n",
    "nc_val_max = nc_max_gamma.subs(delta, delta_val).subs(gamma, gamma_val_max)\n",
    "\n",
    "display(Math(\"\\gamma_{min} = \" + latex(gamma_val_min)))\n",
    "display(Math(\"\\gamma_{max} = \" + latex(gamma_val_max)))\n",
    "\n",
    "display(Math(\"n_{c, max} = \" + latex(nc_val_min)))\n",
    "display(Math(\"n_{c, min} = \" + latex(nc_val_max)))\n",
    "\n",
    "display(Math(\"Z_{in, min} = \" + latex(zin.subs(n, n_val).subs(k, k_val_min).subs(nc, nc_val_min).subs(z0, z0_val))))\n",
    "display(Math(\"Z_{in, max} = \" + latex(zin.subs(n, n_val).subs(k, k_val_max).subs(nc, nc_val_max).subs(z0, z0_val))))"
   ]
  },
  {
   "cell_type": "code",
   "execution_count": 15,
   "id": "726d2137",
   "metadata": {},
   "outputs": [],
   "source": [
    "import numpy as np\n",
    "\n",
    "z0_val = 50\n",
    "w0_val = 2 * np.pi * 3 * np.sqrt(2) * 1e9\n",
    "n_val = 1\n",
    "delta_val = np.sqrt(2) / 2\n",
    "\n",
    "k_val_min = 0.551619325895164\n",
    "k_val_max = 0.8"
   ]
  },
  {
   "cell_type": "code",
   "execution_count": 16,
   "id": "d3ece7c0",
   "metadata": {},
   "outputs": [
    {
     "name": "stdout",
     "output_type": "stream",
     "text": [
      "1.7969450000000003e-14\n",
      "192.3\n"
     ]
    }
   ],
   "source": [
    "cd = 359.389 * 1e-15\n",
    "cd_unit = cd / 20\n",
    "\n",
    "print(cd_unit)\n",
    "\n",
    "print(38.46*1e-3 / (10 * 20 * 1e-6))"
   ]
  },
  {
   "cell_type": "code",
   "execution_count": 17,
   "id": "7891a9ae",
   "metadata": {},
   "outputs": [
    {
     "name": "stdout",
     "output_type": "stream",
     "text": [
      "192.25000000000003\n"
     ]
    }
   ],
   "source": [
    "Id = 38.45 * 1e-3\n",
    "W = 10 * 20 * 1e-6\n",
    "print(Id / W)"
   ]
  },
  {
   "cell_type": "markdown",
   "id": "9b666777",
   "metadata": {},
   "source": [
    "## Supply voltage is 1.2V"
   ]
  },
  {
   "cell_type": "code",
   "execution_count": 18,
   "id": "7967f1e8",
   "metadata": {},
   "outputs": [
    {
     "data": {
      "text/latex": [
       "$\\displaystyle J_{1} = 192.275\\, \\mu A / \\mu m$"
      ],
      "text/plain": [
       "<IPython.core.display.Math object>"
      ]
     },
     "metadata": {},
     "output_type": "display_data"
    },
    {
     "data": {
      "text/latex": [
       "$\\displaystyle J_{2} = 192.275\\, \\mu A / \\mu m$"
      ],
      "text/plain": [
       "<IPython.core.display.Math object>"
      ]
     },
     "metadata": {},
     "output_type": "display_data"
    },
    {
     "data": {
      "text/latex": [
       "$\\displaystyle R_{opt, unit} = 380\\, \\Omega$"
      ],
      "text/plain": [
       "<IPython.core.display.Math object>"
      ]
     },
     "metadata": {},
     "output_type": "display_data"
    },
    {
     "data": {
      "text/latex": [
       "$\\displaystyle C_{D, unit} = 17.96945\\, fF$"
      ],
      "text/plain": [
       "<IPython.core.display.Math object>"
      ]
     },
     "metadata": {},
     "output_type": "display_data"
    }
   ],
   "source": [
    "mul = 20\n",
    "Id = 76.91e-3\n",
    "W_1 = mul * 20 * 1e-6\n",
    "W_2 = W_1\n",
    "\n",
    "Ropt = 19\n",
    "Ropt_unit = Ropt * mul\n",
    "\n",
    "cd = 359.389 * 1e-15\n",
    "cd_unit = cd / mul\n",
    "\n",
    "display(Math(\"J_{1} = \" + latex(Id / W_1) + \"\\, \\mu A / \\mu m\"))\n",
    "display(Math(\"J_{2} = \" + latex(Id / W_2) + \"\\, \\mu A / \\mu m\"))\n",
    "\n",
    "display(Math(\"R_{opt, unit} = \" + latex(Ropt_unit) + \"\\, \\Omega\"))\n",
    "display(Math(\"C_{D, unit} = \" + latex(cd_unit * 1e15) + \"\\, fF\"))"
   ]
  },
  {
   "cell_type": "markdown",
   "id": "2edf441d",
   "metadata": {},
   "source": [
    "### Chebyshev filter"
   ]
  },
  {
   "cell_type": "code",
   "execution_count": 19,
   "id": "839cea44",
   "metadata": {},
   "outputs": [
    {
     "data": {
      "text/latex": [
       "$\\displaystyle \\gamma_{min} = 0.999735715076741$"
      ],
      "text/plain": [
       "<IPython.core.display.Math object>"
      ]
     },
     "metadata": {},
     "output_type": "display_data"
    },
    {
     "data": {
      "text/latex": [
       "$\\displaystyle n_{c, max} = 3.28640477995783$"
      ],
      "text/plain": [
       "<IPython.core.display.Math object>"
      ]
     },
     "metadata": {},
     "output_type": "display_data"
    },
    {
     "data": {
      "text/latex": [
       "$\\displaystyle Z_{in, min} = 15.2141940350518\\, \\Omega$"
      ],
      "text/plain": [
       "<IPython.core.display.Math object>"
      ]
     },
     "metadata": {},
     "output_type": "display_data"
    },
    {
     "data": {
      "text/latex": [
       "$\\displaystyle Z_{in, max} = 32.0\\, \\Omega$"
      ],
      "text/plain": [
       "<IPython.core.display.Math object>"
      ]
     },
     "metadata": {},
     "output_type": "display_data"
    },
    {
     "data": {
      "text/latex": [
       "$\\displaystyle M = 25$"
      ],
      "text/plain": [
       "<IPython.core.display.Math object>"
      ]
     },
     "metadata": {},
     "output_type": "display_data"
    },
    {
     "data": {
      "text/latex": [
       "$\\displaystyle C_{D} = 449.23625\\, fF$"
      ],
      "text/plain": [
       "<IPython.core.display.Math object>"
      ]
     },
     "metadata": {},
     "output_type": "display_data"
    }
   ],
   "source": [
    "gamma_val_min = k0_gamma_inv.subs(delta, delta_val).subs(k, k_val_min)\n",
    "gamma_val_max = k0_gamma_inv.subs(delta, delta_val).subs(k, k_val_max)\n",
    "\n",
    "nc_val_min = nc_max_gamma.subs(delta, delta_val).subs(gamma, gamma_val_min)\n",
    "nc_val_max = nc_max_gamma.subs(delta, delta_val).subs(gamma, gamma_val_max)\n",
    "\n",
    "display(Math(\"\\gamma_{min} = \" + latex(gamma_val_min)))\n",
    "\n",
    "display(Math(\"n_{c, max} = \" + latex(nc_val_min)))\n",
    "\n",
    "Zmin = zin.subs(n, n_val).subs(k, k_val_min).subs(nc, nc_val_min).subs(z0, z0_val)\n",
    "Zmax = zin.subs(n, n_val).subs(k, k_val_max).subs(nc, nc_val_max).subs(z0, z0_val)\n",
    "\n",
    "display(Math(\"Z_{in, min} = \" + latex(Zmin) + \"\\, \\Omega\"))\n",
    "display(Math(\"Z_{in, max} = \" + latex(Zmax) + \"\\, \\Omega\"))\n",
    "\n",
    "multiplier = int(np.round(Ropt_unit / float(Zmin)))\n",
    "display(Math(\"M = \" + latex(multiplier)))\n",
    "display(Math(\"C_{D} = \" + latex(cd_unit * multiplier * 1e15) + \"\\, fF\"))"
   ]
  },
  {
   "cell_type": "code",
   "execution_count": null,
   "id": "f457b6a2-15e1-4b51-9424-188902d49c28",
   "metadata": {},
   "outputs": [],
   "source": []
  },
  {
   "cell_type": "markdown",
   "id": "2fe44383",
   "metadata": {},
   "source": [
    "### $\\delta = 0.948 \\, \\text{dBm}$ \n",
    "### $\\text{P1dB}|_{f = f_c} = 11.1578 \\, \\text{dBm}$\n",
    "### $\\text{P1dB}_{max} = 11.93 \\, \\text{dBm}$"
   ]
  },
  {
   "cell_type": "code",
   "execution_count": 20,
   "id": "436ebe03",
   "metadata": {},
   "outputs": [
    {
     "data": {
      "text/latex": [
       "$\\displaystyle Z_{in} = 15.2141940350518$"
      ],
      "text/plain": [
       "<IPython.core.display.Math object>"
      ]
     },
     "metadata": {},
     "output_type": "display_data"
    },
    {
     "data": {
      "text/latex": [
       "$\\displaystyle C_1 = 3.48790557239734 \\cdot 10^{-12}$"
      ],
      "text/plain": [
       "<IPython.core.display.Math object>"
      ]
     },
     "metadata": {},
     "output_type": "display_data"
    },
    {
     "data": {
      "text/latex": [
       "$\\displaystyle L_p = 4.03462373762572 \\cdot 10^{-10}$"
      ],
      "text/plain": [
       "<IPython.core.display.Math object>"
      ]
     },
     "metadata": {},
     "output_type": "display_data"
    },
    {
     "data": {
      "text/latex": [
       "$\\displaystyle L_s = 4.03462373762572 \\cdot 10^{-10}$"
      ],
      "text/plain": [
       "<IPython.core.display.Math object>"
      ]
     },
     "metadata": {},
     "output_type": "display_data"
    },
    {
     "data": {
      "text/latex": [
       "$\\displaystyle L_x = -5.12078324135178 \\cdot 10^{-26}$"
      ],
      "text/plain": [
       "<IPython.core.display.Math object>"
      ]
     },
     "metadata": {},
     "output_type": "display_data"
    },
    {
     "data": {
      "text/latex": [
       "$\\displaystyle C_x = 3.48790557239734 \\cdot 10^{-12}$"
      ],
      "text/plain": [
       "<IPython.core.display.Math object>"
      ]
     },
     "metadata": {},
     "output_type": "display_data"
    },
    {
     "data": {
      "text/latex": [
       "$\\displaystyle C_y = 0$"
      ],
      "text/plain": [
       "<IPython.core.display.Math object>"
      ]
     },
     "metadata": {},
     "output_type": "display_data"
    },
    {
     "data": {
      "text/latex": [
       "$\\displaystyle C_z = 1.52549784840009 \\cdot 10^{-12}$"
      ],
      "text/plain": [
       "<IPython.core.display.Math object>"
      ]
     },
     "metadata": {},
     "output_type": "display_data"
    },
    {
     "data": {
      "text/latex": [
       "$\\displaystyle L_3 = 1.32594067366645 \\cdot 10^{-9}$"
      ],
      "text/plain": [
       "<IPython.core.display.Math object>"
      ]
     },
     "metadata": {},
     "output_type": "display_data"
    }
   ],
   "source": [
    "nc_val = nc_val_min\n",
    "gamma_val = gamma_val_min\n",
    "k_val = 0.551619325895164\n",
    "\n",
    "zin_gamma_san_2 = simplify(zin_gamma.subs(nc, nc_val).subs(gamma, gamma_val).subs(delta, delta_val).subs(w0, w0_val).subs(k, k_val).subs(z0, z0_val).subs(n, n_val))\n",
    "c1_gamma_san_2 = simplify(c1_gamma.subs(nc, nc_val).subs(gamma, gamma_val).subs(delta, delta_val).subs(w0, w0_val).subs(k, k_val).subs(z0, z0_val).subs(n, n_val))\n",
    "lp_gamma_san_2 = simplify(lp_gamma.subs(nc, nc_val).subs(gamma, gamma_val).subs(delta, delta_val).subs(w0, w0_val).subs(k, k_val).subs(z0, z0_val).subs(n, n_val))\n",
    "ls_gamma_san_2 = simplify(ls_gamma.subs(nc, nc_val).subs(gamma, gamma_val).subs(delta, delta_val).subs(w0, w0_val).subs(k, k_val).subs(z0, z0_val).subs(n, n_val))\n",
    "lx_gamma_san_2 = simplify(lx_gamma.subs(nc, nc_val).subs(gamma, gamma_val).subs(delta, delta_val).subs(w0, w0_val).subs(k, k_val).subs(z0, z0_val).subs(n, n_val))\n",
    "cx_gamma_san_2 = simplify(cx_gamma.subs(nc, nc_val).subs(gamma, gamma_val).subs(delta, delta_val).subs(w0, w0_val).subs(k, k_val).subs(z0, z0_val).subs(n, n_val))\n",
    "cy_gamma_san_2 = simplify(cy_gamma.subs(nc, nc_val).subs(gamma, gamma_val).subs(delta, delta_val).subs(w0, w0_val).subs(k, k_val).subs(z0, z0_val).subs(n, n_val))\n",
    "cz_gamma_san_2 = simplify(cz_gamma.subs(nc, nc_val).subs(gamma, gamma_val).subs(delta, delta_val).subs(w0, w0_val).subs(k, k_val).subs(z0, z0_val).subs(n, n_val))\n",
    "l3_gamma_san_2 = simplify(l3_gamma.subs(nc, nc_val).subs(gamma, gamma_val).subs(delta, delta_val).subs(w0, w0_val).subs(k, k_val).subs(z0, z0_val).subs(n, n_val))\n",
    "zout_gamma_san_2 = simplify(zout_gamma.subs(nc, nc_val).subs(gamma, gamma_val).subs(delta, delta_val).subs(w0, w0_val).subs(k, k_val).subs(z0, z0_val).subs(n, n_val))\n",
    "\n",
    "display(Math(\"Z_{in} = \" + latex(zin_gamma_san_2)))\n",
    "display(Math(\"C_1 = \" + latex(c1_gamma_san_2)))\n",
    "display(Math(\"L_p = \" + latex(lp_gamma_san_2)))\n",
    "display(Math(\"L_s = \" + latex(ls_gamma_san_2)))\n",
    "display(Math(\"L_x = \" + latex(lx_gamma_san_2)))\n",
    "display(Math(\"C_x = \" + latex(cx_gamma_san_2)))\n",
    "display(Math(\"C_y = \" + latex(cy_gamma_san_2)))\n",
    "display(Math(\"C_z = \" + latex(cz_gamma_san_2)))\n",
    "display(Math(\"L_3 = \" + latex(l3_gamma_san_2)))"
   ]
  },
  {
   "cell_type": "markdown",
   "id": "791b8cf1",
   "metadata": {},
   "source": [
    "### Bode-Fano filter"
   ]
  },
  {
   "cell_type": "code",
   "execution_count": 28,
   "id": "ee80e498",
   "metadata": {},
   "outputs": [
    {
     "data": {
      "text/latex": [
       "$\\displaystyle x_{min} = 0.999735715076741$"
      ],
      "text/plain": [
       "<IPython.core.display.Math object>"
      ]
     },
     "metadata": {},
     "output_type": "display_data"
    },
    {
     "data": {
      "text/latex": [
       "$\\displaystyle n_{c, max} = 2.06711784409115$"
      ],
      "text/plain": [
       "<IPython.core.display.Math object>"
      ]
     },
     "metadata": {},
     "output_type": "display_data"
    },
    {
     "data": {
      "text/latex": [
       "$\\displaystyle Z_{in, min} = 38.4556880318464$"
      ],
      "text/plain": [
       "<IPython.core.display.Math object>"
      ]
     },
     "metadata": {},
     "output_type": "display_data"
    },
    {
     "data": {
      "text/latex": [
       "$\\displaystyle Z_{in, max} = 54.1018203824148$"
      ],
      "text/plain": [
       "<IPython.core.display.Math object>"
      ]
     },
     "metadata": {},
     "output_type": "display_data"
    },
    {
     "data": {
      "text/latex": [
       "$\\displaystyle M = 16$"
      ],
      "text/plain": [
       "<IPython.core.display.Math object>"
      ]
     },
     "metadata": {},
     "output_type": "display_data"
    },
    {
     "data": {
      "text/latex": [
       "$\\displaystyle C_{D} = 370.152\\, fF$"
      ],
      "text/plain": [
       "<IPython.core.display.Math object>"
      ]
     },
     "metadata": {},
     "output_type": "display_data"
    }
   ],
   "source": [
    "x_val_min = k0_x_inv.subs(delta, delta_val).subs(k, k_val_min)\n",
    "x_val_max = k0_x_inv.subs(delta, delta_val).subs(k, k_val_max)\n",
    "\n",
    "nc_val__min = nc_max_x.subs(delta, delta_val).subs(x, x_val_min)\n",
    "nc_val__max = nc_max_x.subs(delta, delta_val).subs(x, x_val_max)\n",
    "\n",
    "display(Math(\"x_{min} = \" + latex(x_val_min)))\n",
    "\n",
    "display(Math(\"n_{c, max} = \" + latex(nc_val__min)))\n",
    "\n",
    "Zmin = zin.subs(n, n_val).subs(k, k_val_min).subs(nc, nc_val__min).subs(z0, z0_val)\n",
    "Zmax = zin.subs(n, n_val).subs(k, k_val_max).subs(nc, nc_val__max).subs(z0, z0_val)\n",
    "\n",
    "display(Math(\"Z_{in, min} = \" + latex(Zmin)))\n",
    "display(Math(\"Z_{in, max} = \" + latex(Zmax)))\n",
    "\n",
    "multiplier = int(np.round(Ropt_unit / float(Zmin)))\n",
    "display(Math(\"M = \" + latex(multiplier)))\n",
    "display(Math(\"C_{D} = \" + latex(cd_unit * multiplier * 1e15) + \"\\, fF\"))"
   ]
  },
  {
   "cell_type": "markdown",
   "id": "f4065462",
   "metadata": {},
   "source": [
    "### $\\delta = 0.816 \\, \\text{dBm}$ \n",
    "### $\\text{P1dB}|_{f = f_c} = 7.18 \\, \\text{dBm}$\n",
    "### $\\text{P1dB}_{max} = 7.26 \\, \\text{dBm}$"
   ]
  },
  {
   "cell_type": "code",
   "execution_count": 29,
   "id": "7231d7cb-a670-47db-aecc-cca798b92214",
   "metadata": {},
   "outputs": [
    {
     "ename": "NameError",
     "evalue": "name 'nc_val_' is not defined",
     "output_type": "error",
     "traceback": [
      "\u001b[0;31m---------------------------------------------------------------------------\u001b[0m",
      "\u001b[0;31mNameError\u001b[0m                                 Traceback (most recent call last)",
      "Cell \u001b[0;32mIn[29], line 5\u001b[0m\n\u001b[1;32m      2\u001b[0m gamma_val \u001b[38;5;241m=\u001b[39m x_val_min\n\u001b[1;32m      3\u001b[0m k_val \u001b[38;5;241m=\u001b[39m \u001b[38;5;241m0.551619325895164\u001b[39m\n\u001b[0;32m----> 5\u001b[0m zin_x_san_2 \u001b[38;5;241m=\u001b[39m simplify(zin_x\u001b[38;5;241m.\u001b[39msubs(nc, \u001b[43mnc_val_\u001b[49m)\u001b[38;5;241m.\u001b[39msubs(x, x_val)\u001b[38;5;241m.\u001b[39msubs(delta, delta_val)\u001b[38;5;241m.\u001b[39msubs(w0, w0_val)\u001b[38;5;241m.\u001b[39msubs(k, k_val)\u001b[38;5;241m.\u001b[39msubs(z0, z0_val)\u001b[38;5;241m.\u001b[39msubs(n, n_val))\n\u001b[1;32m      6\u001b[0m c1_x_san_2 \u001b[38;5;241m=\u001b[39m simplify(c1_x\u001b[38;5;241m.\u001b[39msubs(nc, nc_val_)\u001b[38;5;241m.\u001b[39msubs(x, x_val)\u001b[38;5;241m.\u001b[39msubs(delta, delta_val)\u001b[38;5;241m.\u001b[39msubs(w0, w0_val)\u001b[38;5;241m.\u001b[39msubs(k, k_val)\u001b[38;5;241m.\u001b[39msubs(z0, z0_val)\u001b[38;5;241m.\u001b[39msubs(n, n_val))\n\u001b[1;32m      7\u001b[0m lp_x_san_2 \u001b[38;5;241m=\u001b[39m simplify(lp_x\u001b[38;5;241m.\u001b[39msubs(nc, nc_val_)\u001b[38;5;241m.\u001b[39msubs(x, x_val)\u001b[38;5;241m.\u001b[39msubs(delta, delta_val)\u001b[38;5;241m.\u001b[39msubs(w0, w0_val)\u001b[38;5;241m.\u001b[39msubs(k, k_val)\u001b[38;5;241m.\u001b[39msubs(z0, z0_val)\u001b[38;5;241m.\u001b[39msubs(n, n_val))\n",
      "\u001b[0;31mNameError\u001b[0m: name 'nc_val_' is not defined"
     ]
    }
   ],
   "source": [
    "nc_val_ = nc_val__min\n",
    "gamma_val = x_val_min\n",
    "k_val = 0.551619325895164\n",
    "\n",
    "zin_x_san_2 = simplify(zin_x.subs(nc, nc_val_).subs(x, x_val).subs(delta, delta_val).subs(w0, w0_val).subs(k, k_val).subs(z0, z0_val).subs(n, n_val))\n",
    "c1_x_san_2 = simplify(c1_x.subs(nc, nc_val_).subs(x, x_val).subs(delta, delta_val).subs(w0, w0_val).subs(k, k_val).subs(z0, z0_val).subs(n, n_val))\n",
    "lp_x_san_2 = simplify(lp_x.subs(nc, nc_val_).subs(x, x_val).subs(delta, delta_val).subs(w0, w0_val).subs(k, k_val).subs(z0, z0_val).subs(n, n_val))\n",
    "ls_x_san_2 = simplify(ls_x.subs(nc, nc_val_).subs(x, x_val).subs(delta, delta_val).subs(w0, w0_val).subs(k, k_val).subs(z0, z0_val).subs(n, n_val))\n",
    "lx_x_san_2 = simplify(lx_x.subs(nc, nc_val_).subs(x, x_val).subs(delta, delta_val).subs(w0, w0_val).subs(k, k_val).subs(z0, z0_val).subs(n, n_val))\n",
    "cx_x_san_2 = simplify(cx_x.subs(nc, nc_val_).subs(x, x_val).subs(delta, delta_val).subs(w0, w0_val).subs(k, k_val).subs(z0, z0_val).subs(n, n_val))\n",
    "cy_x_san_2 = simplify(cy_x.subs(nc, nc_val_).subs(x, x_val).subs(delta, delta_val).subs(w0, w0_val).subs(k, k_val).subs(z0, z0_val).subs(n, n_val))\n",
    "cz_x_san_2 = simplify(cz_x.subs(nc, nc_val_).subs(x, x_val).subs(delta, delta_val).subs(w0, w0_val).subs(k, k_val).subs(z0, z0_val).subs(n, n_val))\n",
    "l3_x_san_2 = simplify(l3_x.subs(nc, nc_val_).subs(x, x_val).subs(delta, delta_val).subs(w0, w0_val).subs(k, k_val).subs(z0, z0_val).subs(n, n_val))\n",
    "zout_x_san_2 = simplify(zout_x.subs(nc, nc_val_).subs(x, x_val).subs(delta, delta_val).subs(w0, w0_val).subs(k, k_val).subs(z0, z0_val).subs(n, n_val))\n",
    "\n",
    "display(Math(\"Z_{in} = \" + latex(zin_x_san_2)))\n",
    "display(Math(\"C_1 = \" + latex(c1_x_san_2)))\n",
    "display(Math(\"L_p = \" + latex(lp_x_san_2)))\n",
    "display(Math(\"L_s = \" + latex(ls_x_san_2)))\n",
    "display(Math(\"L_x = \" + latex(lx_x_san_2)))\n",
    "display(Math(\"C_x = \" + latex(cx_x_san_2)))\n",
    "display(Math(\"C_y = \" + latex(cy_x_san_2)))\n",
    "display(Math(\"C_z = \" + latex(cz_x_san_2)))\n",
    "display(Math(\"L_3 = \" + latex(l3_x_san_2)))"
   ]
  },
  {
   "cell_type": "markdown",
   "id": "a48ad63d",
   "metadata": {},
   "source": [
    "## Supply voltage is 2.5V"
   ]
  },
  {
   "cell_type": "code",
   "execution_count": 22,
   "id": "ce5c808a",
   "metadata": {},
   "outputs": [
    {
     "data": {
      "text/latex": [
       "$\\displaystyle J_{1} = 252.0\\, \\mu A / \\mu m$"
      ],
      "text/plain": [
       "<IPython.core.display.Math object>"
      ]
     },
     "metadata": {},
     "output_type": "display_data"
    },
    {
     "data": {
      "text/latex": [
       "$\\displaystyle J_{2} = 126.0\\, \\mu A / \\mu m$"
      ],
      "text/plain": [
       "<IPython.core.display.Math object>"
      ]
     },
     "metadata": {},
     "output_type": "display_data"
    },
    {
     "data": {
      "text/latex": [
       "$\\displaystyle R_{opt, unit} = 620\\, \\Omega$"
      ],
      "text/plain": [
       "<IPython.core.display.Math object>"
      ]
     },
     "metadata": {},
     "output_type": "display_data"
    },
    {
     "data": {
      "text/latex": [
       "$\\displaystyle C_{D, unit} = 23.1345\\, fF$"
      ],
      "text/plain": [
       "<IPython.core.display.Math object>"
      ]
     },
     "metadata": {},
     "output_type": "display_data"
    }
   ],
   "source": [
    "mul = 20\n",
    "Id = 100.8 * 1e-3\n",
    "W_1 = mul * 20 * 1e-6\n",
    "W_2 = mul * 40 * 1e-6\n",
    "\n",
    "Ropt = 31\n",
    "Ropt_unit = Ropt * mul\n",
    "\n",
    "cd = 462.690 * 1e-15\n",
    "cd_unit = cd / mul\n",
    "\n",
    "display(Math(\"J_{1} = \" + latex(Id / W_1) + \"\\, \\mu A / \\mu m\"))\n",
    "display(Math(\"J_{2} = \" + latex(Id / W_2) + \"\\, \\mu A / \\mu m\"))\n",
    "\n",
    "display(Math(\"R_{opt, unit} = \" + latex(Ropt_unit) + \"\\, \\Omega\"))\n",
    "display(Math(\"C_{D, unit} = \" + latex(cd_unit * 1e15) + \"\\, fF\"))"
   ]
  },
  {
   "cell_type": "markdown",
   "id": "cd8013be",
   "metadata": {},
   "source": [
    "### Chebyshev filter"
   ]
  },
  {
   "cell_type": "code",
   "execution_count": 23,
   "id": "15df71ca",
   "metadata": {},
   "outputs": [
    {
     "data": {
      "text/latex": [
       "$\\displaystyle \\gamma_{min} = 0.999735715076741$"
      ],
      "text/plain": [
       "<IPython.core.display.Math object>"
      ]
     },
     "metadata": {},
     "output_type": "display_data"
    },
    {
     "data": {
      "text/latex": [
       "$\\displaystyle n_{c, max} = 3.28640477995783$"
      ],
      "text/plain": [
       "<IPython.core.display.Math object>"
      ]
     },
     "metadata": {},
     "output_type": "display_data"
    },
    {
     "data": {
      "text/latex": [
       "$\\displaystyle Z_{in, min} = 15.2141940350518\\, \\Omega$"
      ],
      "text/plain": [
       "<IPython.core.display.Math object>"
      ]
     },
     "metadata": {},
     "output_type": "display_data"
    },
    {
     "data": {
      "text/latex": [
       "$\\displaystyle Z_{in, max} = 32.0\\, \\Omega$"
      ],
      "text/plain": [
       "<IPython.core.display.Math object>"
      ]
     },
     "metadata": {},
     "output_type": "display_data"
    },
    {
     "data": {
      "text/latex": [
       "$\\displaystyle M = 41$"
      ],
      "text/plain": [
       "<IPython.core.display.Math object>"
      ]
     },
     "metadata": {},
     "output_type": "display_data"
    },
    {
     "data": {
      "text/latex": [
       "$\\displaystyle C_{D} = 948.5145\\, fF$"
      ],
      "text/plain": [
       "<IPython.core.display.Math object>"
      ]
     },
     "metadata": {},
     "output_type": "display_data"
    }
   ],
   "source": [
    "gamma_val_min = k0_gamma_inv.subs(delta, delta_val).subs(k, k_val_min)\n",
    "gamma_val_max = k0_gamma_inv.subs(delta, delta_val).subs(k, k_val_max)\n",
    "\n",
    "nc_val_min = nc_max_gamma.subs(delta, delta_val).subs(gamma, gamma_val_min)\n",
    "nc_val_max = nc_max_gamma.subs(delta, delta_val).subs(gamma, gamma_val_max)\n",
    "\n",
    "display(Math(\"\\gamma_{min} = \" + latex(gamma_val_min)))\n",
    "\n",
    "display(Math(\"n_{c, max} = \" + latex(nc_val_min)))\n",
    "\n",
    "Zmin = zin.subs(n, n_val).subs(k, k_val_min).subs(nc, nc_val_min).subs(z0, z0_val)\n",
    "Zmax = zin.subs(n, n_val).subs(k, k_val_max).subs(nc, nc_val_max).subs(z0, z0_val)\n",
    "\n",
    "display(Math(\"Z_{in, min} = \" + latex(Zmin) + \"\\, \\Omega\"))\n",
    "display(Math(\"Z_{in, max} = \" + latex(Zmax) + \"\\, \\Omega\"))\n",
    "\n",
    "multiplier = int(np.round(Ropt_unit / float(Zmin)))\n",
    "display(Math(\"M = \" + latex(multiplier)))\n",
    "display(Math(\"C_{D} = \" + latex(cd_unit * multiplier * 1e15) + \"\\, fF\"))"
   ]
  },
  {
   "cell_type": "markdown",
   "id": "1bfe8f32",
   "metadata": {},
   "source": [
    "### $\\delta = 0.938 \\, \\text{dBm}$ \n",
    "### $\\text{P1dB}|_{f = f_c} = 20.34 \\, \\text{dBm}$\n",
    "### $\\text{P1dB}_{max} = 21.19 \\, \\text{dBm}$"
   ]
  },
  {
   "cell_type": "markdown",
   "id": "2d0a708b",
   "metadata": {},
   "source": [
    "### Bode-Fano filter"
   ]
  },
  {
   "cell_type": "code",
   "execution_count": 24,
   "id": "bac55979",
   "metadata": {},
   "outputs": [
    {
     "data": {
      "text/latex": [
       "$\\displaystyle x_{min} = 0.999735715076741$"
      ],
      "text/plain": [
       "<IPython.core.display.Math object>"
      ]
     },
     "metadata": {},
     "output_type": "display_data"
    },
    {
     "data": {
      "text/latex": [
       "$\\displaystyle n_{c, max} = 2.06711784409115$"
      ],
      "text/plain": [
       "<IPython.core.display.Math object>"
      ]
     },
     "metadata": {},
     "output_type": "display_data"
    },
    {
     "data": {
      "text/latex": [
       "$\\displaystyle Z_{in, min} = 38.4556880318464$"
      ],
      "text/plain": [
       "<IPython.core.display.Math object>"
      ]
     },
     "metadata": {},
     "output_type": "display_data"
    },
    {
     "data": {
      "text/latex": [
       "$\\displaystyle Z_{in, max} = 54.1018203824148$"
      ],
      "text/plain": [
       "<IPython.core.display.Math object>"
      ]
     },
     "metadata": {},
     "output_type": "display_data"
    },
    {
     "data": {
      "text/latex": [
       "$\\displaystyle M = 16$"
      ],
      "text/plain": [
       "<IPython.core.display.Math object>"
      ]
     },
     "metadata": {},
     "output_type": "display_data"
    },
    {
     "data": {
      "text/latex": [
       "$\\displaystyle C_{D} = 370.152\\, fF$"
      ],
      "text/plain": [
       "<IPython.core.display.Math object>"
      ]
     },
     "metadata": {},
     "output_type": "display_data"
    }
   ],
   "source": [
    "x_val_min = k0_x_inv.subs(delta, delta_val).subs(k, k_val_min)\n",
    "x_val_max = k0_x_inv.subs(delta, delta_val).subs(k, k_val_max)\n",
    "\n",
    "nc_val__min = nc_max_x.subs(delta, delta_val).subs(x, x_val_min)\n",
    "nc_val__max = nc_max_x.subs(delta, delta_val).subs(x, x_val_max)\n",
    "\n",
    "display(Math(\"x_{min} = \" + latex(x_val_min)))\n",
    "\n",
    "display(Math(\"n_{c, max} = \" + latex(nc_val__min)))\n",
    "\n",
    "Zmin = zin.subs(n, n_val).subs(k, k_val_min).subs(nc, nc_val__min).subs(z0, z0_val)\n",
    "Zmax = zin.subs(n, n_val).subs(k, k_val_max).subs(nc, nc_val__max).subs(z0, z0_val)\n",
    "\n",
    "display(Math(\"Z_{in, min} = \" + latex(Zmin)))\n",
    "display(Math(\"Z_{in, max} = \" + latex(Zmax)))\n",
    "\n",
    "multiplier = int(np.round(Ropt_unit / float(Zmin)))\n",
    "display(Math(\"M = \" + latex(multiplier)))\n",
    "display(Math(\"C_{D} = \" + latex(cd_unit * multiplier * 1e15) + \"\\, fF\"))"
   ]
  },
  {
   "cell_type": "markdown",
   "id": "b4c75f17",
   "metadata": {},
   "source": [
    "### $\\delta = 2.34 \\, \\text{dBm}$ \n",
    "### $\\text{P1dB}|_{f = f_c} = 16.3 \\, \\text{dBm}$\n",
    "### $\\text{P1dB}_{max} = 16.55 \\, \\text{dBm}$"
   ]
  },
  {
   "cell_type": "code",
   "execution_count": null,
   "id": "1e0c8bc3",
   "metadata": {},
   "outputs": [],
   "source": []
  },
  {
   "cell_type": "code",
   "execution_count": null,
   "id": "b52910c9",
   "metadata": {},
   "outputs": [],
   "source": []
  },
  {
   "cell_type": "code",
   "execution_count": null,
   "id": "de196405",
   "metadata": {},
   "outputs": [],
   "source": []
  },
  {
   "cell_type": "code",
   "execution_count": null,
   "id": "544554b0",
   "metadata": {},
   "outputs": [],
   "source": []
  },
  {
   "cell_type": "code",
   "execution_count": null,
   "id": "478931f2",
   "metadata": {},
   "outputs": [],
   "source": []
  },
  {
   "cell_type": "code",
   "execution_count": null,
   "id": "23af9161",
   "metadata": {},
   "outputs": [],
   "source": []
  },
  {
   "cell_type": "code",
   "execution_count": null,
   "id": "6342cc16",
   "metadata": {},
   "outputs": [],
   "source": []
  },
  {
   "cell_type": "code",
   "execution_count": 25,
   "id": "1b087dc1",
   "metadata": {},
   "outputs": [
    {
     "data": {
      "text/plain": [
       "148.2058823529412"
      ]
     },
     "execution_count": 25,
     "metadata": {},
     "output_type": "execute_result"
    }
   ],
   "source": [
    "50.39*1e-3 / (17 * 20 * 1e-6)"
   ]
  },
  {
   "cell_type": "code",
   "execution_count": 26,
   "id": "2bb82bdc",
   "metadata": {},
   "outputs": [
    {
     "data": {
      "text/latex": [
       "$\\displaystyle J_{1, 0} = 192.275\\, \\mu A / \\mu m$"
      ],
      "text/plain": [
       "<IPython.core.display.Math object>"
      ]
     },
     "metadata": {},
     "output_type": "display_data"
    },
    {
     "data": {
      "text/latex": [
       "$\\displaystyle J_{1, 1} = 192.275\\, \\mu A / \\mu m$"
      ],
      "text/plain": [
       "<IPython.core.display.Math object>"
      ]
     },
     "metadata": {},
     "output_type": "display_data"
    }
   ],
   "source": [
    "mul_1 = 20\n",
    "Id_1 = 76.91e-3\n",
    "W_10 = mul_1 * 20 * 1e-6\n",
    "W_11 = W_10\n",
    "\n",
    "Ropt_1 = 20 / mul_1\n",
    "\n",
    "display(Math(\"J_{1, 0} = \" + latex(Id_1 / W_10) + \"\\, \\mu A / \\mu m\"))\n",
    "display(Math(\"J_{1, 1} = \" + latex(Id_1 / W_11) + \"\\, \\mu A / \\mu m\"))"
   ]
  },
  {
   "cell_type": "markdown",
   "id": "62d3331d",
   "metadata": {},
   "source": [
    "## Chebyshev filter"
   ]
  },
  {
   "cell_type": "markdown",
   "id": "1e78df74",
   "metadata": {},
   "source": [
    "### Supply voltage is 1.2V"
   ]
  },
  {
   "cell_type": "code",
   "execution_count": 27,
   "id": "6ed90b86",
   "metadata": {},
   "outputs": [
    {
     "data": {
      "text/latex": [
       "$\\displaystyle \\gamma_{min} = 0.999735715076741$"
      ],
      "text/plain": [
       "<IPython.core.display.Math object>"
      ]
     },
     "metadata": {},
     "output_type": "display_data"
    },
    {
     "data": {
      "text/latex": [
       "$\\displaystyle n_{c, max} = 3.28640477995783$"
      ],
      "text/plain": [
       "<IPython.core.display.Math object>"
      ]
     },
     "metadata": {},
     "output_type": "display_data"
    },
    {
     "data": {
      "text/latex": [
       "$\\displaystyle Z_{in, min} = 15.2141940350518\\, \\Omega$"
      ],
      "text/plain": [
       "<IPython.core.display.Math object>"
      ]
     },
     "metadata": {},
     "output_type": "display_data"
    },
    {
     "data": {
      "text/latex": [
       "$\\displaystyle Z_{in, max} = 32.0\\, \\Omega$"
      ],
      "text/plain": [
       "<IPython.core.display.Math object>"
      ]
     },
     "metadata": {},
     "output_type": "display_data"
    },
    {
     "data": {
      "text/latex": [
       "$\\displaystyle R_{opt, unit} = 1.0\\, \\Omega$"
      ],
      "text/plain": [
       "<IPython.core.display.Math object>"
      ]
     },
     "metadata": {},
     "output_type": "display_data"
    },
    {
     "ename": "TypeError",
     "evalue": "loop of ufunc does not support argument 0 of type Float which has no callable rint method",
     "output_type": "error",
     "traceback": [
      "\u001b[0;31m---------------------------------------------------------------------------\u001b[0m",
      "\u001b[0;31mTypeError\u001b[0m                                 Traceback (most recent call last)",
      "File \u001b[0;32m~/anaconda3/lib/python3.10/site-packages/numpy/core/fromnumeric.py:57\u001b[0m, in \u001b[0;36m_wrapfunc\u001b[0;34m(obj, method, *args, **kwds)\u001b[0m\n\u001b[1;32m     56\u001b[0m \u001b[38;5;28;01mtry\u001b[39;00m:\n\u001b[0;32m---> 57\u001b[0m     \u001b[38;5;28;01mreturn\u001b[39;00m \u001b[43mbound\u001b[49m\u001b[43m(\u001b[49m\u001b[38;5;241;43m*\u001b[39;49m\u001b[43margs\u001b[49m\u001b[43m,\u001b[49m\u001b[43m \u001b[49m\u001b[38;5;241;43m*\u001b[39;49m\u001b[38;5;241;43m*\u001b[39;49m\u001b[43mkwds\u001b[49m\u001b[43m)\u001b[49m\n\u001b[1;32m     58\u001b[0m \u001b[38;5;28;01mexcept\u001b[39;00m \u001b[38;5;167;01mTypeError\u001b[39;00m:\n\u001b[1;32m     59\u001b[0m     \u001b[38;5;66;03m# A TypeError occurs if the object does have such a method in its\u001b[39;00m\n\u001b[1;32m     60\u001b[0m     \u001b[38;5;66;03m# class, but its signature is not identical to that of NumPy's. This\u001b[39;00m\n\u001b[0;32m   (...)\u001b[0m\n\u001b[1;32m     64\u001b[0m     \u001b[38;5;66;03m# Call _wrapit from within the except clause to ensure a potential\u001b[39;00m\n\u001b[1;32m     65\u001b[0m     \u001b[38;5;66;03m# exception has a traceback chain.\u001b[39;00m\n",
      "\u001b[0;31mTypeError\u001b[0m: Expr.round() got an unexpected keyword argument 'decimals'",
      "\nDuring handling of the above exception, another exception occurred:\n",
      "\u001b[0;31mAttributeError\u001b[0m                            Traceback (most recent call last)",
      "\u001b[0;31mAttributeError\u001b[0m: 'Float' object has no attribute 'rint'",
      "\nThe above exception was the direct cause of the following exception:\n",
      "\u001b[0;31mTypeError\u001b[0m                                 Traceback (most recent call last)",
      "Cell \u001b[0;32mIn[27], line 19\u001b[0m\n\u001b[1;32m     15\u001b[0m display(Math(\u001b[38;5;124m\"\u001b[39m\u001b[38;5;124mZ_\u001b[39m\u001b[38;5;124m{\u001b[39m\u001b[38;5;124min, max} = \u001b[39m\u001b[38;5;124m\"\u001b[39m \u001b[38;5;241m+\u001b[39m latex(Zmax_1) \u001b[38;5;241m+\u001b[39m \u001b[38;5;124m\"\u001b[39m\u001b[38;5;124m\\\u001b[39m\u001b[38;5;124m, \u001b[39m\u001b[38;5;124m\\\u001b[39m\u001b[38;5;124mOmega\u001b[39m\u001b[38;5;124m\"\u001b[39m))\n\u001b[1;32m     17\u001b[0m display(Math(\u001b[38;5;124m\"\u001b[39m\u001b[38;5;124mR_\u001b[39m\u001b[38;5;124m{\u001b[39m\u001b[38;5;124mopt, unit} = \u001b[39m\u001b[38;5;124m\"\u001b[39m \u001b[38;5;241m+\u001b[39m latex(Ropt_1) \u001b[38;5;241m+\u001b[39m \u001b[38;5;124m\"\u001b[39m\u001b[38;5;124m\\\u001b[39m\u001b[38;5;124m, \u001b[39m\u001b[38;5;124m\\\u001b[39m\u001b[38;5;124mOmega\u001b[39m\u001b[38;5;124m\"\u001b[39m))\n\u001b[0;32m---> 19\u001b[0m multiplier \u001b[38;5;241m=\u001b[39m \u001b[38;5;28mint\u001b[39m(\u001b[43mnp\u001b[49m\u001b[38;5;241;43m.\u001b[39;49m\u001b[43mround\u001b[49m\u001b[43m(\u001b[49m\u001b[43mZmin_1\u001b[49m\u001b[43m \u001b[49m\u001b[38;5;241;43m/\u001b[39;49m\u001b[43m \u001b[49m\u001b[43mRopt_1\u001b[49m\u001b[43m)\u001b[49m)\n\u001b[1;32m     20\u001b[0m display(\u001b[38;5;124m\"\u001b[39m\u001b[38;5;124mM_1\u001b[39m\u001b[38;5;124m\"\u001b[39m)\n",
      "File \u001b[0;32m<__array_function__ internals>:180\u001b[0m, in \u001b[0;36mround_\u001b[0;34m(*args, **kwargs)\u001b[0m\n",
      "File \u001b[0;32m~/anaconda3/lib/python3.10/site-packages/numpy/core/fromnumeric.py:3731\u001b[0m, in \u001b[0;36mround_\u001b[0;34m(a, decimals, out)\u001b[0m\n\u001b[1;32m   3722\u001b[0m \u001b[38;5;129m@array_function_dispatch\u001b[39m(_around_dispatcher)\n\u001b[1;32m   3723\u001b[0m \u001b[38;5;28;01mdef\u001b[39;00m \u001b[38;5;21mround_\u001b[39m(a, decimals\u001b[38;5;241m=\u001b[39m\u001b[38;5;241m0\u001b[39m, out\u001b[38;5;241m=\u001b[39m\u001b[38;5;28;01mNone\u001b[39;00m):\n\u001b[1;32m   3724\u001b[0m     \u001b[38;5;124;03m\"\"\"\u001b[39;00m\n\u001b[1;32m   3725\u001b[0m \u001b[38;5;124;03m    Round an array to the given number of decimals.\u001b[39;00m\n\u001b[1;32m   3726\u001b[0m \n\u001b[0;32m   (...)\u001b[0m\n\u001b[1;32m   3729\u001b[0m \u001b[38;5;124;03m    around : equivalent function; see for details.\u001b[39;00m\n\u001b[1;32m   3730\u001b[0m \u001b[38;5;124;03m    \"\"\"\u001b[39;00m\n\u001b[0;32m-> 3731\u001b[0m     \u001b[38;5;28;01mreturn\u001b[39;00m \u001b[43maround\u001b[49m\u001b[43m(\u001b[49m\u001b[43ma\u001b[49m\u001b[43m,\u001b[49m\u001b[43m \u001b[49m\u001b[43mdecimals\u001b[49m\u001b[38;5;241;43m=\u001b[39;49m\u001b[43mdecimals\u001b[49m\u001b[43m,\u001b[49m\u001b[43m \u001b[49m\u001b[43mout\u001b[49m\u001b[38;5;241;43m=\u001b[39;49m\u001b[43mout\u001b[49m\u001b[43m)\u001b[49m\n",
      "File \u001b[0;32m<__array_function__ internals>:180\u001b[0m, in \u001b[0;36maround\u001b[0;34m(*args, **kwargs)\u001b[0m\n",
      "File \u001b[0;32m~/anaconda3/lib/python3.10/site-packages/numpy/core/fromnumeric.py:3305\u001b[0m, in \u001b[0;36maround\u001b[0;34m(a, decimals, out)\u001b[0m\n\u001b[1;32m   3214\u001b[0m \u001b[38;5;129m@array_function_dispatch\u001b[39m(_around_dispatcher)\n\u001b[1;32m   3215\u001b[0m \u001b[38;5;28;01mdef\u001b[39;00m \u001b[38;5;21maround\u001b[39m(a, decimals\u001b[38;5;241m=\u001b[39m\u001b[38;5;241m0\u001b[39m, out\u001b[38;5;241m=\u001b[39m\u001b[38;5;28;01mNone\u001b[39;00m):\n\u001b[1;32m   3216\u001b[0m     \u001b[38;5;124;03m\"\"\"\u001b[39;00m\n\u001b[1;32m   3217\u001b[0m \u001b[38;5;124;03m    Evenly round to the given number of decimals.\u001b[39;00m\n\u001b[1;32m   3218\u001b[0m \n\u001b[0;32m   (...)\u001b[0m\n\u001b[1;32m   3303\u001b[0m \n\u001b[1;32m   3304\u001b[0m \u001b[38;5;124;03m    \"\"\"\u001b[39;00m\n\u001b[0;32m-> 3305\u001b[0m     \u001b[38;5;28;01mreturn\u001b[39;00m \u001b[43m_wrapfunc\u001b[49m\u001b[43m(\u001b[49m\u001b[43ma\u001b[49m\u001b[43m,\u001b[49m\u001b[43m \u001b[49m\u001b[38;5;124;43m'\u001b[39;49m\u001b[38;5;124;43mround\u001b[39;49m\u001b[38;5;124;43m'\u001b[39;49m\u001b[43m,\u001b[49m\u001b[43m \u001b[49m\u001b[43mdecimals\u001b[49m\u001b[38;5;241;43m=\u001b[39;49m\u001b[43mdecimals\u001b[49m\u001b[43m,\u001b[49m\u001b[43m \u001b[49m\u001b[43mout\u001b[49m\u001b[38;5;241;43m=\u001b[39;49m\u001b[43mout\u001b[49m\u001b[43m)\u001b[49m\n",
      "File \u001b[0;32m~/anaconda3/lib/python3.10/site-packages/numpy/core/fromnumeric.py:66\u001b[0m, in \u001b[0;36m_wrapfunc\u001b[0;34m(obj, method, *args, **kwds)\u001b[0m\n\u001b[1;32m     57\u001b[0m     \u001b[38;5;28;01mreturn\u001b[39;00m bound(\u001b[38;5;241m*\u001b[39margs, \u001b[38;5;241m*\u001b[39m\u001b[38;5;241m*\u001b[39mkwds)\n\u001b[1;32m     58\u001b[0m \u001b[38;5;28;01mexcept\u001b[39;00m \u001b[38;5;167;01mTypeError\u001b[39;00m:\n\u001b[1;32m     59\u001b[0m     \u001b[38;5;66;03m# A TypeError occurs if the object does have such a method in its\u001b[39;00m\n\u001b[1;32m     60\u001b[0m     \u001b[38;5;66;03m# class, but its signature is not identical to that of NumPy's. This\u001b[39;00m\n\u001b[0;32m   (...)\u001b[0m\n\u001b[1;32m     64\u001b[0m     \u001b[38;5;66;03m# Call _wrapit from within the except clause to ensure a potential\u001b[39;00m\n\u001b[1;32m     65\u001b[0m     \u001b[38;5;66;03m# exception has a traceback chain.\u001b[39;00m\n\u001b[0;32m---> 66\u001b[0m     \u001b[38;5;28;01mreturn\u001b[39;00m \u001b[43m_wrapit\u001b[49m\u001b[43m(\u001b[49m\u001b[43mobj\u001b[49m\u001b[43m,\u001b[49m\u001b[43m \u001b[49m\u001b[43mmethod\u001b[49m\u001b[43m,\u001b[49m\u001b[43m \u001b[49m\u001b[38;5;241;43m*\u001b[39;49m\u001b[43margs\u001b[49m\u001b[43m,\u001b[49m\u001b[43m \u001b[49m\u001b[38;5;241;43m*\u001b[39;49m\u001b[38;5;241;43m*\u001b[39;49m\u001b[43mkwds\u001b[49m\u001b[43m)\u001b[49m\n",
      "File \u001b[0;32m~/anaconda3/lib/python3.10/site-packages/numpy/core/fromnumeric.py:43\u001b[0m, in \u001b[0;36m_wrapit\u001b[0;34m(obj, method, *args, **kwds)\u001b[0m\n\u001b[1;32m     41\u001b[0m \u001b[38;5;28;01mexcept\u001b[39;00m \u001b[38;5;167;01mAttributeError\u001b[39;00m:\n\u001b[1;32m     42\u001b[0m     wrap \u001b[38;5;241m=\u001b[39m \u001b[38;5;28;01mNone\u001b[39;00m\n\u001b[0;32m---> 43\u001b[0m result \u001b[38;5;241m=\u001b[39m \u001b[38;5;28;43mgetattr\u001b[39;49m\u001b[43m(\u001b[49m\u001b[43masarray\u001b[49m\u001b[43m(\u001b[49m\u001b[43mobj\u001b[49m\u001b[43m)\u001b[49m\u001b[43m,\u001b[49m\u001b[43m \u001b[49m\u001b[43mmethod\u001b[49m\u001b[43m)\u001b[49m\u001b[43m(\u001b[49m\u001b[38;5;241;43m*\u001b[39;49m\u001b[43margs\u001b[49m\u001b[43m,\u001b[49m\u001b[43m \u001b[49m\u001b[38;5;241;43m*\u001b[39;49m\u001b[38;5;241;43m*\u001b[39;49m\u001b[43mkwds\u001b[49m\u001b[43m)\u001b[49m\n\u001b[1;32m     44\u001b[0m \u001b[38;5;28;01mif\u001b[39;00m wrap:\n\u001b[1;32m     45\u001b[0m     \u001b[38;5;28;01mif\u001b[39;00m \u001b[38;5;129;01mnot\u001b[39;00m \u001b[38;5;28misinstance\u001b[39m(result, mu\u001b[38;5;241m.\u001b[39mndarray):\n",
      "\u001b[0;31mTypeError\u001b[0m: loop of ufunc does not support argument 0 of type Float which has no callable rint method"
     ]
    }
   ],
   "source": [
    "gamma_val_min = k0_gamma_inv.subs(delta, delta_val).subs(k, k_val_min)\n",
    "gamma_val_max = k0_gamma_inv.subs(delta, delta_val).subs(k, k_val_max)\n",
    "\n",
    "nc_val_min = nc_max_gamma.subs(delta, delta_val).subs(gamma, gamma_val_min)\n",
    "nc_val_max = nc_max_gamma.subs(delta, delta_val).subs(gamma, gamma_val_max)\n",
    "\n",
    "display(Math(\"\\gamma_{min} = \" + latex(gamma_val_min)))\n",
    "\n",
    "display(Math(\"n_{c, max} = \" + latex(nc_val_min)))\n",
    "\n",
    "Zmin_1 = zin.subs(n, n_val).subs(k, k_val_min).subs(nc, nc_val_min).subs(z0, z0_val)\n",
    "Zmax_1 = zin.subs(n, n_val).subs(k, k_val_max).subs(nc, nc_val_max).subs(z0, z0_val)\n",
    "\n",
    "display(Math(\"Z_{in, min} = \" + latex(Zmin_1) + \"\\, \\Omega\"))\n",
    "display(Math(\"Z_{in, max} = \" + latex(Zmax_1) + \"\\, \\Omega\"))\n",
    "\n",
    "display(Math(\"R_{opt, unit} = \" + latex(Ropt_1) + \"\\, \\Omega\"))\n",
    "\n",
    "multiplier = int(np.round(Zmin_1 / Ropt_1))\n",
    "display(\"M_1\")"
   ]
  },
  {
   "cell_type": "markdown",
   "id": "62bfb3e7",
   "metadata": {},
   "source": [
    "### Supply voltage is 2.5V"
   ]
  },
  {
   "cell_type": "code",
   "execution_count": null,
   "id": "5b1dac6f",
   "metadata": {},
   "outputs": [],
   "source": []
  },
  {
   "cell_type": "markdown",
   "id": "4f1c0f0b",
   "metadata": {},
   "source": [
    "## Bode-Fano filter"
   ]
  },
  {
   "cell_type": "markdown",
   "id": "fb640b24-22ea-4e57-abad-5838b7aee4a6",
   "metadata": {},
   "source": [
    "### Sanity check"
   ]
  },
  {
   "cell_type": "code",
   "execution_count": null,
   "id": "84b6d45b-401c-446d-9cdb-68ac5481fe05",
   "metadata": {},
   "outputs": [],
   "source": [
    "zin_gamma_san_2 = simplify(zin_gamma.subs(nc, nc_val).subs(gamma, gamma_val).subs(delta, delta_val).subs(w0, w0_val).subs(k, k_val).subs(z0, z0_val).subs(n, n_val))\n",
    "c1_gamma_san_2 = simplify(c1_gamma.subs(nc, nc_val).subs(gamma, gamma_val).subs(delta, delta_val).subs(w0, w0_val).subs(k, k_val).subs(z0, z0_val).subs(n, n_val))\n",
    "lp_gamma_san_2 = simplify(lp_gamma.subs(nc, nc_val).subs(gamma, gamma_val).subs(delta, delta_val).subs(w0, w0_val).subs(k, k_val).subs(z0, z0_val).subs(n, n_val))\n",
    "ls_gamma_san_2 = simplify(ls_gamma.subs(nc, nc_val).subs(gamma, gamma_val).subs(delta, delta_val).subs(w0, w0_val).subs(k, k_val).subs(z0, z0_val).subs(n, n_val))\n",
    "lx_gamma_san_2 = simplify(lx_gamma.subs(nc, nc_val).subs(gamma, gamma_val).subs(delta, delta_val).subs(w0, w0_val).subs(k, k_val).subs(z0, z0_val).subs(n, n_val))\n",
    "cx_gamma_san_2 = simplify(cx_gamma.subs(nc, nc_val).subs(gamma, gamma_val).subs(delta, delta_val).subs(w0, w0_val).subs(k, k_val).subs(z0, z0_val).subs(n, n_val))\n",
    "cy_gamma_san_2 = simplify(cy_gamma.subs(nc, nc_val).subs(gamma, gamma_val).subs(delta, delta_val).subs(w0, w0_val).subs(k, k_val).subs(z0, z0_val).subs(n, n_val))\n",
    "cz_gamma_san_2 = simplify(cz_gamma.subs(nc, nc_val).subs(gamma, gamma_val).subs(delta, delta_val).subs(w0, w0_val).subs(k, k_val).subs(z0, z0_val).subs(n, n_val))\n",
    "l3_gamma_san_2 = simplify(l3_gamma.subs(nc, nc_val).subs(gamma, gamma_val).subs(delta, delta_val).subs(w0, w0_val).subs(k, k_val).subs(z0, z0_val).subs(n, n_val))\n",
    "zout_gamma_san_2 = simplify(zout_gamma.subs(nc, nc_val).subs(gamma, gamma_val).subs(delta, delta_val).subs(w0, w0_val).subs(k, k_val).subs(z0, z0_val).subs(n, n_val))\n",
    "\n",
    "display(Math(\"Z_{in} = \" + latex(zin_gamma_san_2)))\n",
    "display(Math(\"C_1 = \" + latex(c1_gamma_san_2)))\n",
    "display(Math(\"L_p = \" + latex(lp_gamma_san_2)))\n",
    "display(Math(\"L_s = \" + latex(ls_gamma_san_2)))\n",
    "display(Math(\"L_x = \" + latex(lx_gamma_san_2)))\n",
    "display(Math(\"C_x = \" + latex(cx_gamma_san_2)))\n",
    "display(Math(\"C_y = \" + latex(cy_gamma_san_2)))\n",
    "display(Math(\"C_z = \" + latex(cz_gamma_san_2)))\n",
    "display(Math(\"L_3 = \" + latex(l3_gamma_san_2)))"
   ]
  },
  {
   "cell_type": "markdown",
   "id": "474ff911-8c0f-4eb3-a34f-888678d48add",
   "metadata": {},
   "source": [
    "## Calculating $n_c$ and $x$ for $L_x = 0$ and $C_y = 0$ for given $k$, $\\Delta$ and $\\omega_0$"
   ]
  },
  {
   "cell_type": "code",
   "execution_count": null,
   "id": "98126536-2006-4fe0-ac69-3bc4a4738c27",
   "metadata": {},
   "outputs": [],
   "source": [
    "z0_val = 50\n",
    "w0_val = np.pi * 6 * np.sqrt(2) * 1e9\n",
    "n_val = 1\n",
    "delta_val = np.sqrt(2) / 2\n",
    "\n",
    "k_val_min = 0.551619325895164\n",
    "k_val_max = 0.8\n",
    "\n",
    "x_val_min = k0_x_inv.subs(delta, delta_val).subs(k, k_val_min)\n",
    "x_val_max = k0_x_inv.subs(delta, delta_val).subs(k, k_val_max)\n",
    "\n",
    "nc_val__min = nc_max_x.subs(delta, delta_val).subs(x, x_val_min)\n",
    "nc_val__max = nc_max_x.subs(delta, delta_val).subs(x, x_val_max)\n",
    "\n",
    "display(Math(\"x_{min} = \" + latex(x_val_min)))\n",
    "display(Math(\"x_{max} = \" + latex(x_val_max)))\n",
    "\n",
    "display(Math(\"n_{c, max} = \" + latex(nc_val__min)))\n",
    "display(Math(\"n_{c, min} = \" + latex(nc_val__max)))\n",
    "\n",
    "display(Math(\"Z_{in, min} = \" + latex(zin.subs(n, n_val).subs(k, k_val_min).subs(nc, nc_val__min).subs(z0, z0_val))))\n",
    "display(Math(\"Z_{in, max} = \" + latex(zin.subs(n, n_val).subs(k, k_val_max).subs(nc, nc_val__max).subs(z0, z0_val))))"
   ]
  },
  {
   "cell_type": "markdown",
   "id": "38a41ea6-2c7a-4b77-96e7-457ad3f69dae",
   "metadata": {},
   "source": [
    "### Sanity check"
   ]
  },
  {
   "cell_type": "code",
   "execution_count": null,
   "id": "4df8e110-e6aa-49b3-ada8-1229947e01b0",
   "metadata": {},
   "outputs": [],
   "source": [
    "zin_x_san_2 = simplify(zin_x.subs(nc, nc_val_).subs(x, x_val).subs(delta, delta_val).subs(w0, w0_val).subs(k, k_val).subs(z0, z0_val).subs(n, n_val))\n",
    "c1_x_san_2 = simplify(c1_x.subs(nc, nc_val_).subs(x, x_val).subs(delta, delta_val).subs(w0, w0_val).subs(k, k_val).subs(z0, z0_val).subs(n, n_val))\n",
    "lp_x_san_2 = simplify(lp_x.subs(nc, nc_val_).subs(x, x_val).subs(delta, delta_val).subs(w0, w0_val).subs(k, k_val).subs(z0, z0_val).subs(n, n_val))\n",
    "ls_x_san_2 = simplify(ls_x.subs(nc, nc_val_).subs(x, x_val).subs(delta, delta_val).subs(w0, w0_val).subs(k, k_val).subs(z0, z0_val).subs(n, n_val))\n",
    "lx_x_san_2 = simplify(lx_x.subs(nc, nc_val_).subs(x, x_val).subs(delta, delta_val).subs(w0, w0_val).subs(k, k_val).subs(z0, z0_val).subs(n, n_val))\n",
    "cx_x_san_2 = simplify(cx_x.subs(nc, nc_val_).subs(x, x_val).subs(delta, delta_val).subs(w0, w0_val).subs(k, k_val).subs(z0, z0_val).subs(n, n_val))\n",
    "cy_x_san_2 = simplify(cy_x.subs(nc, nc_val_).subs(x, x_val).subs(delta, delta_val).subs(w0, w0_val).subs(k, k_val).subs(z0, z0_val).subs(n, n_val))\n",
    "cz_x_san_2 = simplify(cz_x.subs(nc, nc_val_).subs(x, x_val).subs(delta, delta_val).subs(w0, w0_val).subs(k, k_val).subs(z0, z0_val).subs(n, n_val))\n",
    "l3_x_san_2 = simplify(l3_x.subs(nc, nc_val_).subs(x, x_val).subs(delta, delta_val).subs(w0, w0_val).subs(k, k_val).subs(z0, z0_val).subs(n, n_val))\n",
    "zout_x_san_2 = simplify(zout_x.subs(nc, nc_val_).subs(x, x_val).subs(delta, delta_val).subs(w0, w0_val).subs(k, k_val).subs(z0, z0_val).subs(n, n_val))\n",
    "\n",
    "display(Math(\"Z_{in} = \" + latex(zin_x_san_2)))\n",
    "display(Math(\"C_1 = \" + latex(c1_x_san_2)))\n",
    "display(Math(\"L_p = \" + latex(lp_x_san_2)))\n",
    "display(Math(\"L_s = \" + latex(ls_x_san_2)))\n",
    "display(Math(\"L_x = \" + latex(lx_x_san_2)))\n",
    "display(Math(\"C_x = \" + latex(cx_x_san_2)))\n",
    "display(Math(\"C_y = \" + latex(cy_x_san_2)))\n",
    "display(Math(\"C_z = \" + latex(cz_x_san_2)))\n",
    "display(Math(\"L_3 = \" + latex(l3_x_san_2)))"
   ]
  },
  {
   "cell_type": "code",
   "execution_count": null,
   "id": "5acd029c-8b09-4d4c-809e-bba725472581",
   "metadata": {},
   "outputs": [],
   "source": []
  },
  {
   "cell_type": "code",
   "execution_count": null,
   "id": "27af6ec6-7d33-49f4-8113-f1ae569dcd11",
   "metadata": {},
   "outputs": [],
   "source": []
  },
  {
   "cell_type": "code",
   "execution_count": null,
   "id": "d35de536-fc4a-411f-bcea-ea1c4e755f04",
   "metadata": {},
   "outputs": [],
   "source": [
    "display(Math(\"Z_{\\gamma, in, min} = \" + latex(zin.subs(n, n_val).subs(k, k_val_min).subs(nc, nc_val_min).subs(z0, z0_val))))\n",
    "display(Math(\"Z_{\\gamma, in, max} = \" + latex(zin.subs(n, n_val).subs(k, k_val_max).subs(nc, nc_val_max).subs(z0, z0_val))))\n",
    "\n",
    "display(Math(\"Z_{x, in, min} = \" + latex(zin.subs(n, n_val).subs(k, k_val_min).subs(nc, nc_val__min).subs(z0, z0_val))))\n",
    "display(Math(\"Z_{x, in, max} = \" + latex(zin.subs(n, n_val).subs(k, k_val_max).subs(nc, nc_val__max).subs(z0, z0_val))))"
   ]
  },
  {
   "cell_type": "code",
   "execution_count": null,
   "id": "a07513f3-6af9-4a15-91dd-d9bdfff27608",
   "metadata": {},
   "outputs": [],
   "source": [
    "display(Math(\"R_{opt, 1} = \" + latex(19 / 20) + \" \\, \\Omega\"))\n",
    "display(Math(\"R_{opt, 2} = \" + latex(31 / 20) + \" \\, \\Omega\"))"
   ]
  },
  {
   "cell_type": "code",
   "execution_count": null,
   "id": "a042fa43-8565-406a-abbb-9c54e10b4346",
   "metadata": {},
   "outputs": [],
   "source": [
    "Ropt_1 = 19 / 20\n",
    "Ropt_2 = 31 / 20\n",
    "\n",
    "x_cheb = 15.21 / Ropt_1\n",
    "x_fano = 38.6 / Ropt_1\n",
    "x_cheb = int(np.round(x_cheb))\n",
    "x_fano = int(np.round(x_fano))\n",
    "\n",
    "y_cheb = 15.21 / Ropt_2\n",
    "y_fano = 38.6 / Ropt_2\n",
    "y_cheb = int(np.round(y_cheb))\n",
    "y_fano = int(np.round(y_fano))\n",
    "\n",
    "display(Math(\"M_1|_{cheb} = \" + latex(x_cheb)))\n",
    "display(Math(\"M_1|_{fano} = \" + latex(x_fano)))\n",
    "display(Math(\"M_2|_{cheb} = \" + latex(y_cheb)))\n",
    "display(Math(\"M_2|_{fano} = \" + latex(y_fano)))"
   ]
  },
  {
   "cell_type": "code",
   "execution_count": null,
   "id": "320883eb-e2da-4a79-bd07-1902f17d5b34",
   "metadata": {},
   "outputs": [],
   "source": [
    "z0_val = 50\n",
    "w0_val = 26.66e9\n",
    "n_val = 1\n",
    "delta_val = 1 / 2**0.5\n",
    "\n",
    "k_val_min = 0.551619325895164\n",
    "k_val_max = 0.8\n",
    "\n",
    "gamma_val_min = k0_gamma_inv.subs(delta, delta_val).subs(k, k_val_min)\n",
    "gamma_val_max = k0_gamma_inv.subs(delta, delta_val).subs(k, k_val_max)\n",
    "\n",
    "nc_val_min = nc_max_gamma.subs(delta, delta_val).subs(gamma, gamma_val_min)\n",
    "nc_val_max = nc_max_gamma.subs(delta, delta_val).subs(gamma, gamma_val_max)\n",
    "\n",
    "display(Math(\"\\gamma_{min} = \" + latex(gamma_val_min)))\n",
    "display(Math(\"\\gamma_{max} = \" + latex(gamma_val_max)))\n",
    "\n",
    "display(Math(\"n_{c, max} = \" + latex(nc_val_min)))\n",
    "display(Math(\"n_{c, min} = \" + latex(nc_val_max)))\n",
    "\n",
    "display(Math(\"Z_{in, min} = \" + latex(zin.subs(n, n_val).subs(k, k_val_min).subs(nc, nc_val_min).subs(z0, z0_val))))\n",
    "display(Math(\"Z_{in, max} = \" + latex(zin.subs(n, n_val).subs(k, k_val_max).subs(nc, nc_val_max).subs(z0, z0_val))))"
   ]
  },
  {
   "cell_type": "code",
   "execution_count": null,
   "id": "5ec33191-f5a2-43ec-afd3-be4ce01f1f0b",
   "metadata": {},
   "outputs": [],
   "source": [
    "z0_val = 50\n",
    "w0_val = np.pi * 6 * np.sqrt(2) * 1e9\n",
    "n_val = 1\n",
    "delta_val = np.sqrt(2) / 2\n",
    "\n",
    "k_val_min = 0.551619325895164\n",
    "k_val_max = 0.8\n",
    "\n",
    "x_val_min = k0_x_inv.subs(delta, delta_val).subs(k, k_val_min)\n",
    "x_val_max = k0_x_inv.subs(delta, delta_val).subs(k, k_val_max)\n",
    "\n",
    "nc_val__min = nc_max_x.subs(delta, delta_val).subs(x, x_val_min)\n",
    "nc_val__max = nc_max_x.subs(delta, delta_val).subs(x, x_val_max)\n",
    "\n",
    "display(Math(\"x_{min} = \" + latex(x_val_min)))\n",
    "display(Math(\"x_{max} = \" + latex(x_val_max)))\n",
    "\n",
    "display(Math(\"n_{c, max} = \" + latex(nc_val__min)))\n",
    "display(Math(\"n_{c, min} = \" + latex(nc_val__max)))\n",
    "\n",
    "display(Math(\"Z_{in, min} = \" + latex(zin.subs(n, n_val).subs(k, k_val_min).subs(nc, nc_val__min).subs(z0, z0_val))))\n",
    "display(Math(\"Z_{in, max} = \" + latex(zin.subs(n, n_val).subs(k, k_val_max).subs(nc, nc_val__max).subs(z0, z0_val))))"
   ]
  },
  {
   "cell_type": "code",
   "execution_count": null,
   "id": "9c31b565-2590-4fe7-a6c9-7124c508a8a8",
   "metadata": {},
   "outputs": [],
   "source": []
  },
  {
   "cell_type": "code",
   "execution_count": null,
   "id": "8e556a84",
   "metadata": {},
   "outputs": [],
   "source": []
  },
  {
   "cell_type": "code",
   "execution_count": null,
   "id": "bc7f0ab5",
   "metadata": {},
   "outputs": [],
   "source": []
  },
  {
   "cell_type": "code",
   "execution_count": null,
   "id": "770a25bd",
   "metadata": {},
   "outputs": [],
   "source": []
  }
 ],
 "metadata": {
  "kernelspec": {
   "display_name": "Python 3 (ipykernel)",
   "language": "python",
   "name": "python3"
  },
  "language_info": {
   "codemirror_mode": {
    "name": "ipython",
    "version": 3
   },
   "file_extension": ".py",
   "mimetype": "text/x-python",
   "name": "python",
   "nbconvert_exporter": "python",
   "pygments_lexer": "ipython3",
   "version": "3.10.9"
  }
 },
 "nbformat": 4,
 "nbformat_minor": 5
}
